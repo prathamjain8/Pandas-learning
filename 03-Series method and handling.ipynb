{
 "cells": [
  {
   "cell_type": "code",
   "execution_count": 1,
   "id": "129cb2d4",
   "metadata": {},
   "outputs": [
    {
     "name": "stderr",
     "output_type": "stream",
     "text": [
      "C:\\Users\\hp\\AppData\\Roaming\\Python\\Python311\\site-packages\\pandas\\core\\arrays\\masked.py:60: UserWarning: Pandas requires version '1.3.6' or newer of 'bottleneck' (version '1.3.5' currently installed).\n",
      "  from pandas.core import (\n"
     ]
    }
   ],
   "source": [
    "import pandas as pd\n",
    "import numpy as np"
   ]
  },
  {
   "cell_type": "markdown",
   "id": "0dedd4ab",
   "metadata": {},
   "source": [
    "# Reading In data with read_csv()"
   ]
  },
  {
   "cell_type": "code",
   "execution_count": 2,
   "id": "74fe9524",
   "metadata": {},
   "outputs": [
    {
     "data": {
      "text/html": [
       "<div>\n",
       "<style scoped>\n",
       "    .dataframe tbody tr th:only-of-type {\n",
       "        vertical-align: middle;\n",
       "    }\n",
       "\n",
       "    .dataframe tbody tr th {\n",
       "        vertical-align: top;\n",
       "    }\n",
       "\n",
       "    .dataframe thead th {\n",
       "        text-align: right;\n",
       "    }\n",
       "</style>\n",
       "<table border=\"1\" class=\"dataframe\">\n",
       "  <thead>\n",
       "    <tr style=\"text-align: right;\">\n",
       "      <th></th>\n",
       "      <th>country</th>\n",
       "      <th>beer_servings</th>\n",
       "      <th>spirit_servings</th>\n",
       "      <th>wine_servings</th>\n",
       "      <th>total_litres_of_pure_alcohol</th>\n",
       "    </tr>\n",
       "  </thead>\n",
       "  <tbody>\n",
       "    <tr>\n",
       "      <th>0</th>\n",
       "      <td>Afghanistan</td>\n",
       "      <td>NaN</td>\n",
       "      <td>NaN</td>\n",
       "      <td>NaN</td>\n",
       "      <td>NaN</td>\n",
       "    </tr>\n",
       "    <tr>\n",
       "      <th>1</th>\n",
       "      <td>Albania</td>\n",
       "      <td>89.0</td>\n",
       "      <td>132.0</td>\n",
       "      <td>54.0</td>\n",
       "      <td>4.9</td>\n",
       "    </tr>\n",
       "    <tr>\n",
       "      <th>2</th>\n",
       "      <td>Algeria</td>\n",
       "      <td>25.0</td>\n",
       "      <td>NaN</td>\n",
       "      <td>14.0</td>\n",
       "      <td>0.7</td>\n",
       "    </tr>\n",
       "    <tr>\n",
       "      <th>3</th>\n",
       "      <td>Andorra</td>\n",
       "      <td>245.0</td>\n",
       "      <td>138.0</td>\n",
       "      <td>312.0</td>\n",
       "      <td>12.4</td>\n",
       "    </tr>\n",
       "    <tr>\n",
       "      <th>4</th>\n",
       "      <td>Angola</td>\n",
       "      <td>217.0</td>\n",
       "      <td>57.0</td>\n",
       "      <td>45.0</td>\n",
       "      <td>5.9</td>\n",
       "    </tr>\n",
       "    <tr>\n",
       "      <th>...</th>\n",
       "      <td>...</td>\n",
       "      <td>...</td>\n",
       "      <td>...</td>\n",
       "      <td>...</td>\n",
       "      <td>...</td>\n",
       "    </tr>\n",
       "    <tr>\n",
       "      <th>188</th>\n",
       "      <td>Venezuela</td>\n",
       "      <td>333.0</td>\n",
       "      <td>1.0</td>\n",
       "      <td>3.0</td>\n",
       "      <td>7.7</td>\n",
       "    </tr>\n",
       "    <tr>\n",
       "      <th>189</th>\n",
       "      <td>Vietnam</td>\n",
       "      <td>111.0</td>\n",
       "      <td>2.0</td>\n",
       "      <td>1.0</td>\n",
       "      <td>2.0</td>\n",
       "    </tr>\n",
       "    <tr>\n",
       "      <th>190</th>\n",
       "      <td>Yemen</td>\n",
       "      <td>6.0</td>\n",
       "      <td>NaN</td>\n",
       "      <td>NaN</td>\n",
       "      <td>0.1</td>\n",
       "    </tr>\n",
       "    <tr>\n",
       "      <th>191</th>\n",
       "      <td>Zambia</td>\n",
       "      <td>32.0</td>\n",
       "      <td>19.0</td>\n",
       "      <td>4.0</td>\n",
       "      <td>2.5</td>\n",
       "    </tr>\n",
       "    <tr>\n",
       "      <th>192</th>\n",
       "      <td>Zimbabwe</td>\n",
       "      <td>64.0</td>\n",
       "      <td>18.0</td>\n",
       "      <td>4.0</td>\n",
       "      <td>4.7</td>\n",
       "    </tr>\n",
       "  </tbody>\n",
       "</table>\n",
       "<p>193 rows × 5 columns</p>\n",
       "</div>"
      ],
      "text/plain": [
       "         country  beer_servings  spirit_servings  wine_servings  \\\n",
       "0    Afghanistan            NaN              NaN            NaN   \n",
       "1        Albania           89.0            132.0           54.0   \n",
       "2        Algeria           25.0              NaN           14.0   \n",
       "3        Andorra          245.0            138.0          312.0   \n",
       "4         Angola          217.0             57.0           45.0   \n",
       "..           ...            ...              ...            ...   \n",
       "188    Venezuela          333.0              1.0            3.0   \n",
       "189      Vietnam          111.0              2.0            1.0   \n",
       "190        Yemen            6.0              NaN            NaN   \n",
       "191       Zambia           32.0             19.0            4.0   \n",
       "192     Zimbabwe           64.0             18.0            4.0   \n",
       "\n",
       "     total_litres_of_pure_alcohol  \n",
       "0                             NaN  \n",
       "1                             4.9  \n",
       "2                             0.7  \n",
       "3                            12.4  \n",
       "4                             5.9  \n",
       "..                            ...  \n",
       "188                           7.7  \n",
       "189                           2.0  \n",
       "190                           0.1  \n",
       "191                           2.5  \n",
       "192                           4.7  \n",
       "\n",
       "[193 rows x 5 columns]"
      ]
     },
     "execution_count": 2,
     "metadata": {},
     "output_type": "execute_result"
    }
   ],
   "source": [
    "pd.read_csv('D:/STUDIES/Numpy & Pandas/pandas/all_notebooks/2. Series_At_Glance/drinks.csv')"
   ]
  },
  {
   "cell_type": "code",
   "execution_count": 3,
   "id": "e9afe450",
   "metadata": {},
   "outputs": [
    {
     "data": {
      "text/html": [
       "<div>\n",
       "<style scoped>\n",
       "    .dataframe tbody tr th:only-of-type {\n",
       "        vertical-align: middle;\n",
       "    }\n",
       "\n",
       "    .dataframe tbody tr th {\n",
       "        vertical-align: top;\n",
       "    }\n",
       "\n",
       "    .dataframe thead th {\n",
       "        text-align: right;\n",
       "    }\n",
       "</style>\n",
       "<table border=\"1\" class=\"dataframe\">\n",
       "  <thead>\n",
       "    <tr style=\"text-align: right;\">\n",
       "      <th></th>\n",
       "      <th>country</th>\n",
       "      <th>wine_servings</th>\n",
       "    </tr>\n",
       "  </thead>\n",
       "  <tbody>\n",
       "    <tr>\n",
       "      <th>0</th>\n",
       "      <td>Afghanistan</td>\n",
       "      <td>NaN</td>\n",
       "    </tr>\n",
       "    <tr>\n",
       "      <th>1</th>\n",
       "      <td>Albania</td>\n",
       "      <td>54.0</td>\n",
       "    </tr>\n",
       "    <tr>\n",
       "      <th>2</th>\n",
       "      <td>Algeria</td>\n",
       "      <td>14.0</td>\n",
       "    </tr>\n",
       "    <tr>\n",
       "      <th>3</th>\n",
       "      <td>Andorra</td>\n",
       "      <td>312.0</td>\n",
       "    </tr>\n",
       "    <tr>\n",
       "      <th>4</th>\n",
       "      <td>Angola</td>\n",
       "      <td>45.0</td>\n",
       "    </tr>\n",
       "    <tr>\n",
       "      <th>...</th>\n",
       "      <td>...</td>\n",
       "      <td>...</td>\n",
       "    </tr>\n",
       "    <tr>\n",
       "      <th>188</th>\n",
       "      <td>Venezuela</td>\n",
       "      <td>3.0</td>\n",
       "    </tr>\n",
       "    <tr>\n",
       "      <th>189</th>\n",
       "      <td>Vietnam</td>\n",
       "      <td>1.0</td>\n",
       "    </tr>\n",
       "    <tr>\n",
       "      <th>190</th>\n",
       "      <td>Yemen</td>\n",
       "      <td>NaN</td>\n",
       "    </tr>\n",
       "    <tr>\n",
       "      <th>191</th>\n",
       "      <td>Zambia</td>\n",
       "      <td>4.0</td>\n",
       "    </tr>\n",
       "    <tr>\n",
       "      <th>192</th>\n",
       "      <td>Zimbabwe</td>\n",
       "      <td>4.0</td>\n",
       "    </tr>\n",
       "  </tbody>\n",
       "</table>\n",
       "<p>193 rows × 2 columns</p>\n",
       "</div>"
      ],
      "text/plain": [
       "         country  wine_servings\n",
       "0    Afghanistan            NaN\n",
       "1        Albania           54.0\n",
       "2        Algeria           14.0\n",
       "3        Andorra          312.0\n",
       "4         Angola           45.0\n",
       "..           ...            ...\n",
       "188    Venezuela            3.0\n",
       "189      Vietnam            1.0\n",
       "190        Yemen            NaN\n",
       "191       Zambia            4.0\n",
       "192     Zimbabwe            4.0\n",
       "\n",
       "[193 rows x 2 columns]"
      ]
     },
     "execution_count": 3,
     "metadata": {},
     "output_type": "execute_result"
    }
   ],
   "source": [
    "pd.read_csv('D:/STUDIES/Numpy & Pandas/pandas/all_notebooks/2. Series_At_Glance/drinks.csv', usecols=['country', 'wine_servings'])"
   ]
  },
  {
   "cell_type": "code",
   "execution_count": 4,
   "id": "9f9f049c",
   "metadata": {},
   "outputs": [],
   "source": [
    "alcohol = pd.read_csv('D:/STUDIES/Numpy & Pandas/pandas/all_notebooks/2. Series_At_Glance/drinks.csv', \n",
    "                      usecols=['country', 'wine_servings'], \n",
    "                      index_col='country').squeeze()"
   ]
  },
  {
   "cell_type": "code",
   "execution_count": 5,
   "id": "e61ee3f9",
   "metadata": {},
   "outputs": [
    {
     "data": {
      "text/plain": [
       "country\n",
       "Afghanistan      NaN\n",
       "Albania         54.0\n",
       "Algeria         14.0\n",
       "Andorra        312.0\n",
       "Angola          45.0\n",
       "Name: wine_servings, dtype: float64"
      ]
     },
     "execution_count": 5,
     "metadata": {},
     "output_type": "execute_result"
    }
   ],
   "source": [
    "alcohol.head()"
   ]
  },
  {
   "cell_type": "code",
   "execution_count": 6,
   "id": "a656f17c",
   "metadata": {},
   "outputs": [
    {
     "data": {
      "text/plain": [
       "pandas.core.series.Series"
      ]
     },
     "execution_count": 6,
     "metadata": {},
     "output_type": "execute_result"
    }
   ],
   "source": [
    "type(alcohol)"
   ]
  },
  {
   "cell_type": "code",
   "execution_count": null,
   "id": "1ac2a46f",
   "metadata": {},
   "outputs": [],
   "source": []
  },
  {
   "cell_type": "markdown",
   "id": "ddb0ad89",
   "metadata": {},
   "source": [
    "# Series Sizing With .size, .shape and len()"
   ]
  },
  {
   "cell_type": "code",
   "execution_count": 7,
   "id": "413bd69f",
   "metadata": {},
   "outputs": [
    {
     "data": {
      "text/plain": [
       "193"
      ]
     },
     "execution_count": 7,
     "metadata": {},
     "output_type": "execute_result"
    }
   ],
   "source": [
    "alcohol.size"
   ]
  },
  {
   "cell_type": "code",
   "execution_count": 8,
   "id": "86e09f05",
   "metadata": {},
   "outputs": [
    {
     "data": {
      "text/plain": [
       "country\n",
       "Afghanistan      NaN\n",
       "Albania         54.0\n",
       "Algeria         14.0\n",
       "Andorra        312.0\n",
       "Angola          45.0\n",
       "               ...  \n",
       "Venezuela        3.0\n",
       "Vietnam          1.0\n",
       "Yemen            NaN\n",
       "Zambia           4.0\n",
       "Zimbabwe         4.0\n",
       "Name: wine_servings, Length: 193, dtype: float64"
      ]
     },
     "execution_count": 8,
     "metadata": {},
     "output_type": "execute_result"
    }
   ],
   "source": [
    "alcohol"
   ]
  },
  {
   "cell_type": "code",
   "execution_count": 9,
   "id": "811818c8",
   "metadata": {},
   "outputs": [
    {
     "data": {
      "text/plain": [
       "array([ nan,  54.,  14., 312.,  45.,  45., 221.,  11., 212., 191.,   5.,\n",
       "        51.,   7.,  nan,  36.,  42., 212.,   8.,  13.,  nan,   8.,   8.,\n",
       "        35.,  16.,   1.,  94.,   7.,  nan,   7.,  16.,   1.,   4.,   1.,\n",
       "         1.,   1., 172.,   8.,   3.,   1.,   9.,  74.,  11., 254.,   5.,\n",
       "       113., 134.,  nan,   1., 278.,   3.,  26.,   9.,   3.,   1.,   2.,\n",
       "       233.,  nan,  59.,  nan,   1.,  97.,  37.,  59.,   1., 149., 175.,\n",
       "         1., 218.,  28.,   2.,   2.,  21.,   1.,   1.,   2., 185.,  78.,\n",
       "        nan,  nan,  nan,  nan, 165.,   9., 237.,   9.,  16.,   1.,  12.,\n",
       "         2.,   1.,  nan,   6., 123.,  62.,  31.,  nan,   2.,  nan,  56.,\n",
       "       271.,   4.,   1.,  nan,  nan,   1.,  12.,  nan,  nan,  18.,   5.,\n",
       "        18.,  nan,   8., 128.,   1.,   5.,  nan,   1.,   8.,  nan,  19.,\n",
       "       175.,   1.,   1.,   2.,   7., 129.,   1.,  nan,  23.,  18.,   1.,\n",
       "        74.,  21.,   1.,  56., 339.,   7.,   9.,  18., 167.,  73.,  nan,\n",
       "        32.,  71.,  11.,  24.,  nan,  14.,  nan,   7., 127.,  51.,   2.,\n",
       "        11., 116., 276.,   1.,  nan,  81., 112.,  nan,  nan,   7.,   2.,\n",
       "       186.,  28.,  16.,  nan,   1.,  86.,   4.,  19.,   5.,   7.,   2.,\n",
       "         7.,  32.,   9.,  nan,  45.,   5., 195.,   1.,  84.,  22.,   8.,\n",
       "        11.,   3.,   1.,  nan,   4.,   4.])"
      ]
     },
     "execution_count": 9,
     "metadata": {},
     "output_type": "execute_result"
    }
   ],
   "source": [
    "alcohol.values"
   ]
  },
  {
   "cell_type": "code",
   "execution_count": 10,
   "id": "a33c7669",
   "metadata": {},
   "outputs": [
    {
     "data": {
      "text/plain": [
       "Index(['Afghanistan', 'Albania', 'Algeria', 'Andorra', 'Angola',\n",
       "       'Antigua & Barbuda', 'Argentina', 'Armenia', 'Australia', 'Austria',\n",
       "       ...\n",
       "       'Tanzania', 'USA', 'Uruguay', 'Uzbekistan', 'Vanuatu', 'Venezuela',\n",
       "       'Vietnam', 'Yemen', 'Zambia', 'Zimbabwe'],\n",
       "      dtype='object', name='country', length=193)"
      ]
     },
     "execution_count": 10,
     "metadata": {},
     "output_type": "execute_result"
    }
   ],
   "source": [
    "alcohol.index"
   ]
  },
  {
   "cell_type": "code",
   "execution_count": 11,
   "id": "d19d540d",
   "metadata": {},
   "outputs": [
    {
     "data": {
      "text/plain": [
       "True"
      ]
     },
     "execution_count": 11,
     "metadata": {},
     "output_type": "execute_result"
    }
   ],
   "source": [
    "alcohol.values.size == alcohol.index.size"
   ]
  },
  {
   "cell_type": "code",
   "execution_count": 12,
   "id": "ec6d166f",
   "metadata": {},
   "outputs": [
    {
     "data": {
      "text/plain": [
       "(193,)"
      ]
     },
     "execution_count": 12,
     "metadata": {},
     "output_type": "execute_result"
    }
   ],
   "source": [
    "alcohol.shape"
   ]
  },
  {
   "cell_type": "code",
   "execution_count": 13,
   "id": "99336eba",
   "metadata": {},
   "outputs": [
    {
     "data": {
      "text/plain": [
       "True"
      ]
     },
     "execution_count": 13,
     "metadata": {},
     "output_type": "execute_result"
    }
   ],
   "source": [
    "alcohol.size == alcohol.shape[0]"
   ]
  },
  {
   "cell_type": "code",
   "execution_count": 14,
   "id": "ae356d45",
   "metadata": {},
   "outputs": [
    {
     "data": {
      "text/plain": [
       "193"
      ]
     },
     "execution_count": 14,
     "metadata": {},
     "output_type": "execute_result"
    }
   ],
   "source": [
    "len(alcohol)"
   ]
  },
  {
   "cell_type": "code",
   "execution_count": null,
   "id": "7bad2d51",
   "metadata": {},
   "outputs": [],
   "source": []
  },
  {
   "cell_type": "markdown",
   "id": "45e04b56",
   "metadata": {},
   "source": [
    "# Unique values and Series Monotonicity"
   ]
  },
  {
   "cell_type": "code",
   "execution_count": 15,
   "id": "2fcd5190",
   "metadata": {},
   "outputs": [
    {
     "data": {
      "text/plain": [
       "False"
      ]
     },
     "execution_count": 15,
     "metadata": {},
     "output_type": "execute_result"
    }
   ],
   "source": [
    "alcohol.is_unique"
   ]
  },
  {
   "cell_type": "code",
   "execution_count": 16,
   "id": "2e0196b8",
   "metadata": {},
   "outputs": [
    {
     "data": {
      "text/plain": [
       "True"
      ]
     },
     "execution_count": 16,
     "metadata": {},
     "output_type": "execute_result"
    }
   ],
   "source": [
    "alcohol.head(5).is_unique"
   ]
  },
  {
   "cell_type": "code",
   "execution_count": 17,
   "id": "a84fe499",
   "metadata": {},
   "outputs": [
    {
     "data": {
      "text/plain": [
       "71"
      ]
     },
     "execution_count": 17,
     "metadata": {},
     "output_type": "execute_result"
    }
   ],
   "source": [
    "alcohol.nunique()"
   ]
  },
  {
   "cell_type": "code",
   "execution_count": 18,
   "id": "b6c86ff1",
   "metadata": {},
   "outputs": [
    {
     "data": {
      "text/plain": [
       "72"
      ]
     },
     "execution_count": 18,
     "metadata": {},
     "output_type": "execute_result"
    }
   ],
   "source": [
    "alcohol.nunique(dropna=False)"
   ]
  },
  {
   "cell_type": "code",
   "execution_count": 19,
   "id": "37cdbc3f",
   "metadata": {},
   "outputs": [
    {
     "data": {
      "text/plain": [
       "True"
      ]
     },
     "execution_count": 19,
     "metadata": {},
     "output_type": "execute_result"
    }
   ],
   "source": [
    "pd.Series([1,2,3,4]).is_monotonic_increasing"
   ]
  },
  {
   "cell_type": "code",
   "execution_count": 20,
   "id": "eb0ecab1",
   "metadata": {},
   "outputs": [
    {
     "data": {
      "text/plain": [
       "True"
      ]
     },
     "execution_count": 20,
     "metadata": {},
     "output_type": "execute_result"
    }
   ],
   "source": [
    "pd.Series([3,3,3,3,3]).is_monotonic_increasing"
   ]
  },
  {
   "cell_type": "code",
   "execution_count": 21,
   "id": "d9fb956b",
   "metadata": {},
   "outputs": [
    {
     "data": {
      "text/plain": [
       "True"
      ]
     },
     "execution_count": 21,
     "metadata": {},
     "output_type": "execute_result"
    }
   ],
   "source": [
    "pd.Series([3,3,3,3,3,10,20,33,43,56,76]).is_monotonic_increasing"
   ]
  },
  {
   "cell_type": "code",
   "execution_count": 22,
   "id": "c09c529a",
   "metadata": {},
   "outputs": [
    {
     "data": {
      "text/plain": [
       "False"
      ]
     },
     "execution_count": 22,
     "metadata": {},
     "output_type": "execute_result"
    }
   ],
   "source": [
    "pd.Series([3,3,3,3,3,10,20,33,43,56,76,7]).is_monotonic_increasing"
   ]
  },
  {
   "cell_type": "code",
   "execution_count": 23,
   "id": "5e663648",
   "metadata": {},
   "outputs": [
    {
     "data": {
      "text/plain": [
       "True"
      ]
     },
     "execution_count": 23,
     "metadata": {},
     "output_type": "execute_result"
    }
   ],
   "source": [
    "pd.Series([6,5,4,3,2]).is_monotonic_decreasing"
   ]
  },
  {
   "cell_type": "code",
   "execution_count": null,
   "id": "9418548a",
   "metadata": {},
   "outputs": [],
   "source": []
  },
  {
   "cell_type": "markdown",
   "id": "1567498c",
   "metadata": {},
   "source": [
    "# The count() method"
   ]
  },
  {
   "cell_type": "code",
   "execution_count": 24,
   "id": "4364a932",
   "metadata": {},
   "outputs": [
    {
     "data": {
      "text/plain": [
       "162"
      ]
     },
     "execution_count": 24,
     "metadata": {},
     "output_type": "execute_result"
    }
   ],
   "source": [
    "alcohol.count()"
   ]
  },
  {
   "cell_type": "code",
   "execution_count": 25,
   "id": "6024edbd",
   "metadata": {},
   "outputs": [
    {
     "data": {
      "text/plain": [
       "193"
      ]
     },
     "execution_count": 25,
     "metadata": {},
     "output_type": "execute_result"
    }
   ],
   "source": [
    "alcohol.size"
   ]
  },
  {
   "cell_type": "code",
   "execution_count": 26,
   "id": "05c4a713",
   "metadata": {},
   "outputs": [
    {
     "data": {
      "text/plain": [
       "True"
      ]
     },
     "execution_count": 26,
     "metadata": {},
     "output_type": "execute_result"
    }
   ],
   "source": [
    "alcohol.hasnans"
   ]
  },
  {
   "cell_type": "code",
   "execution_count": null,
   "id": "a378a535",
   "metadata": {},
   "outputs": [],
   "source": []
  },
  {
   "cell_type": "markdown",
   "id": "5d136dbb",
   "metadata": {},
   "source": [
    "# Accessing and counting NAs"
   ]
  },
  {
   "cell_type": "code",
   "execution_count": 27,
   "id": "156d2fa2",
   "metadata": {},
   "outputs": [
    {
     "data": {
      "text/plain": [
       "193"
      ]
     },
     "execution_count": 27,
     "metadata": {},
     "output_type": "execute_result"
    }
   ],
   "source": [
    "alcohol.size"
   ]
  },
  {
   "cell_type": "code",
   "execution_count": 28,
   "id": "8fe02fc8",
   "metadata": {},
   "outputs": [
    {
     "data": {
      "text/plain": [
       "162"
      ]
     },
     "execution_count": 28,
     "metadata": {},
     "output_type": "execute_result"
    }
   ],
   "source": [
    "alcohol.count()"
   ]
  },
  {
   "cell_type": "code",
   "execution_count": 29,
   "id": "ef35912e",
   "metadata": {},
   "outputs": [
    {
     "data": {
      "text/plain": [
       "country\n",
       "Afghanistan     True\n",
       "Albania        False\n",
       "Algeria        False\n",
       "Andorra        False\n",
       "Angola         False\n",
       "               ...  \n",
       "Venezuela      False\n",
       "Vietnam        False\n",
       "Yemen           True\n",
       "Zambia         False\n",
       "Zimbabwe       False\n",
       "Name: wine_servings, Length: 193, dtype: bool"
      ]
     },
     "execution_count": 29,
     "metadata": {},
     "output_type": "execute_result"
    }
   ],
   "source": [
    "alcohol.isnull()"
   ]
  },
  {
   "cell_type": "code",
   "execution_count": 30,
   "id": "2eeebb8b",
   "metadata": {},
   "outputs": [
    {
     "data": {
      "text/plain": [
       "country\n",
       "Afghanistan        NaN\n",
       "Bangladesh         NaN\n",
       "Bhutan             NaN\n",
       "Burundi            NaN\n",
       "North Korea        NaN\n",
       "Eritrea            NaN\n",
       "Ethiopia           NaN\n",
       "India              NaN\n",
       "Indonesia          NaN\n",
       "Iran               NaN\n",
       "Iraq               NaN\n",
       "Kuwait             NaN\n",
       "Lesotho            NaN\n",
       "Libya              NaN\n",
       "Malaysia           NaN\n",
       "Maldives           NaN\n",
       "Marshall Islands   NaN\n",
       "Mauritania         NaN\n",
       "Monaco             NaN\n",
       "Myanmar            NaN\n",
       "Nepal              NaN\n",
       "Pakistan           NaN\n",
       "Rwanda             NaN\n",
       "San Marino         NaN\n",
       "Saudi Arabia       NaN\n",
       "Somalia            NaN\n",
       "Sri Lanka          NaN\n",
       "Sudan              NaN\n",
       "Tajikistan         NaN\n",
       "Uganda             NaN\n",
       "Yemen              NaN\n",
       "Name: wine_servings, dtype: float64"
      ]
     },
     "execution_count": 30,
     "metadata": {},
     "output_type": "execute_result"
    }
   ],
   "source": [
    "alcohol[alcohol.isnull()]"
   ]
  },
  {
   "cell_type": "code",
   "execution_count": 31,
   "id": "052623cc",
   "metadata": {},
   "outputs": [
    {
     "data": {
      "text/plain": [
       "Index(['Afghanistan', 'Bangladesh', 'Bhutan', 'Burundi', 'North Korea',\n",
       "       'Eritrea', 'Ethiopia', 'India', 'Indonesia', 'Iran', 'Iraq', 'Kuwait',\n",
       "       'Lesotho', 'Libya', 'Malaysia', 'Maldives', 'Marshall Islands',\n",
       "       'Mauritania', 'Monaco', 'Myanmar', 'Nepal', 'Pakistan', 'Rwanda',\n",
       "       'San Marino', 'Saudi Arabia', 'Somalia', 'Sri Lanka', 'Sudan',\n",
       "       'Tajikistan', 'Uganda', 'Yemen'],\n",
       "      dtype='object', name='country')"
      ]
     },
     "execution_count": 31,
     "metadata": {},
     "output_type": "execute_result"
    }
   ],
   "source": [
    "alcohol[alcohol.isnull()].index"
   ]
  },
  {
   "cell_type": "code",
   "execution_count": 32,
   "id": "792f1af7",
   "metadata": {},
   "outputs": [
    {
     "data": {
      "text/plain": [
       "pandas.core.indexes.base.Index"
      ]
     },
     "execution_count": 32,
     "metadata": {},
     "output_type": "execute_result"
    }
   ],
   "source": [
    "type(alcohol[alcohol.isnull()].index)"
   ]
  },
  {
   "cell_type": "code",
   "execution_count": 33,
   "id": "93698706",
   "metadata": {},
   "outputs": [
    {
     "data": {
      "text/plain": [
       "['Afghanistan',\n",
       " 'Bangladesh',\n",
       " 'Bhutan',\n",
       " 'Burundi',\n",
       " 'North Korea',\n",
       " 'Eritrea',\n",
       " 'Ethiopia',\n",
       " 'India',\n",
       " 'Indonesia',\n",
       " 'Iran',\n",
       " 'Iraq',\n",
       " 'Kuwait',\n",
       " 'Lesotho',\n",
       " 'Libya',\n",
       " 'Malaysia',\n",
       " 'Maldives',\n",
       " 'Marshall Islands',\n",
       " 'Mauritania',\n",
       " 'Monaco',\n",
       " 'Myanmar',\n",
       " 'Nepal',\n",
       " 'Pakistan',\n",
       " 'Rwanda',\n",
       " 'San Marino',\n",
       " 'Saudi Arabia',\n",
       " 'Somalia',\n",
       " 'Sri Lanka',\n",
       " 'Sudan',\n",
       " 'Tajikistan',\n",
       " 'Uganda',\n",
       " 'Yemen']"
      ]
     },
     "execution_count": 33,
     "metadata": {},
     "output_type": "execute_result"
    }
   ],
   "source": [
    "list(alcohol[alcohol.isnull()].index)"
   ]
  },
  {
   "cell_type": "code",
   "execution_count": 34,
   "id": "fcc72eb8",
   "metadata": {},
   "outputs": [
    {
     "data": {
      "text/plain": [
       "31"
      ]
     },
     "execution_count": 34,
     "metadata": {},
     "output_type": "execute_result"
    }
   ],
   "source": [
    "len(alcohol[alcohol.isnull()])  # this is how we can find the number of NULL values in the Series"
   ]
  },
  {
   "cell_type": "code",
   "execution_count": 35,
   "id": "eed553b3",
   "metadata": {},
   "outputs": [],
   "source": [
    "# Cumbersome --> it means something very difficult to work with"
   ]
  },
  {
   "cell_type": "code",
   "execution_count": 36,
   "id": "b535c6f2",
   "metadata": {},
   "outputs": [
    {
     "data": {
      "text/plain": [
       "31"
      ]
     },
     "execution_count": 36,
     "metadata": {},
     "output_type": "execute_result"
    }
   ],
   "source": [
    "alcohol.isnull().sum()  # this is used to count the number of NULL/NA values"
   ]
  },
  {
   "cell_type": "code",
   "execution_count": 37,
   "id": "f47bdb6a",
   "metadata": {},
   "outputs": [],
   "source": [
    "total_val = alcohol.size"
   ]
  },
  {
   "cell_type": "code",
   "execution_count": 38,
   "id": "7951059e",
   "metadata": {},
   "outputs": [],
   "source": [
    "not_null = alcohol.count()"
   ]
  },
  {
   "cell_type": "code",
   "execution_count": 39,
   "id": "51375665",
   "metadata": {},
   "outputs": [],
   "source": [
    "nulls = alcohol.isnull().sum()"
   ]
  },
  {
   "cell_type": "code",
   "execution_count": 40,
   "id": "455c4934",
   "metadata": {},
   "outputs": [],
   "source": [
    "total = not_null + nulls"
   ]
  },
  {
   "cell_type": "code",
   "execution_count": 41,
   "id": "44e056b1",
   "metadata": {},
   "outputs": [
    {
     "data": {
      "text/plain": [
       "True"
      ]
     },
     "execution_count": 41,
     "metadata": {},
     "output_type": "execute_result"
    }
   ],
   "source": [
    "total_val == total"
   ]
  },
  {
   "cell_type": "code",
   "execution_count": 42,
   "id": "29f37812",
   "metadata": {},
   "outputs": [],
   "source": [
    "# Alternative way to find the number of nulls using the numpy ufunc .isnan"
   ]
  },
  {
   "cell_type": "code",
   "execution_count": 43,
   "id": "7659abbc",
   "metadata": {},
   "outputs": [
    {
     "data": {
      "text/plain": [
       "<ufunc 'isnan'>"
      ]
     },
     "execution_count": 43,
     "metadata": {},
     "output_type": "execute_result"
    }
   ],
   "source": [
    "np.isnan"
   ]
  },
  {
   "cell_type": "code",
   "execution_count": 44,
   "id": "d254e6c4",
   "metadata": {},
   "outputs": [],
   "source": [
    "ser = pd.Series(data = [True, False, None, 2], dtype=float)"
   ]
  },
  {
   "cell_type": "code",
   "execution_count": 45,
   "id": "76609d6a",
   "metadata": {},
   "outputs": [
    {
     "data": {
      "text/plain": [
       "0    False\n",
       "1    False\n",
       "2     True\n",
       "3    False\n",
       "dtype: bool"
      ]
     },
     "execution_count": 45,
     "metadata": {},
     "output_type": "execute_result"
    }
   ],
   "source": [
    "np.isnan(ser)"
   ]
  },
  {
   "cell_type": "code",
   "execution_count": 46,
   "id": "ba90d47e",
   "metadata": {},
   "outputs": [
    {
     "data": {
      "text/plain": [
       "0    1.0\n",
       "1    0.0\n",
       "2    NaN\n",
       "3    2.0\n",
       "dtype: float64"
      ]
     },
     "execution_count": 46,
     "metadata": {},
     "output_type": "execute_result"
    }
   ],
   "source": [
    "ser"
   ]
  },
  {
   "cell_type": "code",
   "execution_count": 47,
   "id": "73dc1e3a",
   "metadata": {},
   "outputs": [
    {
     "data": {
      "text/plain": [
       "31"
      ]
     },
     "execution_count": 47,
     "metadata": {},
     "output_type": "execute_result"
    }
   ],
   "source": [
    "alcohol[np.isnan].size"
   ]
  },
  {
   "cell_type": "code",
   "execution_count": null,
   "id": "7073329e",
   "metadata": {},
   "outputs": [],
   "source": []
  },
  {
   "cell_type": "markdown",
   "id": "b82e3369",
   "metadata": {},
   "source": [
    "# The other side: notnull() and notna()"
   ]
  },
  {
   "cell_type": "code",
   "execution_count": 48,
   "id": "563d3627",
   "metadata": {},
   "outputs": [
    {
     "data": {
      "text/plain": [
       "country\n",
       "Afghanistan    False\n",
       "Albania         True\n",
       "Algeria         True\n",
       "Andorra         True\n",
       "Angola          True\n",
       "               ...  \n",
       "Venezuela       True\n",
       "Vietnam         True\n",
       "Yemen          False\n",
       "Zambia          True\n",
       "Zimbabwe        True\n",
       "Name: wine_servings, Length: 193, dtype: bool"
      ]
     },
     "execution_count": 48,
     "metadata": {},
     "output_type": "execute_result"
    }
   ],
   "source": [
    "alcohol.notnull()"
   ]
  },
  {
   "cell_type": "code",
   "execution_count": 49,
   "id": "148a0753",
   "metadata": {},
   "outputs": [
    {
     "data": {
      "text/plain": [
       "country\n",
       "Albania               54.0\n",
       "Algeria               14.0\n",
       "Andorra              312.0\n",
       "Angola                45.0\n",
       "Antigua & Barbuda     45.0\n",
       "                     ...  \n",
       "Vanuatu               11.0\n",
       "Venezuela              3.0\n",
       "Vietnam                1.0\n",
       "Zambia                 4.0\n",
       "Zimbabwe               4.0\n",
       "Name: wine_servings, Length: 162, dtype: float64"
      ]
     },
     "execution_count": 49,
     "metadata": {},
     "output_type": "execute_result"
    }
   ],
   "source": [
    "alcohol[alcohol.notnull()]"
   ]
  },
  {
   "cell_type": "code",
   "execution_count": 50,
   "id": "6b23d9ec",
   "metadata": {},
   "outputs": [
    {
     "data": {
      "text/plain": [
       "162"
      ]
     },
     "execution_count": 50,
     "metadata": {},
     "output_type": "execute_result"
    }
   ],
   "source": [
    "alcohol.notnull().sum()"
   ]
  },
  {
   "cell_type": "code",
   "execution_count": 51,
   "id": "b7ef7f37",
   "metadata": {},
   "outputs": [
    {
     "data": {
      "text/plain": [
       "162"
      ]
     },
     "execution_count": 51,
     "metadata": {},
     "output_type": "execute_result"
    }
   ],
   "source": [
    "alcohol.count()"
   ]
  },
  {
   "cell_type": "code",
   "execution_count": 52,
   "id": "1db3cd57",
   "metadata": {},
   "outputs": [
    {
     "data": {
      "text/plain": [
       "True"
      ]
     },
     "execution_count": 52,
     "metadata": {},
     "output_type": "execute_result"
    }
   ],
   "source": [
    "alcohol.notnull().sum() == alcohol.count()"
   ]
  },
  {
   "cell_type": "code",
   "execution_count": 53,
   "id": "e209a098",
   "metadata": {},
   "outputs": [
    {
     "data": {
      "text/plain": [
       "True"
      ]
     },
     "execution_count": 53,
     "metadata": {},
     "output_type": "execute_result"
    }
   ],
   "source": [
    "alcohol.notnull().sum() + alcohol.isnull().sum() == alcohol.size"
   ]
  },
  {
   "cell_type": "code",
   "execution_count": null,
   "id": "1b967346",
   "metadata": {},
   "outputs": [],
   "source": []
  },
  {
   "cell_type": "markdown",
   "id": "310adde5",
   "metadata": {},
   "source": [
    "# Booleans are literally numbers in python"
   ]
  },
  {
   "cell_type": "code",
   "execution_count": 54,
   "id": "08403b91",
   "metadata": {},
   "outputs": [
    {
     "data": {
      "text/plain": [
       "20"
      ]
     },
     "execution_count": 54,
     "metadata": {},
     "output_type": "execute_result"
    }
   ],
   "source": [
    "True + 19"
   ]
  },
  {
   "cell_type": "code",
   "execution_count": 55,
   "id": "71f87649",
   "metadata": {},
   "outputs": [
    {
     "data": {
      "text/plain": [
       "6"
      ]
     },
     "execution_count": 55,
     "metadata": {},
     "output_type": "execute_result"
    }
   ],
   "source": [
    "True + True - False + True + 3"
   ]
  },
  {
   "cell_type": "code",
   "execution_count": 56,
   "id": "f10261ae",
   "metadata": {},
   "outputs": [
    {
     "data": {
      "text/plain": [
       "bool"
      ]
     },
     "execution_count": 56,
     "metadata": {},
     "output_type": "execute_result"
    }
   ],
   "source": [
    "type(True)"
   ]
  },
  {
   "cell_type": "code",
   "execution_count": 57,
   "id": "be345fe7",
   "metadata": {},
   "outputs": [
    {
     "data": {
      "text/plain": [
       "bool"
      ]
     },
     "execution_count": 57,
     "metadata": {},
     "output_type": "execute_result"
    }
   ],
   "source": [
    "type(False)"
   ]
  },
  {
   "cell_type": "code",
   "execution_count": 58,
   "id": "091956fe",
   "metadata": {},
   "outputs": [
    {
     "data": {
      "text/plain": [
       "(bool, int, object)"
      ]
     },
     "execution_count": 58,
     "metadata": {},
     "output_type": "execute_result"
    }
   ],
   "source": [
    "bool.__mro__"
   ]
  },
  {
   "cell_type": "code",
   "execution_count": null,
   "id": "6edd304b",
   "metadata": {},
   "outputs": [],
   "source": []
  },
  {
   "cell_type": "markdown",
   "id": "d0f20fdc",
   "metadata": {},
   "source": [
    "# Skill challenge"
   ]
  },
  {
   "cell_type": "code",
   "execution_count": 59,
   "id": "ffcf4341",
   "metadata": {},
   "outputs": [],
   "source": [
    "wine_servings = alcohol[alcohol.notnull()]"
   ]
  },
  {
   "cell_type": "code",
   "execution_count": 60,
   "id": "21c839b5",
   "metadata": {},
   "outputs": [
    {
     "data": {
      "text/plain": [
       "country\n",
       "Albania               54.0\n",
       "Algeria               14.0\n",
       "Andorra              312.0\n",
       "Angola                45.0\n",
       "Antigua & Barbuda     45.0\n",
       "Name: wine_servings, dtype: float64"
      ]
     },
     "execution_count": 60,
     "metadata": {},
     "output_type": "execute_result"
    }
   ],
   "source": [
    "wine_servings.head()"
   ]
  },
  {
   "cell_type": "code",
   "execution_count": 61,
   "id": "2bf25c11",
   "metadata": {},
   "outputs": [
    {
     "data": {
      "text/plain": [
       "8221.0"
      ]
     },
     "execution_count": 61,
     "metadata": {},
     "output_type": "execute_result"
    }
   ],
   "source": [
    "wine_servings.values.sum()"
   ]
  },
  {
   "cell_type": "code",
   "execution_count": 62,
   "id": "2bdeea17",
   "metadata": {},
   "outputs": [
    {
     "data": {
      "text/plain": [
       "8221.0"
      ]
     },
     "execution_count": 62,
     "metadata": {},
     "output_type": "execute_result"
    }
   ],
   "source": [
    "wine_servings.sum()"
   ]
  },
  {
   "cell_type": "code",
   "execution_count": 63,
   "id": "0f333e3b",
   "metadata": {},
   "outputs": [
    {
     "data": {
      "text/plain": [
       "country\n",
       "Albania               True\n",
       "Algeria               True\n",
       "Andorra              False\n",
       "Angola                True\n",
       "Antigua & Barbuda     True\n",
       "                     ...  \n",
       "Vanuatu               True\n",
       "Venezuela             True\n",
       "Vietnam               True\n",
       "Zambia                True\n",
       "Zimbabwe              True\n",
       "Name: wine_servings, Length: 162, dtype: bool"
      ]
     },
     "execution_count": 63,
     "metadata": {},
     "output_type": "execute_result"
    }
   ],
   "source": [
    "wine_servings < 100  # this condition can be used as a boolean mask for values < 100"
   ]
  },
  {
   "cell_type": "code",
   "execution_count": 64,
   "id": "a5888427",
   "metadata": {},
   "outputs": [
    {
     "data": {
      "text/plain": [
       "country\n",
       "Albania              54.0\n",
       "Algeria              14.0\n",
       "Angola               45.0\n",
       "Antigua & Barbuda    45.0\n",
       "Armenia              11.0\n",
       "                     ... \n",
       "Vanuatu              11.0\n",
       "Venezuela             3.0\n",
       "Vietnam               1.0\n",
       "Zambia                4.0\n",
       "Zimbabwe              4.0\n",
       "Name: wine_servings, Length: 132, dtype: float64"
      ]
     },
     "execution_count": 64,
     "metadata": {},
     "output_type": "execute_result"
    }
   ],
   "source": [
    "wine_servings[wine_servings < 100]"
   ]
  },
  {
   "cell_type": "code",
   "execution_count": 65,
   "id": "d1d09011",
   "metadata": {},
   "outputs": [
    {
     "data": {
      "text/plain": [
       "2416.0"
      ]
     },
     "execution_count": 65,
     "metadata": {},
     "output_type": "execute_result"
    }
   ],
   "source": [
    "wine_servings[wine_servings < 100].sum()"
   ]
  },
  {
   "cell_type": "code",
   "execution_count": null,
   "id": "286f5fb5",
   "metadata": {},
   "outputs": [],
   "source": []
  },
  {
   "cell_type": "markdown",
   "id": "a33039df",
   "metadata": {},
   "source": [
    "# Dropping and Filling NAs"
   ]
  },
  {
   "cell_type": "code",
   "execution_count": 66,
   "id": "bda839b3",
   "metadata": {},
   "outputs": [
    {
     "data": {
      "text/plain": [
       "country\n",
       "Albania               54.0\n",
       "Algeria               14.0\n",
       "Andorra              312.0\n",
       "Angola                45.0\n",
       "Antigua & Barbuda     45.0\n",
       "                     ...  \n",
       "Vanuatu               11.0\n",
       "Venezuela              3.0\n",
       "Vietnam                1.0\n",
       "Zambia                 4.0\n",
       "Zimbabwe               4.0\n",
       "Name: wine_servings, Length: 162, dtype: float64"
      ]
     },
     "execution_count": 66,
     "metadata": {},
     "output_type": "execute_result"
    }
   ],
   "source": [
    "alcohol.dropna()"
   ]
  },
  {
   "cell_type": "code",
   "execution_count": 67,
   "id": "7c57d55f",
   "metadata": {},
   "outputs": [
    {
     "data": {
      "text/plain": [
       "country\n",
       "Albania               54.0\n",
       "Algeria               14.0\n",
       "Andorra              312.0\n",
       "Angola                45.0\n",
       "Antigua & Barbuda     45.0\n",
       "                     ...  \n",
       "Vanuatu               11.0\n",
       "Venezuela              3.0\n",
       "Vietnam                1.0\n",
       "Zambia                 4.0\n",
       "Zimbabwe               4.0\n",
       "Name: wine_servings, Length: 162, dtype: float64"
      ]
     },
     "execution_count": 67,
     "metadata": {},
     "output_type": "execute_result"
    }
   ],
   "source": [
    "alcohol.dropna(inplace=False)"
   ]
  },
  {
   "cell_type": "code",
   "execution_count": 68,
   "id": "59713ea4",
   "metadata": {},
   "outputs": [
    {
     "data": {
      "text/plain": [
       "country\n",
       "Afghanistan    100.0\n",
       "Albania         54.0\n",
       "Algeria         14.0\n",
       "Andorra        312.0\n",
       "Angola          45.0\n",
       "               ...  \n",
       "Venezuela        3.0\n",
       "Vietnam          1.0\n",
       "Yemen          100.0\n",
       "Zambia           4.0\n",
       "Zimbabwe         4.0\n",
       "Name: wine_servings, Length: 193, dtype: float64"
      ]
     },
     "execution_count": 68,
     "metadata": {},
     "output_type": "execute_result"
    }
   ],
   "source": [
    "alcohol.fillna(100, inplace=False)"
   ]
  },
  {
   "cell_type": "code",
   "execution_count": null,
   "id": "afd02332",
   "metadata": {},
   "outputs": [],
   "source": []
  },
  {
   "cell_type": "markdown",
   "id": "25518f2f",
   "metadata": {},
   "source": [
    "# Descriptive statistics"
   ]
  },
  {
   "cell_type": "code",
   "execution_count": 69,
   "id": "f9a64d9b",
   "metadata": {},
   "outputs": [
    {
     "data": {
      "text/plain": [
       "8221.0"
      ]
     },
     "execution_count": 69,
     "metadata": {},
     "output_type": "execute_result"
    }
   ],
   "source": [
    "alcohol.sum()"
   ]
  },
  {
   "cell_type": "code",
   "execution_count": 70,
   "id": "7d6d428b",
   "metadata": {},
   "outputs": [],
   "source": [
    "# average"
   ]
  },
  {
   "cell_type": "code",
   "execution_count": 71,
   "id": "f8bcc0e4",
   "metadata": {},
   "outputs": [
    {
     "data": {
      "text/plain": [
       "162"
      ]
     },
     "execution_count": 71,
     "metadata": {},
     "output_type": "execute_result"
    }
   ],
   "source": [
    "alcohol.count()"
   ]
  },
  {
   "cell_type": "code",
   "execution_count": 72,
   "id": "f2729270",
   "metadata": {},
   "outputs": [
    {
     "data": {
      "text/plain": [
       "8221.0"
      ]
     },
     "execution_count": 72,
     "metadata": {},
     "output_type": "execute_result"
    }
   ],
   "source": [
    "alcohol.sum()"
   ]
  },
  {
   "cell_type": "code",
   "execution_count": 73,
   "id": "3f74d857",
   "metadata": {},
   "outputs": [
    {
     "data": {
      "text/plain": [
       "50.74691358024691"
      ]
     },
     "execution_count": 73,
     "metadata": {},
     "output_type": "execute_result"
    }
   ],
   "source": [
    "alcohol.sum() / alcohol.count() "
   ]
  },
  {
   "cell_type": "code",
   "execution_count": 74,
   "id": "a8f07163",
   "metadata": {},
   "outputs": [
    {
     "data": {
      "text/plain": [
       "50.74691358024691"
      ]
     },
     "execution_count": 74,
     "metadata": {},
     "output_type": "execute_result"
    }
   ],
   "source": [
    "alcohol.mean()"
   ]
  },
  {
   "cell_type": "code",
   "execution_count": 75,
   "id": "56457884",
   "metadata": {},
   "outputs": [],
   "source": [
    "# median"
   ]
  },
  {
   "cell_type": "code",
   "execution_count": 76,
   "id": "bd49a693",
   "metadata": {},
   "outputs": [
    {
     "data": {
      "text/plain": [
       "11.5"
      ]
     },
     "execution_count": 76,
     "metadata": {},
     "output_type": "execute_result"
    }
   ],
   "source": [
    "alcohol.median()"
   ]
  },
  {
   "cell_type": "code",
   "execution_count": 77,
   "id": "e96602dc",
   "metadata": {},
   "outputs": [
    {
     "data": {
      "text/plain": [
       "11.5"
      ]
     },
     "execution_count": 77,
     "metadata": {},
     "output_type": "execute_result"
    }
   ],
   "source": [
    "alcohol.quantile(.5)"
   ]
  },
  {
   "cell_type": "code",
   "execution_count": 78,
   "id": "77ca73f4",
   "metadata": {},
   "outputs": [
    {
     "data": {
      "text/plain": [
       "<Axes: >"
      ]
     },
     "execution_count": 78,
     "metadata": {},
     "output_type": "execute_result"
    },
    {
     "data": {
      "image/png": "[encoded data removed]",
      "text/plain": [
       "<Figure size 640x480 with 1 Axes>"
      ]
     },
     "metadata": {},
     "output_type": "display_data"
    }
   ],
   "source": [
    "alcohol.hist()"
   ]
  },
  {
   "cell_type": "code",
   "execution_count": 79,
   "id": "ec9adcec",
   "metadata": {},
   "outputs": [],
   "source": [
    "# Inter quertile range --> difference between 1st and 3rd quertile"
   ]
  },
  {
   "cell_type": "code",
   "execution_count": 80,
   "id": "2889699a",
   "metadata": {},
   "outputs": [],
   "source": [
    "iqr = alcohol.quantile(.75) - alcohol.quantile(.25)"
   ]
  },
  {
   "cell_type": "code",
   "execution_count": 81,
   "id": "1fa78574",
   "metadata": {},
   "outputs": [
    {
     "data": {
      "text/plain": [
       "58.25"
      ]
     },
     "execution_count": 81,
     "metadata": {},
     "output_type": "execute_result"
    }
   ],
   "source": [
    "iqr   # this data also confirms that our data is not distributed symmetrically as the IOR is almost 5 times the median"
   ]
  },
  {
   "cell_type": "code",
   "execution_count": 82,
   "id": "2881cd28",
   "metadata": {},
   "outputs": [],
   "source": [
    "# min and max"
   ]
  },
  {
   "cell_type": "code",
   "execution_count": 83,
   "id": "511700dd",
   "metadata": {},
   "outputs": [
    {
     "data": {
      "text/plain": [
       "1.0"
      ]
     },
     "execution_count": 83,
     "metadata": {},
     "output_type": "execute_result"
    }
   ],
   "source": [
    "alcohol.min()"
   ]
  },
  {
   "cell_type": "code",
   "execution_count": 84,
   "id": "f97bb69c",
   "metadata": {},
   "outputs": [
    {
     "data": {
      "text/plain": [
       "339.0"
      ]
     },
     "execution_count": 84,
     "metadata": {},
     "output_type": "execute_result"
    }
   ],
   "source": [
    "alcohol.max()"
   ]
  },
  {
   "cell_type": "code",
   "execution_count": 85,
   "id": "025277ce",
   "metadata": {},
   "outputs": [],
   "source": [
    "# Standard deviation"
   ]
  },
  {
   "cell_type": "code",
   "execution_count": 86,
   "id": "3af37ea6",
   "metadata": {},
   "outputs": [
    {
     "data": {
      "text/plain": [
       "76.13491716376171"
      ]
     },
     "execution_count": 86,
     "metadata": {},
     "output_type": "execute_result"
    }
   ],
   "source": [
    "alcohol.std()"
   ]
  },
  {
   "cell_type": "code",
   "execution_count": 87,
   "id": "f6fac1d9",
   "metadata": {},
   "outputs": [],
   "source": [
    "# Variance"
   ]
  },
  {
   "cell_type": "code",
   "execution_count": 88,
   "id": "fd5cfc45",
   "metadata": {},
   "outputs": [
    {
     "data": {
      "text/plain": [
       "5796.5256115328575"
      ]
     },
     "execution_count": 88,
     "metadata": {},
     "output_type": "execute_result"
    }
   ],
   "source": [
    "alcohol.var()"
   ]
  },
  {
   "cell_type": "code",
   "execution_count": 89,
   "id": "da61fc30",
   "metadata": {},
   "outputs": [
    {
     "data": {
      "text/plain": [
       "True"
      ]
     },
     "execution_count": 89,
     "metadata": {},
     "output_type": "execute_result"
    }
   ],
   "source": [
    "alcohol.std()**2 == alcohol.var()"
   ]
  },
  {
   "cell_type": "code",
   "execution_count": null,
   "id": "595a4588",
   "metadata": {},
   "outputs": [],
   "source": []
  },
  {
   "cell_type": "markdown",
   "id": "2f37e13b",
   "metadata": {},
   "source": [
    "# The describe() method"
   ]
  },
  {
   "cell_type": "code",
   "execution_count": 90,
   "id": "f6235d4f",
   "metadata": {},
   "outputs": [
    {
     "data": {
      "text/plain": [
       "count    162.000000\n",
       "mean      50.746914\n",
       "std       76.134917\n",
       "min        1.000000\n",
       "25%        3.000000\n",
       "50%       11.500000\n",
       "75%       61.250000\n",
       "max      339.000000\n",
       "Name: wine_servings, dtype: float64"
      ]
     },
     "execution_count": 90,
     "metadata": {},
     "output_type": "execute_result"
    }
   ],
   "source": [
    "alcohol.describe()"
   ]
  },
  {
   "cell_type": "code",
   "execution_count": 91,
   "id": "62daf9ed",
   "metadata": {},
   "outputs": [
    {
     "data": {
      "text/plain": [
       "count    162.000000\n",
       "mean      50.746914\n",
       "std       76.134917\n",
       "min        1.000000\n",
       "19%        2.000000\n",
       "50%       11.500000\n",
       "79%       81.570000\n",
       "max      339.000000\n",
       "Name: wine_servings, dtype: float64"
      ]
     },
     "execution_count": 91,
     "metadata": {},
     "output_type": "execute_result"
    }
   ],
   "source": [
    "alcohol.describe(percentiles=[.79, .19])"
   ]
  },
  {
   "cell_type": "code",
   "execution_count": 92,
   "id": "adb5e247",
   "metadata": {},
   "outputs": [
    {
     "data": {
      "text/plain": [
       "count    162.000000\n",
       "mean      50.746914\n",
       "std       76.134917\n",
       "min        1.000000\n",
       "19%        2.000000\n",
       "50%       11.500000\n",
       "79%       81.570000\n",
       "max      339.000000\n",
       "Name: wine_servings, dtype: float64"
      ]
     },
     "execution_count": 92,
     "metadata": {},
     "output_type": "execute_result"
    }
   ],
   "source": [
    "alcohol.describe(percentiles=[.79, .19], include=float, exclude=object)"
   ]
  },
  {
   "cell_type": "code",
   "execution_count": 93,
   "id": "f94fe35b",
   "metadata": {},
   "outputs": [
    {
     "data": {
      "text/plain": [
       "dtype('float64')"
      ]
     },
     "execution_count": 93,
     "metadata": {},
     "output_type": "execute_result"
    }
   ],
   "source": [
    "alcohol.dtype"
   ]
  },
  {
   "cell_type": "code",
   "execution_count": null,
   "id": "d3fc7fa6",
   "metadata": {},
   "outputs": [],
   "source": []
  },
  {
   "cell_type": "markdown",
   "id": "1f2ad367",
   "metadata": {},
   "source": [
    "# mode() and value_counts()"
   ]
  },
  {
   "cell_type": "code",
   "execution_count": 94,
   "id": "8446729e",
   "metadata": {},
   "outputs": [
    {
     "data": {
      "text/plain": [
       "0    1.0\n",
       "Name: wine_servings, dtype: float64"
      ]
     },
     "execution_count": 94,
     "metadata": {},
     "output_type": "execute_result"
    }
   ],
   "source": [
    "alcohol.mode()"
   ]
  },
  {
   "cell_type": "code",
   "execution_count": 95,
   "id": "428d6a3f",
   "metadata": {},
   "outputs": [
    {
     "data": {
      "text/plain": [
       "array([False, False, False, False, False, False, False, False, False,\n",
       "       False, False, False, False, False, False, False, False, False,\n",
       "       False, False, False, False, False, False,  True, False, False,\n",
       "       False, False, False,  True, False,  True,  True,  True, False,\n",
       "       False, False,  True, False, False, False, False, False, False,\n",
       "       False, False,  True, False, False, False, False, False,  True,\n",
       "       False, False, False, False, False,  True, False, False, False,\n",
       "        True, False, False,  True, False, False, False, False, False,\n",
       "        True,  True, False, False, False, False, False, False, False,\n",
       "       False, False, False, False, False,  True, False, False,  True,\n",
       "       False, False, False, False, False, False, False, False, False,\n",
       "       False, False,  True, False, False,  True, False, False, False,\n",
       "       False, False, False, False, False, False,  True, False, False,\n",
       "        True, False, False, False, False,  True,  True, False, False,\n",
       "       False,  True, False, False, False,  True, False, False,  True,\n",
       "       False, False, False, False, False, False, False, False, False,\n",
       "       False, False, False, False, False, False, False, False, False,\n",
       "       False, False, False, False,  True, False, False, False, False,\n",
       "       False, False, False, False, False, False, False,  True, False,\n",
       "       False, False, False, False, False, False, False, False, False,\n",
       "       False, False, False,  True, False, False, False, False, False,\n",
       "        True, False, False, False])"
      ]
     },
     "execution_count": 95,
     "metadata": {},
     "output_type": "execute_result"
    }
   ],
   "source": [
    "alcohol.values == 1"
   ]
  },
  {
   "cell_type": "code",
   "execution_count": 96,
   "id": "500ffeff",
   "metadata": {},
   "outputs": [
    {
     "data": {
      "text/plain": [
       "country\n",
       "Brunei                      1.0\n",
       "Cambodia                    1.0\n",
       "Canada                      1.0\n",
       "Central African Republic    1.0\n",
       "Chad                        1.0\n",
       "Comoros                     1.0\n",
       "DR Congo                    1.0\n",
       "Egypt                       1.0\n",
       "Fiji                        1.0\n",
       "Gambia                      1.0\n",
       "Ghana                       1.0\n",
       "Guyana                      1.0\n",
       "Haiti                       1.0\n",
       "Jordan                      1.0\n",
       "Kiribati                    1.0\n",
       "Malawi                      1.0\n",
       "Mali                        1.0\n",
       "Morocco                     1.0\n",
       "Namibia                     1.0\n",
       "Nicaragua                   1.0\n",
       "Niger                       1.0\n",
       "Oman                        1.0\n",
       "Papua New Guinea            1.0\n",
       "Philippines                 1.0\n",
       "Solomon Islands             1.0\n",
       "Thailand                    1.0\n",
       "Tanzania                    1.0\n",
       "Vietnam                     1.0\n",
       "Name: wine_servings, dtype: float64"
      ]
     },
     "execution_count": 96,
     "metadata": {},
     "output_type": "execute_result"
    }
   ],
   "source": [
    "alcohol[alcohol.values ==  1]"
   ]
  },
  {
   "cell_type": "code",
   "execution_count": 97,
   "id": "f9134f7b",
   "metadata": {},
   "outputs": [
    {
     "data": {
      "text/plain": [
       "28"
      ]
     },
     "execution_count": 97,
     "metadata": {},
     "output_type": "execute_result"
    }
   ],
   "source": [
    "len(alcohol[alcohol.values ==  1])  # this is how we find the number of times a mode value occurs in the dataset."
   ]
  },
  {
   "cell_type": "code",
   "execution_count": 98,
   "id": "ac6f2f21",
   "metadata": {},
   "outputs": [
    {
     "data": {
      "text/plain": [
       "28"
      ]
     },
     "execution_count": 98,
     "metadata": {},
     "output_type": "execute_result"
    }
   ],
   "source": [
    "alcohol[alcohol.values ==  1].size  # or we can do this also"
   ]
  },
  {
   "cell_type": "code",
   "execution_count": 99,
   "id": "73125fef",
   "metadata": {},
   "outputs": [
    {
     "data": {
      "text/plain": [
       "wine_servings\n",
       "1.0      28\n",
       "2.0      10\n",
       "7.0       9\n",
       "8.0       7\n",
       "5.0       6\n",
       "         ..\n",
       "218.0     1\n",
       "185.0     1\n",
       "78.0      1\n",
       "165.0     1\n",
       "22.0      1\n",
       "Name: count, Length: 71, dtype: int64"
      ]
     },
     "execution_count": 99,
     "metadata": {},
     "output_type": "execute_result"
    }
   ],
   "source": [
    "alcohol.value_counts()"
   ]
  },
  {
   "cell_type": "code",
   "execution_count": 100,
   "id": "eac0ba08",
   "metadata": {},
   "outputs": [
    {
     "data": {
      "text/plain": [
       "28"
      ]
     },
     "execution_count": 100,
     "metadata": {},
     "output_type": "execute_result"
    }
   ],
   "source": [
    "alcohol.value_counts().iloc[0]   #this will give us the frequency of most occuring element"
   ]
  },
  {
   "cell_type": "code",
   "execution_count": 101,
   "id": "7d20f37e",
   "metadata": {},
   "outputs": [
    {
     "data": {
      "text/plain": [
       "wine_servings\n",
       "1.0      0.172840\n",
       "2.0      0.061728\n",
       "7.0      0.055556\n",
       "8.0      0.043210\n",
       "5.0      0.037037\n",
       "           ...   \n",
       "218.0    0.006173\n",
       "185.0    0.006173\n",
       "78.0     0.006173\n",
       "165.0    0.006173\n",
       "22.0     0.006173\n",
       "Name: proportion, Length: 71, dtype: float64"
      ]
     },
     "execution_count": 101,
     "metadata": {},
     "output_type": "execute_result"
    }
   ],
   "source": [
    "alcohol.value_counts(normalize=True)"
   ]
  },
  {
   "cell_type": "code",
   "execution_count": null,
   "id": "c114ef80",
   "metadata": {},
   "outputs": [],
   "source": []
  },
  {
   "cell_type": "markdown",
   "id": "3e6d817f",
   "metadata": {},
   "source": [
    "# idxmax() and idxmin()"
   ]
  },
  {
   "cell_type": "code",
   "execution_count": 102,
   "id": "2788fa64",
   "metadata": {},
   "outputs": [
    {
     "data": {
      "text/plain": [
       "339.0"
      ]
     },
     "execution_count": 102,
     "metadata": {},
     "output_type": "execute_result"
    }
   ],
   "source": [
    "alcohol.max()"
   ]
  },
  {
   "cell_type": "code",
   "execution_count": 103,
   "id": "f66ff44b",
   "metadata": {},
   "outputs": [
    {
     "data": {
      "text/plain": [
       "country\n",
       "Portugal    339.0\n",
       "Name: wine_servings, dtype: float64"
      ]
     },
     "execution_count": 103,
     "metadata": {},
     "output_type": "execute_result"
    }
   ],
   "source": [
    "alcohol[alcohol == alcohol.max()] # one way to do this is like this"
   ]
  },
  {
   "cell_type": "code",
   "execution_count": 104,
   "id": "9b5f97d9",
   "metadata": {},
   "outputs": [
    {
     "data": {
      "text/plain": [
       "'Portugal'"
      ]
     },
     "execution_count": 104,
     "metadata": {},
     "output_type": "execute_result"
    }
   ],
   "source": [
    "alcohol[alcohol == alcohol.max()].index[0]"
   ]
  },
  {
   "cell_type": "code",
   "execution_count": 105,
   "id": "33ab4611",
   "metadata": {},
   "outputs": [
    {
     "data": {
      "text/plain": [
       "'Portugal'"
      ]
     },
     "execution_count": 105,
     "metadata": {},
     "output_type": "execute_result"
    }
   ],
   "source": [
    "alcohol.idxmax()"
   ]
  },
  {
   "cell_type": "code",
   "execution_count": 106,
   "id": "270862b9",
   "metadata": {},
   "outputs": [
    {
     "data": {
      "text/plain": [
       "'Brunei'"
      ]
     },
     "execution_count": 106,
     "metadata": {},
     "output_type": "execute_result"
    }
   ],
   "source": [
    "alcohol.idxmin()"
   ]
  },
  {
   "cell_type": "code",
   "execution_count": 107,
   "id": "6fa63761",
   "metadata": {},
   "outputs": [
    {
     "data": {
      "text/plain": [
       "country\n",
       "Brunei                      1.0\n",
       "Cambodia                    1.0\n",
       "Canada                      1.0\n",
       "Central African Republic    1.0\n",
       "Chad                        1.0\n",
       "Comoros                     1.0\n",
       "DR Congo                    1.0\n",
       "Egypt                       1.0\n",
       "Fiji                        1.0\n",
       "Gambia                      1.0\n",
       "Ghana                       1.0\n",
       "Guyana                      1.0\n",
       "Haiti                       1.0\n",
       "Jordan                      1.0\n",
       "Kiribati                    1.0\n",
       "Malawi                      1.0\n",
       "Mali                        1.0\n",
       "Morocco                     1.0\n",
       "Namibia                     1.0\n",
       "Nicaragua                   1.0\n",
       "Niger                       1.0\n",
       "Oman                        1.0\n",
       "Papua New Guinea            1.0\n",
       "Philippines                 1.0\n",
       "Solomon Islands             1.0\n",
       "Thailand                    1.0\n",
       "Tanzania                    1.0\n",
       "Vietnam                     1.0\n",
       "Name: wine_servings, dtype: float64"
      ]
     },
     "execution_count": 107,
     "metadata": {},
     "output_type": "execute_result"
    }
   ],
   "source": [
    "alcohol[alcohol == alcohol.min()]"
   ]
  },
  {
   "cell_type": "code",
   "execution_count": null,
   "id": "6a1b3b56",
   "metadata": {},
   "outputs": [],
   "source": []
  },
  {
   "cell_type": "markdown",
   "id": "56e4e0dc",
   "metadata": {},
   "source": [
    "# Sorting with sort_values()"
   ]
  },
  {
   "cell_type": "code",
   "execution_count": 108,
   "id": "7b549f20",
   "metadata": {},
   "outputs": [
    {
     "data": {
      "text/plain": [
       "country\n",
       "Thailand           1.0\n",
       "Solomon Islands    1.0\n",
       "Brunei             1.0\n",
       "Haiti              1.0\n",
       "Cambodia           1.0\n",
       "                  ... \n",
       "Sri Lanka          NaN\n",
       "Sudan              NaN\n",
       "Tajikistan         NaN\n",
       "Uganda             NaN\n",
       "Yemen              NaN\n",
       "Name: wine_servings, Length: 193, dtype: float64"
      ]
     },
     "execution_count": 108,
     "metadata": {},
     "output_type": "execute_result"
    }
   ],
   "source": [
    "alcohol.sort_values()"
   ]
  },
  {
   "cell_type": "code",
   "execution_count": 109,
   "id": "2b6b6b93",
   "metadata": {},
   "outputs": [
    {
     "data": {
      "text/plain": [
       "country\n",
       "Portugal      339.0\n",
       "Andorra       312.0\n",
       "Denmark       278.0\n",
       "Slovenia      276.0\n",
       "Luxembourg    271.0\n",
       "              ...  \n",
       "Sri Lanka       NaN\n",
       "Sudan           NaN\n",
       "Tajikistan      NaN\n",
       "Uganda          NaN\n",
       "Yemen           NaN\n",
       "Name: wine_servings, Length: 193, dtype: float64"
      ]
     },
     "execution_count": 109,
     "metadata": {},
     "output_type": "execute_result"
    }
   ],
   "source": [
    "alcohol.sort_values(ascending=False)"
   ]
  },
  {
   "cell_type": "code",
   "execution_count": 110,
   "id": "831b3924",
   "metadata": {},
   "outputs": [
    {
     "data": {
      "text/plain": [
       "country\n",
       "Afghanistan                 NaN\n",
       "Bangladesh                  NaN\n",
       "Bhutan                      NaN\n",
       "Burundi                     NaN\n",
       "North Korea                 NaN\n",
       "                           ... \n",
       "Jordan                      1.0\n",
       "Solomon Islands             1.0\n",
       "Central African Republic    1.0\n",
       "Haiti                       1.0\n",
       "Chad                        1.0\n",
       "Name: wine_servings, Length: 193, dtype: float64"
      ]
     },
     "execution_count": 110,
     "metadata": {},
     "output_type": "execute_result"
    }
   ],
   "source": [
    "alcohol.sort_values(ascending=False, na_position='first')"
   ]
  },
  {
   "cell_type": "code",
   "execution_count": 111,
   "id": "67fa5a03",
   "metadata": {},
   "outputs": [
    {
     "data": {
      "text/plain": [
       "country\n",
       "Portugal      339.0\n",
       "Andorra       312.0\n",
       "Denmark       278.0\n",
       "Slovenia      276.0\n",
       "Luxembourg    271.0\n",
       "              ...  \n",
       "Sri Lanka       NaN\n",
       "Sudan           NaN\n",
       "Tajikistan      NaN\n",
       "Uganda          NaN\n",
       "Yemen           NaN\n",
       "Name: wine_servings, Length: 193, dtype: float64"
      ]
     },
     "execution_count": 111,
     "metadata": {},
     "output_type": "execute_result"
    }
   ],
   "source": [
    "alcohol.sort_values(ascending=False)"
   ]
  },
  {
   "cell_type": "code",
   "execution_count": 112,
   "id": "5758913c",
   "metadata": {},
   "outputs": [
    {
     "data": {
      "text/plain": [
       "country\n",
       "Portugal      339.0\n",
       "Andorra       312.0\n",
       "Denmark       278.0\n",
       "Slovenia      276.0\n",
       "Luxembourg    271.0\n",
       "              ...  \n",
       "Sri Lanka       NaN\n",
       "Sudan           NaN\n",
       "Tajikistan      NaN\n",
       "Uganda          NaN\n",
       "Yemen           NaN\n",
       "Name: wine_servings, Length: 193, dtype: float64"
      ]
     },
     "execution_count": 112,
     "metadata": {},
     "output_type": "execute_result"
    }
   ],
   "source": [
    "alcohol.sort_values(ascending=False, na_position='last', kind='mergesort')"
   ]
  },
  {
   "cell_type": "code",
   "execution_count": null,
   "id": "1fe58b99",
   "metadata": {},
   "outputs": [],
   "source": []
  },
  {
   "cell_type": "markdown",
   "id": "78e9420d",
   "metadata": {},
   "source": [
    "# nlargest() and nsmallest()"
   ]
  },
  {
   "cell_type": "code",
   "execution_count": 113,
   "id": "7a1bddb0",
   "metadata": {},
   "outputs": [
    {
     "data": {
      "text/plain": [
       "1.0"
      ]
     },
     "execution_count": 113,
     "metadata": {},
     "output_type": "execute_result"
    }
   ],
   "source": [
    "alcohol.min()"
   ]
  },
  {
   "cell_type": "code",
   "execution_count": 114,
   "id": "a41809c1",
   "metadata": {},
   "outputs": [
    {
     "data": {
      "text/plain": [
       "339.0"
      ]
     },
     "execution_count": 114,
     "metadata": {},
     "output_type": "execute_result"
    }
   ],
   "source": [
    "alcohol.max()"
   ]
  },
  {
   "cell_type": "code",
   "execution_count": 115,
   "id": "75e31076",
   "metadata": {},
   "outputs": [
    {
     "data": {
      "text/plain": [
       "country\n",
       "Portugal             339.0\n",
       "Andorra              312.0\n",
       "Denmark              278.0\n",
       "Slovenia             276.0\n",
       "Luxembourg           271.0\n",
       "Croatia              254.0\n",
       "Italy                237.0\n",
       "Equatorial Guinea    233.0\n",
       "Argentina            221.0\n",
       "Greece               218.0\n",
       "Name: wine_servings, dtype: float64"
      ]
     },
     "execution_count": 115,
     "metadata": {},
     "output_type": "execute_result"
    }
   ],
   "source": [
    "alcohol.sort_values(ascending=False)[:10]"
   ]
  },
  {
   "cell_type": "code",
   "execution_count": 118,
   "id": "81cb6fe3",
   "metadata": {},
   "outputs": [
    {
     "data": {
      "text/plain": [
       "country\n",
       "Portugal             339.0\n",
       "Andorra              312.0\n",
       "Denmark              278.0\n",
       "Slovenia             276.0\n",
       "Luxembourg           271.0\n",
       "Croatia              254.0\n",
       "Italy                237.0\n",
       "Equatorial Guinea    233.0\n",
       "Argentina            221.0\n",
       "Greece               218.0\n",
       "Name: wine_servings, dtype: float64"
      ]
     },
     "execution_count": 118,
     "metadata": {},
     "output_type": "execute_result"
    }
   ],
   "source": [
    "alcohol.nlargest(10)"
   ]
  },
  {
   "cell_type": "code",
   "execution_count": 119,
   "id": "c08e8f46",
   "metadata": {},
   "outputs": [
    {
     "data": {
      "text/plain": [
       "country\n",
       "Brunei                      1.0\n",
       "Cambodia                    1.0\n",
       "Canada                      1.0\n",
       "Central African Republic    1.0\n",
       "Chad                        1.0\n",
       "Comoros                     1.0\n",
       "DR Congo                    1.0\n",
       "Egypt                       1.0\n",
       "Fiji                        1.0\n",
       "Gambia                      1.0\n",
       "Name: wine_servings, dtype: float64"
      ]
     },
     "execution_count": 119,
     "metadata": {},
     "output_type": "execute_result"
    }
   ],
   "source": [
    "alcohol.nsmallest(10)"
   ]
  },
  {
   "cell_type": "code",
   "execution_count": null,
   "id": "09cd3eed",
   "metadata": {},
   "outputs": [],
   "source": []
  },
  {
   "cell_type": "markdown",
   "id": "793ec9e7",
   "metadata": {},
   "source": [
    "# Sorting using sort_index()"
   ]
  },
  {
   "cell_type": "code",
   "execution_count": 120,
   "id": "c82c8074",
   "metadata": {},
   "outputs": [
    {
     "data": {
      "text/plain": [
       "country\n",
       "Afghanistan      NaN\n",
       "Albania         54.0\n",
       "Algeria         14.0\n",
       "Andorra        312.0\n",
       "Angola          45.0\n",
       "Name: wine_servings, dtype: float64"
      ]
     },
     "execution_count": 120,
     "metadata": {},
     "output_type": "execute_result"
    }
   ],
   "source": [
    "alcohol.head()"
   ]
  },
  {
   "cell_type": "code",
   "execution_count": 121,
   "id": "de4c0dcb",
   "metadata": {},
   "outputs": [
    {
     "data": {
      "text/plain": [
       "country\n",
       "Afghanistan      NaN\n",
       "Albania         54.0\n",
       "Algeria         14.0\n",
       "Andorra        312.0\n",
       "Angola          45.0\n",
       "               ...  \n",
       "Venezuela        3.0\n",
       "Vietnam          1.0\n",
       "Yemen            NaN\n",
       "Zambia           4.0\n",
       "Zimbabwe         4.0\n",
       "Name: wine_servings, Length: 193, dtype: float64"
      ]
     },
     "execution_count": 121,
     "metadata": {},
     "output_type": "execute_result"
    }
   ],
   "source": [
    "alcohol.sort_index()"
   ]
  },
  {
   "cell_type": "code",
   "execution_count": 122,
   "id": "83c81531",
   "metadata": {},
   "outputs": [
    {
     "data": {
      "text/plain": [
       "country\n",
       "Zimbabwe         4.0\n",
       "Zambia           4.0\n",
       "Yemen            NaN\n",
       "Vietnam          1.0\n",
       "Venezuela        3.0\n",
       "               ...  \n",
       "Angola          45.0\n",
       "Andorra        312.0\n",
       "Algeria         14.0\n",
       "Albania         54.0\n",
       "Afghanistan      NaN\n",
       "Name: wine_servings, Length: 193, dtype: float64"
      ]
     },
     "execution_count": 122,
     "metadata": {},
     "output_type": "execute_result"
    }
   ],
   "source": [
    "alcohol.sort_index(ascending=False)"
   ]
  },
  {
   "cell_type": "code",
   "execution_count": null,
   "id": "c80dbbe3",
   "metadata": {},
   "outputs": [],
   "source": []
  },
  {
   "cell_type": "markdown",
   "id": "e7845b69",
   "metadata": {},
   "source": [
    "# Skill challenge"
   ]
  },
  {
   "cell_type": "code",
   "execution_count": 123,
   "id": "198afb17",
   "metadata": {},
   "outputs": [],
   "source": [
    "fifty_plus = alcohol[alcohol.values > 50]"
   ]
  },
  {
   "cell_type": "code",
   "execution_count": 124,
   "id": "2fa7d703",
   "metadata": {},
   "outputs": [
    {
     "data": {
      "text/plain": [
       "country\n",
       "Albania                54.0\n",
       "Andorra               312.0\n",
       "Argentina             221.0\n",
       "Australia             212.0\n",
       "Austria               191.0\n",
       "Bahamas                51.0\n",
       "Belgium               212.0\n",
       "Bulgaria               94.0\n",
       "Chile                 172.0\n",
       "Cook Islands           74.0\n",
       "Croatia               254.0\n",
       "Cyprus                113.0\n",
       "Czech Republic        134.0\n",
       "Denmark               278.0\n",
       "Equatorial Guinea     233.0\n",
       "Estonia                59.0\n",
       "Finland                97.0\n",
       "Gabon                  59.0\n",
       "Georgia               149.0\n",
       "Germany               175.0\n",
       "Greece                218.0\n",
       "Hungary               185.0\n",
       "Iceland                78.0\n",
       "Ireland               165.0\n",
       "Italy                 237.0\n",
       "Laos                  123.0\n",
       "Latvia                 62.0\n",
       "Lithuania              56.0\n",
       "Luxembourg            271.0\n",
       "Montenegro            128.0\n",
       "New Zealand           175.0\n",
       "Norway                129.0\n",
       "Paraguay               74.0\n",
       "Poland                 56.0\n",
       "Portugal              339.0\n",
       "Romania               167.0\n",
       "Russian Federation     73.0\n",
       "St. Lucia              71.0\n",
       "Serbia                127.0\n",
       "Seychelles             51.0\n",
       "Slovakia              116.0\n",
       "Slovenia              276.0\n",
       "South Africa           81.0\n",
       "Spain                 112.0\n",
       "Sweden                186.0\n",
       "Macedonia              86.0\n",
       "United Kingdom        195.0\n",
       "USA                    84.0\n",
       "Name: wine_servings, dtype: float64"
      ]
     },
     "execution_count": 124,
     "metadata": {},
     "output_type": "execute_result"
    }
   ],
   "source": [
    "fifty_plus"
   ]
  },
  {
   "cell_type": "code",
   "execution_count": 125,
   "id": "546d9a16",
   "metadata": {},
   "outputs": [
    {
     "data": {
      "text/plain": [
       "48"
      ]
     },
     "execution_count": 125,
     "metadata": {},
     "output_type": "execute_result"
    }
   ],
   "source": [
    "fifty_plus.size"
   ]
  },
  {
   "cell_type": "code",
   "execution_count": 126,
   "id": "2b60585c",
   "metadata": {},
   "outputs": [
    {
     "data": {
      "text/plain": [
       "48"
      ]
     },
     "execution_count": 126,
     "metadata": {},
     "output_type": "execute_result"
    }
   ],
   "source": [
    "fifty_plus.count()"
   ]
  },
  {
   "cell_type": "code",
   "execution_count": 127,
   "id": "c926127f",
   "metadata": {},
   "outputs": [],
   "source": [
    "sorted_20 = fifty_plus.nsmallest(20)"
   ]
  },
  {
   "cell_type": "code",
   "execution_count": 128,
   "id": "1db50c7b",
   "metadata": {},
   "outputs": [
    {
     "data": {
      "text/plain": [
       "country\n",
       "Bahamas                51.0\n",
       "Seychelles             51.0\n",
       "Albania                54.0\n",
       "Lithuania              56.0\n",
       "Poland                 56.0\n",
       "Estonia                59.0\n",
       "Gabon                  59.0\n",
       "Latvia                 62.0\n",
       "St. Lucia              71.0\n",
       "Russian Federation     73.0\n",
       "Cook Islands           74.0\n",
       "Paraguay               74.0\n",
       "Iceland                78.0\n",
       "South Africa           81.0\n",
       "USA                    84.0\n",
       "Macedonia              86.0\n",
       "Bulgaria               94.0\n",
       "Finland                97.0\n",
       "Spain                 112.0\n",
       "Cyprus                113.0\n",
       "Name: wine_servings, dtype: float64"
      ]
     },
     "execution_count": 128,
     "metadata": {},
     "output_type": "execute_result"
    }
   ],
   "source": [
    "sorted_20"
   ]
  },
  {
   "cell_type": "code",
   "execution_count": 129,
   "id": "955d5e75",
   "metadata": {},
   "outputs": [
    {
     "data": {
      "text/plain": [
       "74.25"
      ]
     },
     "execution_count": 129,
     "metadata": {},
     "output_type": "execute_result"
    }
   ],
   "source": [
    "sorted_20.mean()"
   ]
  },
  {
   "cell_type": "code",
   "execution_count": 130,
   "id": "5f9ce066",
   "metadata": {},
   "outputs": [
    {
     "data": {
      "text/plain": [
       "73.5"
      ]
     },
     "execution_count": 130,
     "metadata": {},
     "output_type": "execute_result"
    }
   ],
   "source": [
    "sorted_20.median()"
   ]
  },
  {
   "cell_type": "code",
   "execution_count": 131,
   "id": "5b5379ae",
   "metadata": {},
   "outputs": [
    {
     "data": {
      "text/plain": [
       "19.07292100831631"
      ]
     },
     "execution_count": 131,
     "metadata": {},
     "output_type": "execute_result"
    }
   ],
   "source": [
    "sorted_20.std()"
   ]
  },
  {
   "cell_type": "code",
   "execution_count": 132,
   "id": "f8b71b9f",
   "metadata": {},
   "outputs": [
    {
     "data": {
      "text/plain": [
       "wine_servings\n",
       "51.0     2\n",
       "56.0     2\n",
       "59.0     2\n",
       "74.0     2\n",
       "54.0     1\n",
       "62.0     1\n",
       "71.0     1\n",
       "73.0     1\n",
       "78.0     1\n",
       "81.0     1\n",
       "84.0     1\n",
       "86.0     1\n",
       "94.0     1\n",
       "97.0     1\n",
       "112.0    1\n",
       "113.0    1\n",
       "Name: count, dtype: int64"
      ]
     },
     "execution_count": 132,
     "metadata": {},
     "output_type": "execute_result"
    }
   ],
   "source": [
    "sorted_20.value_counts()"
   ]
  },
  {
   "cell_type": "code",
   "execution_count": 133,
   "id": "5efadbe5",
   "metadata": {},
   "outputs": [
    {
     "data": {
      "text/plain": [
       "0    51.0\n",
       "1    56.0\n",
       "2    59.0\n",
       "3    74.0\n",
       "Name: wine_servings, dtype: float64"
      ]
     },
     "execution_count": 133,
     "metadata": {},
     "output_type": "execute_result"
    }
   ],
   "source": [
    "sorted_20.mode()"
   ]
  },
  {
   "cell_type": "code",
   "execution_count": 134,
   "id": "bcc8783a",
   "metadata": {},
   "outputs": [
    {
     "data": {
      "text/plain": [
       "count     20.000000\n",
       "mean      74.250000\n",
       "std       19.072921\n",
       "min       51.000000\n",
       "25%       58.250000\n",
       "50%       73.500000\n",
       "75%       84.500000\n",
       "max      113.000000\n",
       "Name: wine_servings, dtype: float64"
      ]
     },
     "execution_count": 134,
     "metadata": {},
     "output_type": "execute_result"
    }
   ],
   "source": [
    "sorted_20.describe()"
   ]
  },
  {
   "cell_type": "code",
   "execution_count": null,
   "id": "9f79a7e0",
   "metadata": {},
   "outputs": [],
   "source": []
  },
  {
   "cell_type": "markdown",
   "id": "9bd11435",
   "metadata": {},
   "source": [
    "# Series Arithmatics and fill_value()"
   ]
  },
  {
   "cell_type": "code",
   "execution_count": 135,
   "id": "ca42c73e",
   "metadata": {},
   "outputs": [
    {
     "data": {
      "text/plain": [
       "country\n",
       "Afghanistan      NaN\n",
       "Albania         56.0\n",
       "Algeria         16.0\n",
       "Andorra        314.0\n",
       "Angola          47.0\n",
       "               ...  \n",
       "Venezuela        5.0\n",
       "Vietnam          3.0\n",
       "Yemen            NaN\n",
       "Zambia           6.0\n",
       "Zimbabwe         6.0\n",
       "Name: wine_servings, Length: 193, dtype: float64"
      ]
     },
     "execution_count": 135,
     "metadata": {},
     "output_type": "execute_result"
    }
   ],
   "source": [
    "alcohol + 2"
   ]
  },
  {
   "cell_type": "code",
   "execution_count": 136,
   "id": "3eaea65e",
   "metadata": {},
   "outputs": [
    {
     "data": {
      "text/plain": [
       "country\n",
       "Afghanistan      NaN\n",
       "Albania         88.0\n",
       "Algeria          8.0\n",
       "Andorra        604.0\n",
       "Angola          70.0\n",
       "               ...  \n",
       "Venezuela      -14.0\n",
       "Vietnam        -18.0\n",
       "Yemen            NaN\n",
       "Zambia         -12.0\n",
       "Zimbabwe       -12.0\n",
       "Name: wine_servings, Length: 193, dtype: float64"
      ]
     },
     "execution_count": 136,
     "metadata": {},
     "output_type": "execute_result"
    }
   ],
   "source": [
    "(alcohol - 10) * 2"
   ]
  },
  {
   "cell_type": "code",
   "execution_count": 140,
   "id": "07b22025",
   "metadata": {},
   "outputs": [
    {
     "data": {
      "text/plain": [
       "country\n",
       "Afghanistan      NaN\n",
       "Albania         54.0\n",
       "Algeria         14.0\n",
       "Andorra        312.0\n",
       "Angola          45.0\n",
       "Name: wine_servings, dtype: float64"
      ]
     },
     "execution_count": 140,
     "metadata": {},
     "output_type": "execute_result"
    }
   ],
   "source": [
    "alcohol.head()"
   ]
  },
  {
   "cell_type": "code",
   "execution_count": 141,
   "id": "dbc4f2ff",
   "metadata": {},
   "outputs": [],
   "source": [
    "alcohol.sort_index(inplace=True)"
   ]
  },
  {
   "cell_type": "code",
   "execution_count": 142,
   "id": "57da41bb",
   "metadata": {},
   "outputs": [
    {
     "data": {
      "text/plain": [
       "country\n",
       "Afghanistan      NaN\n",
       "Albania         54.0\n",
       "Algeria         14.0\n",
       "Andorra        312.0\n",
       "Angola          45.0\n",
       "Name: wine_servings, dtype: float64"
      ]
     },
     "execution_count": 142,
     "metadata": {},
     "output_type": "execute_result"
    }
   ],
   "source": [
    "alcohol.head()"
   ]
  },
  {
   "cell_type": "code",
   "execution_count": 137,
   "id": "ebc873d2",
   "metadata": {},
   "outputs": [],
   "source": [
    "more_drinks = pd.Series({'Albania':6, 'Algeria': 10, 'Afghanistan': 100, 'Yemen':101, 'Alberia':19})"
   ]
  },
  {
   "cell_type": "code",
   "execution_count": 138,
   "id": "1b9d1c00",
   "metadata": {},
   "outputs": [
    {
     "data": {
      "text/plain": [
       "Afghanistan     NaN\n",
       "Albania        60.0\n",
       "Alberia         NaN\n",
       "Algeria        24.0\n",
       "Andorra         NaN\n",
       "               ... \n",
       "Venezuela       NaN\n",
       "Vietnam         NaN\n",
       "Yemen           NaN\n",
       "Zambia          NaN\n",
       "Zimbabwe        NaN\n",
       "Length: 194, dtype: float64"
      ]
     },
     "execution_count": 138,
     "metadata": {},
     "output_type": "execute_result"
    }
   ],
   "source": [
    "alcohol + more_drinks"
   ]
  },
  {
   "cell_type": "code",
   "execution_count": 139,
   "id": "82125577",
   "metadata": {},
   "outputs": [
    {
     "data": {
      "text/plain": [
       "Afghanistan    100.0\n",
       "Albania         60.0\n",
       "Alberia         19.0\n",
       "Algeria         24.0\n",
       "Andorra        312.0\n",
       "               ...  \n",
       "Venezuela        3.0\n",
       "Vietnam          1.0\n",
       "Yemen          101.0\n",
       "Zambia           4.0\n",
       "Zimbabwe         4.0\n",
       "Length: 194, dtype: float64"
      ]
     },
     "execution_count": 139,
     "metadata": {},
     "output_type": "execute_result"
    }
   ],
   "source": [
    "alcohol.add(more_drinks, fill_value=0)"
   ]
  },
  {
   "cell_type": "code",
   "execution_count": 140,
   "id": "932543e7",
   "metadata": {},
   "outputs": [
    {
     "data": {
      "text/plain": [
       "Afghanistan     NaN\n",
       "Albania        48.0\n",
       "Alberia         NaN\n",
       "Algeria         4.0\n",
       "Andorra         NaN\n",
       "               ... \n",
       "Venezuela       NaN\n",
       "Vietnam         NaN\n",
       "Yemen           NaN\n",
       "Zambia          NaN\n",
       "Zimbabwe        NaN\n",
       "Length: 194, dtype: float64"
      ]
     },
     "execution_count": 140,
     "metadata": {},
     "output_type": "execute_result"
    }
   ],
   "source": [
    "alcohol - more_drinks"
   ]
  },
  {
   "cell_type": "code",
   "execution_count": 141,
   "id": "0e461d68",
   "metadata": {},
   "outputs": [
    {
     "data": {
      "text/plain": [
       "Afghanistan   -100.0\n",
       "Albania         48.0\n",
       "Alberia        -19.0\n",
       "Algeria          4.0\n",
       "Andorra        312.0\n",
       "               ...  \n",
       "Venezuela        3.0\n",
       "Vietnam          1.0\n",
       "Yemen         -101.0\n",
       "Zambia           4.0\n",
       "Zimbabwe         4.0\n",
       "Length: 194, dtype: float64"
      ]
     },
     "execution_count": 141,
     "metadata": {},
     "output_type": "execute_result"
    }
   ],
   "source": [
    "alcohol.subtract(more_drinks, fill_value=0)"
   ]
  },
  {
   "cell_type": "code",
   "execution_count": 142,
   "id": "7c80b893",
   "metadata": {},
   "outputs": [
    {
     "data": {
      "text/plain": [
       "Afghanistan      0.010000\n",
       "Albania          9.000000\n",
       "Alberia          0.052632\n",
       "Algeria          1.400000\n",
       "Andorra        312.000000\n",
       "                  ...    \n",
       "Venezuela        3.000000\n",
       "Vietnam          1.000000\n",
       "Yemen            0.009901\n",
       "Zambia           4.000000\n",
       "Zimbabwe         4.000000\n",
       "Length: 194, dtype: float64"
      ]
     },
     "execution_count": 142,
     "metadata": {},
     "output_type": "execute_result"
    }
   ],
   "source": [
    "alcohol.divide(more_drinks, fill_value=1)  # if we put 0 here then we get lot of infinite values"
   ]
  },
  {
   "cell_type": "code",
   "execution_count": 143,
   "id": "ab321a36",
   "metadata": {},
   "outputs": [
    {
     "data": {
      "text/plain": [
       "Afghanistan    100.0\n",
       "Albania        324.0\n",
       "Alberia         19.0\n",
       "Algeria        140.0\n",
       "Andorra        312.0\n",
       "               ...  \n",
       "Venezuela        3.0\n",
       "Vietnam          1.0\n",
       "Yemen          101.0\n",
       "Zambia           4.0\n",
       "Zimbabwe         4.0\n",
       "Length: 194, dtype: float64"
      ]
     },
     "execution_count": 143,
     "metadata": {},
     "output_type": "execute_result"
    }
   ],
   "source": [
    "alcohol.multiply(more_drinks, fill_value=1)"
   ]
  },
  {
   "cell_type": "code",
   "execution_count": null,
   "id": "46101a36",
   "metadata": {},
   "outputs": [],
   "source": []
  },
  {
   "cell_type": "markdown",
   "id": "1dc5aa4d",
   "metadata": {},
   "source": [
    "# Calculating variance and standard deviation"
   ]
  },
  {
   "cell_type": "code",
   "execution_count": 144,
   "id": "0d7c4ea8",
   "metadata": {},
   "outputs": [
    {
     "data": {
      "text/plain": [
       "5796.5256115328575"
      ]
     },
     "execution_count": 144,
     "metadata": {},
     "output_type": "execute_result"
    }
   ],
   "source": [
    "alcohol.var()"
   ]
  },
  {
   "cell_type": "code",
   "execution_count": 145,
   "id": "257cdba8",
   "metadata": {},
   "outputs": [
    {
     "data": {
      "text/plain": [
       "country\n",
       "Afghanistan           NaN\n",
       "Albania          3.253086\n",
       "Algeria        -36.746914\n",
       "Andorra        261.253086\n",
       "Angola          -5.746914\n",
       "                  ...    \n",
       "Venezuela      -47.746914\n",
       "Vietnam        -49.746914\n",
       "Yemen                 NaN\n",
       "Zambia         -46.746914\n",
       "Zimbabwe       -46.746914\n",
       "Name: wine_servings, Length: 193, dtype: float64"
      ]
     },
     "execution_count": 145,
     "metadata": {},
     "output_type": "execute_result"
    }
   ],
   "source": [
    "alcohol.subtract(alcohol.mean())"
   ]
  },
  {
   "cell_type": "code",
   "execution_count": 146,
   "id": "9b8b22cc",
   "metadata": {},
   "outputs": [
    {
     "data": {
      "text/plain": [
       "country\n",
       "Afghanistan             NaN\n",
       "Albania           10.582571\n",
       "Algeria         1350.335658\n",
       "Andorra        68253.175164\n",
       "Angola            33.027016\n",
       "                   ...     \n",
       "Venezuela       2279.767756\n",
       "Vietnam         2474.755411\n",
       "Yemen                   NaN\n",
       "Zambia          2185.273929\n",
       "Zimbabwe        2185.273929\n",
       "Name: wine_servings, Length: 193, dtype: float64"
      ]
     },
     "execution_count": 146,
     "metadata": {},
     "output_type": "execute_result"
    }
   ],
   "source": [
    "alcohol.subtract(alcohol.mean())**2"
   ]
  },
  {
   "cell_type": "code",
   "execution_count": 147,
   "id": "b0d2892e",
   "metadata": {},
   "outputs": [
    {
     "data": {
      "text/plain": [
       "933240.6234567901"
      ]
     },
     "execution_count": 147,
     "metadata": {},
     "output_type": "execute_result"
    }
   ],
   "source": [
    "(alcohol.subtract(alcohol.mean())**2).sum()"
   ]
  },
  {
   "cell_type": "code",
   "execution_count": 148,
   "id": "8a6a377c",
   "metadata": {},
   "outputs": [
    {
     "data": {
      "text/plain": [
       "5796.5256115328575"
      ]
     },
     "execution_count": 148,
     "metadata": {},
     "output_type": "execute_result"
    }
   ],
   "source": [
    "((alcohol.subtract(alcohol.mean())**2).sum()) / (alcohol.count()-1)  # this is the step by step calculation of variance using the formula"
   ]
  },
  {
   "cell_type": "code",
   "execution_count": 149,
   "id": "e91a72b1",
   "metadata": {},
   "outputs": [
    {
     "data": {
      "text/plain": [
       "True"
      ]
     },
     "execution_count": 149,
     "metadata": {},
     "output_type": "execute_result"
    }
   ],
   "source": [
    "alcohol.var() == ((alcohol.subtract(alcohol.mean())**2).sum()) / (alcohol.count()-1) "
   ]
  },
  {
   "cell_type": "code",
   "execution_count": 150,
   "id": "7b91f9fc",
   "metadata": {},
   "outputs": [
    {
     "data": {
      "text/plain": [
       "76.13491716376171"
      ]
     },
     "execution_count": 150,
     "metadata": {},
     "output_type": "execute_result"
    }
   ],
   "source": [
    "alcohol.std()"
   ]
  },
  {
   "cell_type": "code",
   "execution_count": 151,
   "id": "67b92971",
   "metadata": {},
   "outputs": [
    {
     "data": {
      "text/plain": [
       "76.13491716376171"
      ]
     },
     "execution_count": 151,
     "metadata": {},
     "output_type": "execute_result"
    }
   ],
   "source": [
    "(((alcohol.subtract(alcohol.mean())**2).sum()) / (alcohol.count()-1)) ** 0.5  # this is how we calculate the standard deviation using the formula"
   ]
  },
  {
   "cell_type": "code",
   "execution_count": null,
   "id": "5611b481",
   "metadata": {},
   "outputs": [],
   "source": []
  },
  {
   "cell_type": "markdown",
   "id": "590bd190",
   "metadata": {},
   "source": [
    "# Cumulative operations"
   ]
  },
  {
   "cell_type": "code",
   "execution_count": 152,
   "id": "8fbdfc9b",
   "metadata": {},
   "outputs": [],
   "source": [
    "#sum"
   ]
  },
  {
   "cell_type": "code",
   "execution_count": 153,
   "id": "02b0d99a",
   "metadata": {},
   "outputs": [
    {
     "data": {
      "text/plain": [
       "8221.0"
      ]
     },
     "execution_count": 153,
     "metadata": {},
     "output_type": "execute_result"
    }
   ],
   "source": [
    "alcohol.sum()"
   ]
  },
  {
   "cell_type": "code",
   "execution_count": 154,
   "id": "e6d44366",
   "metadata": {},
   "outputs": [],
   "source": [
    "# cumsum"
   ]
  },
  {
   "cell_type": "code",
   "execution_count": 155,
   "id": "8f797f47",
   "metadata": {},
   "outputs": [
    {
     "data": {
      "text/plain": [
       "country\n",
       "Afghanistan       NaN\n",
       "Albania          54.0\n",
       "Algeria          68.0\n",
       "Andorra         380.0\n",
       "Angola          425.0\n",
       "                ...  \n",
       "Venezuela      8212.0\n",
       "Vietnam        8213.0\n",
       "Yemen             NaN\n",
       "Zambia         8217.0\n",
       "Zimbabwe       8221.0\n",
       "Name: wine_servings, Length: 193, dtype: float64"
      ]
     },
     "execution_count": 155,
     "metadata": {},
     "output_type": "execute_result"
    }
   ],
   "source": [
    "alcohol.cumsum(skipna=True)"
   ]
  },
  {
   "cell_type": "code",
   "execution_count": 156,
   "id": "58288faf",
   "metadata": {},
   "outputs": [
    {
     "data": {
      "text/plain": [
       "nan"
      ]
     },
     "execution_count": 156,
     "metadata": {},
     "output_type": "execute_result"
    }
   ],
   "source": [
    "np.NAN + 213132"
   ]
  },
  {
   "cell_type": "code",
   "execution_count": 157,
   "id": "35f30655",
   "metadata": {},
   "outputs": [
    {
     "data": {
      "text/plain": [
       "<NA>"
      ]
     },
     "execution_count": 157,
     "metadata": {},
     "output_type": "execute_result"
    }
   ],
   "source": [
    "pd.NA + 123"
   ]
  },
  {
   "cell_type": "code",
   "execution_count": 158,
   "id": "1fd54c64",
   "metadata": {},
   "outputs": [
    {
     "data": {
      "text/plain": [
       "3.427611505218281e+183"
      ]
     },
     "execution_count": 158,
     "metadata": {},
     "output_type": "execute_result"
    }
   ],
   "source": [
    "alcohol.prod()"
   ]
  },
  {
   "cell_type": "code",
   "execution_count": 159,
   "id": "1984ab71",
   "metadata": {},
   "outputs": [
    {
     "data": {
      "text/plain": [
       "country\n",
       "Afghanistan              NaN\n",
       "Albania         5.400000e+01\n",
       "Algeria         7.560000e+02\n",
       "Andorra         2.358720e+05\n",
       "Angola          1.061424e+07\n",
       "                   ...      \n",
       "Venezuela      2.142257e+182\n",
       "Vietnam        2.142257e+182\n",
       "Yemen                    NaN\n",
       "Zambia         8.569029e+182\n",
       "Zimbabwe       3.427612e+183\n",
       "Name: wine_servings, Length: 193, dtype: float64"
      ]
     },
     "execution_count": 159,
     "metadata": {},
     "output_type": "execute_result"
    }
   ],
   "source": [
    "alcohol.cumprod()"
   ]
  },
  {
   "cell_type": "code",
   "execution_count": 160,
   "id": "b0cda34b",
   "metadata": {},
   "outputs": [
    {
     "name": "stderr",
     "output_type": "stream",
     "text": [
      "C:\\Users\\hp\\AppData\\Local\\Temp\\ipykernel_55092\\446466433.py:1: FutureWarning: Series.__getitem__ treating keys as positions is deprecated. In a future version, integer keys will always be treated as labels (consistent with DataFrame behavior). To access a value by position, use `ser.iloc[pos]`\n",
      "  alcohol.cumprod()[-1] == alcohol.prod()\n"
     ]
    },
    {
     "data": {
      "text/plain": [
       "True"
      ]
     },
     "execution_count": 160,
     "metadata": {},
     "output_type": "execute_result"
    }
   ],
   "source": [
    "alcohol.cumprod()[-1] == alcohol.prod()"
   ]
  },
  {
   "cell_type": "code",
   "execution_count": 161,
   "id": "ca933a8a",
   "metadata": {},
   "outputs": [
    {
     "data": {
      "text/plain": [
       "country\n",
       "Afghanistan     NaN\n",
       "Albania        54.0\n",
       "Algeria        14.0\n",
       "Andorra        14.0\n",
       "Angola         14.0\n",
       "               ... \n",
       "Venezuela       1.0\n",
       "Vietnam         1.0\n",
       "Yemen           NaN\n",
       "Zambia          1.0\n",
       "Zimbabwe        1.0\n",
       "Name: wine_servings, Length: 193, dtype: float64"
      ]
     },
     "execution_count": 161,
     "metadata": {},
     "output_type": "execute_result"
    }
   ],
   "source": [
    "alcohol.cummin()"
   ]
  },
  {
   "cell_type": "code",
   "execution_count": 162,
   "id": "7ed1c570",
   "metadata": {},
   "outputs": [
    {
     "data": {
      "text/plain": [
       "1.0"
      ]
     },
     "execution_count": 162,
     "metadata": {},
     "output_type": "execute_result"
    }
   ],
   "source": [
    "alcohol.min()"
   ]
  },
  {
   "cell_type": "code",
   "execution_count": 163,
   "id": "4b72d90b",
   "metadata": {},
   "outputs": [
    {
     "data": {
      "text/plain": [
       "country\n",
       "Afghanistan      NaN\n",
       "Albania         54.0\n",
       "Algeria         54.0\n",
       "Andorra        312.0\n",
       "Angola         312.0\n",
       "               ...  \n",
       "Venezuela      339.0\n",
       "Vietnam        339.0\n",
       "Yemen            NaN\n",
       "Zambia         339.0\n",
       "Zimbabwe       339.0\n",
       "Name: wine_servings, Length: 193, dtype: float64"
      ]
     },
     "execution_count": 163,
     "metadata": {},
     "output_type": "execute_result"
    }
   ],
   "source": [
    "alcohol.cummax()"
   ]
  },
  {
   "cell_type": "code",
   "execution_count": 164,
   "id": "d93e3ce3",
   "metadata": {},
   "outputs": [
    {
     "data": {
      "text/plain": [
       "339.0"
      ]
     },
     "execution_count": 164,
     "metadata": {},
     "output_type": "execute_result"
    }
   ],
   "source": [
    "alcohol.max()"
   ]
  },
  {
   "cell_type": "code",
   "execution_count": null,
   "id": "f426ab21",
   "metadata": {},
   "outputs": [],
   "source": []
  },
  {
   "cell_type": "markdown",
   "id": "85fec390",
   "metadata": {},
   "source": [
    "# Pairwise differences with diff()"
   ]
  },
  {
   "cell_type": "code",
   "execution_count": 165,
   "id": "7460e908",
   "metadata": {},
   "outputs": [
    {
     "data": {
      "text/plain": [
       "country\n",
       "Afghanistan      NaN\n",
       "Albania         54.0\n",
       "Algeria         14.0\n",
       "Andorra        312.0\n",
       "Angola          45.0\n",
       "Name: wine_servings, dtype: float64"
      ]
     },
     "execution_count": 165,
     "metadata": {},
     "output_type": "execute_result"
    }
   ],
   "source": [
    "alcohol.head()"
   ]
  },
  {
   "cell_type": "code",
   "execution_count": 166,
   "id": "402b3770",
   "metadata": {},
   "outputs": [
    {
     "data": {
      "text/plain": [
       "country\n",
       "Afghanistan      NaN\n",
       "Albania          NaN\n",
       "Algeria        -40.0\n",
       "Andorra        298.0\n",
       "Angola        -267.0\n",
       "Name: wine_servings, dtype: float64"
      ]
     },
     "execution_count": 166,
     "metadata": {},
     "output_type": "execute_result"
    }
   ],
   "source": [
    "alcohol.diff().head()"
   ]
  },
  {
   "cell_type": "code",
   "execution_count": 167,
   "id": "a21d1c0e",
   "metadata": {},
   "outputs": [
    {
     "data": {
      "text/plain": [
       "country\n",
       "Afghanistan      NaN\n",
       "Albania          NaN\n",
       "Algeria          NaN\n",
       "Andorra        258.0\n",
       "Angola          31.0\n",
       "Name: wine_servings, dtype: float64"
      ]
     },
     "execution_count": 167,
     "metadata": {},
     "output_type": "execute_result"
    }
   ],
   "source": [
    "alcohol.diff(periods=2).head()"
   ]
  },
  {
   "cell_type": "code",
   "execution_count": null,
   "id": "2ea2098d",
   "metadata": {},
   "outputs": [],
   "source": []
  },
  {
   "cell_type": "markdown",
   "id": "7d705fdb",
   "metadata": {},
   "source": [
    "# Series iteration"
   ]
  },
  {
   "cell_type": "code",
   "execution_count": 168,
   "id": "fd7983fa",
   "metadata": {},
   "outputs": [],
   "source": [
    "mini_alc = alcohol[:10]"
   ]
  },
  {
   "cell_type": "code",
   "execution_count": 169,
   "id": "0e6ec909",
   "metadata": {},
   "outputs": [
    {
     "data": {
      "text/plain": [
       "country\n",
       "Afghanistan            NaN\n",
       "Albania               54.0\n",
       "Algeria               14.0\n",
       "Andorra              312.0\n",
       "Angola                45.0\n",
       "Antigua & Barbuda     45.0\n",
       "Argentina            221.0\n",
       "Armenia               11.0\n",
       "Australia            212.0\n",
       "Austria              191.0\n",
       "Name: wine_servings, dtype: float64"
      ]
     },
     "execution_count": 169,
     "metadata": {},
     "output_type": "execute_result"
    }
   ],
   "source": [
    "mini_alc"
   ]
  },
  {
   "cell_type": "code",
   "execution_count": 170,
   "id": "1f08eadc",
   "metadata": {},
   "outputs": [
    {
     "name": "stdout",
     "output_type": "stream",
     "text": [
      "nan\n",
      "54.0\n",
      "14.0\n",
      "312.0\n",
      "45.0\n",
      "45.0\n",
      "221.0\n",
      "11.0\n",
      "212.0\n",
      "191.0\n"
     ]
    }
   ],
   "source": [
    "for i in mini_alc:\n",
    "    print(i)"
   ]
  },
  {
   "cell_type": "code",
   "execution_count": 171,
   "id": "44ebc9dc",
   "metadata": {},
   "outputs": [
    {
     "name": "stdout",
     "output_type": "stream",
     "text": [
      "Afghanistan\n",
      "Albania\n",
      "Algeria\n",
      "Andorra\n",
      "Angola\n",
      "Antigua & Barbuda\n",
      "Argentina\n",
      "Armenia\n",
      "Australia\n",
      "Austria\n"
     ]
    }
   ],
   "source": [
    "for i in mini_alc.index:\n",
    "    print(i)"
   ]
  },
  {
   "cell_type": "code",
   "execution_count": 172,
   "id": "805522ee",
   "metadata": {},
   "outputs": [
    {
     "name": "stdout",
     "output_type": "stream",
     "text": [
      "Afghanistan nan\n",
      "Albania 54.0\n",
      "Algeria 14.0\n",
      "Andorra 312.0\n",
      "Angola 45.0\n",
      "Antigua & Barbuda 45.0\n",
      "Argentina 221.0\n",
      "Armenia 11.0\n",
      "Australia 212.0\n",
      "Austria 191.0\n"
     ]
    }
   ],
   "source": [
    "for i in mini_alc.index:\n",
    "    print(i, mini_alc[i])"
   ]
  },
  {
   "cell_type": "code",
   "execution_count": 173,
   "id": "437ee0a7",
   "metadata": {},
   "outputs": [
    {
     "name": "stdout",
     "output_type": "stream",
     "text": [
      "('Afghanistan', nan)\n",
      "('Albania', 54.0)\n",
      "('Algeria', 14.0)\n",
      "('Andorra', 312.0)\n",
      "('Angola', 45.0)\n",
      "('Antigua & Barbuda', 45.0)\n",
      "('Argentina', 221.0)\n",
      "('Armenia', 11.0)\n",
      "('Australia', 212.0)\n",
      "('Austria', 191.0)\n"
     ]
    }
   ],
   "source": [
    "for i in mini_alc.items():\n",
    "    print(i)"
   ]
  },
  {
   "cell_type": "code",
   "execution_count": null,
   "id": "8dd873e5",
   "metadata": {},
   "outputs": [],
   "source": []
  },
  {
   "cell_type": "markdown",
   "id": "930c5fbd",
   "metadata": {},
   "source": [
    "# Filtering: filter(), where() and mask()"
   ]
  },
  {
   "cell_type": "code",
   "execution_count": 174,
   "id": "bbcdcadb",
   "metadata": {},
   "outputs": [
    {
     "data": {
      "text/plain": [
       "country\n",
       "Vanuatu      11.0\n",
       "Venezuela     3.0\n",
       "Vietnam       1.0\n",
       "Name: wine_servings, dtype: float64"
      ]
     },
     "execution_count": 174,
     "metadata": {},
     "output_type": "execute_result"
    }
   ],
   "source": [
    "alcohol.filter(regex='^V')"
   ]
  },
  {
   "cell_type": "code",
   "execution_count": 175,
   "id": "18be749c",
   "metadata": {},
   "outputs": [
    {
     "data": {
      "text/plain": [
       "country\n",
       "Afghanistan      NaN\n",
       "Kazakhstan      12.0\n",
       "Kyrgyzstan       6.0\n",
       "Pakistan         NaN\n",
       "Tajikistan       NaN\n",
       "Turkmenistan    32.0\n",
       "Uzbekistan       8.0\n",
       "Name: wine_servings, dtype: float64"
      ]
     },
     "execution_count": 175,
     "metadata": {},
     "output_type": "execute_result"
    }
   ],
   "source": [
    "alcohol.filter(like='stan')"
   ]
  },
  {
   "cell_type": "code",
   "execution_count": 176,
   "id": "f88f28da",
   "metadata": {},
   "outputs": [
    {
     "data": {
      "text/plain": [
       "country\n",
       "Andorra              312.0\n",
       "Argentina            221.0\n",
       "Australia            212.0\n",
       "Belgium              212.0\n",
       "Croatia              254.0\n",
       "Denmark              278.0\n",
       "Equatorial Guinea    233.0\n",
       "Greece               218.0\n",
       "Italy                237.0\n",
       "Luxembourg           271.0\n",
       "Portugal             339.0\n",
       "Slovenia             276.0\n",
       "Name: wine_servings, dtype: float64"
      ]
     },
     "execution_count": 176,
     "metadata": {},
     "output_type": "execute_result"
    }
   ],
   "source": [
    "alcohol.loc[alcohol > 200]"
   ]
  },
  {
   "cell_type": "code",
   "execution_count": 177,
   "id": "15639917",
   "metadata": {},
   "outputs": [],
   "source": [
    "def gt200(x):\n",
    "    return x > 200"
   ]
  },
  {
   "cell_type": "code",
   "execution_count": 178,
   "id": "887e8fed",
   "metadata": {},
   "outputs": [
    {
     "data": {
      "text/plain": [
       "country\n",
       "Andorra              312.0\n",
       "Argentina            221.0\n",
       "Australia            212.0\n",
       "Belgium              212.0\n",
       "Croatia              254.0\n",
       "Denmark              278.0\n",
       "Equatorial Guinea    233.0\n",
       "Greece               218.0\n",
       "Italy                237.0\n",
       "Luxembourg           271.0\n",
       "Portugal             339.0\n",
       "Slovenia             276.0\n",
       "Name: wine_servings, dtype: float64"
      ]
     },
     "execution_count": 178,
     "metadata": {},
     "output_type": "execute_result"
    }
   ],
   "source": [
    "alcohol[gt200]"
   ]
  },
  {
   "cell_type": "code",
   "execution_count": 179,
   "id": "36c73afc",
   "metadata": {},
   "outputs": [],
   "source": [
    "# The where() method"
   ]
  },
  {
   "cell_type": "code",
   "execution_count": 180,
   "id": "57de8405",
   "metadata": {},
   "outputs": [
    {
     "data": {
      "text/plain": [
       "country\n",
       "Afghanistan    too small\n",
       "Albania        too small\n",
       "Algeria        too small\n",
       "Andorra            312.0\n",
       "Angola         too small\n",
       "                 ...    \n",
       "Venezuela      too small\n",
       "Vietnam        too small\n",
       "Yemen          too small\n",
       "Zambia         too small\n",
       "Zimbabwe       too small\n",
       "Name: wine_servings, Length: 193, dtype: object"
      ]
     },
     "execution_count": 180,
     "metadata": {},
     "output_type": "execute_result"
    }
   ],
   "source": [
    "alcohol.where(lambda x: x>200, other ='too small')"
   ]
  },
  {
   "cell_type": "code",
   "execution_count": 236,
   "id": "24987d7f",
   "metadata": {},
   "outputs": [
    {
     "data": {
      "text/plain": [
       "country\n",
       "Andorra              312.0\n",
       "Argentina            221.0\n",
       "Australia            212.0\n",
       "Belgium              212.0\n",
       "Croatia              254.0\n",
       "Denmark              278.0\n",
       "Equatorial Guinea    233.0\n",
       "Greece               218.0\n",
       "Italy                237.0\n",
       "Luxembourg           271.0\n",
       "Portugal             339.0\n",
       "Slovenia             276.0\n",
       "Name: wine_servings, dtype: float64"
      ]
     },
     "execution_count": 236,
     "metadata": {},
     "output_type": "execute_result"
    }
   ],
   "source": [
    "alcohol.where(lambda x: x>200).dropna()"
   ]
  },
  {
   "cell_type": "code",
   "execution_count": 237,
   "id": "47cf8576",
   "metadata": {},
   "outputs": [
    {
     "data": {
      "text/plain": [
       "country\n",
       "Albania              54.0\n",
       "Algeria              14.0\n",
       "Angola               45.0\n",
       "Antigua & Barbuda    45.0\n",
       "Armenia              11.0\n",
       "                     ... \n",
       "Vanuatu              11.0\n",
       "Venezuela             3.0\n",
       "Vietnam               1.0\n",
       "Zambia                4.0\n",
       "Zimbabwe              4.0\n",
       "Name: wine_servings, Length: 150, dtype: float64"
      ]
     },
     "execution_count": 237,
     "metadata": {},
     "output_type": "execute_result"
    }
   ],
   "source": [
    "alcohol.where(lambda x: x<=200).dropna()"
   ]
  },
  {
   "cell_type": "code",
   "execution_count": 238,
   "id": "c76024dd",
   "metadata": {},
   "outputs": [],
   "source": [
    "# the mask() method"
   ]
  },
  {
   "cell_type": "code",
   "execution_count": 239,
   "id": "f2a1a6b1",
   "metadata": {},
   "outputs": [
    {
     "data": {
      "text/plain": [
       "country\n",
       "Albania              54.0\n",
       "Algeria              14.0\n",
       "Angola               45.0\n",
       "Antigua & Barbuda    45.0\n",
       "Armenia              11.0\n",
       "                     ... \n",
       "Vanuatu              11.0\n",
       "Venezuela             3.0\n",
       "Vietnam               1.0\n",
       "Zambia                4.0\n",
       "Zimbabwe              4.0\n",
       "Name: wine_servings, Length: 150, dtype: float64"
      ]
     },
     "execution_count": 239,
     "metadata": {},
     "output_type": "execute_result"
    }
   ],
   "source": [
    "alcohol.mask(lambda x: x> 200).dropna() "
   ]
  },
  {
   "cell_type": "code",
   "execution_count": null,
   "id": "4a8b3297",
   "metadata": {},
   "outputs": [],
   "source": []
  },
  {
   "cell_type": "markdown",
   "id": "faafb76b",
   "metadata": {},
   "source": [
    "# Transforming with update(), apply() and map()"
   ]
  },
  {
   "cell_type": "code",
   "execution_count": 240,
   "id": "bc4de520",
   "metadata": {},
   "outputs": [],
   "source": [
    "# Spot Vs Global transforms"
   ]
  },
  {
   "cell_type": "code",
   "execution_count": 181,
   "id": "b9273b0e",
   "metadata": {},
   "outputs": [],
   "source": [
    "alcohol.loc['Algeria'] = 19"
   ]
  },
  {
   "cell_type": "code",
   "execution_count": 182,
   "id": "0cb9ba0b",
   "metadata": {},
   "outputs": [
    {
     "data": {
      "text/plain": [
       "country\n",
       "Afghanistan      NaN\n",
       "Albania         54.0\n",
       "Algeria         19.0\n",
       "Andorra        312.0\n",
       "Angola          45.0\n",
       "Name: wine_servings, dtype: float64"
      ]
     },
     "execution_count": 182,
     "metadata": {},
     "output_type": "execute_result"
    }
   ],
   "source": [
    "alcohol.head()"
   ]
  },
  {
   "cell_type": "code",
   "execution_count": 183,
   "id": "e7ee24de",
   "metadata": {},
   "outputs": [],
   "source": [
    "alcohol.loc['Albania'] = 100\n",
    "alcohol.loc['Afghanistan'] = 20\n",
    "alcohol.loc['Andorra'] = 19"
   ]
  },
  {
   "cell_type": "code",
   "execution_count": 184,
   "id": "da2e52ff",
   "metadata": {},
   "outputs": [
    {
     "data": {
      "text/plain": [
       "country\n",
       "Afghanistan           20.0\n",
       "Albania              100.0\n",
       "Algeria               19.0\n",
       "Andorra               19.0\n",
       "Angola                45.0\n",
       "Antigua & Barbuda     45.0\n",
       "Argentina            221.0\n",
       "Armenia               11.0\n",
       "Australia            212.0\n",
       "Austria              191.0\n",
       "Name: wine_servings, dtype: float64"
      ]
     },
     "execution_count": 184,
     "metadata": {},
     "output_type": "execute_result"
    }
   ],
   "source": [
    "alcohol.head(10)"
   ]
  },
  {
   "cell_type": "code",
   "execution_count": 185,
   "id": "084faae1",
   "metadata": {},
   "outputs": [],
   "source": [
    "# the update() method"
   ]
  },
  {
   "cell_type": "code",
   "execution_count": 186,
   "id": "149bed2e",
   "metadata": {},
   "outputs": [],
   "source": [
    "alcohol.update(pd.Series(data=[200,20], index=['Albania', 'Algeria']))"
   ]
  },
  {
   "cell_type": "code",
   "execution_count": 187,
   "id": "bde523cc",
   "metadata": {},
   "outputs": [
    {
     "data": {
      "text/plain": [
       "country\n",
       "Afghanistan           20.0\n",
       "Albania              200.0\n",
       "Algeria               20.0\n",
       "Andorra               19.0\n",
       "Angola                45.0\n",
       "Antigua & Barbuda     45.0\n",
       "Argentina            221.0\n",
       "Armenia               11.0\n",
       "Australia            212.0\n",
       "Austria              191.0\n",
       "Name: wine_servings, dtype: float64"
      ]
     },
     "execution_count": 187,
     "metadata": {},
     "output_type": "execute_result"
    }
   ],
   "source": [
    "alcohol.head(10)"
   ]
  },
  {
   "cell_type": "code",
   "execution_count": 188,
   "id": "44c02de7",
   "metadata": {},
   "outputs": [],
   "source": [
    "# the apply() method"
   ]
  },
  {
   "cell_type": "code",
   "execution_count": 189,
   "id": "507a6c8f",
   "metadata": {},
   "outputs": [
    {
     "data": {
      "text/plain": [
       "country\n",
       "Afghanistan      400.0\n",
       "Albania        40000.0\n",
       "Algeria          400.0\n",
       "Andorra          361.0\n",
       "Angola          2025.0\n",
       "                ...   \n",
       "Venezuela          9.0\n",
       "Vietnam            1.0\n",
       "Yemen              NaN\n",
       "Zambia            16.0\n",
       "Zimbabwe          16.0\n",
       "Name: wine_servings, Length: 193, dtype: float64"
      ]
     },
     "execution_count": 189,
     "metadata": {},
     "output_type": "execute_result"
    }
   ],
   "source": [
    "alcohol.apply(lambda x: x**2)"
   ]
  },
  {
   "cell_type": "code",
   "execution_count": 190,
   "id": "de4e04bc",
   "metadata": {},
   "outputs": [
    {
     "data": {
      "text/plain": [
       "country\n",
       "Afghanistan      400.0\n",
       "Albania        40000.0\n",
       "Algeria          400.0\n",
       "Andorra          361.0\n",
       "Angola          2025.0\n",
       "                ...   \n",
       "Venezuela          9.0\n",
       "Vietnam            1.0\n",
       "Yemen              NaN\n",
       "Zambia            16.0\n",
       "Zimbabwe          16.0\n",
       "Name: wine_servings, Length: 193, dtype: float64"
      ]
     },
     "execution_count": 190,
     "metadata": {},
     "output_type": "execute_result"
    }
   ],
   "source": [
    "alcohol.apply(np.square)  # using the np.square() ufunc numpy function"
   ]
  },
  {
   "cell_type": "code",
   "execution_count": 191,
   "id": "a7201ed3",
   "metadata": {},
   "outputs": [],
   "source": [
    "def multiply_by_self(x):  # all the above three methods including this are doing the same thing.\n",
    "    return x*x"
   ]
  },
  {
   "cell_type": "code",
   "execution_count": 192,
   "id": "6a8fed9a",
   "metadata": {},
   "outputs": [
    {
     "data": {
      "text/plain": [
       "country\n",
       "Afghanistan      400.0\n",
       "Albania        40000.0\n",
       "Algeria          400.0\n",
       "Andorra          361.0\n",
       "Angola          2025.0\n",
       "                ...   \n",
       "Venezuela          9.0\n",
       "Vietnam            1.0\n",
       "Yemen              NaN\n",
       "Zambia            16.0\n",
       "Zimbabwe          16.0\n",
       "Name: wine_servings, Length: 193, dtype: float64"
      ]
     },
     "execution_count": 192,
     "metadata": {},
     "output_type": "execute_result"
    }
   ],
   "source": [
    "alcohol.apply(multiply_by_self)"
   ]
  },
  {
   "cell_type": "code",
   "execution_count": 193,
   "id": "c787605e",
   "metadata": {},
   "outputs": [],
   "source": [
    "def multiply_by_self_with_min(x, min_servings):\n",
    "    if x < min_servings:\n",
    "        return x**2 \n",
    "    \n",
    "    return x"
   ]
  },
  {
   "cell_type": "code",
   "execution_count": 194,
   "id": "b3091009",
   "metadata": {},
   "outputs": [
    {
     "data": {
      "text/plain": [
       "country\n",
       "Afghanistan     400.0\n",
       "Albania         200.0\n",
       "Algeria         400.0\n",
       "Andorra         361.0\n",
       "Angola         2025.0\n",
       "                ...  \n",
       "Venezuela         9.0\n",
       "Vietnam           1.0\n",
       "Yemen             NaN\n",
       "Zambia           16.0\n",
       "Zimbabwe         16.0\n",
       "Name: wine_servings, Length: 193, dtype: float64"
      ]
     },
     "execution_count": 194,
     "metadata": {},
     "output_type": "execute_result"
    }
   ],
   "source": [
    "alcohol.apply(multiply_by_self_with_min, args=(200, ))"
   ]
  },
  {
   "cell_type": "code",
   "execution_count": 195,
   "id": "9db5ce59",
   "metadata": {},
   "outputs": [
    {
     "data": {
      "text/plain": [
       "country\n",
       "Afghanistan     400.0\n",
       "Albania         200.0\n",
       "Algeria         400.0\n",
       "Andorra         361.0\n",
       "Angola         2025.0\n",
       "                ...  \n",
       "Venezuela         9.0\n",
       "Vietnam           1.0\n",
       "Yemen             NaN\n",
       "Zambia           16.0\n",
       "Zimbabwe         16.0\n",
       "Name: wine_servings, Length: 193, dtype: float64"
      ]
     },
     "execution_count": 195,
     "metadata": {},
     "output_type": "execute_result"
    }
   ],
   "source": [
    "alcohol.apply(multiply_by_self_with_min, min_servings = 200)"
   ]
  },
  {
   "cell_type": "code",
   "execution_count": 196,
   "id": "9cd50bdc",
   "metadata": {},
   "outputs": [],
   "source": [
    "# the map() method"
   ]
  },
  {
   "cell_type": "code",
   "execution_count": 197,
   "id": "c607be63",
   "metadata": {},
   "outputs": [
    {
     "data": {
      "text/plain": [
       "country\n",
       "Afghanistan      400.0\n",
       "Albania        40000.0\n",
       "Algeria          400.0\n",
       "Andorra          361.0\n",
       "Angola          2025.0\n",
       "                ...   \n",
       "Venezuela          9.0\n",
       "Vietnam            1.0\n",
       "Yemen              NaN\n",
       "Zambia            16.0\n",
       "Zimbabwe          16.0\n",
       "Name: wine_servings, Length: 193, dtype: float64"
      ]
     },
     "execution_count": 197,
     "metadata": {},
     "output_type": "execute_result"
    }
   ],
   "source": [
    "alcohol.map(lambda x: x**2)"
   ]
  },
  {
   "cell_type": "code",
   "execution_count": 198,
   "id": "8cd53e2a",
   "metadata": {},
   "outputs": [
    {
     "data": {
      "text/plain": [
       "country\n",
       "Afghanistan      400.0\n",
       "Albania        40000.0\n",
       "Algeria          400.0\n",
       "Andorra          361.0\n",
       "Angola          2025.0\n",
       "                ...   \n",
       "Venezuela          9.0\n",
       "Vietnam            1.0\n",
       "Yemen              NaN\n",
       "Zambia            16.0\n",
       "Zimbabwe          16.0\n",
       "Name: wine_servings, Length: 193, dtype: float64"
      ]
     },
     "execution_count": 198,
     "metadata": {},
     "output_type": "execute_result"
    }
   ],
   "source": [
    "alcohol.map(np.square)"
   ]
  },
  {
   "cell_type": "code",
   "execution_count": 199,
   "id": "1a0dc0e1",
   "metadata": {},
   "outputs": [
    {
     "data": {
      "text/plain": [
       "country\n",
       "Afghanistan      400.0\n",
       "Albania        40000.0\n",
       "Algeria          400.0\n",
       "Andorra          361.0\n",
       "Angola          2025.0\n",
       "                ...   \n",
       "Venezuela          9.0\n",
       "Vietnam            1.0\n",
       "Yemen              NaN\n",
       "Zambia            16.0\n",
       "Zimbabwe          16.0\n",
       "Name: wine_servings, Length: 193, dtype: float64"
      ]
     },
     "execution_count": 199,
     "metadata": {},
     "output_type": "execute_result"
    }
   ],
   "source": [
    "alcohol.map(multiply_by_self)"
   ]
  },
  {
   "cell_type": "code",
   "execution_count": null,
   "id": "319db063",
   "metadata": {},
   "outputs": [],
   "source": []
  },
  {
   "cell_type": "markdown",
   "id": "54e8bc39",
   "metadata": {},
   "source": [
    "# Skill challenge"
   ]
  },
  {
   "cell_type": "code",
   "execution_count": 200,
   "id": "c17de30c",
   "metadata": {},
   "outputs": [],
   "source": [
    "beers = pd.read_csv(\"D:/Numpy & Pandas/pandas/all_notebooks/2. Series_At_Glance/drinks.csv\", \n",
    "                    usecols=['beer_servings', 'country'], index_col='country').squeeze()"
   ]
  },
  {
   "cell_type": "code",
   "execution_count": 201,
   "id": "6121ca0d",
   "metadata": {},
   "outputs": [
    {
     "data": {
      "text/plain": [
       "country\n",
       "Afghanistan      NaN\n",
       "Albania         89.0\n",
       "Algeria         25.0\n",
       "Andorra        245.0\n",
       "Angola         217.0\n",
       "Name: beer_servings, dtype: float64"
      ]
     },
     "execution_count": 201,
     "metadata": {},
     "output_type": "execute_result"
    }
   ],
   "source": [
    "beers.head()"
   ]
  },
  {
   "cell_type": "code",
   "execution_count": 202,
   "id": "758dfb38",
   "metadata": {},
   "outputs": [
    {
     "data": {
      "text/plain": [
       "102.87078651685393"
      ]
     },
     "execution_count": 202,
     "metadata": {},
     "output_type": "execute_result"
    }
   ],
   "source": [
    "beers.mean()"
   ]
  },
  {
   "cell_type": "code",
   "execution_count": 203,
   "id": "9071003b",
   "metadata": {},
   "outputs": [
    {
     "data": {
      "text/plain": [
       "60.0"
      ]
     },
     "execution_count": 203,
     "metadata": {},
     "output_type": "execute_result"
    }
   ],
   "source": [
    "beers.median()   # the distribution is right skewed as the mean > median"
   ]
  },
  {
   "cell_type": "code",
   "execution_count": 204,
   "id": "730d5602",
   "metadata": {},
   "outputs": [
    {
     "data": {
      "text/plain": [
       "100.6457126793478"
      ]
     },
     "execution_count": 204,
     "metadata": {},
     "output_type": "execute_result"
    }
   ],
   "source": [
    "beers.std()"
   ]
  },
  {
   "cell_type": "code",
   "execution_count": 205,
   "id": "853cb3b9",
   "metadata": {},
   "outputs": [
    {
     "data": {
      "text/plain": [
       "100.6457126793478"
      ]
     },
     "execution_count": 205,
     "metadata": {},
     "output_type": "execute_result"
    }
   ],
   "source": [
    "beers.var()**0.5"
   ]
  },
  {
   "cell_type": "code",
   "execution_count": 206,
   "id": "73e51fe3",
   "metadata": {},
   "outputs": [
    {
     "data": {
      "text/plain": [
       "60.0"
      ]
     },
     "execution_count": 206,
     "metadata": {},
     "output_type": "execute_result"
    }
   ],
   "source": [
    "beers.quantile(q=.5)"
   ]
  },
  {
   "cell_type": "code",
   "execution_count": 207,
   "id": "28e4564b",
   "metadata": {},
   "outputs": [],
   "source": [
    "# If the distribution of the data is skewed to left, this means that the mean < median < mode and if the distribution of\n",
    "# the data is skewed to right, this means that mode < median < mean."
   ]
  },
  {
   "cell_type": "code",
   "execution_count": 208,
   "id": "9ca13c8b",
   "metadata": {},
   "outputs": [
    {
     "data": {
      "text/plain": [
       "<Axes: >"
      ]
     },
     "execution_count": 208,
     "metadata": {},
     "output_type": "execute_result"
    },
    {
     "data": {
      "image/png": "[encoded data removed]",
      "text/plain": [
       "<Figure size 640x480 with 1 Axes>"
      ]
     },
     "metadata": {},
     "output_type": "display_data"
    }
   ],
   "source": [
    "beers.hist()"
   ]
  },
  {
   "cell_type": "code",
   "execution_count": 209,
   "id": "539a8d83",
   "metadata": {},
   "outputs": [
    {
     "data": {
      "text/plain": [
       "count    178.000000\n",
       "mean     102.870787\n",
       "std      100.645713\n",
       "min        1.000000\n",
       "25%       21.000000\n",
       "50%       60.000000\n",
       "75%      172.500000\n",
       "max      376.000000\n",
       "Name: beer_servings, dtype: float64"
      ]
     },
     "execution_count": 209,
     "metadata": {},
     "output_type": "execute_result"
    }
   ],
   "source": [
    "beers.describe()"
   ]
  },
  {
   "cell_type": "code",
   "execution_count": 210,
   "id": "6a48238a",
   "metadata": {},
   "outputs": [],
   "source": [
    "# Z-scores"
   ]
  },
  {
   "cell_type": "code",
   "execution_count": 211,
   "id": "30d33de4",
   "metadata": {},
   "outputs": [
    {
     "data": {
      "text/plain": [
       "country\n",
       "Afghanistan            NaN\n",
       "Albania               89.0\n",
       "Algeria               25.0\n",
       "Andorra              245.0\n",
       "Angola               217.0\n",
       "Antigua & Barbuda     12.0\n",
       "Argentina            193.0\n",
       "Armenia               21.0\n",
       "Australia            261.0\n",
       "Austria              279.0\n",
       "Name: beer_servings, dtype: float64"
      ]
     },
     "execution_count": 211,
     "metadata": {},
     "output_type": "execute_result"
    }
   ],
   "source": [
    "beers[:10]"
   ]
  },
  {
   "cell_type": "code",
   "execution_count": 212,
   "id": "615b9cbe",
   "metadata": {},
   "outputs": [
    {
     "data": {
      "text/plain": [
       "102.87078651685393"
      ]
     },
     "execution_count": 212,
     "metadata": {},
     "output_type": "execute_result"
    }
   ],
   "source": [
    "beers.mean()"
   ]
  },
  {
   "cell_type": "code",
   "execution_count": 213,
   "id": "c730d79c",
   "metadata": {},
   "outputs": [
    {
     "data": {
      "text/plain": [
       "country\n",
       "Afghanistan                 NaN\n",
       "Albania              -13.870787\n",
       "Algeria              -77.870787\n",
       "Andorra              142.129213\n",
       "Angola               114.129213\n",
       "Antigua & Barbuda    -90.870787\n",
       "Argentina             90.129213\n",
       "Armenia              -81.870787\n",
       "Australia            158.129213\n",
       "Austria              176.129213\n",
       "Name: beer_servings, dtype: float64"
      ]
     },
     "execution_count": 213,
     "metadata": {},
     "output_type": "execute_result"
    }
   ],
   "source": [
    "beers[:10] - beers.mean()  # the more significant the difference, the further from the mean that \n",
    "                           # observation is where +ve differences indicate differences above the mean"
   ]
  },
  {
   "cell_type": "code",
   "execution_count": 214,
   "id": "ec276f23",
   "metadata": {},
   "outputs": [
    {
     "data": {
      "text/plain": [
       "country\n",
       "Afghanistan          high\n",
       "Albania               low\n",
       "Algeria               low\n",
       "Andorra              high\n",
       "Angola               high\n",
       "Antigua & Barbuda     low\n",
       "Argentina            high\n",
       "Armenia               low\n",
       "Australia            high\n",
       "Austria              high\n",
       "Name: beer_servings, dtype: object"
      ]
     },
     "execution_count": 214,
     "metadata": {},
     "output_type": "execute_result"
    }
   ],
   "source": [
    "(beers[:10] - beers.mean()).apply(lambda x : 'low' if x < 0 else 'high')"
   ]
  },
  {
   "cell_type": "code",
   "execution_count": 215,
   "id": "be4e4d04",
   "metadata": {},
   "outputs": [
    {
     "data": {
      "text/plain": [
       "beer_servings\n",
       "high    6\n",
       "low     4\n",
       "Name: count, dtype: int64"
      ]
     },
     "execution_count": 215,
     "metadata": {},
     "output_type": "execute_result"
    }
   ],
   "source": [
    "(beers[:10] - beers.mean()).apply(lambda x : 'low' if x < 0 else 'high').value_counts()"
   ]
  },
  {
   "cell_type": "code",
   "execution_count": 216,
   "id": "92ce459a",
   "metadata": {},
   "outputs": [
    {
     "data": {
      "text/plain": [
       "beer_servings\n",
       "low     112\n",
       "high     81\n",
       "Name: count, dtype: int64"
      ]
     },
     "execution_count": 216,
     "metadata": {},
     "output_type": "execute_result"
    }
   ],
   "source": [
    "(beers - beers.mean()).apply(lambda x : 'low' if x < 0 else 'high').value_counts()"
   ]
  },
  {
   "cell_type": "code",
   "execution_count": null,
   "id": "a79d6f17",
   "metadata": {},
   "outputs": [],
   "source": []
  },
  {
   "cell_type": "code",
   "execution_count": 217,
   "id": "b213485a",
   "metadata": {},
   "outputs": [],
   "source": [
    "z_score = (beers - beers.mean()) / beers.std()"
   ]
  },
  {
   "cell_type": "code",
   "execution_count": 218,
   "id": "6254198d",
   "metadata": {},
   "outputs": [
    {
     "data": {
      "text/plain": [
       "country\n",
       "Afghanistan         NaN\n",
       "Albania       -0.137818\n",
       "Algeria       -0.773712\n",
       "Andorra        1.412174\n",
       "Angola         1.133970\n",
       "                 ...   \n",
       "Venezuela      2.286528\n",
       "Vietnam        0.080771\n",
       "Yemen         -0.962493\n",
       "Zambia        -0.704161\n",
       "Zimbabwe      -0.386214\n",
       "Name: beer_servings, Length: 193, dtype: float64"
      ]
     },
     "execution_count": 218,
     "metadata": {},
     "output_type": "execute_result"
    }
   ],
   "source": [
    "z_score"
   ]
  },
  {
   "cell_type": "code",
   "execution_count": 219,
   "id": "8d8d8810",
   "metadata": {},
   "outputs": [
    {
     "data": {
      "text/plain": [
       "-1.0121721413152407"
      ]
     },
     "execution_count": 219,
     "metadata": {},
     "output_type": "execute_result"
    }
   ],
   "source": [
    "z_score.min()"
   ]
  },
  {
   "cell_type": "code",
   "execution_count": 220,
   "id": "a486f2e9",
   "metadata": {},
   "outputs": [
    {
     "data": {
      "text/plain": [
       "2.713768984410912"
      ]
     },
     "execution_count": 220,
     "metadata": {},
     "output_type": "execute_result"
    }
   ],
   "source": [
    "z_score.max()"
   ]
  },
  {
   "cell_type": "code",
   "execution_count": 221,
   "id": "7fd4329e",
   "metadata": {},
   "outputs": [
    {
     "data": {
      "text/plain": [
       "2.713768984410912"
      ]
     },
     "execution_count": 221,
     "metadata": {},
     "output_type": "execute_result"
    }
   ],
   "source": [
    "z_score.abs().max()"
   ]
  },
  {
   "cell_type": "code",
   "execution_count": 222,
   "id": "f924b406",
   "metadata": {},
   "outputs": [
    {
     "data": {
      "text/plain": [
       "'Namibia'"
      ]
     },
     "execution_count": 222,
     "metadata": {},
     "output_type": "execute_result"
    }
   ],
   "source": [
    "beers.idxmax()"
   ]
  },
  {
   "cell_type": "code",
   "execution_count": 223,
   "id": "fe6346fd",
   "metadata": {},
   "outputs": [
    {
     "data": {
      "text/plain": [
       "376.0"
      ]
     },
     "execution_count": 223,
     "metadata": {},
     "output_type": "execute_result"
    }
   ],
   "source": [
    "beers[beers.idxmax()]"
   ]
  },
  {
   "cell_type": "code",
   "execution_count": 224,
   "id": "8e989110",
   "metadata": {},
   "outputs": [
    {
     "data": {
      "text/plain": [
       "'Comoros'"
      ]
     },
     "execution_count": 224,
     "metadata": {},
     "output_type": "execute_result"
    }
   ],
   "source": [
    "beers.idxmin()"
   ]
  },
  {
   "cell_type": "code",
   "execution_count": 225,
   "id": "5c7c0c99",
   "metadata": {},
   "outputs": [
    {
     "data": {
      "text/plain": [
       "1.0"
      ]
     },
     "execution_count": 225,
     "metadata": {},
     "output_type": "execute_result"
    }
   ],
   "source": [
    "beers[beers.idxmin()]"
   ]
  },
  {
   "cell_type": "code",
   "execution_count": null,
   "id": "b0a024eb",
   "metadata": {},
   "outputs": [],
   "source": []
  }
 ],
 "metadata": {
  "kernelspec": {
   "display_name": "Python 3 (ipykernel)",
   "language": "python",
   "name": "python3"
  },
  "language_info": {
   "codemirror_mode": {
    "name": "ipython",
    "version": 3
   },
   "file_extension": ".py",
   "mimetype": "text/x-python",
   "name": "python",
   "nbconvert_exporter": "python",
   "pygments_lexer": "ipython3",
   "version": "3.11.5"
  }
 },
 "nbformat": 4,
 "nbformat_minor": 5
}
