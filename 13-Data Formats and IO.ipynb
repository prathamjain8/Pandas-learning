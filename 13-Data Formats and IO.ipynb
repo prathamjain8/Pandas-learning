{
 "cells": [
  {
   "cell_type": "code",
   "execution_count": 1,
   "id": "57e70d95",
   "metadata": {},
   "outputs": [
    {
     "name": "stderr",
     "output_type": "stream",
     "text": [
      "C:\\Users\\hp\\AppData\\Roaming\\Python\\Python311\\site-packages\\pandas\\core\\arrays\\masked.py:60: UserWarning: Pandas requires version '1.3.6' or newer of 'bottleneck' (version '1.3.5' currently installed).\n",
      "  from pandas.core import (\n"
     ]
    }
   ],
   "source": [
    "import numpy as np\n",
    "import pandas as pd"
   ]
  },
  {
   "cell_type": "code",
   "execution_count": 2,
   "id": "9ff30428",
   "metadata": {},
   "outputs": [
    {
     "data": {
      "text/plain": [
       "'2.2.2'"
      ]
     },
     "execution_count": 2,
     "metadata": {},
     "output_type": "execute_result"
    }
   ],
   "source": [
    "pd.__version__"
   ]
  },
  {
   "cell_type": "code",
   "execution_count": null,
   "id": "d534fc76",
   "metadata": {},
   "outputs": [],
   "source": []
  },
  {
   "cell_type": "markdown",
   "id": "b032d47d",
   "metadata": {},
   "source": [
    "# Reading JSON"
   ]
  },
  {
   "cell_type": "code",
   "execution_count": 7,
   "id": "36df30f7",
   "metadata": {},
   "outputs": [],
   "source": [
    "folks = pd.read_json('https://andybek.com/pandas-folks-json')"
   ]
  },
  {
   "cell_type": "code",
   "execution_count": 8,
   "id": "064800d8",
   "metadata": {},
   "outputs": [
    {
     "data": {
      "text/plain": [
       "pandas.core.frame.DataFrame"
      ]
     },
     "execution_count": 8,
     "metadata": {},
     "output_type": "execute_result"
    }
   ],
   "source": [
    "type(folks)"
   ]
  },
  {
   "cell_type": "code",
   "execution_count": 9,
   "id": "ab16feed",
   "metadata": {},
   "outputs": [
    {
     "name": "stdout",
     "output_type": "stream",
     "text": [
      "<class 'pandas.core.frame.DataFrame'>\n",
      "RangeIndex: 4 entries, 0 to 3\n",
      "Data columns (total 3 columns):\n",
      " #   Column      Non-Null Count  Dtype \n",
      "---  ------      --------------  ----- \n",
      " 0   name        4 non-null      object\n",
      " 1   salary      4 non-null      int64 \n",
      " 2   occupation  4 non-null      object\n",
      "dtypes: int64(1), object(2)\n",
      "memory usage: 228.0+ bytes\n"
     ]
    }
   ],
   "source": [
    "folks.info()"
   ]
  },
  {
   "cell_type": "code",
   "execution_count": 10,
   "id": "89e6e8d1",
   "metadata": {},
   "outputs": [
    {
     "data": {
      "text/plain": [
       "name                Mark Prescott\n",
       "salary                      76400\n",
       "occupation    Business Consultant\n",
       "Name: 2, dtype: object"
      ]
     },
     "execution_count": 10,
     "metadata": {},
     "output_type": "execute_result"
    }
   ],
   "source": [
    "folks.iloc[2]"
   ]
  },
  {
   "cell_type": "code",
   "execution_count": null,
   "id": "55b4448e",
   "metadata": {},
   "outputs": [],
   "source": []
  },
  {
   "cell_type": "markdown",
   "id": "def966b6",
   "metadata": {},
   "source": [
    "# Reading HTML"
   ]
  },
  {
   "cell_type": "code",
   "execution_count": 11,
   "id": "dd4debd9",
   "metadata": {},
   "outputs": [],
   "source": [
    "# put together a dataframe of european countries and their populations"
   ]
  },
  {
   "cell_type": "code",
   "execution_count": 12,
   "id": "9c53f610",
   "metadata": {},
   "outputs": [],
   "source": [
    "countries = pd.read_html(\"https://en.wikipedia.org/wiki/List_of_European_countries_by_population\")"
   ]
  },
  {
   "cell_type": "code",
   "execution_count": 13,
   "id": "027cff47",
   "metadata": {},
   "outputs": [
    {
     "data": {
      "text/plain": [
       "list"
      ]
     },
     "execution_count": 13,
     "metadata": {},
     "output_type": "execute_result"
    }
   ],
   "source": [
    "type(countries)"
   ]
  },
  {
   "cell_type": "code",
   "execution_count": 14,
   "id": "4d0f69fa",
   "metadata": {},
   "outputs": [
    {
     "data": {
      "text/plain": [
       "2"
      ]
     },
     "execution_count": 14,
     "metadata": {},
     "output_type": "execute_result"
    }
   ],
   "source": [
    "len(countries)"
   ]
  },
  {
   "cell_type": "code",
   "execution_count": 16,
   "id": "8fc32789",
   "metadata": {},
   "outputs": [
    {
     "data": {
      "text/html": [
       "<div>\n",
       "<style scoped>\n",
       "    .dataframe tbody tr th:only-of-type {\n",
       "        vertical-align: middle;\n",
       "    }\n",
       "\n",
       "    .dataframe tbody tr th {\n",
       "        vertical-align: top;\n",
       "    }\n",
       "\n",
       "    .dataframe thead th {\n",
       "        text-align: right;\n",
       "    }\n",
       "</style>\n",
       "<table border=\"1\" class=\"dataframe\">\n",
       "  <thead>\n",
       "    <tr style=\"text-align: right;\">\n",
       "      <th></th>\n",
       "      <th>Unnamed: 0</th>\n",
       "      <th>Country / territory</th>\n",
       "      <th>UN estimate (2023)</th>\n",
       "      <th>% change</th>\n",
       "      <th>Official figure</th>\n",
       "      <th>Official date</th>\n",
       "      <th>Unnamed: 6</th>\n",
       "    </tr>\n",
       "  </thead>\n",
       "  <tbody>\n",
       "    <tr>\n",
       "      <th>0</th>\n",
       "      <td>1 T</td>\n",
       "      <td>Russia</td>\n",
       "      <td>144444359</td>\n",
       "      <td>−0.2%</td>\n",
       "      <td>146150789</td>\n",
       "      <td>1 Jan 2024[4]</td>\n",
       "      <td>[a]</td>\n",
       "    </tr>\n",
       "    <tr>\n",
       "      <th>1</th>\n",
       "      <td>2 T</td>\n",
       "      <td>Turkey</td>\n",
       "      <td>85816199</td>\n",
       "      <td>0.1%</td>\n",
       "      <td>85372377</td>\n",
       "      <td>31 Dec 2023[5]</td>\n",
       "      <td>NaN</td>\n",
       "    </tr>\n",
       "    <tr>\n",
       "      <th>2</th>\n",
       "      <td>3</td>\n",
       "      <td>Germany</td>\n",
       "      <td>83294633</td>\n",
       "      <td>−0.1%</td>\n",
       "      <td>84607016</td>\n",
       "      <td>30 Sep 2023[6]</td>\n",
       "      <td>NaN</td>\n",
       "    </tr>\n",
       "    <tr>\n",
       "      <th>3</th>\n",
       "      <td>4 T</td>\n",
       "      <td>United Kingdom</td>\n",
       "      <td>67736802</td>\n",
       "      <td>0.3%</td>\n",
       "      <td>67596281</td>\n",
       "      <td>30 Jun 2022[7]</td>\n",
       "      <td>[b]</td>\n",
       "    </tr>\n",
       "    <tr>\n",
       "      <th>4</th>\n",
       "      <td>5 T</td>\n",
       "      <td>France</td>\n",
       "      <td>64756584</td>\n",
       "      <td>0.2%</td>\n",
       "      <td>68410000</td>\n",
       "      <td>1 Apr 2024[8]</td>\n",
       "      <td>[c]</td>\n",
       "    </tr>\n",
       "  </tbody>\n",
       "</table>\n",
       "</div>"
      ],
      "text/plain": [
       "  Unnamed: 0 Country / territory  UN estimate (2023) % change  \\\n",
       "0        1 T              Russia           144444359    −0.2%   \n",
       "1        2 T              Turkey            85816199     0.1%   \n",
       "2          3             Germany            83294633    −0.1%   \n",
       "3        4 T      United Kingdom            67736802     0.3%   \n",
       "4        5 T              France            64756584     0.2%   \n",
       "\n",
       "   Official figure   Official date Unnamed: 6  \n",
       "0        146150789   1 Jan 2024[4]        [a]  \n",
       "1         85372377  31 Dec 2023[5]        NaN  \n",
       "2         84607016  30 Sep 2023[6]        NaN  \n",
       "3         67596281  30 Jun 2022[7]        [b]  \n",
       "4         68410000   1 Apr 2024[8]        [c]  "
      ]
     },
     "execution_count": 16,
     "metadata": {},
     "output_type": "execute_result"
    }
   ],
   "source": [
    "countries[0].head()"
   ]
  },
  {
   "cell_type": "code",
   "execution_count": 22,
   "id": "646e7b70",
   "metadata": {},
   "outputs": [],
   "source": [
    "countries = countries[0].loc[:,['Country / territory', 'Official figure', 'UN estimate (2023)']]"
   ]
  },
  {
   "cell_type": "code",
   "execution_count": 23,
   "id": "dc17d087",
   "metadata": {},
   "outputs": [
    {
     "data": {
      "text/html": [
       "<div>\n",
       "<style scoped>\n",
       "    .dataframe tbody tr th:only-of-type {\n",
       "        vertical-align: middle;\n",
       "    }\n",
       "\n",
       "    .dataframe tbody tr th {\n",
       "        vertical-align: top;\n",
       "    }\n",
       "\n",
       "    .dataframe thead th {\n",
       "        text-align: right;\n",
       "    }\n",
       "</style>\n",
       "<table border=\"1\" class=\"dataframe\">\n",
       "  <thead>\n",
       "    <tr style=\"text-align: right;\">\n",
       "      <th></th>\n",
       "      <th>Country / territory</th>\n",
       "      <th>Official figure</th>\n",
       "      <th>UN estimate (2023)</th>\n",
       "    </tr>\n",
       "  </thead>\n",
       "  <tbody>\n",
       "    <tr>\n",
       "      <th>0</th>\n",
       "      <td>Russia</td>\n",
       "      <td>146150789</td>\n",
       "      <td>144444359</td>\n",
       "    </tr>\n",
       "    <tr>\n",
       "      <th>1</th>\n",
       "      <td>Turkey</td>\n",
       "      <td>85372377</td>\n",
       "      <td>85816199</td>\n",
       "    </tr>\n",
       "    <tr>\n",
       "      <th>2</th>\n",
       "      <td>Germany</td>\n",
       "      <td>84607016</td>\n",
       "      <td>83294633</td>\n",
       "    </tr>\n",
       "    <tr>\n",
       "      <th>3</th>\n",
       "      <td>United Kingdom</td>\n",
       "      <td>67596281</td>\n",
       "      <td>67736802</td>\n",
       "    </tr>\n",
       "    <tr>\n",
       "      <th>4</th>\n",
       "      <td>France</td>\n",
       "      <td>68410000</td>\n",
       "      <td>64756584</td>\n",
       "    </tr>\n",
       "  </tbody>\n",
       "</table>\n",
       "</div>"
      ],
      "text/plain": [
       "  Country / territory  Official figure  UN estimate (2023)\n",
       "0              Russia        146150789           144444359\n",
       "1              Turkey         85372377            85816199\n",
       "2             Germany         84607016            83294633\n",
       "3      United Kingdom         67596281            67736802\n",
       "4              France         68410000            64756584"
      ]
     },
     "execution_count": 23,
     "metadata": {},
     "output_type": "execute_result"
    }
   ],
   "source": [
    "countries.head()"
   ]
  },
  {
   "cell_type": "code",
   "execution_count": 24,
   "id": "1a24d4e8",
   "metadata": {},
   "outputs": [
    {
     "name": "stdout",
     "output_type": "stream",
     "text": [
      "<class 'pandas.core.frame.DataFrame'>\n",
      "RangeIndex: 56 entries, 0 to 55\n",
      "Data columns (total 3 columns):\n",
      " #   Column               Non-Null Count  Dtype \n",
      "---  ------               --------------  ----- \n",
      " 0   Country / territory  56 non-null     object\n",
      " 1   Official figure      56 non-null     int64 \n",
      " 2   UN estimate (2023)   56 non-null     int64 \n",
      "dtypes: int64(2), object(1)\n",
      "memory usage: 1.4+ KB\n"
     ]
    }
   ],
   "source": [
    "countries.info()"
   ]
  },
  {
   "cell_type": "code",
   "execution_count": 28,
   "id": "a67f607c",
   "metadata": {},
   "outputs": [],
   "source": [
    "countries.rename({'Country / territory': 'Country', 'Official figure':'Official population', 'UN estimate (2023)': 'Estimated population'}, axis=1, inplace=True)"
   ]
  },
  {
   "cell_type": "code",
   "execution_count": 31,
   "id": "da5eaf8c",
   "metadata": {},
   "outputs": [
    {
     "data": {
      "text/html": [
       "<div>\n",
       "<style scoped>\n",
       "    .dataframe tbody tr th:only-of-type {\n",
       "        vertical-align: middle;\n",
       "    }\n",
       "\n",
       "    .dataframe tbody tr th {\n",
       "        vertical-align: top;\n",
       "    }\n",
       "\n",
       "    .dataframe thead th {\n",
       "        text-align: right;\n",
       "    }\n",
       "</style>\n",
       "<table border=\"1\" class=\"dataframe\">\n",
       "  <thead>\n",
       "    <tr style=\"text-align: right;\">\n",
       "      <th></th>\n",
       "      <th>Country</th>\n",
       "      <th>Official population</th>\n",
       "      <th>Estimated population</th>\n",
       "    </tr>\n",
       "  </thead>\n",
       "  <tbody>\n",
       "    <tr>\n",
       "      <th>0</th>\n",
       "      <td>Russia</td>\n",
       "      <td>146150789</td>\n",
       "      <td>144444359</td>\n",
       "    </tr>\n",
       "    <tr>\n",
       "      <th>1</th>\n",
       "      <td>Turkey</td>\n",
       "      <td>85372377</td>\n",
       "      <td>85816199</td>\n",
       "    </tr>\n",
       "    <tr>\n",
       "      <th>2</th>\n",
       "      <td>Germany</td>\n",
       "      <td>84607016</td>\n",
       "      <td>83294633</td>\n",
       "    </tr>\n",
       "    <tr>\n",
       "      <th>3</th>\n",
       "      <td>United Kingdom</td>\n",
       "      <td>67596281</td>\n",
       "      <td>67736802</td>\n",
       "    </tr>\n",
       "    <tr>\n",
       "      <th>4</th>\n",
       "      <td>France</td>\n",
       "      <td>68410000</td>\n",
       "      <td>64756584</td>\n",
       "    </tr>\n",
       "  </tbody>\n",
       "</table>\n",
       "</div>"
      ],
      "text/plain": [
       "          Country  Official population  Estimated population\n",
       "0          Russia            146150789             144444359\n",
       "1          Turkey             85372377              85816199\n",
       "2         Germany             84607016              83294633\n",
       "3  United Kingdom             67596281              67736802\n",
       "4          France             68410000              64756584"
      ]
     },
     "execution_count": 31,
     "metadata": {},
     "output_type": "execute_result"
    }
   ],
   "source": [
    "countries.head()"
   ]
  },
  {
   "cell_type": "code",
   "execution_count": 37,
   "id": "7965abf5",
   "metadata": {},
   "outputs": [
    {
     "data": {
      "text/plain": [
       "<Axes: xlabel='Country'>"
      ]
     },
     "execution_count": 37,
     "metadata": {},
     "output_type": "execute_result"
    },
    {
     "data": {
      "image/png": "[encoded data removed]",
      "text/plain": [
       "<Figure size 1000x600 with 1 Axes>"
      ]
     },
     "metadata": {},
     "output_type": "display_data"
    }
   ],
   "source": [
    "import matplotlib.pyplot as plt\n",
    "plt.style.use('ggplot')\n",
    "\n",
    "countries.set_index('Country').iloc[:10].plot(kind = 'bar', figsize=(10,6))"
   ]
  },
  {
   "cell_type": "code",
   "execution_count": null,
   "id": "eb3d62a9",
   "metadata": {},
   "outputs": [],
   "source": []
  },
  {
   "cell_type": "markdown",
   "id": "fda79dde",
   "metadata": {},
   "source": [
    "# Reading Excel"
   ]
  },
  {
   "cell_type": "code",
   "execution_count": 38,
   "id": "8363b25e",
   "metadata": {},
   "outputs": [
    {
     "data": {
      "text/html": [
       "<div>\n",
       "<style scoped>\n",
       "    .dataframe tbody tr th:only-of-type {\n",
       "        vertical-align: middle;\n",
       "    }\n",
       "\n",
       "    .dataframe tbody tr th {\n",
       "        vertical-align: top;\n",
       "    }\n",
       "\n",
       "    .dataframe thead th {\n",
       "        text-align: right;\n",
       "    }\n",
       "</style>\n",
       "<table border=\"1\" class=\"dataframe\">\n",
       "  <thead>\n",
       "    <tr style=\"text-align: right;\">\n",
       "      <th></th>\n",
       "      <th>name</th>\n",
       "      <th>salary</th>\n",
       "      <th>occupation</th>\n",
       "    </tr>\n",
       "  </thead>\n",
       "  <tbody>\n",
       "    <tr>\n",
       "      <th>0</th>\n",
       "      <td>Brian Dogood</td>\n",
       "      <td>64000</td>\n",
       "      <td>Software Technician</td>\n",
       "    </tr>\n",
       "    <tr>\n",
       "      <th>1</th>\n",
       "      <td>Leah Bokeh</td>\n",
       "      <td>73200</td>\n",
       "      <td>Data Scientist</td>\n",
       "    </tr>\n",
       "    <tr>\n",
       "      <th>2</th>\n",
       "      <td>Mark Prescott</td>\n",
       "      <td>76400</td>\n",
       "      <td>Business Consultant</td>\n",
       "    </tr>\n",
       "    <tr>\n",
       "      <th>3</th>\n",
       "      <td>Jurgen Gupta</td>\n",
       "      <td>94300</td>\n",
       "      <td>Aerospace Engineer</td>\n",
       "    </tr>\n",
       "  </tbody>\n",
       "</table>\n",
       "</div>"
      ],
      "text/plain": [
       "            name  salary           occupation\n",
       "0   Brian Dogood   64000  Software Technician\n",
       "1     Leah Bokeh   73200       Data Scientist\n",
       "2  Mark Prescott   76400  Business Consultant\n",
       "3   Jurgen Gupta   94300   Aerospace Engineer"
      ]
     },
     "execution_count": 38,
     "metadata": {},
     "output_type": "execute_result"
    }
   ],
   "source": [
    "pd.read_excel(\"D:/STUDIES/Numpy & Pandas/pandas/all_notebooks/13. Data_Formats_And_I_O.ipynb/folks.xlsx\")"
   ]
  },
  {
   "cell_type": "code",
   "execution_count": 39,
   "id": "b92a0504",
   "metadata": {},
   "outputs": [
    {
     "data": {
      "text/html": [
       "<div>\n",
       "<style scoped>\n",
       "    .dataframe tbody tr th:only-of-type {\n",
       "        vertical-align: middle;\n",
       "    }\n",
       "\n",
       "    .dataframe tbody tr th {\n",
       "        vertical-align: top;\n",
       "    }\n",
       "\n",
       "    .dataframe thead th {\n",
       "        text-align: right;\n",
       "    }\n",
       "</style>\n",
       "<table border=\"1\" class=\"dataframe\">\n",
       "  <thead>\n",
       "    <tr style=\"text-align: right;\">\n",
       "      <th></th>\n",
       "      <th>name</th>\n",
       "      <th>hobby</th>\n",
       "    </tr>\n",
       "  </thead>\n",
       "  <tbody>\n",
       "    <tr>\n",
       "      <th>0</th>\n",
       "      <td>Brian Dogood</td>\n",
       "      <td>Fishing</td>\n",
       "    </tr>\n",
       "    <tr>\n",
       "      <th>1</th>\n",
       "      <td>Leah Bokeh</td>\n",
       "      <td>Skateboarding</td>\n",
       "    </tr>\n",
       "    <tr>\n",
       "      <th>2</th>\n",
       "      <td>Mark Prescott</td>\n",
       "      <td>Value Investing</td>\n",
       "    </tr>\n",
       "    <tr>\n",
       "      <th>3</th>\n",
       "      <td>Jurgen Gupta</td>\n",
       "      <td>Drawing</td>\n",
       "    </tr>\n",
       "  </tbody>\n",
       "</table>\n",
       "</div>"
      ],
      "text/plain": [
       "            name            hobby\n",
       "0   Brian Dogood          Fishing\n",
       "1     Leah Bokeh    Skateboarding\n",
       "2  Mark Prescott  Value Investing\n",
       "3   Jurgen Gupta          Drawing"
      ]
     },
     "execution_count": 39,
     "metadata": {},
     "output_type": "execute_result"
    }
   ],
   "source": [
    "pd.read_excel(\"D:/STUDIES/Numpy & Pandas/pandas/all_notebooks/13. Data_Formats_And_I_O.ipynb/folks.xlsx\", sheet_name='hobbies')"
   ]
  },
  {
   "cell_type": "code",
   "execution_count": 40,
   "id": "37d76b09",
   "metadata": {},
   "outputs": [
    {
     "data": {
      "text/html": [
       "<div>\n",
       "<style scoped>\n",
       "    .dataframe tbody tr th:only-of-type {\n",
       "        vertical-align: middle;\n",
       "    }\n",
       "\n",
       "    .dataframe tbody tr th {\n",
       "        vertical-align: top;\n",
       "    }\n",
       "\n",
       "    .dataframe thead th {\n",
       "        text-align: right;\n",
       "    }\n",
       "</style>\n",
       "<table border=\"1\" class=\"dataframe\">\n",
       "  <thead>\n",
       "    <tr style=\"text-align: right;\">\n",
       "      <th></th>\n",
       "      <th>name</th>\n",
       "      <th>hobby</th>\n",
       "    </tr>\n",
       "  </thead>\n",
       "  <tbody>\n",
       "    <tr>\n",
       "      <th>0</th>\n",
       "      <td>Brian Dogood</td>\n",
       "      <td>Fishing</td>\n",
       "    </tr>\n",
       "    <tr>\n",
       "      <th>1</th>\n",
       "      <td>Leah Bokeh</td>\n",
       "      <td>Skateboarding</td>\n",
       "    </tr>\n",
       "    <tr>\n",
       "      <th>2</th>\n",
       "      <td>Mark Prescott</td>\n",
       "      <td>Value Investing</td>\n",
       "    </tr>\n",
       "    <tr>\n",
       "      <th>3</th>\n",
       "      <td>Jurgen Gupta</td>\n",
       "      <td>Drawing</td>\n",
       "    </tr>\n",
       "  </tbody>\n",
       "</table>\n",
       "</div>"
      ],
      "text/plain": [
       "            name            hobby\n",
       "0   Brian Dogood          Fishing\n",
       "1     Leah Bokeh    Skateboarding\n",
       "2  Mark Prescott  Value Investing\n",
       "3   Jurgen Gupta          Drawing"
      ]
     },
     "execution_count": 40,
     "metadata": {},
     "output_type": "execute_result"
    }
   ],
   "source": [
    "pd.read_excel(\"D:/STUDIES/Numpy & Pandas/pandas/all_notebooks/13. Data_Formats_And_I_O.ipynb/folks.xlsx\", 1)"
   ]
  },
  {
   "cell_type": "code",
   "execution_count": 43,
   "id": "facfc3b1",
   "metadata": {},
   "outputs": [
    {
     "name": "stdout",
     "output_type": "stream",
     "text": [
      "Collecting xlrd\n",
      "  Obtaining dependency information for xlrd from https://files.pythonhosted.org/packages/a6/0c/c2a72d51fe56e08a08acc85d13013558a2d793028ae7385448a6ccdfae64/xlrd-2.0.1-py2.py3-none-any.whl.metadata\n",
      "  Downloading xlrd-2.0.1-py2.py3-none-any.whl.metadata (3.4 kB)\n",
      "Downloading xlrd-2.0.1-py2.py3-none-any.whl (96 kB)\n",
      "   ---------------------------------------- 0.0/96.5 kB ? eta -:--:--\n",
      "   ---------------------------------------- 0.0/96.5 kB ? eta -:--:--\n",
      "   ---- ----------------------------------- 10.2/96.5 kB ? eta -:--:--\n",
      "   ---- ----------------------------------- 10.2/96.5 kB ? eta -:--:--\n",
      "   ---- ----------------------------------- 10.2/96.5 kB ? eta -:--:--\n",
      "   ------------ --------------------------- 30.7/96.5 kB 130.4 kB/s eta 0:00:01\n",
      "   ---------------- ----------------------- 41.0/96.5 kB 140.3 kB/s eta 0:00:01\n",
      "   ---------------- ----------------------- 41.0/96.5 kB 140.3 kB/s eta 0:00:01\n",
      "   ------------------------- -------------- 61.4/96.5 kB 181.6 kB/s eta 0:00:01\n",
      "   --------------------------------- ------ 81.9/96.5 kB 218.5 kB/s eta 0:00:01\n",
      "   --------------------------------- ------ 81.9/96.5 kB 218.5 kB/s eta 0:00:01\n",
      "   ---------------------------------------- 96.5/96.5 kB 197.0 kB/s eta 0:00:00\n",
      "Installing collected packages: xlrd\n",
      "Successfully installed xlrd-2.0.1\n"
     ]
    }
   ],
   "source": [
    "!pip install xlrd"
   ]
  },
  {
   "cell_type": "code",
   "execution_count": 42,
   "id": "9992446c",
   "metadata": {},
   "outputs": [
    {
     "name": "stdout",
     "output_type": "stream",
     "text": [
      "Name: openpyxl\n",
      "Version: 3.1.4\n",
      "Summary: A Python library to read/write Excel 2010 xlsx/xlsm files\n",
      "Home-page: https://openpyxl.readthedocs.io\n",
      "Author: See AUTHORS\n",
      "Author-email: charlie.clark@clark-consulting.eu\n",
      "License: MIT\n",
      "Location: C:\\Users\\hp\\anaconda3\\Lib\\site-packages\n",
      "Requires: et-xmlfile\n",
      "Required-by: \n"
     ]
    }
   ],
   "source": [
    "!pip show openpyxl"
   ]
  },
  {
   "cell_type": "code",
   "execution_count": null,
   "id": "4b697cee",
   "metadata": {},
   "outputs": [],
   "source": []
  },
  {
   "cell_type": "markdown",
   "id": "16503d03",
   "metadata": {},
   "source": [
    "# Creating output: The to_* Family of methods"
   ]
  },
  {
   "cell_type": "code",
   "execution_count": 87,
   "id": "57f37b46",
   "metadata": {},
   "outputs": [],
   "source": [
    "hobbies = pd.read_excel(\"D:/STUDIES/Numpy & Pandas/pandas/all_notebooks/13. Data_Formats_And_I_O.ipynb/folks.xlsx\", 1)"
   ]
  },
  {
   "cell_type": "code",
   "execution_count": 88,
   "id": "f944ca85",
   "metadata": {},
   "outputs": [
    {
     "data": {
      "text/html": [
       "<div>\n",
       "<style scoped>\n",
       "    .dataframe tbody tr th:only-of-type {\n",
       "        vertical-align: middle;\n",
       "    }\n",
       "\n",
       "    .dataframe tbody tr th {\n",
       "        vertical-align: top;\n",
       "    }\n",
       "\n",
       "    .dataframe thead th {\n",
       "        text-align: right;\n",
       "    }\n",
       "</style>\n",
       "<table border=\"1\" class=\"dataframe\">\n",
       "  <thead>\n",
       "    <tr style=\"text-align: right;\">\n",
       "      <th></th>\n",
       "      <th>name</th>\n",
       "      <th>hobby</th>\n",
       "    </tr>\n",
       "  </thead>\n",
       "  <tbody>\n",
       "    <tr>\n",
       "      <th>0</th>\n",
       "      <td>Brian Dogood</td>\n",
       "      <td>Fishing</td>\n",
       "    </tr>\n",
       "    <tr>\n",
       "      <th>1</th>\n",
       "      <td>Leah Bokeh</td>\n",
       "      <td>Skateboarding</td>\n",
       "    </tr>\n",
       "    <tr>\n",
       "      <th>2</th>\n",
       "      <td>Mark Prescott</td>\n",
       "      <td>Value Investing</td>\n",
       "    </tr>\n",
       "    <tr>\n",
       "      <th>3</th>\n",
       "      <td>Jurgen Gupta</td>\n",
       "      <td>Drawing</td>\n",
       "    </tr>\n",
       "  </tbody>\n",
       "</table>\n",
       "</div>"
      ],
      "text/plain": [
       "            name            hobby\n",
       "0   Brian Dogood          Fishing\n",
       "1     Leah Bokeh    Skateboarding\n",
       "2  Mark Prescott  Value Investing\n",
       "3   Jurgen Gupta          Drawing"
      ]
     },
     "execution_count": 88,
     "metadata": {},
     "output_type": "execute_result"
    }
   ],
   "source": [
    "hobbies"
   ]
  },
  {
   "cell_type": "code",
   "execution_count": 89,
   "id": "38cf712b",
   "metadata": {},
   "outputs": [],
   "source": [
    "# add a new person to the hobbies dataframe, save the resulting dataframe to csv"
   ]
  },
  {
   "cell_type": "code",
   "execution_count": 91,
   "id": "cd950ded",
   "metadata": {},
   "outputs": [],
   "source": [
    "hobbies.loc[4] = ['Zoltan Zachary', 'Archery']"
   ]
  },
  {
   "cell_type": "code",
   "execution_count": 92,
   "id": "b222d94d",
   "metadata": {},
   "outputs": [
    {
     "data": {
      "text/html": [
       "<div>\n",
       "<style scoped>\n",
       "    .dataframe tbody tr th:only-of-type {\n",
       "        vertical-align: middle;\n",
       "    }\n",
       "\n",
       "    .dataframe tbody tr th {\n",
       "        vertical-align: top;\n",
       "    }\n",
       "\n",
       "    .dataframe thead th {\n",
       "        text-align: right;\n",
       "    }\n",
       "</style>\n",
       "<table border=\"1\" class=\"dataframe\">\n",
       "  <thead>\n",
       "    <tr style=\"text-align: right;\">\n",
       "      <th></th>\n",
       "      <th>name</th>\n",
       "      <th>hobby</th>\n",
       "    </tr>\n",
       "  </thead>\n",
       "  <tbody>\n",
       "    <tr>\n",
       "      <th>0</th>\n",
       "      <td>Brian Dogood</td>\n",
       "      <td>Fishing</td>\n",
       "    </tr>\n",
       "    <tr>\n",
       "      <th>1</th>\n",
       "      <td>Leah Bokeh</td>\n",
       "      <td>Skateboarding</td>\n",
       "    </tr>\n",
       "    <tr>\n",
       "      <th>2</th>\n",
       "      <td>Mark Prescott</td>\n",
       "      <td>Value Investing</td>\n",
       "    </tr>\n",
       "    <tr>\n",
       "      <th>3</th>\n",
       "      <td>Jurgen Gupta</td>\n",
       "      <td>Drawing</td>\n",
       "    </tr>\n",
       "    <tr>\n",
       "      <th>4</th>\n",
       "      <td>Zoltan Zachary</td>\n",
       "      <td>Archery</td>\n",
       "    </tr>\n",
       "  </tbody>\n",
       "</table>\n",
       "</div>"
      ],
      "text/plain": [
       "             name            hobby\n",
       "0    Brian Dogood          Fishing\n",
       "1      Leah Bokeh    Skateboarding\n",
       "2   Mark Prescott  Value Investing\n",
       "3    Jurgen Gupta          Drawing\n",
       "4  Zoltan Zachary          Archery"
      ]
     },
     "execution_count": 92,
     "metadata": {},
     "output_type": "execute_result"
    }
   ],
   "source": [
    "hobbies"
   ]
  },
  {
   "cell_type": "code",
   "execution_count": 94,
   "id": "8a9dff25",
   "metadata": {},
   "outputs": [
    {
     "data": {
      "text/plain": [
       "array([25.38725626, 31.90894302, 22.54633066, 44.04056429, 37.66310127])"
      ]
     },
     "execution_count": 94,
     "metadata": {},
     "output_type": "execute_result"
    }
   ],
   "source": [
    "np.random.uniform(22, 54, 5)"
   ]
  },
  {
   "cell_type": "code",
   "execution_count": 95,
   "id": "31a616ff",
   "metadata": {},
   "outputs": [],
   "source": [
    "hobbies['age'] = np.random.uniform(22, 54, 5)"
   ]
  },
  {
   "cell_type": "code",
   "execution_count": 96,
   "id": "ddcf4b58",
   "metadata": {},
   "outputs": [
    {
     "data": {
      "text/html": [
       "<div>\n",
       "<style scoped>\n",
       "    .dataframe tbody tr th:only-of-type {\n",
       "        vertical-align: middle;\n",
       "    }\n",
       "\n",
       "    .dataframe tbody tr th {\n",
       "        vertical-align: top;\n",
       "    }\n",
       "\n",
       "    .dataframe thead th {\n",
       "        text-align: right;\n",
       "    }\n",
       "</style>\n",
       "<table border=\"1\" class=\"dataframe\">\n",
       "  <thead>\n",
       "    <tr style=\"text-align: right;\">\n",
       "      <th></th>\n",
       "      <th>name</th>\n",
       "      <th>hobby</th>\n",
       "      <th>age</th>\n",
       "    </tr>\n",
       "  </thead>\n",
       "  <tbody>\n",
       "    <tr>\n",
       "      <th>0</th>\n",
       "      <td>Brian Dogood</td>\n",
       "      <td>Fishing</td>\n",
       "      <td>52.562121</td>\n",
       "    </tr>\n",
       "    <tr>\n",
       "      <th>1</th>\n",
       "      <td>Leah Bokeh</td>\n",
       "      <td>Skateboarding</td>\n",
       "      <td>46.985834</td>\n",
       "    </tr>\n",
       "    <tr>\n",
       "      <th>2</th>\n",
       "      <td>Mark Prescott</td>\n",
       "      <td>Value Investing</td>\n",
       "      <td>27.151417</td>\n",
       "    </tr>\n",
       "    <tr>\n",
       "      <th>3</th>\n",
       "      <td>Jurgen Gupta</td>\n",
       "      <td>Drawing</td>\n",
       "      <td>46.997684</td>\n",
       "    </tr>\n",
       "    <tr>\n",
       "      <th>4</th>\n",
       "      <td>Zoltan Zachary</td>\n",
       "      <td>Archery</td>\n",
       "      <td>43.021076</td>\n",
       "    </tr>\n",
       "  </tbody>\n",
       "</table>\n",
       "</div>"
      ],
      "text/plain": [
       "             name            hobby        age\n",
       "0    Brian Dogood          Fishing  52.562121\n",
       "1      Leah Bokeh    Skateboarding  46.985834\n",
       "2   Mark Prescott  Value Investing  27.151417\n",
       "3    Jurgen Gupta          Drawing  46.997684\n",
       "4  Zoltan Zachary          Archery  43.021076"
      ]
     },
     "execution_count": 96,
     "metadata": {},
     "output_type": "execute_result"
    }
   ],
   "source": [
    "hobbies"
   ]
  },
  {
   "cell_type": "code",
   "execution_count": 98,
   "id": "2be71dd8",
   "metadata": {},
   "outputs": [
    {
     "data": {
      "text/plain": [
       "',name,hobby,age\\r\\n0,Brian Dogood,Fishing,52.56212148660441\\r\\n1,Leah Bokeh,Skateboarding,46.98583365290461\\r\\n2,Mark Prescott,Value Investing,27.151416986862795\\r\\n3,Jurgen Gupta,Drawing,46.99768401028147\\r\\n4,Zoltan Zachary,Archery,43.021076160031285\\r\\n'"
      ]
     },
     "execution_count": 98,
     "metadata": {},
     "output_type": "execute_result"
    }
   ],
   "source": [
    "hobbies.to_csv()"
   ]
  },
  {
   "cell_type": "code",
   "execution_count": 101,
   "id": "8a14827d",
   "metadata": {},
   "outputs": [],
   "source": [
    "hobbies.to_csv('hobbies.csv', index=False)"
   ]
  },
  {
   "cell_type": "code",
   "execution_count": 102,
   "id": "d34abc1d",
   "metadata": {},
   "outputs": [
    {
     "data": {
      "text/html": [
       "<div>\n",
       "<style scoped>\n",
       "    .dataframe tbody tr th:only-of-type {\n",
       "        vertical-align: middle;\n",
       "    }\n",
       "\n",
       "    .dataframe tbody tr th {\n",
       "        vertical-align: top;\n",
       "    }\n",
       "\n",
       "    .dataframe thead th {\n",
       "        text-align: right;\n",
       "    }\n",
       "</style>\n",
       "<table border=\"1\" class=\"dataframe\">\n",
       "  <thead>\n",
       "    <tr style=\"text-align: right;\">\n",
       "      <th></th>\n",
       "      <th>name</th>\n",
       "      <th>hobby</th>\n",
       "      <th>age</th>\n",
       "    </tr>\n",
       "  </thead>\n",
       "  <tbody>\n",
       "    <tr>\n",
       "      <th>0</th>\n",
       "      <td>Brian Dogood</td>\n",
       "      <td>Fishing</td>\n",
       "      <td>52.562121</td>\n",
       "    </tr>\n",
       "    <tr>\n",
       "      <th>1</th>\n",
       "      <td>Leah Bokeh</td>\n",
       "      <td>Skateboarding</td>\n",
       "      <td>46.985834</td>\n",
       "    </tr>\n",
       "    <tr>\n",
       "      <th>2</th>\n",
       "      <td>Mark Prescott</td>\n",
       "      <td>Value Investing</td>\n",
       "      <td>27.151417</td>\n",
       "    </tr>\n",
       "    <tr>\n",
       "      <th>3</th>\n",
       "      <td>Jurgen Gupta</td>\n",
       "      <td>Drawing</td>\n",
       "      <td>46.997684</td>\n",
       "    </tr>\n",
       "    <tr>\n",
       "      <th>4</th>\n",
       "      <td>Zoltan Zachary</td>\n",
       "      <td>Archery</td>\n",
       "      <td>43.021076</td>\n",
       "    </tr>\n",
       "  </tbody>\n",
       "</table>\n",
       "</div>"
      ],
      "text/plain": [
       "             name            hobby        age\n",
       "0    Brian Dogood          Fishing  52.562121\n",
       "1      Leah Bokeh    Skateboarding  46.985834\n",
       "2   Mark Prescott  Value Investing  27.151417\n",
       "3    Jurgen Gupta          Drawing  46.997684\n",
       "4  Zoltan Zachary          Archery  43.021076"
      ]
     },
     "execution_count": 102,
     "metadata": {},
     "output_type": "execute_result"
    }
   ],
   "source": [
    "pd.read_csv('hobbies.csv')"
   ]
  },
  {
   "cell_type": "code",
   "execution_count": 103,
   "id": "749c50a4",
   "metadata": {},
   "outputs": [
    {
     "data": {
      "text/plain": [
       "'{\"name\":{\"0\":\"Brian Dogood\",\"1\":\"Leah Bokeh\",\"2\":\"Mark Prescott\",\"3\":\"Jurgen Gupta\",\"4\":\"Zoltan Zachary\"},\"hobby\":{\"0\":\"Fishing\",\"1\":\"Skateboarding\",\"2\":\"Value Investing\",\"3\":\"Drawing\",\"4\":\"Archery\"},\"age\":{\"0\":52.5621214866,\"1\":46.9858336529,\"2\":27.1514169869,\"3\":46.9976840103,\"4\":43.02107616}}'"
      ]
     },
     "execution_count": 103,
     "metadata": {},
     "output_type": "execute_result"
    }
   ],
   "source": [
    "# how about json\n",
    "\n",
    "hobbies.to_json()"
   ]
  },
  {
   "cell_type": "code",
   "execution_count": 104,
   "id": "8b19552c",
   "metadata": {},
   "outputs": [],
   "source": [
    "hobbies.to_json('hobbies.json')"
   ]
  },
  {
   "cell_type": "code",
   "execution_count": null,
   "id": "40e5cf6c",
   "metadata": {},
   "outputs": [],
   "source": [
    "# HTML"
   ]
  },
  {
   "cell_type": "code",
   "execution_count": 105,
   "id": "c2c08967",
   "metadata": {},
   "outputs": [
    {
     "data": {
      "text/plain": [
       "'<table border=\"1\" class=\"dataframe\">\\n  <thead>\\n    <tr style=\"text-align: right;\">\\n      <th></th>\\n      <th>name</th>\\n      <th>hobby</th>\\n      <th>age</th>\\n    </tr>\\n  </thead>\\n  <tbody>\\n    <tr>\\n      <th>0</th>\\n      <td>Brian Dogood</td>\\n      <td>Fishing</td>\\n      <td>52.562121</td>\\n    </tr>\\n    <tr>\\n      <th>1</th>\\n      <td>Leah Bokeh</td>\\n      <td>Skateboarding</td>\\n      <td>46.985834</td>\\n    </tr>\\n    <tr>\\n      <th>2</th>\\n      <td>Mark Prescott</td>\\n      <td>Value Investing</td>\\n      <td>27.151417</td>\\n    </tr>\\n    <tr>\\n      <th>3</th>\\n      <td>Jurgen Gupta</td>\\n      <td>Drawing</td>\\n      <td>46.997684</td>\\n    </tr>\\n    <tr>\\n      <th>4</th>\\n      <td>Zoltan Zachary</td>\\n      <td>Archery</td>\\n      <td>43.021076</td>\\n    </tr>\\n  </tbody>\\n</table>'"
      ]
     },
     "execution_count": 105,
     "metadata": {},
     "output_type": "execute_result"
    }
   ],
   "source": [
    "hobbies.to_html()"
   ]
  },
  {
   "cell_type": "code",
   "execution_count": 106,
   "id": "69772e53",
   "metadata": {},
   "outputs": [
    {
     "name": "stdout",
     "output_type": "stream",
     "text": [
      "<table border=\"1\" class=\"dataframe\">\n",
      "  <thead>\n",
      "    <tr style=\"text-align: right;\">\n",
      "      <th></th>\n",
      "      <th>name</th>\n",
      "      <th>hobby</th>\n",
      "      <th>age</th>\n",
      "    </tr>\n",
      "  </thead>\n",
      "  <tbody>\n",
      "    <tr>\n",
      "      <th>0</th>\n",
      "      <td>Brian Dogood</td>\n",
      "      <td>Fishing</td>\n",
      "      <td>52.562121</td>\n",
      "    </tr>\n",
      "    <tr>\n",
      "      <th>1</th>\n",
      "      <td>Leah Bokeh</td>\n",
      "      <td>Skateboarding</td>\n",
      "      <td>46.985834</td>\n",
      "    </tr>\n",
      "    <tr>\n",
      "      <th>2</th>\n",
      "      <td>Mark Prescott</td>\n",
      "      <td>Value Investing</td>\n",
      "      <td>27.151417</td>\n",
      "    </tr>\n",
      "    <tr>\n",
      "      <th>3</th>\n",
      "      <td>Jurgen Gupta</td>\n",
      "      <td>Drawing</td>\n",
      "      <td>46.997684</td>\n",
      "    </tr>\n",
      "    <tr>\n",
      "      <th>4</th>\n",
      "      <td>Zoltan Zachary</td>\n",
      "      <td>Archery</td>\n",
      "      <td>43.021076</td>\n",
      "    </tr>\n",
      "  </tbody>\n",
      "</table>\n"
     ]
    }
   ],
   "source": [
    "print(hobbies.to_html())"
   ]
  },
  {
   "cell_type": "code",
   "execution_count": null,
   "id": "f5b2d55f",
   "metadata": {},
   "outputs": [],
   "source": []
  },
  {
   "cell_type": "markdown",
   "id": "9ba25291",
   "metadata": {},
   "source": [
    "# BONUS - Introduction to pickling"
   ]
  },
  {
   "cell_type": "code",
   "execution_count": 44,
   "id": "8e5e2071",
   "metadata": {},
   "outputs": [],
   "source": [
    "googl = {'ticker': 'GOOGL', 'shares': 10, 'book_cost':1540.23}"
   ]
  },
  {
   "cell_type": "code",
   "execution_count": 45,
   "id": "09981280",
   "metadata": {},
   "outputs": [],
   "source": [
    "import pickle"
   ]
  },
  {
   "cell_type": "code",
   "execution_count": 46,
   "id": "815e5dec",
   "metadata": {},
   "outputs": [],
   "source": [
    "pickle_output = open('my_stock', 'wb')"
   ]
  },
  {
   "cell_type": "code",
   "execution_count": 48,
   "id": "4392d99f",
   "metadata": {},
   "outputs": [],
   "source": [
    "pickle.dump(googl, pickle_output) "
   ]
  },
  {
   "cell_type": "code",
   "execution_count": 49,
   "id": "15e3a00c",
   "metadata": {},
   "outputs": [],
   "source": [
    "pickle_output.close()"
   ]
  },
  {
   "cell_type": "code",
   "execution_count": 56,
   "id": "0978c42e",
   "metadata": {},
   "outputs": [],
   "source": [
    "pickle_input = open('my_stock', 'rb')"
   ]
  },
  {
   "cell_type": "code",
   "execution_count": 57,
   "id": "14d68afc",
   "metadata": {},
   "outputs": [],
   "source": [
    "stock_dict = pickle.load(pickle_input)"
   ]
  },
  {
   "cell_type": "code",
   "execution_count": 58,
   "id": "b7cb20c6",
   "metadata": {},
   "outputs": [
    {
     "data": {
      "text/plain": [
       "{'ticker': 'GOOGL', 'shares': 10, 'book_cost': 1540.23}"
      ]
     },
     "execution_count": 58,
     "metadata": {},
     "output_type": "execute_result"
    }
   ],
   "source": [
    "stock_dict"
   ]
  },
  {
   "cell_type": "code",
   "execution_count": null,
   "id": "a6b2a5d4",
   "metadata": {},
   "outputs": [],
   "source": []
  },
  {
   "cell_type": "markdown",
   "id": "d38ee18e",
   "metadata": {},
   "source": [
    "# Pickles in pandas"
   ]
  },
  {
   "cell_type": "code",
   "execution_count": 60,
   "id": "79190f99",
   "metadata": {},
   "outputs": [],
   "source": [
    "folio = pd.read_pickle('https://andybek.com/portfolio')"
   ]
  },
  {
   "cell_type": "code",
   "execution_count": 61,
   "id": "f5710b94",
   "metadata": {},
   "outputs": [],
   "source": [
    "folio.to_pickle('folio')"
   ]
  },
  {
   "cell_type": "code",
   "execution_count": 62,
   "id": "be8e23f5",
   "metadata": {},
   "outputs": [
    {
     "data": {
      "text/html": [
       "<div>\n",
       "<style scoped>\n",
       "    .dataframe tbody tr th:only-of-type {\n",
       "        vertical-align: middle;\n",
       "    }\n",
       "\n",
       "    .dataframe tbody tr th {\n",
       "        vertical-align: top;\n",
       "    }\n",
       "\n",
       "    .dataframe thead th {\n",
       "        text-align: right;\n",
       "    }\n",
       "</style>\n",
       "<table border=\"1\" class=\"dataframe\">\n",
       "  <thead>\n",
       "    <tr style=\"text-align: right;\">\n",
       "      <th></th>\n",
       "      <th>ticker</th>\n",
       "      <th>shares</th>\n",
       "      <th>book_cost</th>\n",
       "    </tr>\n",
       "  </thead>\n",
       "  <tbody>\n",
       "    <tr>\n",
       "      <th>0</th>\n",
       "      <td>AAPL</td>\n",
       "      <td>150</td>\n",
       "      <td>123.23</td>\n",
       "    </tr>\n",
       "    <tr>\n",
       "      <th>1</th>\n",
       "      <td>GOOGL</td>\n",
       "      <td>10</td>\n",
       "      <td>1100.00</td>\n",
       "    </tr>\n",
       "    <tr>\n",
       "      <th>2</th>\n",
       "      <td>AMGN</td>\n",
       "      <td>230</td>\n",
       "      <td>227.23</td>\n",
       "    </tr>\n",
       "    <tr>\n",
       "      <th>3</th>\n",
       "      <td>VET</td>\n",
       "      <td>200</td>\n",
       "      <td>14.24</td>\n",
       "    </tr>\n",
       "    <tr>\n",
       "      <th>4</th>\n",
       "      <td>TSLA</td>\n",
       "      <td>100</td>\n",
       "      <td>260.00</td>\n",
       "    </tr>\n",
       "    <tr>\n",
       "      <th>5</th>\n",
       "      <td>DX</td>\n",
       "      <td>40</td>\n",
       "      <td>20.01</td>\n",
       "    </tr>\n",
       "  </tbody>\n",
       "</table>\n",
       "</div>"
      ],
      "text/plain": [
       "  ticker  shares  book_cost\n",
       "0   AAPL     150     123.23\n",
       "1  GOOGL      10    1100.00\n",
       "2   AMGN     230     227.23\n",
       "3    VET     200      14.24\n",
       "4   TSLA     100     260.00\n",
       "5     DX      40      20.01"
      ]
     },
     "execution_count": 62,
     "metadata": {},
     "output_type": "execute_result"
    }
   ],
   "source": [
    "pd.read_pickle('folio')"
   ]
  },
  {
   "cell_type": "code",
   "execution_count": null,
   "id": "9f0891e3",
   "metadata": {},
   "outputs": [],
   "source": []
  },
  {
   "cell_type": "markdown",
   "id": "9e292835",
   "metadata": {},
   "source": [
    "# Skill challenge"
   ]
  },
  {
   "cell_type": "code",
   "execution_count": 71,
   "id": "2c6b3564",
   "metadata": {},
   "outputs": [],
   "source": [
    "# 1\n",
    "\n",
    "positions = pd.read_html(\"https://www.andybek.com/traders\")[0]"
   ]
  },
  {
   "cell_type": "code",
   "execution_count": 72,
   "id": "cb27d250",
   "metadata": {},
   "outputs": [
    {
     "data": {
      "text/html": [
       "<div>\n",
       "<style scoped>\n",
       "    .dataframe tbody tr th:only-of-type {\n",
       "        vertical-align: middle;\n",
       "    }\n",
       "\n",
       "    .dataframe tbody tr th {\n",
       "        vertical-align: top;\n",
       "    }\n",
       "\n",
       "    .dataframe thead th {\n",
       "        text-align: right;\n",
       "    }\n",
       "</style>\n",
       "<table border=\"1\" class=\"dataframe\">\n",
       "  <thead>\n",
       "    <tr style=\"text-align: right;\">\n",
       "      <th></th>\n",
       "      <th>TraderID</th>\n",
       "      <th>Instrument</th>\n",
       "      <th>Amount</th>\n",
       "      <th>Trader Location</th>\n",
       "    </tr>\n",
       "  </thead>\n",
       "  <tbody>\n",
       "    <tr>\n",
       "      <th>0</th>\n",
       "      <td>MCBIRN</td>\n",
       "      <td>02079K107</td>\n",
       "      <td>150000</td>\n",
       "      <td>EU</td>\n",
       "    </tr>\n",
       "    <tr>\n",
       "      <th>1</th>\n",
       "      <td>WISEA</td>\n",
       "      <td>1350Z74U5</td>\n",
       "      <td>6400000</td>\n",
       "      <td>EU</td>\n",
       "    </tr>\n",
       "    <tr>\n",
       "      <th>2</th>\n",
       "      <td>IACOP</td>\n",
       "      <td>GB00B3KJDQ49</td>\n",
       "      <td>2430000</td>\n",
       "      <td>US</td>\n",
       "    </tr>\n",
       "  </tbody>\n",
       "</table>\n",
       "</div>"
      ],
      "text/plain": [
       "  TraderID    Instrument   Amount Trader Location\n",
       "0   MCBIRN     02079K107   150000              EU\n",
       "1    WISEA     1350Z74U5  6400000              EU\n",
       "2    IACOP  GB00B3KJDQ49  2430000              US"
      ]
     },
     "execution_count": 72,
     "metadata": {},
     "output_type": "execute_result"
    }
   ],
   "source": [
    "positions"
   ]
  },
  {
   "cell_type": "code",
   "execution_count": 73,
   "id": "e9bf632c",
   "metadata": {},
   "outputs": [
    {
     "data": {
      "text/plain": [
       "pandas.core.frame.DataFrame"
      ]
     },
     "execution_count": 73,
     "metadata": {},
     "output_type": "execute_result"
    }
   ],
   "source": [
    "type(positions)"
   ]
  },
  {
   "cell_type": "code",
   "execution_count": null,
   "id": "99d57949",
   "metadata": {},
   "outputs": [],
   "source": []
  },
  {
   "cell_type": "code",
   "execution_count": 75,
   "id": "82c0327c",
   "metadata": {},
   "outputs": [],
   "source": [
    "# 2\n",
    "\n",
    "traders = pd.read_json(\"https://andybek.com/pandas-traders-names\")"
   ]
  },
  {
   "cell_type": "code",
   "execution_count": 76,
   "id": "223cfe94",
   "metadata": {},
   "outputs": [
    {
     "data": {
      "text/html": [
       "<div>\n",
       "<style scoped>\n",
       "    .dataframe tbody tr th:only-of-type {\n",
       "        vertical-align: middle;\n",
       "    }\n",
       "\n",
       "    .dataframe tbody tr th {\n",
       "        vertical-align: top;\n",
       "    }\n",
       "\n",
       "    .dataframe thead th {\n",
       "        text-align: right;\n",
       "    }\n",
       "</style>\n",
       "<table border=\"1\" class=\"dataframe\">\n",
       "  <thead>\n",
       "    <tr style=\"text-align: right;\">\n",
       "      <th></th>\n",
       "      <th>names</th>\n",
       "      <th>alias</th>\n",
       "      <th>seniority</th>\n",
       "    </tr>\n",
       "  </thead>\n",
       "  <tbody>\n",
       "    <tr>\n",
       "      <th>0</th>\n",
       "      <td>Shylah McBirney</td>\n",
       "      <td>MCBIRN</td>\n",
       "      <td>Executive</td>\n",
       "    </tr>\n",
       "    <tr>\n",
       "      <th>1</th>\n",
       "      <td>Allen Wise</td>\n",
       "      <td>WISEA</td>\n",
       "      <td>Executive</td>\n",
       "    </tr>\n",
       "    <tr>\n",
       "      <th>2</th>\n",
       "      <td>Iacopo Brivio</td>\n",
       "      <td>IACOP</td>\n",
       "      <td>Junior</td>\n",
       "    </tr>\n",
       "    <tr>\n",
       "      <th>3</th>\n",
       "      <td>Allison Carter</td>\n",
       "      <td>CARTERA</td>\n",
       "      <td>Mid-level</td>\n",
       "    </tr>\n",
       "  </tbody>\n",
       "</table>\n",
       "</div>"
      ],
      "text/plain": [
       "             names    alias  seniority\n",
       "0  Shylah McBirney   MCBIRN  Executive\n",
       "1       Allen Wise    WISEA  Executive\n",
       "2    Iacopo Brivio    IACOP     Junior\n",
       "3   Allison Carter  CARTERA  Mid-level"
      ]
     },
     "execution_count": 76,
     "metadata": {},
     "output_type": "execute_result"
    }
   ],
   "source": [
    "traders"
   ]
  },
  {
   "cell_type": "code",
   "execution_count": null,
   "id": "a88e5953",
   "metadata": {},
   "outputs": [],
   "source": []
  },
  {
   "cell_type": "code",
   "execution_count": 83,
   "id": "cf8a97b5",
   "metadata": {},
   "outputs": [],
   "source": [
    "# 3\n",
    "\n",
    "mrgd = positions.merge(traders, left_on='TraderID', right_on='alias').drop('alias', axis=1)"
   ]
  },
  {
   "cell_type": "code",
   "execution_count": null,
   "id": "cf0153fd",
   "metadata": {},
   "outputs": [],
   "source": []
  },
  {
   "cell_type": "code",
   "execution_count": 84,
   "id": "3aa5b02b",
   "metadata": {},
   "outputs": [],
   "source": [
    "# 4\n",
    "\n",
    "mrgd.to_pickle('pickled_traders')"
   ]
  },
  {
   "cell_type": "code",
   "execution_count": 85,
   "id": "21bab459",
   "metadata": {},
   "outputs": [],
   "source": [
    "mrgd.to_csv('traders.csv')"
   ]
  },
  {
   "cell_type": "code",
   "execution_count": null,
   "id": "daded2f2",
   "metadata": {},
   "outputs": [],
   "source": []
  }
 ],
 "metadata": {
  "kernelspec": {
   "display_name": "Python 3 (ipykernel)",
   "language": "python",
   "name": "python3"
  },
  "language_info": {
   "codemirror_mode": {
    "name": "ipython",
    "version": 3
   },
   "file_extension": ".py",
   "mimetype": "text/x-python",
   "name": "python",
   "nbconvert_exporter": "python",
   "pygments_lexer": "ipython3",
   "version": "3.11.5"
  }
 },
 "nbformat": 4,
 "nbformat_minor": 5
}
