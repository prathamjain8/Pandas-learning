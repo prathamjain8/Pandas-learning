{
 "cells": [
  {
   "cell_type": "code",
   "execution_count": 1,
   "id": "d6b0671a",
   "metadata": {},
   "outputs": [],
   "source": [
    "import pandas as pd\n",
    "import numpy as np"
   ]
  },
  {
   "cell_type": "code",
   "execution_count": 7,
   "id": "a1fed174",
   "metadata": {},
   "outputs": [
    {
     "name": "stdout",
     "output_type": "stream",
     "text": [
      "[10, 20, 30, 40, 23]\n"
     ]
    }
   ],
   "source": [
    "p_list = [10,20,30,40,23]\n",
    "print(p_list)"
   ]
  },
  {
   "cell_type": "code",
   "execution_count": 3,
   "id": "d19127c4",
   "metadata": {},
   "outputs": [
    {
     "data": {
      "text/plain": [
       "list"
      ]
     },
     "execution_count": 3,
     "metadata": {},
     "output_type": "execute_result"
    }
   ],
   "source": [
    "type(p_list)"
   ]
  },
  {
   "cell_type": "code",
   "execution_count": 5,
   "id": "17ac7404",
   "metadata": {},
   "outputs": [],
   "source": [
    "a_np = np.array(p_list)"
   ]
  },
  {
   "cell_type": "code",
   "execution_count": 8,
   "id": "989bf763",
   "metadata": {},
   "outputs": [
    {
     "name": "stdout",
     "output_type": "stream",
     "text": [
      "[10 20 30 40 23]\n"
     ]
    }
   ],
   "source": [
    "print(a_np)"
   ]
  },
  {
   "cell_type": "code",
   "execution_count": 9,
   "id": "d44bf0a4",
   "metadata": {},
   "outputs": [
    {
     "name": "stdout",
     "output_type": "stream",
     "text": [
      "[100, 200, 300, 400, 230]\n"
     ]
    }
   ],
   "source": [
    "arr = []  \n",
    "for i in p_list:       #using for loop\n",
    "    arr.append(i * 10)\n",
    "print(arr)"
   ]
  },
  {
   "cell_type": "code",
   "execution_count": 13,
   "id": "29f84a68",
   "metadata": {},
   "outputs": [
    {
     "data": {
      "text/plain": [
       "[100, 200, 300, 400, 230]"
      ]
     },
     "execution_count": 13,
     "metadata": {},
     "output_type": "execute_result"
    }
   ],
   "source": [
    "list(map(lambda i: i*10, p_list))  # using map and lambda"
   ]
  },
  {
   "cell_type": "code",
   "execution_count": 14,
   "id": "86dcec37",
   "metadata": {},
   "outputs": [
    {
     "name": "stdout",
     "output_type": "stream",
     "text": [
      "[100, 200, 300, 400, 230]\n"
     ]
    }
   ],
   "source": [
    "print([i*10 for i in p_list])  # using list comprehension"
   ]
  },
  {
   "cell_type": "code",
   "execution_count": 15,
   "id": "5e11a16a",
   "metadata": {},
   "outputs": [
    {
     "data": {
      "text/plain": [
       "array([100, 200, 300, 400, 230])"
      ]
     },
     "execution_count": 15,
     "metadata": {},
     "output_type": "execute_result"
    }
   ],
   "source": [
    "a_np * 10"
   ]
  },
  {
   "cell_type": "code",
   "execution_count": null,
   "id": "a7b3a460",
   "metadata": {},
   "outputs": [],
   "source": []
  },
  {
   "cell_type": "code",
   "execution_count": 20,
   "id": "a992179c",
   "metadata": {},
   "outputs": [
    {
     "name": "stdout",
     "output_type": "stream",
     "text": [
      "[1.  2.  3.  4.5]\n"
     ]
    }
   ],
   "source": [
    "new_arr = np.array([1,2,3, 4.5])\n",
    "print(new_arr)"
   ]
  },
  {
   "cell_type": "code",
   "execution_count": 21,
   "id": "d148ad37",
   "metadata": {},
   "outputs": [
    {
     "data": {
      "text/plain": [
       "dtype('float64')"
      ]
     },
     "execution_count": 21,
     "metadata": {},
     "output_type": "execute_result"
    }
   ],
   "source": [
    "new_arr.dtype"
   ]
  },
  {
   "cell_type": "code",
   "execution_count": null,
   "id": "8039ff80",
   "metadata": {},
   "outputs": [],
   "source": []
  }
 ],
 "metadata": {
  "kernelspec": {
   "display_name": "Python 3 (ipykernel)",
   "language": "python",
   "name": "python3"
  },
  "language_info": {
   "codemirror_mode": {
    "name": "ipython",
    "version": 3
   },
   "file_extension": ".py",
   "mimetype": "text/x-python",
   "name": "python",
   "nbconvert_exporter": "python",
   "pygments_lexer": "ipython3",
   "version": "3.11.5"
  }
 },
 "nbformat": 4,
 "nbformat_minor": 5
}
