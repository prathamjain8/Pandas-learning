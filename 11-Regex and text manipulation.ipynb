{
 "cells": [
  {
   "cell_type": "code",
   "execution_count": 1,
   "id": "063fd031",
   "metadata": {},
   "outputs": [
    {
     "name": "stderr",
     "output_type": "stream",
     "text": [
      "C:\\Users\\hp\\AppData\\Roaming\\Python\\Python311\\site-packages\\pandas\\core\\arrays\\masked.py:60: UserWarning: Pandas requires version '1.3.6' or newer of 'bottleneck' (version '1.3.5' currently installed).\n",
      "  from pandas.core import (\n"
     ]
    }
   ],
   "source": [
    "import pandas as pd\n",
    "import numpy as np"
   ]
  },
  {
   "cell_type": "code",
   "execution_count": 2,
   "id": "49f57785",
   "metadata": {},
   "outputs": [
    {
     "data": {
      "text/plain": [
       "'2.2.2'"
      ]
     },
     "execution_count": 2,
     "metadata": {},
     "output_type": "execute_result"
    }
   ],
   "source": [
    "pd.__version__"
   ]
  },
  {
   "cell_type": "code",
   "execution_count": null,
   "id": "efff5b0b",
   "metadata": {},
   "outputs": [],
   "source": []
  },
  {
   "cell_type": "markdown",
   "id": "1a7f9b74",
   "metadata": {},
   "source": [
    "# New dataset"
   ]
  },
  {
   "cell_type": "code",
   "execution_count": 3,
   "id": "9abd2f68",
   "metadata": {},
   "outputs": [],
   "source": [
    "boston = pd.read_csv(\"D:/STUDIES/Numpy & Pandas/pandas/all_notebooks/11. Regex_And_Text_Manipulation.ipynb/2017BostonMarathonTop1000.csv\")"
   ]
  },
  {
   "cell_type": "code",
   "execution_count": 4,
   "id": "87dbedd6",
   "metadata": {},
   "outputs": [
    {
     "data": {
      "text/html": [
       "<div>\n",
       "<style scoped>\n",
       "    .dataframe tbody tr th:only-of-type {\n",
       "        vertical-align: middle;\n",
       "    }\n",
       "\n",
       "    .dataframe tbody tr th {\n",
       "        vertical-align: top;\n",
       "    }\n",
       "\n",
       "    .dataframe thead th {\n",
       "        text-align: right;\n",
       "    }\n",
       "</style>\n",
       "<table border=\"1\" class=\"dataframe\">\n",
       "  <thead>\n",
       "    <tr style=\"text-align: right;\">\n",
       "      <th></th>\n",
       "      <th>Name</th>\n",
       "      <th>Age</th>\n",
       "      <th>M/F</th>\n",
       "      <th>City</th>\n",
       "      <th>State</th>\n",
       "      <th>Country</th>\n",
       "      <th>Official Time</th>\n",
       "      <th>Overall</th>\n",
       "      <th>Gender</th>\n",
       "      <th>Years Ran</th>\n",
       "    </tr>\n",
       "  </thead>\n",
       "  <tbody>\n",
       "    <tr>\n",
       "      <th>0</th>\n",
       "      <td>Kirui, Geoffrey</td>\n",
       "      <td>24</td>\n",
       "      <td>M</td>\n",
       "      <td>Keringet</td>\n",
       "      <td>NaN</td>\n",
       "      <td>KEN</td>\n",
       "      <td>2:09:37</td>\n",
       "      <td>1</td>\n",
       "      <td>1</td>\n",
       "      <td>NaN</td>\n",
       "    </tr>\n",
       "    <tr>\n",
       "      <th>1</th>\n",
       "      <td>Rupp, Galen</td>\n",
       "      <td>30</td>\n",
       "      <td>M</td>\n",
       "      <td>Portland</td>\n",
       "      <td>OR</td>\n",
       "      <td>USA</td>\n",
       "      <td>2:09:58</td>\n",
       "      <td>2</td>\n",
       "      <td>2</td>\n",
       "      <td>NaN</td>\n",
       "    </tr>\n",
       "    <tr>\n",
       "      <th>2</th>\n",
       "      <td>Osako, Suguru</td>\n",
       "      <td>25</td>\n",
       "      <td>M</td>\n",
       "      <td>Machida-City</td>\n",
       "      <td>NaN</td>\n",
       "      <td>JPN</td>\n",
       "      <td>2:10:28</td>\n",
       "      <td>3</td>\n",
       "      <td>3</td>\n",
       "      <td>NaN</td>\n",
       "    </tr>\n",
       "    <tr>\n",
       "      <th>3</th>\n",
       "      <td>Biwott, Shadrack</td>\n",
       "      <td>32</td>\n",
       "      <td>M</td>\n",
       "      <td>Mammoth Lakes</td>\n",
       "      <td>CA</td>\n",
       "      <td>USA</td>\n",
       "      <td>2:12:08</td>\n",
       "      <td>4</td>\n",
       "      <td>4</td>\n",
       "      <td>NaN</td>\n",
       "    </tr>\n",
       "    <tr>\n",
       "      <th>4</th>\n",
       "      <td>Chebet, Wilson</td>\n",
       "      <td>31</td>\n",
       "      <td>M</td>\n",
       "      <td>Marakwet</td>\n",
       "      <td>NaN</td>\n",
       "      <td>KEN</td>\n",
       "      <td>2:12:35</td>\n",
       "      <td>5</td>\n",
       "      <td>5</td>\n",
       "      <td>2015</td>\n",
       "    </tr>\n",
       "  </tbody>\n",
       "</table>\n",
       "</div>"
      ],
      "text/plain": [
       "                Name  Age M/F           City State Country Official Time  \\\n",
       "0   Kirui, Geoffrey    24   M       Keringet   NaN     KEN       2:09:37   \n",
       "1     Rupp, Galen      30   M       Portland    OR     USA       2:09:58   \n",
       "2    Osako, Suguru     25   M   Machida-City   NaN     JPN       2:10:28   \n",
       "3   Biwott, Shadrack   32   M  Mammoth Lakes    CA     USA       2:12:08   \n",
       "4     Chebet, Wilson   31   M       Marakwet   NaN     KEN       2:12:35   \n",
       "\n",
       "   Overall  Gender Years Ran  \n",
       "0        1       1       NaN  \n",
       "1        2       2       NaN  \n",
       "2        3       3       NaN  \n",
       "3        4       4       NaN  \n",
       "4        5       5      2015  "
      ]
     },
     "execution_count": 4,
     "metadata": {},
     "output_type": "execute_result"
    }
   ],
   "source": [
    "boston.head()"
   ]
  },
  {
   "cell_type": "code",
   "execution_count": 5,
   "id": "9cbb041c",
   "metadata": {},
   "outputs": [
    {
     "name": "stdout",
     "output_type": "stream",
     "text": [
      "<class 'pandas.core.frame.DataFrame'>\n",
      "RangeIndex: 1000 entries, 0 to 999\n",
      "Data columns (total 10 columns):\n",
      " #   Column         Non-Null Count  Dtype \n",
      "---  ------         --------------  ----- \n",
      " 0   Name           1000 non-null   object\n",
      " 1   Age            1000 non-null   int64 \n",
      " 2   M/F            1000 non-null   object\n",
      " 3   City           1000 non-null   object\n",
      " 4   State          807 non-null    object\n",
      " 5   Country        1000 non-null   object\n",
      " 6   Official Time  1000 non-null   object\n",
      " 7   Overall        1000 non-null   int64 \n",
      " 8   Gender         1000 non-null   int64 \n",
      " 9   Years Ran      315 non-null    object\n",
      "dtypes: int64(3), object(7)\n",
      "memory usage: 430.2 KB\n"
     ]
    }
   ],
   "source": [
    "boston.info(memory_usage='deep')"
   ]
  },
  {
   "cell_type": "code",
   "execution_count": null,
   "id": "7953a41b",
   "metadata": {},
   "outputs": [],
   "source": []
  },
  {
   "cell_type": "markdown",
   "id": "be909ada",
   "metadata": {},
   "source": [
    "# String method in python"
   ]
  },
  {
   "cell_type": "code",
   "execution_count": 6,
   "id": "0e2e5d04",
   "metadata": {},
   "outputs": [],
   "source": [
    "s = \"Welcome to the text manipulation section\""
   ]
  },
  {
   "cell_type": "code",
   "execution_count": 7,
   "id": "2e56a8b4",
   "metadata": {},
   "outputs": [
    {
     "data": {
      "text/plain": [
       "40"
      ]
     },
     "execution_count": 7,
     "metadata": {},
     "output_type": "execute_result"
    }
   ],
   "source": [
    "len(s)"
   ]
  },
  {
   "cell_type": "code",
   "execution_count": 8,
   "id": "63482317",
   "metadata": {},
   "outputs": [
    {
     "data": {
      "text/plain": [
       "'******************************Welcome to the text manipulation section******************************'"
      ]
     },
     "execution_count": 8,
     "metadata": {},
     "output_type": "execute_result"
    }
   ],
   "source": [
    "s.center(100, '*')"
   ]
  },
  {
   "cell_type": "code",
   "execution_count": 9,
   "id": "051d87db",
   "metadata": {},
   "outputs": [
    {
     "data": {
      "text/plain": [
       "True"
      ]
     },
     "execution_count": 9,
     "metadata": {},
     "output_type": "execute_result"
    }
   ],
   "source": [
    "s.endswith('tion')"
   ]
  },
  {
   "cell_type": "code",
   "execution_count": 10,
   "id": "3361f7de",
   "metadata": {},
   "outputs": [
    {
     "data": {
      "text/plain": [
       "False"
      ]
     },
     "execution_count": 10,
     "metadata": {},
     "output_type": "execute_result"
    }
   ],
   "source": [
    "s.startswith('w')"
   ]
  },
  {
   "cell_type": "code",
   "execution_count": 11,
   "id": "3e43b8c5",
   "metadata": {},
   "outputs": [
    {
     "data": {
      "text/plain": [
       "True"
      ]
     },
     "execution_count": 11,
     "metadata": {},
     "output_type": "execute_result"
    }
   ],
   "source": [
    "s.startswith('W')"
   ]
  },
  {
   "cell_type": "code",
   "execution_count": 12,
   "id": "dfdc4871",
   "metadata": {},
   "outputs": [
    {
     "data": {
      "text/plain": [
       "True"
      ]
     },
     "execution_count": 12,
     "metadata": {},
     "output_type": "execute_result"
    }
   ],
   "source": [
    "'text' in s"
   ]
  },
  {
   "cell_type": "code",
   "execution_count": 13,
   "id": "dc012d83",
   "metadata": {},
   "outputs": [
    {
     "data": {
      "text/plain": [
       "False"
      ]
     },
     "execution_count": 13,
     "metadata": {},
     "output_type": "execute_result"
    }
   ],
   "source": [
    "'texted' in s"
   ]
  },
  {
   "cell_type": "code",
   "execution_count": 14,
   "id": "70b7d123",
   "metadata": {},
   "outputs": [],
   "source": [
    "# Text transform within list comprehension"
   ]
  },
  {
   "cell_type": "code",
   "execution_count": 15,
   "id": "a84b0e56",
   "metadata": {},
   "outputs": [],
   "source": [
    "names = ['Pratham', 'manan', 'Sajal', 'Daksh']"
   ]
  },
  {
   "cell_type": "code",
   "execution_count": 16,
   "id": "f32550bb",
   "metadata": {},
   "outputs": [
    {
     "data": {
      "text/plain": [
       "[7, 5, 5, 5]"
      ]
     },
     "execution_count": 16,
     "metadata": {},
     "output_type": "execute_result"
    }
   ],
   "source": [
    "[len(name) for name in names]"
   ]
  },
  {
   "cell_type": "code",
   "execution_count": 17,
   "id": "c09de096",
   "metadata": {},
   "outputs": [
    {
     "data": {
      "text/plain": [
       "[True, False, False, False]"
      ]
     },
     "execution_count": 17,
     "metadata": {},
     "output_type": "execute_result"
    }
   ],
   "source": [
    "[name.startswith('P') for name in names]"
   ]
  },
  {
   "cell_type": "code",
   "execution_count": null,
   "id": "bbb5d411",
   "metadata": {},
   "outputs": [],
   "source": []
  },
  {
   "cell_type": "markdown",
   "id": "1aa1bd83",
   "metadata": {},
   "source": [
    "# Vectorized string operations in pandas"
   ]
  },
  {
   "cell_type": "code",
   "execution_count": 18,
   "id": "64efa699",
   "metadata": {},
   "outputs": [
    {
     "data": {
      "text/html": [
       "<div>\n",
       "<style scoped>\n",
       "    .dataframe tbody tr th:only-of-type {\n",
       "        vertical-align: middle;\n",
       "    }\n",
       "\n",
       "    .dataframe tbody tr th {\n",
       "        vertical-align: top;\n",
       "    }\n",
       "\n",
       "    .dataframe thead th {\n",
       "        text-align: right;\n",
       "    }\n",
       "</style>\n",
       "<table border=\"1\" class=\"dataframe\">\n",
       "  <thead>\n",
       "    <tr style=\"text-align: right;\">\n",
       "      <th></th>\n",
       "      <th>Name</th>\n",
       "      <th>Age</th>\n",
       "      <th>M/F</th>\n",
       "      <th>City</th>\n",
       "      <th>State</th>\n",
       "      <th>Country</th>\n",
       "      <th>Official Time</th>\n",
       "      <th>Overall</th>\n",
       "      <th>Gender</th>\n",
       "      <th>Years Ran</th>\n",
       "    </tr>\n",
       "  </thead>\n",
       "  <tbody>\n",
       "    <tr>\n",
       "      <th>0</th>\n",
       "      <td>Kirui, Geoffrey</td>\n",
       "      <td>24</td>\n",
       "      <td>M</td>\n",
       "      <td>Keringet</td>\n",
       "      <td>NaN</td>\n",
       "      <td>KEN</td>\n",
       "      <td>2:09:37</td>\n",
       "      <td>1</td>\n",
       "      <td>1</td>\n",
       "      <td>NaN</td>\n",
       "    </tr>\n",
       "    <tr>\n",
       "      <th>1</th>\n",
       "      <td>Rupp, Galen</td>\n",
       "      <td>30</td>\n",
       "      <td>M</td>\n",
       "      <td>Portland</td>\n",
       "      <td>OR</td>\n",
       "      <td>USA</td>\n",
       "      <td>2:09:58</td>\n",
       "      <td>2</td>\n",
       "      <td>2</td>\n",
       "      <td>NaN</td>\n",
       "    </tr>\n",
       "    <tr>\n",
       "      <th>2</th>\n",
       "      <td>Osako, Suguru</td>\n",
       "      <td>25</td>\n",
       "      <td>M</td>\n",
       "      <td>Machida-City</td>\n",
       "      <td>NaN</td>\n",
       "      <td>JPN</td>\n",
       "      <td>2:10:28</td>\n",
       "      <td>3</td>\n",
       "      <td>3</td>\n",
       "      <td>NaN</td>\n",
       "    </tr>\n",
       "    <tr>\n",
       "      <th>3</th>\n",
       "      <td>Biwott, Shadrack</td>\n",
       "      <td>32</td>\n",
       "      <td>M</td>\n",
       "      <td>Mammoth Lakes</td>\n",
       "      <td>CA</td>\n",
       "      <td>USA</td>\n",
       "      <td>2:12:08</td>\n",
       "      <td>4</td>\n",
       "      <td>4</td>\n",
       "      <td>NaN</td>\n",
       "    </tr>\n",
       "    <tr>\n",
       "      <th>4</th>\n",
       "      <td>Chebet, Wilson</td>\n",
       "      <td>31</td>\n",
       "      <td>M</td>\n",
       "      <td>Marakwet</td>\n",
       "      <td>NaN</td>\n",
       "      <td>KEN</td>\n",
       "      <td>2:12:35</td>\n",
       "      <td>5</td>\n",
       "      <td>5</td>\n",
       "      <td>2015</td>\n",
       "    </tr>\n",
       "  </tbody>\n",
       "</table>\n",
       "</div>"
      ],
      "text/plain": [
       "                Name  Age M/F           City State Country Official Time  \\\n",
       "0   Kirui, Geoffrey    24   M       Keringet   NaN     KEN       2:09:37   \n",
       "1     Rupp, Galen      30   M       Portland    OR     USA       2:09:58   \n",
       "2    Osako, Suguru     25   M   Machida-City   NaN     JPN       2:10:28   \n",
       "3   Biwott, Shadrack   32   M  Mammoth Lakes    CA     USA       2:12:08   \n",
       "4     Chebet, Wilson   31   M       Marakwet   NaN     KEN       2:12:35   \n",
       "\n",
       "   Overall  Gender Years Ran  \n",
       "0        1       1       NaN  \n",
       "1        2       2       NaN  \n",
       "2        3       3       NaN  \n",
       "3        4       4       NaN  \n",
       "4        5       5      2015  "
      ]
     },
     "execution_count": 18,
     "metadata": {},
     "output_type": "execute_result"
    }
   ],
   "source": [
    "boston.head()"
   ]
  },
  {
   "cell_type": "code",
   "execution_count": 19,
   "id": "890c000f",
   "metadata": {},
   "outputs": [
    {
     "data": {
      "text/plain": [
       "15"
      ]
     },
     "execution_count": 19,
     "metadata": {},
     "output_type": "execute_result"
    }
   ],
   "source": [
    "len('Kirui, Geoffrey')"
   ]
  },
  {
   "cell_type": "code",
   "execution_count": 20,
   "id": "8914ff18",
   "metadata": {},
   "outputs": [
    {
     "data": {
      "text/plain": [
       "1000"
      ]
     },
     "execution_count": 20,
     "metadata": {},
     "output_type": "execute_result"
    }
   ],
   "source": [
    "len(boston.Name)"
   ]
  },
  {
   "cell_type": "code",
   "execution_count": 21,
   "id": "c1ef0c4b",
   "metadata": {},
   "outputs": [
    {
     "data": {
      "text/plain": [
       "0      17\n",
       "1      14\n",
       "2      15\n",
       "3      16\n",
       "4      14\n",
       "       ..\n",
       "995    12\n",
       "996    19\n",
       "997    15\n",
       "998    12\n",
       "999    14\n",
       "Name: Name, Length: 1000, dtype: int64"
      ]
     },
     "execution_count": 21,
     "metadata": {},
     "output_type": "execute_result"
    }
   ],
   "source": [
    "boston.Name.str.len()"
   ]
  },
  {
   "cell_type": "code",
   "execution_count": 22,
   "id": "9a2d3cea",
   "metadata": {},
   "outputs": [
    {
     "data": {
      "text/plain": [
       "0      False\n",
       "1      False\n",
       "2      False\n",
       "3      False\n",
       "4      False\n",
       "       ...  \n",
       "995    False\n",
       "996    False\n",
       "997    False\n",
       "998    False\n",
       "999    False\n",
       "Name: Name, Length: 1000, dtype: bool"
      ]
     },
     "execution_count": 22,
     "metadata": {},
     "output_type": "execute_result"
    }
   ],
   "source": [
    "boston.Name.str.startswith('A')"
   ]
  },
  {
   "cell_type": "code",
   "execution_count": null,
   "id": "56605acf",
   "metadata": {},
   "outputs": [],
   "source": []
  },
  {
   "cell_type": "markdown",
   "id": "fc0148bd",
   "metadata": {},
   "source": [
    "# Case operations"
   ]
  },
  {
   "cell_type": "code",
   "execution_count": 23,
   "id": "cdad2a3e",
   "metadata": {},
   "outputs": [
    {
     "data": {
      "text/html": [
       "<div>\n",
       "<style scoped>\n",
       "    .dataframe tbody tr th:only-of-type {\n",
       "        vertical-align: middle;\n",
       "    }\n",
       "\n",
       "    .dataframe tbody tr th {\n",
       "        vertical-align: top;\n",
       "    }\n",
       "\n",
       "    .dataframe thead th {\n",
       "        text-align: right;\n",
       "    }\n",
       "</style>\n",
       "<table border=\"1\" class=\"dataframe\">\n",
       "  <thead>\n",
       "    <tr style=\"text-align: right;\">\n",
       "      <th></th>\n",
       "      <th>Name</th>\n",
       "      <th>Age</th>\n",
       "      <th>M/F</th>\n",
       "      <th>City</th>\n",
       "      <th>State</th>\n",
       "      <th>Country</th>\n",
       "      <th>Official Time</th>\n",
       "      <th>Overall</th>\n",
       "      <th>Gender</th>\n",
       "      <th>Years Ran</th>\n",
       "    </tr>\n",
       "  </thead>\n",
       "  <tbody>\n",
       "    <tr>\n",
       "      <th>0</th>\n",
       "      <td>Kirui, Geoffrey</td>\n",
       "      <td>24</td>\n",
       "      <td>M</td>\n",
       "      <td>Keringet</td>\n",
       "      <td>NaN</td>\n",
       "      <td>KEN</td>\n",
       "      <td>2:09:37</td>\n",
       "      <td>1</td>\n",
       "      <td>1</td>\n",
       "      <td>NaN</td>\n",
       "    </tr>\n",
       "    <tr>\n",
       "      <th>1</th>\n",
       "      <td>Rupp, Galen</td>\n",
       "      <td>30</td>\n",
       "      <td>M</td>\n",
       "      <td>Portland</td>\n",
       "      <td>OR</td>\n",
       "      <td>USA</td>\n",
       "      <td>2:09:58</td>\n",
       "      <td>2</td>\n",
       "      <td>2</td>\n",
       "      <td>NaN</td>\n",
       "    </tr>\n",
       "    <tr>\n",
       "      <th>2</th>\n",
       "      <td>Osako, Suguru</td>\n",
       "      <td>25</td>\n",
       "      <td>M</td>\n",
       "      <td>Machida-City</td>\n",
       "      <td>NaN</td>\n",
       "      <td>JPN</td>\n",
       "      <td>2:10:28</td>\n",
       "      <td>3</td>\n",
       "      <td>3</td>\n",
       "      <td>NaN</td>\n",
       "    </tr>\n",
       "    <tr>\n",
       "      <th>3</th>\n",
       "      <td>Biwott, Shadrack</td>\n",
       "      <td>32</td>\n",
       "      <td>M</td>\n",
       "      <td>Mammoth Lakes</td>\n",
       "      <td>CA</td>\n",
       "      <td>USA</td>\n",
       "      <td>2:12:08</td>\n",
       "      <td>4</td>\n",
       "      <td>4</td>\n",
       "      <td>NaN</td>\n",
       "    </tr>\n",
       "    <tr>\n",
       "      <th>4</th>\n",
       "      <td>Chebet, Wilson</td>\n",
       "      <td>31</td>\n",
       "      <td>M</td>\n",
       "      <td>Marakwet</td>\n",
       "      <td>NaN</td>\n",
       "      <td>KEN</td>\n",
       "      <td>2:12:35</td>\n",
       "      <td>5</td>\n",
       "      <td>5</td>\n",
       "      <td>2015</td>\n",
       "    </tr>\n",
       "  </tbody>\n",
       "</table>\n",
       "</div>"
      ],
      "text/plain": [
       "                Name  Age M/F           City State Country Official Time  \\\n",
       "0   Kirui, Geoffrey    24   M       Keringet   NaN     KEN       2:09:37   \n",
       "1     Rupp, Galen      30   M       Portland    OR     USA       2:09:58   \n",
       "2    Osako, Suguru     25   M   Machida-City   NaN     JPN       2:10:28   \n",
       "3   Biwott, Shadrack   32   M  Mammoth Lakes    CA     USA       2:12:08   \n",
       "4     Chebet, Wilson   31   M       Marakwet   NaN     KEN       2:12:35   \n",
       "\n",
       "   Overall  Gender Years Ran  \n",
       "0        1       1       NaN  \n",
       "1        2       2       NaN  \n",
       "2        3       3       NaN  \n",
       "3        4       4       NaN  \n",
       "4        5       5      2015  "
      ]
     },
     "execution_count": 23,
     "metadata": {},
     "output_type": "execute_result"
    }
   ],
   "source": [
    "boston.head()"
   ]
  },
  {
   "cell_type": "code",
   "execution_count": 24,
   "id": "a3b0fe12",
   "metadata": {},
   "outputs": [
    {
     "data": {
      "text/plain": [
       "0           Keringet\n",
       "1           Portland\n",
       "2       Machida-City\n",
       "3      Mammoth Lakes\n",
       "4           Marakwet\n",
       "           ...      \n",
       "995    North Andover\n",
       "996          Raleigh\n",
       "997        Arlington\n",
       "998          Danbury\n",
       "999         Santa Fe\n",
       "Name: City, Length: 1000, dtype: object"
      ]
     },
     "execution_count": 24,
     "metadata": {},
     "output_type": "execute_result"
    }
   ],
   "source": [
    "boston.City"
   ]
  },
  {
   "cell_type": "code",
   "execution_count": 25,
   "id": "0bcde746",
   "metadata": {},
   "outputs": [
    {
     "data": {
      "text/plain": [
       "0           Keringet\n",
       "1           Portland\n",
       "2       Machida-City\n",
       "3      Mammoth Lakes\n",
       "4           Marakwet\n",
       "           ...      \n",
       "995    North Andover\n",
       "996          Raleigh\n",
       "997        Arlington\n",
       "998          Danbury\n",
       "999         Santa Fe\n",
       "Name: City, Length: 1000, dtype: object"
      ]
     },
     "execution_count": 25,
     "metadata": {},
     "output_type": "execute_result"
    }
   ],
   "source": [
    "boston.City.str.title()"
   ]
  },
  {
   "cell_type": "code",
   "execution_count": 26,
   "id": "3d7293ca",
   "metadata": {},
   "outputs": [
    {
     "data": {
      "text/plain": [
       "0           KERINGET\n",
       "1           PORTLAND\n",
       "2       MACHIDA-CITY\n",
       "3      MAMMOTH LAKES\n",
       "4           MARAKWET\n",
       "           ...      \n",
       "995    NORTH ANDOVER\n",
       "996          RALEIGH\n",
       "997        ARLINGTON\n",
       "998          DANBURY\n",
       "999         SANTA FE\n",
       "Name: City, Length: 1000, dtype: object"
      ]
     },
     "execution_count": 26,
     "metadata": {},
     "output_type": "execute_result"
    }
   ],
   "source": [
    "boston.City.str.upper()"
   ]
  },
  {
   "cell_type": "code",
   "execution_count": 27,
   "id": "0b1d0bf7",
   "metadata": {},
   "outputs": [
    {
     "data": {
      "text/plain": [
       "0           keringet\n",
       "1           portland\n",
       "2       machida-city\n",
       "3      mammoth lakes\n",
       "4           marakwet\n",
       "           ...      \n",
       "995    north andover\n",
       "996          raleigh\n",
       "997        arlington\n",
       "998          danbury\n",
       "999         santa fe\n",
       "Name: City, Length: 1000, dtype: object"
      ]
     },
     "execution_count": 27,
     "metadata": {},
     "output_type": "execute_result"
    }
   ],
   "source": [
    "boston.City.str.lower()"
   ]
  },
  {
   "cell_type": "code",
   "execution_count": 28,
   "id": "56ade085",
   "metadata": {},
   "outputs": [
    {
     "data": {
      "text/plain": [
       "0           kERINGET\n",
       "1           pORTLAND\n",
       "2       mACHIDA-cITY\n",
       "3      mAMMOTH lAKES\n",
       "4           mARAKWET\n",
       "           ...      \n",
       "995    nORTH aNDOVER\n",
       "996          rALEIGH\n",
       "997        aRLINGTON\n",
       "998          dANBURY\n",
       "999         sANTA fE\n",
       "Name: City, Length: 1000, dtype: object"
      ]
     },
     "execution_count": 28,
     "metadata": {},
     "output_type": "execute_result"
    }
   ],
   "source": [
    "boston.City.str.swapcase()"
   ]
  },
  {
   "cell_type": "code",
   "execution_count": 29,
   "id": "7ae13303",
   "metadata": {},
   "outputs": [
    {
     "data": {
      "text/plain": [
       "0           Keringet\n",
       "1           Portland\n",
       "2       Machida-city\n",
       "3      Mammoth lakes\n",
       "4           Marakwet\n",
       "           ...      \n",
       "995    North andover\n",
       "996          Raleigh\n",
       "997        Arlington\n",
       "998          Danbury\n",
       "999         Santa fe\n",
       "Name: City, Length: 1000, dtype: object"
      ]
     },
     "execution_count": 29,
     "metadata": {},
     "output_type": "execute_result"
    }
   ],
   "source": [
    "boston.City.str.capitalize()"
   ]
  },
  {
   "cell_type": "code",
   "execution_count": null,
   "id": "65768098",
   "metadata": {},
   "outputs": [],
   "source": []
  },
  {
   "cell_type": "markdown",
   "id": "ea7b05ac",
   "metadata": {},
   "source": [
    "# Finding characters and words"
   ]
  },
  {
   "cell_type": "code",
   "execution_count": 30,
   "id": "c18aef67",
   "metadata": {},
   "outputs": [
    {
     "data": {
      "text/plain": [
       "'Welcome to the text manipulation section'"
      ]
     },
     "execution_count": 30,
     "metadata": {},
     "output_type": "execute_result"
    }
   ],
   "source": [
    "s"
   ]
  },
  {
   "cell_type": "code",
   "execution_count": 31,
   "id": "65bfc822",
   "metadata": {},
   "outputs": [
    {
     "data": {
      "text/plain": [
       "17"
      ]
     },
     "execution_count": 31,
     "metadata": {},
     "output_type": "execute_result"
    }
   ],
   "source": [
    "s.find('x')"
   ]
  },
  {
   "cell_type": "code",
   "execution_count": 32,
   "id": "0eff88cf",
   "metadata": {},
   "outputs": [
    {
     "data": {
      "text/plain": [
       "15"
      ]
     },
     "execution_count": 32,
     "metadata": {},
     "output_type": "execute_result"
    }
   ],
   "source": [
    "s.find('text')"
   ]
  },
  {
   "cell_type": "code",
   "execution_count": 33,
   "id": "22062d5d",
   "metadata": {},
   "outputs": [
    {
     "data": {
      "text/plain": [
       "-1"
      ]
     },
     "execution_count": 33,
     "metadata": {},
     "output_type": "execute_result"
    }
   ],
   "source": [
    "s.find('soccer')"
   ]
  },
  {
   "cell_type": "code",
   "execution_count": 34,
   "id": "1aba7180",
   "metadata": {},
   "outputs": [
    {
     "data": {
      "text/html": [
       "<div>\n",
       "<style scoped>\n",
       "    .dataframe tbody tr th:only-of-type {\n",
       "        vertical-align: middle;\n",
       "    }\n",
       "\n",
       "    .dataframe tbody tr th {\n",
       "        vertical-align: top;\n",
       "    }\n",
       "\n",
       "    .dataframe thead th {\n",
       "        text-align: right;\n",
       "    }\n",
       "</style>\n",
       "<table border=\"1\" class=\"dataframe\">\n",
       "  <thead>\n",
       "    <tr style=\"text-align: right;\">\n",
       "      <th></th>\n",
       "      <th>Name</th>\n",
       "      <th>Age</th>\n",
       "      <th>M/F</th>\n",
       "      <th>City</th>\n",
       "      <th>State</th>\n",
       "      <th>Country</th>\n",
       "      <th>Official Time</th>\n",
       "      <th>Overall</th>\n",
       "      <th>Gender</th>\n",
       "      <th>Years Ran</th>\n",
       "    </tr>\n",
       "  </thead>\n",
       "  <tbody>\n",
       "    <tr>\n",
       "      <th>0</th>\n",
       "      <td>Kirui, Geoffrey</td>\n",
       "      <td>24</td>\n",
       "      <td>M</td>\n",
       "      <td>Keringet</td>\n",
       "      <td>NaN</td>\n",
       "      <td>KEN</td>\n",
       "      <td>2:09:37</td>\n",
       "      <td>1</td>\n",
       "      <td>1</td>\n",
       "      <td>NaN</td>\n",
       "    </tr>\n",
       "    <tr>\n",
       "      <th>1</th>\n",
       "      <td>Rupp, Galen</td>\n",
       "      <td>30</td>\n",
       "      <td>M</td>\n",
       "      <td>Portland</td>\n",
       "      <td>OR</td>\n",
       "      <td>USA</td>\n",
       "      <td>2:09:58</td>\n",
       "      <td>2</td>\n",
       "      <td>2</td>\n",
       "      <td>NaN</td>\n",
       "    </tr>\n",
       "    <tr>\n",
       "      <th>2</th>\n",
       "      <td>Osako, Suguru</td>\n",
       "      <td>25</td>\n",
       "      <td>M</td>\n",
       "      <td>Machida-City</td>\n",
       "      <td>NaN</td>\n",
       "      <td>JPN</td>\n",
       "      <td>2:10:28</td>\n",
       "      <td>3</td>\n",
       "      <td>3</td>\n",
       "      <td>NaN</td>\n",
       "    </tr>\n",
       "    <tr>\n",
       "      <th>3</th>\n",
       "      <td>Biwott, Shadrack</td>\n",
       "      <td>32</td>\n",
       "      <td>M</td>\n",
       "      <td>Mammoth Lakes</td>\n",
       "      <td>CA</td>\n",
       "      <td>USA</td>\n",
       "      <td>2:12:08</td>\n",
       "      <td>4</td>\n",
       "      <td>4</td>\n",
       "      <td>NaN</td>\n",
       "    </tr>\n",
       "    <tr>\n",
       "      <th>4</th>\n",
       "      <td>Chebet, Wilson</td>\n",
       "      <td>31</td>\n",
       "      <td>M</td>\n",
       "      <td>Marakwet</td>\n",
       "      <td>NaN</td>\n",
       "      <td>KEN</td>\n",
       "      <td>2:12:35</td>\n",
       "      <td>5</td>\n",
       "      <td>5</td>\n",
       "      <td>2015</td>\n",
       "    </tr>\n",
       "  </tbody>\n",
       "</table>\n",
       "</div>"
      ],
      "text/plain": [
       "                Name  Age M/F           City State Country Official Time  \\\n",
       "0   Kirui, Geoffrey    24   M       Keringet   NaN     KEN       2:09:37   \n",
       "1     Rupp, Galen      30   M       Portland    OR     USA       2:09:58   \n",
       "2    Osako, Suguru     25   M   Machida-City   NaN     JPN       2:10:28   \n",
       "3   Biwott, Shadrack   32   M  Mammoth Lakes    CA     USA       2:12:08   \n",
       "4     Chebet, Wilson   31   M       Marakwet   NaN     KEN       2:12:35   \n",
       "\n",
       "   Overall  Gender Years Ran  \n",
       "0        1       1       NaN  \n",
       "1        2       2       NaN  \n",
       "2        3       3       NaN  \n",
       "3        4       4       NaN  \n",
       "4        5       5      2015  "
      ]
     },
     "execution_count": 34,
     "metadata": {},
     "output_type": "execute_result"
    }
   ],
   "source": [
    "boston.head()"
   ]
  },
  {
   "cell_type": "code",
   "execution_count": 35,
   "id": "2f33e48c",
   "metadata": {},
   "outputs": [
    {
     "data": {
      "text/plain": [
       "0         Kirui, Geoffrey \n",
       "1           Rupp, Galen   \n",
       "2          Osako, Suguru  \n",
       "3         Biwott, Shadrack\n",
       "4           Chebet, Wilson\n",
       "              ...         \n",
       "995           Larosa, Mark\n",
       "996    Williamson, Jerry A\n",
       "997        Mccue, Daniel T\n",
       "998           Larosa, John\n",
       "999         Sanchez, Sam R\n",
       "Name: Name, Length: 1000, dtype: object"
      ]
     },
     "execution_count": 35,
     "metadata": {},
     "output_type": "execute_result"
    }
   ],
   "source": [
    "boston.Name"
   ]
  },
  {
   "cell_type": "code",
   "execution_count": 36,
   "id": "406f388b",
   "metadata": {},
   "outputs": [
    {
     "data": {
      "text/plain": [
       "Name\n",
       "-1     998\n",
       " 8       1\n",
       " 12      1\n",
       "Name: count, dtype: int64"
      ]
     },
     "execution_count": 36,
     "metadata": {},
     "output_type": "execute_result"
    }
   ],
   "source": [
    "boston.Name.str.find('Andy').value_counts()"
   ]
  },
  {
   "cell_type": "code",
   "execution_count": 37,
   "id": "c7df000b",
   "metadata": {},
   "outputs": [],
   "source": [
    "q = \"Pandas numpy numpy Pandas\""
   ]
  },
  {
   "cell_type": "code",
   "execution_count": 38,
   "id": "28392d61",
   "metadata": {},
   "outputs": [
    {
     "data": {
      "text/plain": [
       "0"
      ]
     },
     "execution_count": 38,
     "metadata": {},
     "output_type": "execute_result"
    }
   ],
   "source": [
    "q.find('Pandas')"
   ]
  },
  {
   "cell_type": "code",
   "execution_count": 39,
   "id": "2528cb3e",
   "metadata": {},
   "outputs": [
    {
     "data": {
      "text/plain": [
       "19"
      ]
     },
     "execution_count": 39,
     "metadata": {},
     "output_type": "execute_result"
    }
   ],
   "source": [
    "q.rfind('Pandas')"
   ]
  },
  {
   "cell_type": "code",
   "execution_count": null,
   "id": "948f944f",
   "metadata": {},
   "outputs": [],
   "source": []
  },
  {
   "cell_type": "markdown",
   "id": "27badc83",
   "metadata": {},
   "source": [
    "# Strips and whitespace"
   ]
  },
  {
   "cell_type": "code",
   "execution_count": 40,
   "id": "dd7ad74c",
   "metadata": {},
   "outputs": [
    {
     "data": {
      "text/plain": [
       "True"
      ]
     },
     "execution_count": 40,
     "metadata": {},
     "output_type": "execute_result"
    }
   ],
   "source": [
    "' '.isspace()"
   ]
  },
  {
   "cell_type": "code",
   "execution_count": 41,
   "id": "5f1f2ee1",
   "metadata": {},
   "outputs": [
    {
     "data": {
      "text/plain": [
       "True"
      ]
     },
     "execution_count": 41,
     "metadata": {},
     "output_type": "execute_result"
    }
   ],
   "source": [
    "'\\n'.isspace()"
   ]
  },
  {
   "cell_type": "code",
   "execution_count": 42,
   "id": "ae62cbf1",
   "metadata": {},
   "outputs": [
    {
     "data": {
      "text/plain": [
       "True"
      ]
     },
     "execution_count": 42,
     "metadata": {},
     "output_type": "execute_result"
    }
   ],
   "source": [
    "'\\t'.isspace()"
   ]
  },
  {
   "cell_type": "code",
   "execution_count": 43,
   "id": "0a51be48",
   "metadata": {},
   "outputs": [],
   "source": [
    "left_spaced = '   this is a pandas course'"
   ]
  },
  {
   "cell_type": "code",
   "execution_count": 44,
   "id": "22000ac3",
   "metadata": {},
   "outputs": [],
   "source": [
    "right_spaced = 'we cover plenty of python spaces too!  '"
   ]
  },
  {
   "cell_type": "code",
   "execution_count": 45,
   "id": "e413a574",
   "metadata": {},
   "outputs": [],
   "source": [
    "spaced = '   the name is: Bond \\t JAMES BOND \\n\\n'"
   ]
  },
  {
   "cell_type": "code",
   "execution_count": 46,
   "id": "ef8eeeab",
   "metadata": {},
   "outputs": [
    {
     "name": "stdout",
     "output_type": "stream",
     "text": [
      "   this is a pandas course\n"
     ]
    }
   ],
   "source": [
    "print(left_spaced)"
   ]
  },
  {
   "cell_type": "code",
   "execution_count": 47,
   "id": "b1d6f0ec",
   "metadata": {},
   "outputs": [
    {
     "name": "stdout",
     "output_type": "stream",
     "text": [
      "   the name is: Bond \t JAMES BOND \n",
      "\n",
      "\n"
     ]
    }
   ],
   "source": [
    "print(spaced)"
   ]
  },
  {
   "cell_type": "code",
   "execution_count": 48,
   "id": "56ffcc2b",
   "metadata": {},
   "outputs": [
    {
     "data": {
      "text/plain": [
       "'this is a pandas course'"
      ]
     },
     "execution_count": 48,
     "metadata": {},
     "output_type": "execute_result"
    }
   ],
   "source": [
    "left_spaced.lstrip()"
   ]
  },
  {
   "cell_type": "code",
   "execution_count": 49,
   "id": "96d5b0f2",
   "metadata": {},
   "outputs": [
    {
     "data": {
      "text/plain": [
       "'we cover plenty of python spaces too!'"
      ]
     },
     "execution_count": 49,
     "metadata": {},
     "output_type": "execute_result"
    }
   ],
   "source": [
    "right_spaced.rstrip()"
   ]
  },
  {
   "cell_type": "code",
   "execution_count": 50,
   "id": "4e303098",
   "metadata": {},
   "outputs": [
    {
     "data": {
      "text/plain": [
       "'the name is: Bond \\t JAMES BOND'"
      ]
     },
     "execution_count": 50,
     "metadata": {},
     "output_type": "execute_result"
    }
   ],
   "source": [
    "spaced.strip()"
   ]
  },
  {
   "cell_type": "code",
   "execution_count": 51,
   "id": "cbd9ef1a",
   "metadata": {},
   "outputs": [
    {
     "data": {
      "text/html": [
       "<div>\n",
       "<style scoped>\n",
       "    .dataframe tbody tr th:only-of-type {\n",
       "        vertical-align: middle;\n",
       "    }\n",
       "\n",
       "    .dataframe tbody tr th {\n",
       "        vertical-align: top;\n",
       "    }\n",
       "\n",
       "    .dataframe thead th {\n",
       "        text-align: right;\n",
       "    }\n",
       "</style>\n",
       "<table border=\"1\" class=\"dataframe\">\n",
       "  <thead>\n",
       "    <tr style=\"text-align: right;\">\n",
       "      <th></th>\n",
       "      <th>Name</th>\n",
       "      <th>Age</th>\n",
       "      <th>M/F</th>\n",
       "      <th>City</th>\n",
       "      <th>State</th>\n",
       "      <th>Country</th>\n",
       "      <th>Official Time</th>\n",
       "      <th>Overall</th>\n",
       "      <th>Gender</th>\n",
       "      <th>Years Ran</th>\n",
       "    </tr>\n",
       "  </thead>\n",
       "  <tbody>\n",
       "    <tr>\n",
       "      <th>0</th>\n",
       "      <td>Kirui, Geoffrey</td>\n",
       "      <td>24</td>\n",
       "      <td>M</td>\n",
       "      <td>Keringet</td>\n",
       "      <td>NaN</td>\n",
       "      <td>KEN</td>\n",
       "      <td>2:09:37</td>\n",
       "      <td>1</td>\n",
       "      <td>1</td>\n",
       "      <td>NaN</td>\n",
       "    </tr>\n",
       "    <tr>\n",
       "      <th>1</th>\n",
       "      <td>Rupp, Galen</td>\n",
       "      <td>30</td>\n",
       "      <td>M</td>\n",
       "      <td>Portland</td>\n",
       "      <td>OR</td>\n",
       "      <td>USA</td>\n",
       "      <td>2:09:58</td>\n",
       "      <td>2</td>\n",
       "      <td>2</td>\n",
       "      <td>NaN</td>\n",
       "    </tr>\n",
       "    <tr>\n",
       "      <th>2</th>\n",
       "      <td>Osako, Suguru</td>\n",
       "      <td>25</td>\n",
       "      <td>M</td>\n",
       "      <td>Machida-City</td>\n",
       "      <td>NaN</td>\n",
       "      <td>JPN</td>\n",
       "      <td>2:10:28</td>\n",
       "      <td>3</td>\n",
       "      <td>3</td>\n",
       "      <td>NaN</td>\n",
       "    </tr>\n",
       "    <tr>\n",
       "      <th>3</th>\n",
       "      <td>Biwott, Shadrack</td>\n",
       "      <td>32</td>\n",
       "      <td>M</td>\n",
       "      <td>Mammoth Lakes</td>\n",
       "      <td>CA</td>\n",
       "      <td>USA</td>\n",
       "      <td>2:12:08</td>\n",
       "      <td>4</td>\n",
       "      <td>4</td>\n",
       "      <td>NaN</td>\n",
       "    </tr>\n",
       "    <tr>\n",
       "      <th>4</th>\n",
       "      <td>Chebet, Wilson</td>\n",
       "      <td>31</td>\n",
       "      <td>M</td>\n",
       "      <td>Marakwet</td>\n",
       "      <td>NaN</td>\n",
       "      <td>KEN</td>\n",
       "      <td>2:12:35</td>\n",
       "      <td>5</td>\n",
       "      <td>5</td>\n",
       "      <td>2015</td>\n",
       "    </tr>\n",
       "  </tbody>\n",
       "</table>\n",
       "</div>"
      ],
      "text/plain": [
       "                Name  Age M/F           City State Country Official Time  \\\n",
       "0   Kirui, Geoffrey    24   M       Keringet   NaN     KEN       2:09:37   \n",
       "1     Rupp, Galen      30   M       Portland    OR     USA       2:09:58   \n",
       "2    Osako, Suguru     25   M   Machida-City   NaN     JPN       2:10:28   \n",
       "3   Biwott, Shadrack   32   M  Mammoth Lakes    CA     USA       2:12:08   \n",
       "4     Chebet, Wilson   31   M       Marakwet   NaN     KEN       2:12:35   \n",
       "\n",
       "   Overall  Gender Years Ran  \n",
       "0        1       1       NaN  \n",
       "1        2       2       NaN  \n",
       "2        3       3       NaN  \n",
       "3        4       4       NaN  \n",
       "4        5       5      2015  "
      ]
     },
     "execution_count": 51,
     "metadata": {},
     "output_type": "execute_result"
    }
   ],
   "source": [
    "boston.head()"
   ]
  },
  {
   "cell_type": "code",
   "execution_count": 52,
   "id": "84068842",
   "metadata": {},
   "outputs": [
    {
     "data": {
      "text/plain": [
       "' Kirui, Geoffrey '"
      ]
     },
     "execution_count": 52,
     "metadata": {},
     "output_type": "execute_result"
    }
   ],
   "source": [
    "boston.Name.iloc[0]"
   ]
  },
  {
   "cell_type": "code",
   "execution_count": 53,
   "id": "c8990fff",
   "metadata": {},
   "outputs": [
    {
     "data": {
      "text/plain": [
       "'Rupp, Galen   '"
      ]
     },
     "execution_count": 53,
     "metadata": {},
     "output_type": "execute_result"
    }
   ],
   "source": [
    "boston.Name.iloc[1]"
   ]
  },
  {
   "cell_type": "code",
   "execution_count": 54,
   "id": "c90c0948",
   "metadata": {},
   "outputs": [
    {
     "data": {
      "text/plain": [
       "0    Kirui, Geoffrey\n",
       "1        Rupp, Galen\n",
       "Name: Name, dtype: object"
      ]
     },
     "execution_count": 54,
     "metadata": {},
     "output_type": "execute_result"
    }
   ],
   "source": [
    "boston.Name.iloc[0:2].str.strip()"
   ]
  },
  {
   "cell_type": "code",
   "execution_count": 55,
   "id": "9a3ba4a9",
   "metadata": {},
   "outputs": [],
   "source": [
    "boston.Name = boston.Name.str.strip()"
   ]
  },
  {
   "cell_type": "code",
   "execution_count": 56,
   "id": "cbc5434d",
   "metadata": {},
   "outputs": [
    {
     "data": {
      "text/html": [
       "<div>\n",
       "<style scoped>\n",
       "    .dataframe tbody tr th:only-of-type {\n",
       "        vertical-align: middle;\n",
       "    }\n",
       "\n",
       "    .dataframe tbody tr th {\n",
       "        vertical-align: top;\n",
       "    }\n",
       "\n",
       "    .dataframe thead th {\n",
       "        text-align: right;\n",
       "    }\n",
       "</style>\n",
       "<table border=\"1\" class=\"dataframe\">\n",
       "  <thead>\n",
       "    <tr style=\"text-align: right;\">\n",
       "      <th></th>\n",
       "      <th>Name</th>\n",
       "      <th>Age</th>\n",
       "      <th>M/F</th>\n",
       "      <th>City</th>\n",
       "      <th>State</th>\n",
       "      <th>Country</th>\n",
       "      <th>Official Time</th>\n",
       "      <th>Overall</th>\n",
       "      <th>Gender</th>\n",
       "      <th>Years Ran</th>\n",
       "    </tr>\n",
       "  </thead>\n",
       "  <tbody>\n",
       "    <tr>\n",
       "      <th>0</th>\n",
       "      <td>Kirui, Geoffrey</td>\n",
       "      <td>24</td>\n",
       "      <td>M</td>\n",
       "      <td>Keringet</td>\n",
       "      <td>NaN</td>\n",
       "      <td>KEN</td>\n",
       "      <td>2:09:37</td>\n",
       "      <td>1</td>\n",
       "      <td>1</td>\n",
       "      <td>NaN</td>\n",
       "    </tr>\n",
       "    <tr>\n",
       "      <th>1</th>\n",
       "      <td>Rupp, Galen</td>\n",
       "      <td>30</td>\n",
       "      <td>M</td>\n",
       "      <td>Portland</td>\n",
       "      <td>OR</td>\n",
       "      <td>USA</td>\n",
       "      <td>2:09:58</td>\n",
       "      <td>2</td>\n",
       "      <td>2</td>\n",
       "      <td>NaN</td>\n",
       "    </tr>\n",
       "    <tr>\n",
       "      <th>2</th>\n",
       "      <td>Osako, Suguru</td>\n",
       "      <td>25</td>\n",
       "      <td>M</td>\n",
       "      <td>Machida-City</td>\n",
       "      <td>NaN</td>\n",
       "      <td>JPN</td>\n",
       "      <td>2:10:28</td>\n",
       "      <td>3</td>\n",
       "      <td>3</td>\n",
       "      <td>NaN</td>\n",
       "    </tr>\n",
       "    <tr>\n",
       "      <th>3</th>\n",
       "      <td>Biwott, Shadrack</td>\n",
       "      <td>32</td>\n",
       "      <td>M</td>\n",
       "      <td>Mammoth Lakes</td>\n",
       "      <td>CA</td>\n",
       "      <td>USA</td>\n",
       "      <td>2:12:08</td>\n",
       "      <td>4</td>\n",
       "      <td>4</td>\n",
       "      <td>NaN</td>\n",
       "    </tr>\n",
       "    <tr>\n",
       "      <th>4</th>\n",
       "      <td>Chebet, Wilson</td>\n",
       "      <td>31</td>\n",
       "      <td>M</td>\n",
       "      <td>Marakwet</td>\n",
       "      <td>NaN</td>\n",
       "      <td>KEN</td>\n",
       "      <td>2:12:35</td>\n",
       "      <td>5</td>\n",
       "      <td>5</td>\n",
       "      <td>2015</td>\n",
       "    </tr>\n",
       "  </tbody>\n",
       "</table>\n",
       "</div>"
      ],
      "text/plain": [
       "               Name  Age M/F           City State Country Official Time  \\\n",
       "0   Kirui, Geoffrey   24   M       Keringet   NaN     KEN       2:09:37   \n",
       "1       Rupp, Galen   30   M       Portland    OR     USA       2:09:58   \n",
       "2     Osako, Suguru   25   M   Machida-City   NaN     JPN       2:10:28   \n",
       "3  Biwott, Shadrack   32   M  Mammoth Lakes    CA     USA       2:12:08   \n",
       "4    Chebet, Wilson   31   M       Marakwet   NaN     KEN       2:12:35   \n",
       "\n",
       "   Overall  Gender Years Ran  \n",
       "0        1       1       NaN  \n",
       "1        2       2       NaN  \n",
       "2        3       3       NaN  \n",
       "3        4       4       NaN  \n",
       "4        5       5      2015  "
      ]
     },
     "execution_count": 56,
     "metadata": {},
     "output_type": "execute_result"
    }
   ],
   "source": [
    "boston.head()"
   ]
  },
  {
   "cell_type": "code",
   "execution_count": 57,
   "id": "05332374",
   "metadata": {},
   "outputs": [
    {
     "data": {
      "text/plain": [
       "'Kirui, Geoffrey'"
      ]
     },
     "execution_count": 57,
     "metadata": {},
     "output_type": "execute_result"
    }
   ],
   "source": [
    "boston.Name.iloc[0]"
   ]
  },
  {
   "cell_type": "code",
   "execution_count": null,
   "id": "0e53be5a",
   "metadata": {},
   "outputs": [],
   "source": []
  },
  {
   "cell_type": "markdown",
   "id": "66b31177",
   "metadata": {},
   "source": [
    "# String splitting and concatenation"
   ]
  },
  {
   "cell_type": "code",
   "execution_count": 58,
   "id": "cd7f9545",
   "metadata": {},
   "outputs": [
    {
     "data": {
      "text/plain": [
       "'Welcome to the text manipulation section'"
      ]
     },
     "execution_count": 58,
     "metadata": {},
     "output_type": "execute_result"
    }
   ],
   "source": [
    "s"
   ]
  },
  {
   "cell_type": "code",
   "execution_count": 59,
   "id": "5c82a242",
   "metadata": {},
   "outputs": [
    {
     "data": {
      "text/plain": [
       "['Welcome', 'to', 'the', 'text', 'manipulation', 'section']"
      ]
     },
     "execution_count": 59,
     "metadata": {},
     "output_type": "execute_result"
    }
   ],
   "source": [
    "s.split()"
   ]
  },
  {
   "cell_type": "code",
   "execution_count": 60,
   "id": "84c130bd",
   "metadata": {},
   "outputs": [
    {
     "data": {
      "text/plain": [
       "'   the name is: Bond \\t JAMES BOND \\n\\n'"
      ]
     },
     "execution_count": 60,
     "metadata": {},
     "output_type": "execute_result"
    }
   ],
   "source": [
    "spaced"
   ]
  },
  {
   "cell_type": "code",
   "execution_count": 61,
   "id": "9e2e0833",
   "metadata": {},
   "outputs": [
    {
     "data": {
      "text/plain": [
       "['the', 'name', 'is:', 'Bond', 'JAMES', 'BOND']"
      ]
     },
     "execution_count": 61,
     "metadata": {},
     "output_type": "execute_result"
    }
   ],
   "source": [
    "spaced.split()"
   ]
  },
  {
   "cell_type": "code",
   "execution_count": 62,
   "id": "811cb1b2",
   "metadata": {},
   "outputs": [
    {
     "data": {
      "text/plain": [
       "['', '', '', 'the', 'name', 'is:', 'Bond', '\\t', 'JAMES', 'BOND', '\\n\\n']"
      ]
     },
     "execution_count": 62,
     "metadata": {},
     "output_type": "execute_result"
    }
   ],
   "source": [
    "spaced.split(' ')"
   ]
  },
  {
   "cell_type": "code",
   "execution_count": 63,
   "id": "cce828c3",
   "metadata": {},
   "outputs": [
    {
     "data": {
      "text/plain": [
       "'Welcome to the text manipulation section'"
      ]
     },
     "execution_count": 63,
     "metadata": {},
     "output_type": "execute_result"
    }
   ],
   "source": [
    "s"
   ]
  },
  {
   "cell_type": "code",
   "execution_count": 64,
   "id": "aa175bf0",
   "metadata": {},
   "outputs": [
    {
     "data": {
      "text/plain": [
       "['Welcome to the text manipulation ', 'ection']"
      ]
     },
     "execution_count": 64,
     "metadata": {},
     "output_type": "execute_result"
    }
   ],
   "source": [
    "s.split('s')"
   ]
  },
  {
   "cell_type": "code",
   "execution_count": 65,
   "id": "5bee9653",
   "metadata": {},
   "outputs": [
    {
     "data": {
      "text/html": [
       "<div>\n",
       "<style scoped>\n",
       "    .dataframe tbody tr th:only-of-type {\n",
       "        vertical-align: middle;\n",
       "    }\n",
       "\n",
       "    .dataframe tbody tr th {\n",
       "        vertical-align: top;\n",
       "    }\n",
       "\n",
       "    .dataframe thead th {\n",
       "        text-align: right;\n",
       "    }\n",
       "</style>\n",
       "<table border=\"1\" class=\"dataframe\">\n",
       "  <thead>\n",
       "    <tr style=\"text-align: right;\">\n",
       "      <th></th>\n",
       "      <th>Name</th>\n",
       "      <th>Age</th>\n",
       "      <th>M/F</th>\n",
       "      <th>City</th>\n",
       "      <th>State</th>\n",
       "      <th>Country</th>\n",
       "      <th>Official Time</th>\n",
       "      <th>Overall</th>\n",
       "      <th>Gender</th>\n",
       "      <th>Years Ran</th>\n",
       "    </tr>\n",
       "  </thead>\n",
       "  <tbody>\n",
       "    <tr>\n",
       "      <th>0</th>\n",
       "      <td>Kirui, Geoffrey</td>\n",
       "      <td>24</td>\n",
       "      <td>M</td>\n",
       "      <td>Keringet</td>\n",
       "      <td>NaN</td>\n",
       "      <td>KEN</td>\n",
       "      <td>2:09:37</td>\n",
       "      <td>1</td>\n",
       "      <td>1</td>\n",
       "      <td>NaN</td>\n",
       "    </tr>\n",
       "    <tr>\n",
       "      <th>1</th>\n",
       "      <td>Rupp, Galen</td>\n",
       "      <td>30</td>\n",
       "      <td>M</td>\n",
       "      <td>Portland</td>\n",
       "      <td>OR</td>\n",
       "      <td>USA</td>\n",
       "      <td>2:09:58</td>\n",
       "      <td>2</td>\n",
       "      <td>2</td>\n",
       "      <td>NaN</td>\n",
       "    </tr>\n",
       "    <tr>\n",
       "      <th>2</th>\n",
       "      <td>Osako, Suguru</td>\n",
       "      <td>25</td>\n",
       "      <td>M</td>\n",
       "      <td>Machida-City</td>\n",
       "      <td>NaN</td>\n",
       "      <td>JPN</td>\n",
       "      <td>2:10:28</td>\n",
       "      <td>3</td>\n",
       "      <td>3</td>\n",
       "      <td>NaN</td>\n",
       "    </tr>\n",
       "    <tr>\n",
       "      <th>3</th>\n",
       "      <td>Biwott, Shadrack</td>\n",
       "      <td>32</td>\n",
       "      <td>M</td>\n",
       "      <td>Mammoth Lakes</td>\n",
       "      <td>CA</td>\n",
       "      <td>USA</td>\n",
       "      <td>2:12:08</td>\n",
       "      <td>4</td>\n",
       "      <td>4</td>\n",
       "      <td>NaN</td>\n",
       "    </tr>\n",
       "    <tr>\n",
       "      <th>4</th>\n",
       "      <td>Chebet, Wilson</td>\n",
       "      <td>31</td>\n",
       "      <td>M</td>\n",
       "      <td>Marakwet</td>\n",
       "      <td>NaN</td>\n",
       "      <td>KEN</td>\n",
       "      <td>2:12:35</td>\n",
       "      <td>5</td>\n",
       "      <td>5</td>\n",
       "      <td>2015</td>\n",
       "    </tr>\n",
       "  </tbody>\n",
       "</table>\n",
       "</div>"
      ],
      "text/plain": [
       "               Name  Age M/F           City State Country Official Time  \\\n",
       "0   Kirui, Geoffrey   24   M       Keringet   NaN     KEN       2:09:37   \n",
       "1       Rupp, Galen   30   M       Portland    OR     USA       2:09:58   \n",
       "2     Osako, Suguru   25   M   Machida-City   NaN     JPN       2:10:28   \n",
       "3  Biwott, Shadrack   32   M  Mammoth Lakes    CA     USA       2:12:08   \n",
       "4    Chebet, Wilson   31   M       Marakwet   NaN     KEN       2:12:35   \n",
       "\n",
       "   Overall  Gender Years Ran  \n",
       "0        1       1       NaN  \n",
       "1        2       2       NaN  \n",
       "2        3       3       NaN  \n",
       "3        4       4       NaN  \n",
       "4        5       5      2015  "
      ]
     },
     "execution_count": 65,
     "metadata": {},
     "output_type": "execute_result"
    }
   ],
   "source": [
    "boston.head()"
   ]
  },
  {
   "cell_type": "code",
   "execution_count": 66,
   "id": "d5f2b536",
   "metadata": {},
   "outputs": [
    {
     "data": {
      "text/plain": [
       "0          [Kirui, Geoffrey]\n",
       "1              [Rupp, Galen]\n",
       "2            [Osako, Suguru]\n",
       "3         [Biwott, Shadrack]\n",
       "4           [Chebet, Wilson]\n",
       "               ...          \n",
       "995           [Larosa, Mark]\n",
       "996    [Williamson, Jerry A]\n",
       "997        [Mccue, Daniel T]\n",
       "998           [Larosa, John]\n",
       "999         [Sanchez, Sam R]\n",
       "Name: Name, Length: 1000, dtype: object"
      ]
     },
     "execution_count": 66,
     "metadata": {},
     "output_type": "execute_result"
    }
   ],
   "source": [
    "boston.Name.str.split(', ')"
   ]
  },
  {
   "cell_type": "code",
   "execution_count": 67,
   "id": "675cdd13",
   "metadata": {},
   "outputs": [],
   "source": [
    "# the .get() method"
   ]
  },
  {
   "cell_type": "code",
   "execution_count": 68,
   "id": "eefa61ae",
   "metadata": {},
   "outputs": [],
   "source": [
    "boston['First_Name'] = boston.Name.str.split(', ').str.get(0)"
   ]
  },
  {
   "cell_type": "code",
   "execution_count": 69,
   "id": "6185068e",
   "metadata": {},
   "outputs": [],
   "source": [
    "boston['Last_Name'] = boston.Name.str.split(', ').str.get(1)"
   ]
  },
  {
   "cell_type": "code",
   "execution_count": 70,
   "id": "d15ba37d",
   "metadata": {},
   "outputs": [
    {
     "data": {
      "text/html": [
       "<div>\n",
       "<style scoped>\n",
       "    .dataframe tbody tr th:only-of-type {\n",
       "        vertical-align: middle;\n",
       "    }\n",
       "\n",
       "    .dataframe tbody tr th {\n",
       "        vertical-align: top;\n",
       "    }\n",
       "\n",
       "    .dataframe thead th {\n",
       "        text-align: right;\n",
       "    }\n",
       "</style>\n",
       "<table border=\"1\" class=\"dataframe\">\n",
       "  <thead>\n",
       "    <tr style=\"text-align: right;\">\n",
       "      <th></th>\n",
       "      <th>Name</th>\n",
       "      <th>Age</th>\n",
       "      <th>M/F</th>\n",
       "      <th>City</th>\n",
       "      <th>State</th>\n",
       "      <th>Country</th>\n",
       "      <th>Official Time</th>\n",
       "      <th>Overall</th>\n",
       "      <th>Gender</th>\n",
       "      <th>Years Ran</th>\n",
       "      <th>First_Name</th>\n",
       "      <th>Last_Name</th>\n",
       "    </tr>\n",
       "  </thead>\n",
       "  <tbody>\n",
       "    <tr>\n",
       "      <th>0</th>\n",
       "      <td>Kirui, Geoffrey</td>\n",
       "      <td>24</td>\n",
       "      <td>M</td>\n",
       "      <td>Keringet</td>\n",
       "      <td>NaN</td>\n",
       "      <td>KEN</td>\n",
       "      <td>2:09:37</td>\n",
       "      <td>1</td>\n",
       "      <td>1</td>\n",
       "      <td>NaN</td>\n",
       "      <td>Kirui</td>\n",
       "      <td>Geoffrey</td>\n",
       "    </tr>\n",
       "    <tr>\n",
       "      <th>1</th>\n",
       "      <td>Rupp, Galen</td>\n",
       "      <td>30</td>\n",
       "      <td>M</td>\n",
       "      <td>Portland</td>\n",
       "      <td>OR</td>\n",
       "      <td>USA</td>\n",
       "      <td>2:09:58</td>\n",
       "      <td>2</td>\n",
       "      <td>2</td>\n",
       "      <td>NaN</td>\n",
       "      <td>Rupp</td>\n",
       "      <td>Galen</td>\n",
       "    </tr>\n",
       "    <tr>\n",
       "      <th>2</th>\n",
       "      <td>Osako, Suguru</td>\n",
       "      <td>25</td>\n",
       "      <td>M</td>\n",
       "      <td>Machida-City</td>\n",
       "      <td>NaN</td>\n",
       "      <td>JPN</td>\n",
       "      <td>2:10:28</td>\n",
       "      <td>3</td>\n",
       "      <td>3</td>\n",
       "      <td>NaN</td>\n",
       "      <td>Osako</td>\n",
       "      <td>Suguru</td>\n",
       "    </tr>\n",
       "    <tr>\n",
       "      <th>3</th>\n",
       "      <td>Biwott, Shadrack</td>\n",
       "      <td>32</td>\n",
       "      <td>M</td>\n",
       "      <td>Mammoth Lakes</td>\n",
       "      <td>CA</td>\n",
       "      <td>USA</td>\n",
       "      <td>2:12:08</td>\n",
       "      <td>4</td>\n",
       "      <td>4</td>\n",
       "      <td>NaN</td>\n",
       "      <td>Biwott</td>\n",
       "      <td>Shadrack</td>\n",
       "    </tr>\n",
       "    <tr>\n",
       "      <th>4</th>\n",
       "      <td>Chebet, Wilson</td>\n",
       "      <td>31</td>\n",
       "      <td>M</td>\n",
       "      <td>Marakwet</td>\n",
       "      <td>NaN</td>\n",
       "      <td>KEN</td>\n",
       "      <td>2:12:35</td>\n",
       "      <td>5</td>\n",
       "      <td>5</td>\n",
       "      <td>2015</td>\n",
       "      <td>Chebet</td>\n",
       "      <td>Wilson</td>\n",
       "    </tr>\n",
       "  </tbody>\n",
       "</table>\n",
       "</div>"
      ],
      "text/plain": [
       "               Name  Age M/F           City State Country Official Time  \\\n",
       "0   Kirui, Geoffrey   24   M       Keringet   NaN     KEN       2:09:37   \n",
       "1       Rupp, Galen   30   M       Portland    OR     USA       2:09:58   \n",
       "2     Osako, Suguru   25   M   Machida-City   NaN     JPN       2:10:28   \n",
       "3  Biwott, Shadrack   32   M  Mammoth Lakes    CA     USA       2:12:08   \n",
       "4    Chebet, Wilson   31   M       Marakwet   NaN     KEN       2:12:35   \n",
       "\n",
       "   Overall  Gender Years Ran First_Name Last_Name  \n",
       "0        1       1       NaN      Kirui  Geoffrey  \n",
       "1        2       2       NaN       Rupp     Galen  \n",
       "2        3       3       NaN      Osako    Suguru  \n",
       "3        4       4       NaN     Biwott  Shadrack  \n",
       "4        5       5      2015     Chebet    Wilson  "
      ]
     },
     "execution_count": 70,
     "metadata": {},
     "output_type": "execute_result"
    }
   ],
   "source": [
    "boston.head()"
   ]
  },
  {
   "cell_type": "code",
   "execution_count": 71,
   "id": "f0cd19bf",
   "metadata": {},
   "outputs": [
    {
     "data": {
      "text/plain": [
       "0      M_24\n",
       "1      M_30\n",
       "2      M_25\n",
       "3      M_32\n",
       "4      M_31\n",
       "       ... \n",
       "995    M_38\n",
       "996    M_43\n",
       "997    M_40\n",
       "998    M_35\n",
       "999    M_35\n",
       "Name: M/F, Length: 1000, dtype: object"
      ]
     },
     "execution_count": 71,
     "metadata": {},
     "output_type": "execute_result"
    }
   ],
   "source": [
    "boston['M/F'].str.cat(boston.Age.astype('str'), sep='_')"
   ]
  },
  {
   "cell_type": "code",
   "execution_count": null,
   "id": "c5ec1067",
   "metadata": {},
   "outputs": [],
   "source": []
  },
  {
   "cell_type": "markdown",
   "id": "685915c0",
   "metadata": {},
   "source": [
    "# More split parameters"
   ]
  },
  {
   "cell_type": "code",
   "execution_count": 72,
   "id": "58b36414",
   "metadata": {},
   "outputs": [
    {
     "data": {
      "text/html": [
       "<div>\n",
       "<style scoped>\n",
       "    .dataframe tbody tr th:only-of-type {\n",
       "        vertical-align: middle;\n",
       "    }\n",
       "\n",
       "    .dataframe tbody tr th {\n",
       "        vertical-align: top;\n",
       "    }\n",
       "\n",
       "    .dataframe thead th {\n",
       "        text-align: right;\n",
       "    }\n",
       "</style>\n",
       "<table border=\"1\" class=\"dataframe\">\n",
       "  <thead>\n",
       "    <tr style=\"text-align: right;\">\n",
       "      <th></th>\n",
       "      <th>Name</th>\n",
       "      <th>Age</th>\n",
       "      <th>M/F</th>\n",
       "      <th>City</th>\n",
       "      <th>State</th>\n",
       "      <th>Country</th>\n",
       "      <th>Official Time</th>\n",
       "      <th>Overall</th>\n",
       "      <th>Gender</th>\n",
       "      <th>Years Ran</th>\n",
       "      <th>First_Name</th>\n",
       "      <th>Last_Name</th>\n",
       "    </tr>\n",
       "  </thead>\n",
       "  <tbody>\n",
       "    <tr>\n",
       "      <th>0</th>\n",
       "      <td>Kirui, Geoffrey</td>\n",
       "      <td>24</td>\n",
       "      <td>M</td>\n",
       "      <td>Keringet</td>\n",
       "      <td>NaN</td>\n",
       "      <td>KEN</td>\n",
       "      <td>2:09:37</td>\n",
       "      <td>1</td>\n",
       "      <td>1</td>\n",
       "      <td>NaN</td>\n",
       "      <td>Kirui</td>\n",
       "      <td>Geoffrey</td>\n",
       "    </tr>\n",
       "    <tr>\n",
       "      <th>1</th>\n",
       "      <td>Rupp, Galen</td>\n",
       "      <td>30</td>\n",
       "      <td>M</td>\n",
       "      <td>Portland</td>\n",
       "      <td>OR</td>\n",
       "      <td>USA</td>\n",
       "      <td>2:09:58</td>\n",
       "      <td>2</td>\n",
       "      <td>2</td>\n",
       "      <td>NaN</td>\n",
       "      <td>Rupp</td>\n",
       "      <td>Galen</td>\n",
       "    </tr>\n",
       "    <tr>\n",
       "      <th>2</th>\n",
       "      <td>Osako, Suguru</td>\n",
       "      <td>25</td>\n",
       "      <td>M</td>\n",
       "      <td>Machida-City</td>\n",
       "      <td>NaN</td>\n",
       "      <td>JPN</td>\n",
       "      <td>2:10:28</td>\n",
       "      <td>3</td>\n",
       "      <td>3</td>\n",
       "      <td>NaN</td>\n",
       "      <td>Osako</td>\n",
       "      <td>Suguru</td>\n",
       "    </tr>\n",
       "    <tr>\n",
       "      <th>3</th>\n",
       "      <td>Biwott, Shadrack</td>\n",
       "      <td>32</td>\n",
       "      <td>M</td>\n",
       "      <td>Mammoth Lakes</td>\n",
       "      <td>CA</td>\n",
       "      <td>USA</td>\n",
       "      <td>2:12:08</td>\n",
       "      <td>4</td>\n",
       "      <td>4</td>\n",
       "      <td>NaN</td>\n",
       "      <td>Biwott</td>\n",
       "      <td>Shadrack</td>\n",
       "    </tr>\n",
       "    <tr>\n",
       "      <th>4</th>\n",
       "      <td>Chebet, Wilson</td>\n",
       "      <td>31</td>\n",
       "      <td>M</td>\n",
       "      <td>Marakwet</td>\n",
       "      <td>NaN</td>\n",
       "      <td>KEN</td>\n",
       "      <td>2:12:35</td>\n",
       "      <td>5</td>\n",
       "      <td>5</td>\n",
       "      <td>2015</td>\n",
       "      <td>Chebet</td>\n",
       "      <td>Wilson</td>\n",
       "    </tr>\n",
       "  </tbody>\n",
       "</table>\n",
       "</div>"
      ],
      "text/plain": [
       "               Name  Age M/F           City State Country Official Time  \\\n",
       "0   Kirui, Geoffrey   24   M       Keringet   NaN     KEN       2:09:37   \n",
       "1       Rupp, Galen   30   M       Portland    OR     USA       2:09:58   \n",
       "2     Osako, Suguru   25   M   Machida-City   NaN     JPN       2:10:28   \n",
       "3  Biwott, Shadrack   32   M  Mammoth Lakes    CA     USA       2:12:08   \n",
       "4    Chebet, Wilson   31   M       Marakwet   NaN     KEN       2:12:35   \n",
       "\n",
       "   Overall  Gender Years Ran First_Name Last_Name  \n",
       "0        1       1       NaN      Kirui  Geoffrey  \n",
       "1        2       2       NaN       Rupp     Galen  \n",
       "2        3       3       NaN      Osako    Suguru  \n",
       "3        4       4       NaN     Biwott  Shadrack  \n",
       "4        5       5      2015     Chebet    Wilson  "
      ]
     },
     "execution_count": 72,
     "metadata": {},
     "output_type": "execute_result"
    }
   ],
   "source": [
    "boston.head()"
   ]
  },
  {
   "cell_type": "code",
   "execution_count": 73,
   "id": "444d8710",
   "metadata": {},
   "outputs": [],
   "source": [
    "boston.drop(columns=['First_Name', 'Last_Name'], inplace=True)"
   ]
  },
  {
   "cell_type": "code",
   "execution_count": 74,
   "id": "174c073d",
   "metadata": {},
   "outputs": [
    {
     "data": {
      "text/html": [
       "<div>\n",
       "<style scoped>\n",
       "    .dataframe tbody tr th:only-of-type {\n",
       "        vertical-align: middle;\n",
       "    }\n",
       "\n",
       "    .dataframe tbody tr th {\n",
       "        vertical-align: top;\n",
       "    }\n",
       "\n",
       "    .dataframe thead th {\n",
       "        text-align: right;\n",
       "    }\n",
       "</style>\n",
       "<table border=\"1\" class=\"dataframe\">\n",
       "  <thead>\n",
       "    <tr style=\"text-align: right;\">\n",
       "      <th></th>\n",
       "      <th>Name</th>\n",
       "      <th>Age</th>\n",
       "      <th>M/F</th>\n",
       "      <th>City</th>\n",
       "      <th>State</th>\n",
       "      <th>Country</th>\n",
       "      <th>Official Time</th>\n",
       "      <th>Overall</th>\n",
       "      <th>Gender</th>\n",
       "      <th>Years Ran</th>\n",
       "    </tr>\n",
       "  </thead>\n",
       "  <tbody>\n",
       "    <tr>\n",
       "      <th>0</th>\n",
       "      <td>Kirui, Geoffrey</td>\n",
       "      <td>24</td>\n",
       "      <td>M</td>\n",
       "      <td>Keringet</td>\n",
       "      <td>NaN</td>\n",
       "      <td>KEN</td>\n",
       "      <td>2:09:37</td>\n",
       "      <td>1</td>\n",
       "      <td>1</td>\n",
       "      <td>NaN</td>\n",
       "    </tr>\n",
       "    <tr>\n",
       "      <th>1</th>\n",
       "      <td>Rupp, Galen</td>\n",
       "      <td>30</td>\n",
       "      <td>M</td>\n",
       "      <td>Portland</td>\n",
       "      <td>OR</td>\n",
       "      <td>USA</td>\n",
       "      <td>2:09:58</td>\n",
       "      <td>2</td>\n",
       "      <td>2</td>\n",
       "      <td>NaN</td>\n",
       "    </tr>\n",
       "    <tr>\n",
       "      <th>2</th>\n",
       "      <td>Osako, Suguru</td>\n",
       "      <td>25</td>\n",
       "      <td>M</td>\n",
       "      <td>Machida-City</td>\n",
       "      <td>NaN</td>\n",
       "      <td>JPN</td>\n",
       "      <td>2:10:28</td>\n",
       "      <td>3</td>\n",
       "      <td>3</td>\n",
       "      <td>NaN</td>\n",
       "    </tr>\n",
       "    <tr>\n",
       "      <th>3</th>\n",
       "      <td>Biwott, Shadrack</td>\n",
       "      <td>32</td>\n",
       "      <td>M</td>\n",
       "      <td>Mammoth Lakes</td>\n",
       "      <td>CA</td>\n",
       "      <td>USA</td>\n",
       "      <td>2:12:08</td>\n",
       "      <td>4</td>\n",
       "      <td>4</td>\n",
       "      <td>NaN</td>\n",
       "    </tr>\n",
       "    <tr>\n",
       "      <th>4</th>\n",
       "      <td>Chebet, Wilson</td>\n",
       "      <td>31</td>\n",
       "      <td>M</td>\n",
       "      <td>Marakwet</td>\n",
       "      <td>NaN</td>\n",
       "      <td>KEN</td>\n",
       "      <td>2:12:35</td>\n",
       "      <td>5</td>\n",
       "      <td>5</td>\n",
       "      <td>2015</td>\n",
       "    </tr>\n",
       "  </tbody>\n",
       "</table>\n",
       "</div>"
      ],
      "text/plain": [
       "               Name  Age M/F           City State Country Official Time  \\\n",
       "0   Kirui, Geoffrey   24   M       Keringet   NaN     KEN       2:09:37   \n",
       "1       Rupp, Galen   30   M       Portland    OR     USA       2:09:58   \n",
       "2     Osako, Suguru   25   M   Machida-City   NaN     JPN       2:10:28   \n",
       "3  Biwott, Shadrack   32   M  Mammoth Lakes    CA     USA       2:12:08   \n",
       "4    Chebet, Wilson   31   M       Marakwet   NaN     KEN       2:12:35   \n",
       "\n",
       "   Overall  Gender Years Ran  \n",
       "0        1       1       NaN  \n",
       "1        2       2       NaN  \n",
       "2        3       3       NaN  \n",
       "3        4       4       NaN  \n",
       "4        5       5      2015  "
      ]
     },
     "execution_count": 74,
     "metadata": {},
     "output_type": "execute_result"
    }
   ],
   "source": [
    "boston.head()"
   ]
  },
  {
   "cell_type": "code",
   "execution_count": 75,
   "id": "f3cd24a9",
   "metadata": {},
   "outputs": [],
   "source": [
    "# the expand param"
   ]
  },
  {
   "cell_type": "code",
   "execution_count": 76,
   "id": "0a1d3d7b",
   "metadata": {},
   "outputs": [
    {
     "data": {
      "text/html": [
       "<div>\n",
       "<style scoped>\n",
       "    .dataframe tbody tr th:only-of-type {\n",
       "        vertical-align: middle;\n",
       "    }\n",
       "\n",
       "    .dataframe tbody tr th {\n",
       "        vertical-align: top;\n",
       "    }\n",
       "\n",
       "    .dataframe thead th {\n",
       "        text-align: right;\n",
       "    }\n",
       "</style>\n",
       "<table border=\"1\" class=\"dataframe\">\n",
       "  <thead>\n",
       "    <tr style=\"text-align: right;\">\n",
       "      <th></th>\n",
       "      <th>0</th>\n",
       "      <th>1</th>\n",
       "    </tr>\n",
       "  </thead>\n",
       "  <tbody>\n",
       "    <tr>\n",
       "      <th>0</th>\n",
       "      <td>Kirui</td>\n",
       "      <td>Geoffrey</td>\n",
       "    </tr>\n",
       "    <tr>\n",
       "      <th>1</th>\n",
       "      <td>Rupp</td>\n",
       "      <td>Galen</td>\n",
       "    </tr>\n",
       "    <tr>\n",
       "      <th>2</th>\n",
       "      <td>Osako</td>\n",
       "      <td>Suguru</td>\n",
       "    </tr>\n",
       "    <tr>\n",
       "      <th>3</th>\n",
       "      <td>Biwott</td>\n",
       "      <td>Shadrack</td>\n",
       "    </tr>\n",
       "    <tr>\n",
       "      <th>4</th>\n",
       "      <td>Chebet</td>\n",
       "      <td>Wilson</td>\n",
       "    </tr>\n",
       "    <tr>\n",
       "      <th>...</th>\n",
       "      <td>...</td>\n",
       "      <td>...</td>\n",
       "    </tr>\n",
       "    <tr>\n",
       "      <th>995</th>\n",
       "      <td>Larosa</td>\n",
       "      <td>Mark</td>\n",
       "    </tr>\n",
       "    <tr>\n",
       "      <th>996</th>\n",
       "      <td>Williamson</td>\n",
       "      <td>Jerry A</td>\n",
       "    </tr>\n",
       "    <tr>\n",
       "      <th>997</th>\n",
       "      <td>Mccue</td>\n",
       "      <td>Daniel T</td>\n",
       "    </tr>\n",
       "    <tr>\n",
       "      <th>998</th>\n",
       "      <td>Larosa</td>\n",
       "      <td>John</td>\n",
       "    </tr>\n",
       "    <tr>\n",
       "      <th>999</th>\n",
       "      <td>Sanchez</td>\n",
       "      <td>Sam R</td>\n",
       "    </tr>\n",
       "  </tbody>\n",
       "</table>\n",
       "<p>1000 rows × 2 columns</p>\n",
       "</div>"
      ],
      "text/plain": [
       "              0          1\n",
       "0         Kirui   Geoffrey\n",
       "1          Rupp      Galen\n",
       "2         Osako     Suguru\n",
       "3        Biwott   Shadrack\n",
       "4        Chebet     Wilson\n",
       "..          ...        ...\n",
       "995      Larosa       Mark\n",
       "996  Williamson    Jerry A\n",
       "997       Mccue   Daniel T\n",
       "998      Larosa       John\n",
       "999     Sanchez      Sam R\n",
       "\n",
       "[1000 rows x 2 columns]"
      ]
     },
     "execution_count": 76,
     "metadata": {},
     "output_type": "execute_result"
    }
   ],
   "source": [
    "boston.Name.str.split(',', expand=True)"
   ]
  },
  {
   "cell_type": "code",
   "execution_count": 77,
   "id": "de3e9894",
   "metadata": {},
   "outputs": [
    {
     "data": {
      "text/html": [
       "<div>\n",
       "<style scoped>\n",
       "    .dataframe tbody tr th:only-of-type {\n",
       "        vertical-align: middle;\n",
       "    }\n",
       "\n",
       "    .dataframe tbody tr th {\n",
       "        vertical-align: top;\n",
       "    }\n",
       "\n",
       "    .dataframe thead th {\n",
       "        text-align: right;\n",
       "    }\n",
       "</style>\n",
       "<table border=\"1\" class=\"dataframe\">\n",
       "  <thead>\n",
       "    <tr style=\"text-align: right;\">\n",
       "      <th></th>\n",
       "      <th>0</th>\n",
       "      <th>1</th>\n",
       "      <th>2</th>\n",
       "      <th>3</th>\n",
       "      <th>4</th>\n",
       "    </tr>\n",
       "  </thead>\n",
       "  <tbody>\n",
       "    <tr>\n",
       "      <th>0</th>\n",
       "      <td>Kirui,</td>\n",
       "      <td>Geoffrey</td>\n",
       "      <td>None</td>\n",
       "      <td>None</td>\n",
       "      <td>None</td>\n",
       "    </tr>\n",
       "    <tr>\n",
       "      <th>1</th>\n",
       "      <td>Rupp,</td>\n",
       "      <td>Galen</td>\n",
       "      <td>None</td>\n",
       "      <td>None</td>\n",
       "      <td>None</td>\n",
       "    </tr>\n",
       "    <tr>\n",
       "      <th>2</th>\n",
       "      <td>Osako,</td>\n",
       "      <td>Suguru</td>\n",
       "      <td>None</td>\n",
       "      <td>None</td>\n",
       "      <td>None</td>\n",
       "    </tr>\n",
       "    <tr>\n",
       "      <th>3</th>\n",
       "      <td>Biwott,</td>\n",
       "      <td>Shadrack</td>\n",
       "      <td>None</td>\n",
       "      <td>None</td>\n",
       "      <td>None</td>\n",
       "    </tr>\n",
       "    <tr>\n",
       "      <th>4</th>\n",
       "      <td>Chebet,</td>\n",
       "      <td>Wilson</td>\n",
       "      <td>None</td>\n",
       "      <td>None</td>\n",
       "      <td>None</td>\n",
       "    </tr>\n",
       "    <tr>\n",
       "      <th>...</th>\n",
       "      <td>...</td>\n",
       "      <td>...</td>\n",
       "      <td>...</td>\n",
       "      <td>...</td>\n",
       "      <td>...</td>\n",
       "    </tr>\n",
       "    <tr>\n",
       "      <th>995</th>\n",
       "      <td>Larosa,</td>\n",
       "      <td>Mark</td>\n",
       "      <td>None</td>\n",
       "      <td>None</td>\n",
       "      <td>None</td>\n",
       "    </tr>\n",
       "    <tr>\n",
       "      <th>996</th>\n",
       "      <td>Williamson,</td>\n",
       "      <td>Jerry</td>\n",
       "      <td>A</td>\n",
       "      <td>None</td>\n",
       "      <td>None</td>\n",
       "    </tr>\n",
       "    <tr>\n",
       "      <th>997</th>\n",
       "      <td>Mccue,</td>\n",
       "      <td>Daniel</td>\n",
       "      <td>T</td>\n",
       "      <td>None</td>\n",
       "      <td>None</td>\n",
       "    </tr>\n",
       "    <tr>\n",
       "      <th>998</th>\n",
       "      <td>Larosa,</td>\n",
       "      <td>John</td>\n",
       "      <td>None</td>\n",
       "      <td>None</td>\n",
       "      <td>None</td>\n",
       "    </tr>\n",
       "    <tr>\n",
       "      <th>999</th>\n",
       "      <td>Sanchez,</td>\n",
       "      <td>Sam</td>\n",
       "      <td>R</td>\n",
       "      <td>None</td>\n",
       "      <td>None</td>\n",
       "    </tr>\n",
       "  </tbody>\n",
       "</table>\n",
       "<p>1000 rows × 5 columns</p>\n",
       "</div>"
      ],
      "text/plain": [
       "               0         1     2     3     4\n",
       "0         Kirui,  Geoffrey  None  None  None\n",
       "1          Rupp,     Galen  None  None  None\n",
       "2         Osako,    Suguru  None  None  None\n",
       "3        Biwott,  Shadrack  None  None  None\n",
       "4        Chebet,    Wilson  None  None  None\n",
       "..           ...       ...   ...   ...   ...\n",
       "995      Larosa,      Mark  None  None  None\n",
       "996  Williamson,     Jerry     A  None  None\n",
       "997       Mccue,    Daniel     T  None  None\n",
       "998      Larosa,      John  None  None  None\n",
       "999     Sanchez,       Sam     R  None  None\n",
       "\n",
       "[1000 rows x 5 columns]"
      ]
     },
     "execution_count": 77,
     "metadata": {},
     "output_type": "execute_result"
    }
   ],
   "source": [
    "boston.Name.str.split(expand=True)"
   ]
  },
  {
   "cell_type": "code",
   "execution_count": 78,
   "id": "b21c58b6",
   "metadata": {},
   "outputs": [
    {
     "data": {
      "text/plain": [
       "203    Cifuentes Fetiva, Miguel Angel Sr.\n",
       "467      Martinez Solano, Juan Manuel Jr.\n",
       "678        Melendez, Carlos Manuel M. Sr.\n",
       "733        Castano Gonzalez, Angel U. Sr.\n",
       "Name: Name, dtype: object"
      ]
     },
     "execution_count": 78,
     "metadata": {},
     "output_type": "execute_result"
    }
   ],
   "source": [
    "boston.Name[boston.Name.str.split(expand=True).count(axis=1) == 5]"
   ]
  },
  {
   "cell_type": "code",
   "execution_count": 79,
   "id": "b5a27ce7",
   "metadata": {},
   "outputs": [
    {
     "data": {
      "text/html": [
       "<div>\n",
       "<style scoped>\n",
       "    .dataframe tbody tr th:only-of-type {\n",
       "        vertical-align: middle;\n",
       "    }\n",
       "\n",
       "    .dataframe tbody tr th {\n",
       "        vertical-align: top;\n",
       "    }\n",
       "\n",
       "    .dataframe thead th {\n",
       "        text-align: right;\n",
       "    }\n",
       "</style>\n",
       "<table border=\"1\" class=\"dataframe\">\n",
       "  <thead>\n",
       "    <tr style=\"text-align: right;\">\n",
       "      <th></th>\n",
       "      <th>0</th>\n",
       "      <th>1</th>\n",
       "      <th>2</th>\n",
       "    </tr>\n",
       "  </thead>\n",
       "  <tbody>\n",
       "    <tr>\n",
       "      <th>0</th>\n",
       "      <td>Kirui,</td>\n",
       "      <td>Geoffrey</td>\n",
       "      <td>None</td>\n",
       "    </tr>\n",
       "    <tr>\n",
       "      <th>1</th>\n",
       "      <td>Rupp,</td>\n",
       "      <td>Galen</td>\n",
       "      <td>None</td>\n",
       "    </tr>\n",
       "    <tr>\n",
       "      <th>2</th>\n",
       "      <td>Osako,</td>\n",
       "      <td>Suguru</td>\n",
       "      <td>None</td>\n",
       "    </tr>\n",
       "    <tr>\n",
       "      <th>3</th>\n",
       "      <td>Biwott,</td>\n",
       "      <td>Shadrack</td>\n",
       "      <td>None</td>\n",
       "    </tr>\n",
       "    <tr>\n",
       "      <th>4</th>\n",
       "      <td>Chebet,</td>\n",
       "      <td>Wilson</td>\n",
       "      <td>None</td>\n",
       "    </tr>\n",
       "    <tr>\n",
       "      <th>...</th>\n",
       "      <td>...</td>\n",
       "      <td>...</td>\n",
       "      <td>...</td>\n",
       "    </tr>\n",
       "    <tr>\n",
       "      <th>995</th>\n",
       "      <td>Larosa,</td>\n",
       "      <td>Mark</td>\n",
       "      <td>None</td>\n",
       "    </tr>\n",
       "    <tr>\n",
       "      <th>996</th>\n",
       "      <td>Williamson,</td>\n",
       "      <td>Jerry</td>\n",
       "      <td>A</td>\n",
       "    </tr>\n",
       "    <tr>\n",
       "      <th>997</th>\n",
       "      <td>Mccue,</td>\n",
       "      <td>Daniel</td>\n",
       "      <td>T</td>\n",
       "    </tr>\n",
       "    <tr>\n",
       "      <th>998</th>\n",
       "      <td>Larosa,</td>\n",
       "      <td>John</td>\n",
       "      <td>None</td>\n",
       "    </tr>\n",
       "    <tr>\n",
       "      <th>999</th>\n",
       "      <td>Sanchez,</td>\n",
       "      <td>Sam</td>\n",
       "      <td>R</td>\n",
       "    </tr>\n",
       "  </tbody>\n",
       "</table>\n",
       "<p>1000 rows × 3 columns</p>\n",
       "</div>"
      ],
      "text/plain": [
       "               0         1     2\n",
       "0         Kirui,  Geoffrey  None\n",
       "1          Rupp,     Galen  None\n",
       "2         Osako,    Suguru  None\n",
       "3        Biwott,  Shadrack  None\n",
       "4        Chebet,    Wilson  None\n",
       "..           ...       ...   ...\n",
       "995      Larosa,      Mark  None\n",
       "996  Williamson,     Jerry     A\n",
       "997       Mccue,    Daniel     T\n",
       "998      Larosa,      John  None\n",
       "999     Sanchez,       Sam     R\n",
       "\n",
       "[1000 rows x 3 columns]"
      ]
     },
     "execution_count": 79,
     "metadata": {},
     "output_type": "execute_result"
    }
   ],
   "source": [
    "boston.Name.str.split(expand=True, n = 2)"
   ]
  },
  {
   "cell_type": "code",
   "execution_count": 80,
   "id": "f5205bea",
   "metadata": {},
   "outputs": [
    {
     "data": {
      "text/html": [
       "<div>\n",
       "<style scoped>\n",
       "    .dataframe tbody tr th:only-of-type {\n",
       "        vertical-align: middle;\n",
       "    }\n",
       "\n",
       "    .dataframe tbody tr th {\n",
       "        vertical-align: top;\n",
       "    }\n",
       "\n",
       "    .dataframe thead th {\n",
       "        text-align: right;\n",
       "    }\n",
       "</style>\n",
       "<table border=\"1\" class=\"dataframe\">\n",
       "  <thead>\n",
       "    <tr style=\"text-align: right;\">\n",
       "      <th></th>\n",
       "      <th>0</th>\n",
       "      <th>1</th>\n",
       "    </tr>\n",
       "  </thead>\n",
       "  <tbody>\n",
       "    <tr>\n",
       "      <th>0</th>\n",
       "      <td>Kirui</td>\n",
       "      <td>Geoffrey</td>\n",
       "    </tr>\n",
       "    <tr>\n",
       "      <th>1</th>\n",
       "      <td>Rupp</td>\n",
       "      <td>Galen</td>\n",
       "    </tr>\n",
       "    <tr>\n",
       "      <th>2</th>\n",
       "      <td>Osako</td>\n",
       "      <td>Suguru</td>\n",
       "    </tr>\n",
       "    <tr>\n",
       "      <th>3</th>\n",
       "      <td>Biwott</td>\n",
       "      <td>Shadrack</td>\n",
       "    </tr>\n",
       "    <tr>\n",
       "      <th>4</th>\n",
       "      <td>Chebet</td>\n",
       "      <td>Wilson</td>\n",
       "    </tr>\n",
       "    <tr>\n",
       "      <th>...</th>\n",
       "      <td>...</td>\n",
       "      <td>...</td>\n",
       "    </tr>\n",
       "    <tr>\n",
       "      <th>995</th>\n",
       "      <td>Larosa</td>\n",
       "      <td>Mark</td>\n",
       "    </tr>\n",
       "    <tr>\n",
       "      <th>996</th>\n",
       "      <td>Williamson</td>\n",
       "      <td>Jerry A</td>\n",
       "    </tr>\n",
       "    <tr>\n",
       "      <th>997</th>\n",
       "      <td>Mccue</td>\n",
       "      <td>Daniel T</td>\n",
       "    </tr>\n",
       "    <tr>\n",
       "      <th>998</th>\n",
       "      <td>Larosa</td>\n",
       "      <td>John</td>\n",
       "    </tr>\n",
       "    <tr>\n",
       "      <th>999</th>\n",
       "      <td>Sanchez</td>\n",
       "      <td>Sam R</td>\n",
       "    </tr>\n",
       "  </tbody>\n",
       "</table>\n",
       "<p>1000 rows × 2 columns</p>\n",
       "</div>"
      ],
      "text/plain": [
       "              0         1\n",
       "0         Kirui  Geoffrey\n",
       "1          Rupp     Galen\n",
       "2         Osako    Suguru\n",
       "3        Biwott  Shadrack\n",
       "4        Chebet    Wilson\n",
       "..          ...       ...\n",
       "995      Larosa      Mark\n",
       "996  Williamson   Jerry A\n",
       "997       Mccue  Daniel T\n",
       "998      Larosa      John\n",
       "999     Sanchez     Sam R\n",
       "\n",
       "[1000 rows x 2 columns]"
      ]
     },
     "execution_count": 80,
     "metadata": {},
     "output_type": "execute_result"
    }
   ],
   "source": [
    "boston.Name.str.split(', ', expand=True)"
   ]
  },
  {
   "cell_type": "code",
   "execution_count": 81,
   "id": "9816cb3c",
   "metadata": {},
   "outputs": [],
   "source": [
    "boston[['First_Name','Last_Name']] = boston.Name.str.split(', ', expand=True)"
   ]
  },
  {
   "cell_type": "code",
   "execution_count": 82,
   "id": "54948a9e",
   "metadata": {},
   "outputs": [
    {
     "data": {
      "text/html": [
       "<div>\n",
       "<style scoped>\n",
       "    .dataframe tbody tr th:only-of-type {\n",
       "        vertical-align: middle;\n",
       "    }\n",
       "\n",
       "    .dataframe tbody tr th {\n",
       "        vertical-align: top;\n",
       "    }\n",
       "\n",
       "    .dataframe thead th {\n",
       "        text-align: right;\n",
       "    }\n",
       "</style>\n",
       "<table border=\"1\" class=\"dataframe\">\n",
       "  <thead>\n",
       "    <tr style=\"text-align: right;\">\n",
       "      <th></th>\n",
       "      <th>Name</th>\n",
       "      <th>Age</th>\n",
       "      <th>M/F</th>\n",
       "      <th>City</th>\n",
       "      <th>State</th>\n",
       "      <th>Country</th>\n",
       "      <th>Official Time</th>\n",
       "      <th>Overall</th>\n",
       "      <th>Gender</th>\n",
       "      <th>Years Ran</th>\n",
       "      <th>First_Name</th>\n",
       "      <th>Last_Name</th>\n",
       "    </tr>\n",
       "  </thead>\n",
       "  <tbody>\n",
       "    <tr>\n",
       "      <th>0</th>\n",
       "      <td>Kirui, Geoffrey</td>\n",
       "      <td>24</td>\n",
       "      <td>M</td>\n",
       "      <td>Keringet</td>\n",
       "      <td>NaN</td>\n",
       "      <td>KEN</td>\n",
       "      <td>2:09:37</td>\n",
       "      <td>1</td>\n",
       "      <td>1</td>\n",
       "      <td>NaN</td>\n",
       "      <td>Kirui</td>\n",
       "      <td>Geoffrey</td>\n",
       "    </tr>\n",
       "    <tr>\n",
       "      <th>1</th>\n",
       "      <td>Rupp, Galen</td>\n",
       "      <td>30</td>\n",
       "      <td>M</td>\n",
       "      <td>Portland</td>\n",
       "      <td>OR</td>\n",
       "      <td>USA</td>\n",
       "      <td>2:09:58</td>\n",
       "      <td>2</td>\n",
       "      <td>2</td>\n",
       "      <td>NaN</td>\n",
       "      <td>Rupp</td>\n",
       "      <td>Galen</td>\n",
       "    </tr>\n",
       "    <tr>\n",
       "      <th>2</th>\n",
       "      <td>Osako, Suguru</td>\n",
       "      <td>25</td>\n",
       "      <td>M</td>\n",
       "      <td>Machida-City</td>\n",
       "      <td>NaN</td>\n",
       "      <td>JPN</td>\n",
       "      <td>2:10:28</td>\n",
       "      <td>3</td>\n",
       "      <td>3</td>\n",
       "      <td>NaN</td>\n",
       "      <td>Osako</td>\n",
       "      <td>Suguru</td>\n",
       "    </tr>\n",
       "    <tr>\n",
       "      <th>3</th>\n",
       "      <td>Biwott, Shadrack</td>\n",
       "      <td>32</td>\n",
       "      <td>M</td>\n",
       "      <td>Mammoth Lakes</td>\n",
       "      <td>CA</td>\n",
       "      <td>USA</td>\n",
       "      <td>2:12:08</td>\n",
       "      <td>4</td>\n",
       "      <td>4</td>\n",
       "      <td>NaN</td>\n",
       "      <td>Biwott</td>\n",
       "      <td>Shadrack</td>\n",
       "    </tr>\n",
       "    <tr>\n",
       "      <th>4</th>\n",
       "      <td>Chebet, Wilson</td>\n",
       "      <td>31</td>\n",
       "      <td>M</td>\n",
       "      <td>Marakwet</td>\n",
       "      <td>NaN</td>\n",
       "      <td>KEN</td>\n",
       "      <td>2:12:35</td>\n",
       "      <td>5</td>\n",
       "      <td>5</td>\n",
       "      <td>2015</td>\n",
       "      <td>Chebet</td>\n",
       "      <td>Wilson</td>\n",
       "    </tr>\n",
       "  </tbody>\n",
       "</table>\n",
       "</div>"
      ],
      "text/plain": [
       "               Name  Age M/F           City State Country Official Time  \\\n",
       "0   Kirui, Geoffrey   24   M       Keringet   NaN     KEN       2:09:37   \n",
       "1       Rupp, Galen   30   M       Portland    OR     USA       2:09:58   \n",
       "2     Osako, Suguru   25   M   Machida-City   NaN     JPN       2:10:28   \n",
       "3  Biwott, Shadrack   32   M  Mammoth Lakes    CA     USA       2:12:08   \n",
       "4    Chebet, Wilson   31   M       Marakwet   NaN     KEN       2:12:35   \n",
       "\n",
       "   Overall  Gender Years Ran First_Name Last_Name  \n",
       "0        1       1       NaN      Kirui  Geoffrey  \n",
       "1        2       2       NaN       Rupp     Galen  \n",
       "2        3       3       NaN      Osako    Suguru  \n",
       "3        4       4       NaN     Biwott  Shadrack  \n",
       "4        5       5      2015     Chebet    Wilson  "
      ]
     },
     "execution_count": 82,
     "metadata": {},
     "output_type": "execute_result"
    }
   ],
   "source": [
    "boston.head()"
   ]
  },
  {
   "cell_type": "code",
   "execution_count": null,
   "id": "3689eae1",
   "metadata": {},
   "outputs": [],
   "source": []
  },
  {
   "cell_type": "markdown",
   "id": "c755cd79",
   "metadata": {},
   "source": [
    "# Skill challenge"
   ]
  },
  {
   "cell_type": "code",
   "execution_count": 83,
   "id": "76d635f3",
   "metadata": {},
   "outputs": [
    {
     "data": {
      "text/plain": [
       "12"
      ]
     },
     "execution_count": 83,
     "metadata": {},
     "output_type": "execute_result"
    }
   ],
   "source": [
    "# How many runners in our dataset have 'James' as a last name\n",
    "boston.Last_Name[boston.Last_Name.str.startswith('James')].count()"
   ]
  },
  {
   "cell_type": "code",
   "execution_count": 84,
   "id": "f3cd31c8",
   "metadata": {},
   "outputs": [],
   "source": [
    "# split all the city names in the dataset by the hyphen character('-') and create a dataframe containing each split component\n",
    "# of the split name. Assign the dataframe to the variable city_parts\n",
    "\n",
    "city_parts = boston.City.str.split('-', expand=True)"
   ]
  },
  {
   "cell_type": "code",
   "execution_count": 85,
   "id": "4e8148b6",
   "metadata": {},
   "outputs": [
    {
     "data": {
      "text/plain": [
       "13"
      ]
     },
     "execution_count": 85,
     "metadata": {},
     "output_type": "execute_result"
    }
   ],
   "source": [
    "# How many cities in the boston have more that 1 component? which cities are they\n",
    "len(boston[city_parts.count(axis=1) > 1].City)"
   ]
  },
  {
   "cell_type": "code",
   "execution_count": 86,
   "id": "3ad39642",
   "metadata": {},
   "outputs": [
    {
     "data": {
      "text/plain": [
       "2                    Machida-City\n",
       "35                 Sao Paulo - Sp\n",
       "188                  Baie-St-Paul\n",
       "201            Houghton-Le-Spring\n",
       "371          Boulogne-Billancourt\n",
       "420                    Mont-Royal\n",
       "585                Gif-Sur-Yvette\n",
       "615        Fossambault-Sur-Le-Lac\n",
       "724         Wiesbaden-Breckenheim\n",
       "727                    Saint-Tite\n",
       "794                   Marica - Rj\n",
       "820    Sainte-Catherine-De-Hatley\n",
       "830                    Pont-Rouge\n",
       "Name: City, dtype: object"
      ]
     },
     "execution_count": 86,
     "metadata": {},
     "output_type": "execute_result"
    }
   ],
   "source": [
    "boston[city_parts.count(axis=1) > 1].City"
   ]
  },
  {
   "cell_type": "code",
   "execution_count": 87,
   "id": "9878e000",
   "metadata": {},
   "outputs": [
    {
     "data": {
      "text/plain": [
       "Country\n",
       "CAN    6\n",
       "BRA    2\n",
       "FRA    2\n",
       "JPN    1\n",
       "GBR    1\n",
       "GER    1\n",
       "Name: count, dtype: int64"
      ]
     },
     "execution_count": 87,
     "metadata": {},
     "output_type": "execute_result"
    }
   ],
   "source": [
    "boston[city_parts.count(axis=1) > 1].Country.value_counts()"
   ]
  },
  {
   "cell_type": "code",
   "execution_count": null,
   "id": "dba68a4e",
   "metadata": {},
   "outputs": [],
   "source": []
  },
  {
   "cell_type": "markdown",
   "id": "8d2c2d02",
   "metadata": {},
   "source": [
    "# Slicing substrings"
   ]
  },
  {
   "cell_type": "code",
   "execution_count": 88,
   "id": "566ce4a5",
   "metadata": {},
   "outputs": [
    {
     "data": {
      "text/plain": [
       "'Welcome to the text manipulation section'"
      ]
     },
     "execution_count": 88,
     "metadata": {},
     "output_type": "execute_result"
    }
   ],
   "source": [
    "s"
   ]
  },
  {
   "cell_type": "code",
   "execution_count": 89,
   "id": "849f59a1",
   "metadata": {},
   "outputs": [
    {
     "data": {
      "text/plain": [
       "'Welcome'"
      ]
     },
     "execution_count": 89,
     "metadata": {},
     "output_type": "execute_result"
    }
   ],
   "source": [
    "s[slice(0, 7, 1)]"
   ]
  },
  {
   "cell_type": "code",
   "execution_count": 90,
   "id": "d8773117",
   "metadata": {},
   "outputs": [
    {
     "data": {
      "text/plain": [
       "'Welcome'"
      ]
     },
     "execution_count": 90,
     "metadata": {},
     "output_type": "execute_result"
    }
   ],
   "source": [
    "s[slice(7)]"
   ]
  },
  {
   "cell_type": "code",
   "execution_count": 91,
   "id": "5575fec7",
   "metadata": {},
   "outputs": [
    {
     "data": {
      "text/plain": [
       "'Welcome'"
      ]
     },
     "execution_count": 91,
     "metadata": {},
     "output_type": "execute_result"
    }
   ],
   "source": [
    "s[0:7:1]"
   ]
  },
  {
   "cell_type": "code",
   "execution_count": 92,
   "id": "ecdbfefd",
   "metadata": {},
   "outputs": [
    {
     "data": {
      "text/plain": [
       "'Welcome'"
      ]
     },
     "execution_count": 92,
     "metadata": {},
     "output_type": "execute_result"
    }
   ],
   "source": [
    "s[:7:]"
   ]
  },
  {
   "cell_type": "code",
   "execution_count": 93,
   "id": "66100cc5",
   "metadata": {},
   "outputs": [
    {
     "data": {
      "text/html": [
       "<div>\n",
       "<style scoped>\n",
       "    .dataframe tbody tr th:only-of-type {\n",
       "        vertical-align: middle;\n",
       "    }\n",
       "\n",
       "    .dataframe tbody tr th {\n",
       "        vertical-align: top;\n",
       "    }\n",
       "\n",
       "    .dataframe thead th {\n",
       "        text-align: right;\n",
       "    }\n",
       "</style>\n",
       "<table border=\"1\" class=\"dataframe\">\n",
       "  <thead>\n",
       "    <tr style=\"text-align: right;\">\n",
       "      <th></th>\n",
       "      <th>Name</th>\n",
       "      <th>Age</th>\n",
       "      <th>M/F</th>\n",
       "      <th>City</th>\n",
       "      <th>State</th>\n",
       "      <th>Country</th>\n",
       "      <th>Official Time</th>\n",
       "      <th>Overall</th>\n",
       "      <th>Gender</th>\n",
       "      <th>Years Ran</th>\n",
       "      <th>First_Name</th>\n",
       "      <th>Last_Name</th>\n",
       "    </tr>\n",
       "  </thead>\n",
       "  <tbody>\n",
       "    <tr>\n",
       "      <th>0</th>\n",
       "      <td>Kirui, Geoffrey</td>\n",
       "      <td>24</td>\n",
       "      <td>M</td>\n",
       "      <td>Keringet</td>\n",
       "      <td>NaN</td>\n",
       "      <td>KEN</td>\n",
       "      <td>2:09:37</td>\n",
       "      <td>1</td>\n",
       "      <td>1</td>\n",
       "      <td>NaN</td>\n",
       "      <td>Kirui</td>\n",
       "      <td>Geoffrey</td>\n",
       "    </tr>\n",
       "    <tr>\n",
       "      <th>1</th>\n",
       "      <td>Rupp, Galen</td>\n",
       "      <td>30</td>\n",
       "      <td>M</td>\n",
       "      <td>Portland</td>\n",
       "      <td>OR</td>\n",
       "      <td>USA</td>\n",
       "      <td>2:09:58</td>\n",
       "      <td>2</td>\n",
       "      <td>2</td>\n",
       "      <td>NaN</td>\n",
       "      <td>Rupp</td>\n",
       "      <td>Galen</td>\n",
       "    </tr>\n",
       "    <tr>\n",
       "      <th>2</th>\n",
       "      <td>Osako, Suguru</td>\n",
       "      <td>25</td>\n",
       "      <td>M</td>\n",
       "      <td>Machida-City</td>\n",
       "      <td>NaN</td>\n",
       "      <td>JPN</td>\n",
       "      <td>2:10:28</td>\n",
       "      <td>3</td>\n",
       "      <td>3</td>\n",
       "      <td>NaN</td>\n",
       "      <td>Osako</td>\n",
       "      <td>Suguru</td>\n",
       "    </tr>\n",
       "    <tr>\n",
       "      <th>3</th>\n",
       "      <td>Biwott, Shadrack</td>\n",
       "      <td>32</td>\n",
       "      <td>M</td>\n",
       "      <td>Mammoth Lakes</td>\n",
       "      <td>CA</td>\n",
       "      <td>USA</td>\n",
       "      <td>2:12:08</td>\n",
       "      <td>4</td>\n",
       "      <td>4</td>\n",
       "      <td>NaN</td>\n",
       "      <td>Biwott</td>\n",
       "      <td>Shadrack</td>\n",
       "    </tr>\n",
       "    <tr>\n",
       "      <th>4</th>\n",
       "      <td>Chebet, Wilson</td>\n",
       "      <td>31</td>\n",
       "      <td>M</td>\n",
       "      <td>Marakwet</td>\n",
       "      <td>NaN</td>\n",
       "      <td>KEN</td>\n",
       "      <td>2:12:35</td>\n",
       "      <td>5</td>\n",
       "      <td>5</td>\n",
       "      <td>2015</td>\n",
       "      <td>Chebet</td>\n",
       "      <td>Wilson</td>\n",
       "    </tr>\n",
       "  </tbody>\n",
       "</table>\n",
       "</div>"
      ],
      "text/plain": [
       "               Name  Age M/F           City State Country Official Time  \\\n",
       "0   Kirui, Geoffrey   24   M       Keringet   NaN     KEN       2:09:37   \n",
       "1       Rupp, Galen   30   M       Portland    OR     USA       2:09:58   \n",
       "2     Osako, Suguru   25   M   Machida-City   NaN     JPN       2:10:28   \n",
       "3  Biwott, Shadrack   32   M  Mammoth Lakes    CA     USA       2:12:08   \n",
       "4    Chebet, Wilson   31   M       Marakwet   NaN     KEN       2:12:35   \n",
       "\n",
       "   Overall  Gender Years Ran First_Name Last_Name  \n",
       "0        1       1       NaN      Kirui  Geoffrey  \n",
       "1        2       2       NaN       Rupp     Galen  \n",
       "2        3       3       NaN      Osako    Suguru  \n",
       "3        4       4       NaN     Biwott  Shadrack  \n",
       "4        5       5      2015     Chebet    Wilson  "
      ]
     },
     "execution_count": 93,
     "metadata": {},
     "output_type": "execute_result"
    }
   ],
   "source": [
    "boston.head()"
   ]
  },
  {
   "cell_type": "code",
   "execution_count": 94,
   "id": "dda5d636",
   "metadata": {},
   "outputs": [
    {
     "data": {
      "text/plain": [
       "0      KE\n",
       "1      US\n",
       "2      JP\n",
       "3      US\n",
       "4      KE\n",
       "       ..\n",
       "995    US\n",
       "996    US\n",
       "997    US\n",
       "998    US\n",
       "999    US\n",
       "Name: Country, Length: 1000, dtype: object"
      ]
     },
     "execution_count": 94,
     "metadata": {},
     "output_type": "execute_result"
    }
   ],
   "source": [
    "boston.Country.str.slice(0,2,1)"
   ]
  },
  {
   "cell_type": "code",
   "execution_count": 95,
   "id": "e3fc7972",
   "metadata": {},
   "outputs": [
    {
     "data": {
      "text/plain": [
       "0      EN\n",
       "1      SA\n",
       "2      PN\n",
       "3      SA\n",
       "4      EN\n",
       "       ..\n",
       "995    SA\n",
       "996    SA\n",
       "997    SA\n",
       "998    SA\n",
       "999    SA\n",
       "Name: Country, Length: 1000, dtype: object"
      ]
     },
     "execution_count": 95,
     "metadata": {},
     "output_type": "execute_result"
    }
   ],
   "source": [
    "boston.Country.str.slice(start=-2, step = 1, stop=None)"
   ]
  },
  {
   "cell_type": "code",
   "execution_count": null,
   "id": "820011f8",
   "metadata": {},
   "outputs": [],
   "source": []
  },
  {
   "cell_type": "markdown",
   "id": "edf7cf80",
   "metadata": {},
   "source": [
    "# Masking with string methods"
   ]
  },
  {
   "cell_type": "code",
   "execution_count": 96,
   "id": "f80e3eb7",
   "metadata": {},
   "outputs": [
    {
     "data": {
      "text/html": [
       "<div>\n",
       "<style scoped>\n",
       "    .dataframe tbody tr th:only-of-type {\n",
       "        vertical-align: middle;\n",
       "    }\n",
       "\n",
       "    .dataframe tbody tr th {\n",
       "        vertical-align: top;\n",
       "    }\n",
       "\n",
       "    .dataframe thead th {\n",
       "        text-align: right;\n",
       "    }\n",
       "</style>\n",
       "<table border=\"1\" class=\"dataframe\">\n",
       "  <thead>\n",
       "    <tr style=\"text-align: right;\">\n",
       "      <th></th>\n",
       "      <th>Name</th>\n",
       "      <th>Age</th>\n",
       "      <th>M/F</th>\n",
       "      <th>City</th>\n",
       "      <th>State</th>\n",
       "      <th>Country</th>\n",
       "      <th>Official Time</th>\n",
       "      <th>Overall</th>\n",
       "      <th>Gender</th>\n",
       "      <th>Years Ran</th>\n",
       "      <th>First_Name</th>\n",
       "      <th>Last_Name</th>\n",
       "    </tr>\n",
       "  </thead>\n",
       "  <tbody>\n",
       "    <tr>\n",
       "      <th>0</th>\n",
       "      <td>Kirui, Geoffrey</td>\n",
       "      <td>24</td>\n",
       "      <td>M</td>\n",
       "      <td>Keringet</td>\n",
       "      <td>NaN</td>\n",
       "      <td>KEN</td>\n",
       "      <td>2:09:37</td>\n",
       "      <td>1</td>\n",
       "      <td>1</td>\n",
       "      <td>NaN</td>\n",
       "      <td>Kirui</td>\n",
       "      <td>Geoffrey</td>\n",
       "    </tr>\n",
       "    <tr>\n",
       "      <th>1</th>\n",
       "      <td>Rupp, Galen</td>\n",
       "      <td>30</td>\n",
       "      <td>M</td>\n",
       "      <td>Portland</td>\n",
       "      <td>OR</td>\n",
       "      <td>USA</td>\n",
       "      <td>2:09:58</td>\n",
       "      <td>2</td>\n",
       "      <td>2</td>\n",
       "      <td>NaN</td>\n",
       "      <td>Rupp</td>\n",
       "      <td>Galen</td>\n",
       "    </tr>\n",
       "    <tr>\n",
       "      <th>2</th>\n",
       "      <td>Osako, Suguru</td>\n",
       "      <td>25</td>\n",
       "      <td>M</td>\n",
       "      <td>Machida-City</td>\n",
       "      <td>NaN</td>\n",
       "      <td>JPN</td>\n",
       "      <td>2:10:28</td>\n",
       "      <td>3</td>\n",
       "      <td>3</td>\n",
       "      <td>NaN</td>\n",
       "      <td>Osako</td>\n",
       "      <td>Suguru</td>\n",
       "    </tr>\n",
       "    <tr>\n",
       "      <th>3</th>\n",
       "      <td>Biwott, Shadrack</td>\n",
       "      <td>32</td>\n",
       "      <td>M</td>\n",
       "      <td>Mammoth Lakes</td>\n",
       "      <td>CA</td>\n",
       "      <td>USA</td>\n",
       "      <td>2:12:08</td>\n",
       "      <td>4</td>\n",
       "      <td>4</td>\n",
       "      <td>NaN</td>\n",
       "      <td>Biwott</td>\n",
       "      <td>Shadrack</td>\n",
       "    </tr>\n",
       "    <tr>\n",
       "      <th>4</th>\n",
       "      <td>Chebet, Wilson</td>\n",
       "      <td>31</td>\n",
       "      <td>M</td>\n",
       "      <td>Marakwet</td>\n",
       "      <td>NaN</td>\n",
       "      <td>KEN</td>\n",
       "      <td>2:12:35</td>\n",
       "      <td>5</td>\n",
       "      <td>5</td>\n",
       "      <td>2015</td>\n",
       "      <td>Chebet</td>\n",
       "      <td>Wilson</td>\n",
       "    </tr>\n",
       "  </tbody>\n",
       "</table>\n",
       "</div>"
      ],
      "text/plain": [
       "               Name  Age M/F           City State Country Official Time  \\\n",
       "0   Kirui, Geoffrey   24   M       Keringet   NaN     KEN       2:09:37   \n",
       "1       Rupp, Galen   30   M       Portland    OR     USA       2:09:58   \n",
       "2     Osako, Suguru   25   M   Machida-City   NaN     JPN       2:10:28   \n",
       "3  Biwott, Shadrack   32   M  Mammoth Lakes    CA     USA       2:12:08   \n",
       "4    Chebet, Wilson   31   M       Marakwet   NaN     KEN       2:12:35   \n",
       "\n",
       "   Overall  Gender Years Ran First_Name Last_Name  \n",
       "0        1       1       NaN      Kirui  Geoffrey  \n",
       "1        2       2       NaN       Rupp     Galen  \n",
       "2        3       3       NaN      Osako    Suguru  \n",
       "3        4       4       NaN     Biwott  Shadrack  \n",
       "4        5       5      2015     Chebet    Wilson  "
      ]
     },
     "execution_count": 96,
     "metadata": {},
     "output_type": "execute_result"
    }
   ],
   "source": [
    "boston.head()"
   ]
  },
  {
   "cell_type": "code",
   "execution_count": 97,
   "id": "52f31bf7",
   "metadata": {},
   "outputs": [
    {
     "data": {
      "text/html": [
       "<div>\n",
       "<style scoped>\n",
       "    .dataframe tbody tr th:only-of-type {\n",
       "        vertical-align: middle;\n",
       "    }\n",
       "\n",
       "    .dataframe tbody tr th {\n",
       "        vertical-align: top;\n",
       "    }\n",
       "\n",
       "    .dataframe thead th {\n",
       "        text-align: right;\n",
       "    }\n",
       "</style>\n",
       "<table border=\"1\" class=\"dataframe\">\n",
       "  <thead>\n",
       "    <tr style=\"text-align: right;\">\n",
       "      <th></th>\n",
       "      <th>Name</th>\n",
       "      <th>Age</th>\n",
       "      <th>M/F</th>\n",
       "      <th>City</th>\n",
       "      <th>State</th>\n",
       "      <th>Country</th>\n",
       "      <th>Official Time</th>\n",
       "      <th>Overall</th>\n",
       "      <th>Gender</th>\n",
       "      <th>Years Ran</th>\n",
       "      <th>First_Name</th>\n",
       "      <th>Last_Name</th>\n",
       "    </tr>\n",
       "  </thead>\n",
       "  <tbody>\n",
       "    <tr>\n",
       "      <th>56</th>\n",
       "      <td>Boudalia, Said Sr.</td>\n",
       "      <td>48</td>\n",
       "      <td>M</td>\n",
       "      <td>Belluno</td>\n",
       "      <td>NaN</td>\n",
       "      <td>ITA</td>\n",
       "      <td>2:30:11</td>\n",
       "      <td>57</td>\n",
       "      <td>51</td>\n",
       "      <td>2015:2016</td>\n",
       "      <td>Boudalia</td>\n",
       "      <td>Said Sr.</td>\n",
       "    </tr>\n",
       "    <tr>\n",
       "      <th>156</th>\n",
       "      <td>Achmuller, Hermann</td>\n",
       "      <td>46</td>\n",
       "      <td>M</td>\n",
       "      <td>Brixen</td>\n",
       "      <td>NaN</td>\n",
       "      <td>ITA</td>\n",
       "      <td>2:38:40</td>\n",
       "      <td>157</td>\n",
       "      <td>139</td>\n",
       "      <td>NaN</td>\n",
       "      <td>Achmuller</td>\n",
       "      <td>Hermann</td>\n",
       "    </tr>\n",
       "    <tr>\n",
       "      <th>792</th>\n",
       "      <td>Consolandi, Paolo Giorgio</td>\n",
       "      <td>39</td>\n",
       "      <td>M</td>\n",
       "      <td>Pessano Con Bornago (mi)</td>\n",
       "      <td>NaN</td>\n",
       "      <td>ITA</td>\n",
       "      <td>2:53:29</td>\n",
       "      <td>793</td>\n",
       "      <td>747</td>\n",
       "      <td>NaN</td>\n",
       "      <td>Consolandi</td>\n",
       "      <td>Paolo Giorgio</td>\n",
       "    </tr>\n",
       "    <tr>\n",
       "      <th>922</th>\n",
       "      <td>Zompanti, Alessandro</td>\n",
       "      <td>48</td>\n",
       "      <td>M</td>\n",
       "      <td>Fiuggi Fr</td>\n",
       "      <td>NaN</td>\n",
       "      <td>ITA</td>\n",
       "      <td>2:55:12</td>\n",
       "      <td>923</td>\n",
       "      <td>872</td>\n",
       "      <td>NaN</td>\n",
       "      <td>Zompanti</td>\n",
       "      <td>Alessandro</td>\n",
       "    </tr>\n",
       "  </tbody>\n",
       "</table>\n",
       "</div>"
      ],
      "text/plain": [
       "                          Name  Age M/F                      City State  \\\n",
       "56          Boudalia, Said Sr.   48   M                   Belluno   NaN   \n",
       "156         Achmuller, Hermann   46   M                    Brixen   NaN   \n",
       "792  Consolandi, Paolo Giorgio   39   M  Pessano Con Bornago (mi)   NaN   \n",
       "922       Zompanti, Alessandro   48   M                 Fiuggi Fr   NaN   \n",
       "\n",
       "    Country Official Time  Overall  Gender  Years Ran  First_Name  \\\n",
       "56      ITA       2:30:11       57      51  2015:2016    Boudalia   \n",
       "156     ITA       2:38:40      157     139        NaN   Achmuller   \n",
       "792     ITA       2:53:29      793     747        NaN  Consolandi   \n",
       "922     ITA       2:55:12      923     872        NaN    Zompanti   \n",
       "\n",
       "         Last_Name  \n",
       "56        Said Sr.  \n",
       "156        Hermann  \n",
       "792  Paolo Giorgio  \n",
       "922     Alessandro  "
      ]
     },
     "execution_count": 97,
     "metadata": {},
     "output_type": "execute_result"
    }
   ],
   "source": [
    "boston.loc[boston.Country == \"ITA\"]"
   ]
  },
  {
   "cell_type": "code",
   "execution_count": 98,
   "id": "948b6396",
   "metadata": {},
   "outputs": [
    {
     "data": {
      "text/plain": [
       "0      False\n",
       "1      False\n",
       "2      False\n",
       "3      False\n",
       "4      False\n",
       "       ...  \n",
       "995    False\n",
       "996    False\n",
       "997    False\n",
       "998    False\n",
       "999    False\n",
       "Name: Country, Length: 1000, dtype: bool"
      ]
     },
     "execution_count": 98,
     "metadata": {},
     "output_type": "execute_result"
    }
   ],
   "source": [
    "boston.Country.str.match(\"ITA\")"
   ]
  },
  {
   "cell_type": "code",
   "execution_count": 99,
   "id": "3a1440e3",
   "metadata": {},
   "outputs": [
    {
     "data": {
      "text/html": [
       "<div>\n",
       "<style scoped>\n",
       "    .dataframe tbody tr th:only-of-type {\n",
       "        vertical-align: middle;\n",
       "    }\n",
       "\n",
       "    .dataframe tbody tr th {\n",
       "        vertical-align: top;\n",
       "    }\n",
       "\n",
       "    .dataframe thead th {\n",
       "        text-align: right;\n",
       "    }\n",
       "</style>\n",
       "<table border=\"1\" class=\"dataframe\">\n",
       "  <thead>\n",
       "    <tr style=\"text-align: right;\">\n",
       "      <th></th>\n",
       "      <th>Name</th>\n",
       "      <th>Age</th>\n",
       "      <th>M/F</th>\n",
       "      <th>City</th>\n",
       "      <th>State</th>\n",
       "      <th>Country</th>\n",
       "      <th>Official Time</th>\n",
       "      <th>Overall</th>\n",
       "      <th>Gender</th>\n",
       "      <th>Years Ran</th>\n",
       "      <th>First_Name</th>\n",
       "      <th>Last_Name</th>\n",
       "    </tr>\n",
       "  </thead>\n",
       "  <tbody>\n",
       "    <tr>\n",
       "      <th>56</th>\n",
       "      <td>Boudalia, Said Sr.</td>\n",
       "      <td>48</td>\n",
       "      <td>M</td>\n",
       "      <td>Belluno</td>\n",
       "      <td>NaN</td>\n",
       "      <td>ITA</td>\n",
       "      <td>2:30:11</td>\n",
       "      <td>57</td>\n",
       "      <td>51</td>\n",
       "      <td>2015:2016</td>\n",
       "      <td>Boudalia</td>\n",
       "      <td>Said Sr.</td>\n",
       "    </tr>\n",
       "    <tr>\n",
       "      <th>156</th>\n",
       "      <td>Achmuller, Hermann</td>\n",
       "      <td>46</td>\n",
       "      <td>M</td>\n",
       "      <td>Brixen</td>\n",
       "      <td>NaN</td>\n",
       "      <td>ITA</td>\n",
       "      <td>2:38:40</td>\n",
       "      <td>157</td>\n",
       "      <td>139</td>\n",
       "      <td>NaN</td>\n",
       "      <td>Achmuller</td>\n",
       "      <td>Hermann</td>\n",
       "    </tr>\n",
       "    <tr>\n",
       "      <th>792</th>\n",
       "      <td>Consolandi, Paolo Giorgio</td>\n",
       "      <td>39</td>\n",
       "      <td>M</td>\n",
       "      <td>Pessano Con Bornago (mi)</td>\n",
       "      <td>NaN</td>\n",
       "      <td>ITA</td>\n",
       "      <td>2:53:29</td>\n",
       "      <td>793</td>\n",
       "      <td>747</td>\n",
       "      <td>NaN</td>\n",
       "      <td>Consolandi</td>\n",
       "      <td>Paolo Giorgio</td>\n",
       "    </tr>\n",
       "    <tr>\n",
       "      <th>922</th>\n",
       "      <td>Zompanti, Alessandro</td>\n",
       "      <td>48</td>\n",
       "      <td>M</td>\n",
       "      <td>Fiuggi Fr</td>\n",
       "      <td>NaN</td>\n",
       "      <td>ITA</td>\n",
       "      <td>2:55:12</td>\n",
       "      <td>923</td>\n",
       "      <td>872</td>\n",
       "      <td>NaN</td>\n",
       "      <td>Zompanti</td>\n",
       "      <td>Alessandro</td>\n",
       "    </tr>\n",
       "  </tbody>\n",
       "</table>\n",
       "</div>"
      ],
      "text/plain": [
       "                          Name  Age M/F                      City State  \\\n",
       "56          Boudalia, Said Sr.   48   M                   Belluno   NaN   \n",
       "156         Achmuller, Hermann   46   M                    Brixen   NaN   \n",
       "792  Consolandi, Paolo Giorgio   39   M  Pessano Con Bornago (mi)   NaN   \n",
       "922       Zompanti, Alessandro   48   M                 Fiuggi Fr   NaN   \n",
       "\n",
       "    Country Official Time  Overall  Gender  Years Ran  First_Name  \\\n",
       "56      ITA       2:30:11       57      51  2015:2016    Boudalia   \n",
       "156     ITA       2:38:40      157     139        NaN   Achmuller   \n",
       "792     ITA       2:53:29      793     747        NaN  Consolandi   \n",
       "922     ITA       2:55:12      923     872        NaN    Zompanti   \n",
       "\n",
       "         Last_Name  \n",
       "56        Said Sr.  \n",
       "156        Hermann  \n",
       "792  Paolo Giorgio  \n",
       "922     Alessandro  "
      ]
     },
     "execution_count": 99,
     "metadata": {},
     "output_type": "execute_result"
    }
   ],
   "source": [
    "boston.loc[boston.Country.str.match(\"ITA\")]"
   ]
  },
  {
   "cell_type": "code",
   "execution_count": 100,
   "id": "948b25f9",
   "metadata": {},
   "outputs": [],
   "source": [
    "# all the Will's in the dataframe"
   ]
  },
  {
   "cell_type": "code",
   "execution_count": 101,
   "id": "015323e9",
   "metadata": {},
   "outputs": [],
   "source": [
    "wills = boston.Name.str.contains(\"Will\")"
   ]
  },
  {
   "cell_type": "code",
   "execution_count": 102,
   "id": "da5416d5",
   "metadata": {},
   "outputs": [],
   "source": [
    "age45 = boston.Age >=45"
   ]
  },
  {
   "cell_type": "code",
   "execution_count": 103,
   "id": "c4b65ee3",
   "metadata": {},
   "outputs": [
    {
     "data": {
      "text/html": [
       "<div>\n",
       "<style scoped>\n",
       "    .dataframe tbody tr th:only-of-type {\n",
       "        vertical-align: middle;\n",
       "    }\n",
       "\n",
       "    .dataframe tbody tr th {\n",
       "        vertical-align: top;\n",
       "    }\n",
       "\n",
       "    .dataframe thead th {\n",
       "        text-align: right;\n",
       "    }\n",
       "</style>\n",
       "<table border=\"1\" class=\"dataframe\">\n",
       "  <thead>\n",
       "    <tr style=\"text-align: right;\">\n",
       "      <th></th>\n",
       "      <th>Name</th>\n",
       "      <th>Age</th>\n",
       "      <th>M/F</th>\n",
       "      <th>City</th>\n",
       "      <th>State</th>\n",
       "      <th>Country</th>\n",
       "      <th>Official Time</th>\n",
       "      <th>Overall</th>\n",
       "      <th>Gender</th>\n",
       "      <th>Years Ran</th>\n",
       "      <th>First_Name</th>\n",
       "      <th>Last_Name</th>\n",
       "    </tr>\n",
       "  </thead>\n",
       "  <tbody>\n",
       "    <tr>\n",
       "      <th>93</th>\n",
       "      <td>Vanos, William</td>\n",
       "      <td>45</td>\n",
       "      <td>M</td>\n",
       "      <td>Orlando</td>\n",
       "      <td>FL</td>\n",
       "      <td>USA</td>\n",
       "      <td>2:34:40</td>\n",
       "      <td>94</td>\n",
       "      <td>84</td>\n",
       "      <td>NaN</td>\n",
       "      <td>Vanos</td>\n",
       "      <td>William</td>\n",
       "    </tr>\n",
       "    <tr>\n",
       "      <th>526</th>\n",
       "      <td>Swenson, Will</td>\n",
       "      <td>45</td>\n",
       "      <td>M</td>\n",
       "      <td>Andover</td>\n",
       "      <td>MA</td>\n",
       "      <td>USA</td>\n",
       "      <td>2:49:10</td>\n",
       "      <td>527</td>\n",
       "      <td>490</td>\n",
       "      <td>2015:2016</td>\n",
       "      <td>Swenson</td>\n",
       "      <td>Will</td>\n",
       "    </tr>\n",
       "    <tr>\n",
       "      <th>814</th>\n",
       "      <td>Williamson, David</td>\n",
       "      <td>49</td>\n",
       "      <td>M</td>\n",
       "      <td>Sutton</td>\n",
       "      <td>NaN</td>\n",
       "      <td>GBR</td>\n",
       "      <td>2:53:46</td>\n",
       "      <td>815</td>\n",
       "      <td>768</td>\n",
       "      <td>NaN</td>\n",
       "      <td>Williamson</td>\n",
       "      <td>David</td>\n",
       "    </tr>\n",
       "    <tr>\n",
       "      <th>892</th>\n",
       "      <td>Rivera, Will</td>\n",
       "      <td>46</td>\n",
       "      <td>M</td>\n",
       "      <td>Elizabethtown</td>\n",
       "      <td>KY</td>\n",
       "      <td>USA</td>\n",
       "      <td>2:54:53</td>\n",
       "      <td>893</td>\n",
       "      <td>843</td>\n",
       "      <td>NaN</td>\n",
       "      <td>Rivera</td>\n",
       "      <td>Will</td>\n",
       "    </tr>\n",
       "  </tbody>\n",
       "</table>\n",
       "</div>"
      ],
      "text/plain": [
       "                  Name  Age M/F           City State Country Official Time  \\\n",
       "93      Vanos, William   45   M        Orlando    FL     USA       2:34:40   \n",
       "526      Swenson, Will   45   M        Andover    MA     USA       2:49:10   \n",
       "814  Williamson, David   49   M         Sutton   NaN     GBR       2:53:46   \n",
       "892       Rivera, Will   46   M  Elizabethtown    KY     USA       2:54:53   \n",
       "\n",
       "     Overall  Gender  Years Ran  First_Name Last_Name  \n",
       "93        94      84        NaN       Vanos   William  \n",
       "526      527     490  2015:2016     Swenson      Will  \n",
       "814      815     768        NaN  Williamson     David  \n",
       "892      893     843        NaN      Rivera      Will  "
      ]
     },
     "execution_count": 103,
     "metadata": {},
     "output_type": "execute_result"
    }
   ],
   "source": [
    "boston[wills & age45]"
   ]
  },
  {
   "cell_type": "code",
   "execution_count": 104,
   "id": "57c55b5a",
   "metadata": {},
   "outputs": [
    {
     "data": {
      "image/png": "[encoded data removed]",
      "text/plain": [
       "<Figure size 640x480 with 1 Axes>"
      ]
     },
     "metadata": {},
     "output_type": "display_data"
    }
   ],
   "source": [
    "boston.Age.hist();"
   ]
  },
  {
   "cell_type": "code",
   "execution_count": null,
   "id": "46c4da0d",
   "metadata": {},
   "outputs": [],
   "source": []
  },
  {
   "cell_type": "markdown",
   "id": "f7b10d3e",
   "metadata": {},
   "source": [
    "# BONUS: Parsing indicators with get_dummies()"
   ]
  },
  {
   "cell_type": "code",
   "execution_count": 105,
   "id": "3f254e22",
   "metadata": {},
   "outputs": [
    {
     "data": {
      "text/html": [
       "<div>\n",
       "<style scoped>\n",
       "    .dataframe tbody tr th:only-of-type {\n",
       "        vertical-align: middle;\n",
       "    }\n",
       "\n",
       "    .dataframe tbody tr th {\n",
       "        vertical-align: top;\n",
       "    }\n",
       "\n",
       "    .dataframe thead th {\n",
       "        text-align: right;\n",
       "    }\n",
       "</style>\n",
       "<table border=\"1\" class=\"dataframe\">\n",
       "  <thead>\n",
       "    <tr style=\"text-align: right;\">\n",
       "      <th></th>\n",
       "      <th>Name</th>\n",
       "      <th>Age</th>\n",
       "      <th>M/F</th>\n",
       "      <th>City</th>\n",
       "      <th>State</th>\n",
       "      <th>Country</th>\n",
       "      <th>Official Time</th>\n",
       "      <th>Overall</th>\n",
       "      <th>Gender</th>\n",
       "      <th>Years Ran</th>\n",
       "      <th>First_Name</th>\n",
       "      <th>Last_Name</th>\n",
       "    </tr>\n",
       "  </thead>\n",
       "  <tbody>\n",
       "    <tr>\n",
       "      <th>0</th>\n",
       "      <td>Kirui, Geoffrey</td>\n",
       "      <td>24</td>\n",
       "      <td>M</td>\n",
       "      <td>Keringet</td>\n",
       "      <td>NaN</td>\n",
       "      <td>KEN</td>\n",
       "      <td>2:09:37</td>\n",
       "      <td>1</td>\n",
       "      <td>1</td>\n",
       "      <td>NaN</td>\n",
       "      <td>Kirui</td>\n",
       "      <td>Geoffrey</td>\n",
       "    </tr>\n",
       "    <tr>\n",
       "      <th>1</th>\n",
       "      <td>Rupp, Galen</td>\n",
       "      <td>30</td>\n",
       "      <td>M</td>\n",
       "      <td>Portland</td>\n",
       "      <td>OR</td>\n",
       "      <td>USA</td>\n",
       "      <td>2:09:58</td>\n",
       "      <td>2</td>\n",
       "      <td>2</td>\n",
       "      <td>NaN</td>\n",
       "      <td>Rupp</td>\n",
       "      <td>Galen</td>\n",
       "    </tr>\n",
       "    <tr>\n",
       "      <th>2</th>\n",
       "      <td>Osako, Suguru</td>\n",
       "      <td>25</td>\n",
       "      <td>M</td>\n",
       "      <td>Machida-City</td>\n",
       "      <td>NaN</td>\n",
       "      <td>JPN</td>\n",
       "      <td>2:10:28</td>\n",
       "      <td>3</td>\n",
       "      <td>3</td>\n",
       "      <td>NaN</td>\n",
       "      <td>Osako</td>\n",
       "      <td>Suguru</td>\n",
       "    </tr>\n",
       "    <tr>\n",
       "      <th>3</th>\n",
       "      <td>Biwott, Shadrack</td>\n",
       "      <td>32</td>\n",
       "      <td>M</td>\n",
       "      <td>Mammoth Lakes</td>\n",
       "      <td>CA</td>\n",
       "      <td>USA</td>\n",
       "      <td>2:12:08</td>\n",
       "      <td>4</td>\n",
       "      <td>4</td>\n",
       "      <td>NaN</td>\n",
       "      <td>Biwott</td>\n",
       "      <td>Shadrack</td>\n",
       "    </tr>\n",
       "    <tr>\n",
       "      <th>4</th>\n",
       "      <td>Chebet, Wilson</td>\n",
       "      <td>31</td>\n",
       "      <td>M</td>\n",
       "      <td>Marakwet</td>\n",
       "      <td>NaN</td>\n",
       "      <td>KEN</td>\n",
       "      <td>2:12:35</td>\n",
       "      <td>5</td>\n",
       "      <td>5</td>\n",
       "      <td>2015</td>\n",
       "      <td>Chebet</td>\n",
       "      <td>Wilson</td>\n",
       "    </tr>\n",
       "  </tbody>\n",
       "</table>\n",
       "</div>"
      ],
      "text/plain": [
       "               Name  Age M/F           City State Country Official Time  \\\n",
       "0   Kirui, Geoffrey   24   M       Keringet   NaN     KEN       2:09:37   \n",
       "1       Rupp, Galen   30   M       Portland    OR     USA       2:09:58   \n",
       "2     Osako, Suguru   25   M   Machida-City   NaN     JPN       2:10:28   \n",
       "3  Biwott, Shadrack   32   M  Mammoth Lakes    CA     USA       2:12:08   \n",
       "4    Chebet, Wilson   31   M       Marakwet   NaN     KEN       2:12:35   \n",
       "\n",
       "   Overall  Gender Years Ran First_Name Last_Name  \n",
       "0        1       1       NaN      Kirui  Geoffrey  \n",
       "1        2       2       NaN       Rupp     Galen  \n",
       "2        3       3       NaN      Osako    Suguru  \n",
       "3        4       4       NaN     Biwott  Shadrack  \n",
       "4        5       5      2015     Chebet    Wilson  "
      ]
     },
     "execution_count": 105,
     "metadata": {},
     "output_type": "execute_result"
    }
   ],
   "source": [
    "boston.head()"
   ]
  },
  {
   "cell_type": "code",
   "execution_count": 106,
   "id": "43d772f2",
   "metadata": {},
   "outputs": [
    {
     "data": {
      "text/html": [
       "<div>\n",
       "<style scoped>\n",
       "    .dataframe tbody tr th:only-of-type {\n",
       "        vertical-align: middle;\n",
       "    }\n",
       "\n",
       "    .dataframe tbody tr th {\n",
       "        vertical-align: top;\n",
       "    }\n",
       "\n",
       "    .dataframe thead th {\n",
       "        text-align: right;\n",
       "    }\n",
       "</style>\n",
       "<table border=\"1\" class=\"dataframe\">\n",
       "  <thead>\n",
       "    <tr style=\"text-align: right;\">\n",
       "      <th></th>\n",
       "      <th>Name</th>\n",
       "      <th>Age</th>\n",
       "      <th>M/F</th>\n",
       "      <th>City</th>\n",
       "      <th>State</th>\n",
       "      <th>Country</th>\n",
       "      <th>Official Time</th>\n",
       "      <th>Overall</th>\n",
       "      <th>Gender</th>\n",
       "      <th>Years Ran</th>\n",
       "      <th>First_Name</th>\n",
       "      <th>Last_Name</th>\n",
       "    </tr>\n",
       "  </thead>\n",
       "  <tbody>\n",
       "    <tr>\n",
       "      <th>4</th>\n",
       "      <td>Chebet, Wilson</td>\n",
       "      <td>31</td>\n",
       "      <td>M</td>\n",
       "      <td>Marakwet</td>\n",
       "      <td>NaN</td>\n",
       "      <td>KEN</td>\n",
       "      <td>2:12:35</td>\n",
       "      <td>5</td>\n",
       "      <td>5</td>\n",
       "      <td>2015</td>\n",
       "      <td>Chebet</td>\n",
       "      <td>Wilson</td>\n",
       "    </tr>\n",
       "    <tr>\n",
       "      <th>12</th>\n",
       "      <td>Keflezighi, Meb</td>\n",
       "      <td>41</td>\n",
       "      <td>M</td>\n",
       "      <td>San Diego</td>\n",
       "      <td>CA</td>\n",
       "      <td>USA</td>\n",
       "      <td>2:17:00</td>\n",
       "      <td>13</td>\n",
       "      <td>13</td>\n",
       "      <td>2015</td>\n",
       "      <td>Keflezighi</td>\n",
       "      <td>Meb</td>\n",
       "    </tr>\n",
       "    <tr>\n",
       "      <th>13</th>\n",
       "      <td>Nyasango, Cutbert</td>\n",
       "      <td>34</td>\n",
       "      <td>M</td>\n",
       "      <td>Harara</td>\n",
       "      <td>NaN</td>\n",
       "      <td>ZIM</td>\n",
       "      <td>2:17:40</td>\n",
       "      <td>14</td>\n",
       "      <td>14</td>\n",
       "      <td>2016</td>\n",
       "      <td>Nyasango</td>\n",
       "      <td>Cutbert</td>\n",
       "    </tr>\n",
       "    <tr>\n",
       "      <th>14</th>\n",
       "      <td>Korir, Wesley</td>\n",
       "      <td>34</td>\n",
       "      <td>M</td>\n",
       "      <td>Kitale</td>\n",
       "      <td>NaN</td>\n",
       "      <td>KEN</td>\n",
       "      <td>2:18:14</td>\n",
       "      <td>15</td>\n",
       "      <td>15</td>\n",
       "      <td>2015:2016</td>\n",
       "      <td>Korir</td>\n",
       "      <td>Wesley</td>\n",
       "    </tr>\n",
       "    <tr>\n",
       "      <th>29</th>\n",
       "      <td>Maravilla, Jorge</td>\n",
       "      <td>39</td>\n",
       "      <td>M</td>\n",
       "      <td>Mill Valley</td>\n",
       "      <td>CA</td>\n",
       "      <td>USA</td>\n",
       "      <td>2:24:27</td>\n",
       "      <td>30</td>\n",
       "      <td>27</td>\n",
       "      <td>2016</td>\n",
       "      <td>Maravilla</td>\n",
       "      <td>Jorge</td>\n",
       "    </tr>\n",
       "    <tr>\n",
       "      <th>...</th>\n",
       "      <td>...</td>\n",
       "      <td>...</td>\n",
       "      <td>...</td>\n",
       "      <td>...</td>\n",
       "      <td>...</td>\n",
       "      <td>...</td>\n",
       "      <td>...</td>\n",
       "      <td>...</td>\n",
       "      <td>...</td>\n",
       "      <td>...</td>\n",
       "      <td>...</td>\n",
       "      <td>...</td>\n",
       "    </tr>\n",
       "    <tr>\n",
       "      <th>986</th>\n",
       "      <td>Bretz, Virgil</td>\n",
       "      <td>44</td>\n",
       "      <td>M</td>\n",
       "      <td>Mt. Kisco</td>\n",
       "      <td>NY</td>\n",
       "      <td>USA</td>\n",
       "      <td>2:56:02</td>\n",
       "      <td>987</td>\n",
       "      <td>931</td>\n",
       "      <td>2015:2016</td>\n",
       "      <td>Bretz</td>\n",
       "      <td>Virgil</td>\n",
       "    </tr>\n",
       "    <tr>\n",
       "      <th>987</th>\n",
       "      <td>Cucuzzella, Mark</td>\n",
       "      <td>50</td>\n",
       "      <td>M</td>\n",
       "      <td>Shepherdstown</td>\n",
       "      <td>WV</td>\n",
       "      <td>USA</td>\n",
       "      <td>2:56:03</td>\n",
       "      <td>988</td>\n",
       "      <td>932</td>\n",
       "      <td>2016</td>\n",
       "      <td>Cucuzzella</td>\n",
       "      <td>Mark</td>\n",
       "    </tr>\n",
       "    <tr>\n",
       "      <th>988</th>\n",
       "      <td>Carron, John B</td>\n",
       "      <td>46</td>\n",
       "      <td>M</td>\n",
       "      <td>Irvington</td>\n",
       "      <td>NY</td>\n",
       "      <td>USA</td>\n",
       "      <td>2:56:03</td>\n",
       "      <td>989</td>\n",
       "      <td>933</td>\n",
       "      <td>2016</td>\n",
       "      <td>Carron</td>\n",
       "      <td>John B</td>\n",
       "    </tr>\n",
       "    <tr>\n",
       "      <th>995</th>\n",
       "      <td>Larosa, Mark</td>\n",
       "      <td>38</td>\n",
       "      <td>M</td>\n",
       "      <td>North Andover</td>\n",
       "      <td>MA</td>\n",
       "      <td>USA</td>\n",
       "      <td>2:56:06</td>\n",
       "      <td>996</td>\n",
       "      <td>940</td>\n",
       "      <td>2015:2016</td>\n",
       "      <td>Larosa</td>\n",
       "      <td>Mark</td>\n",
       "    </tr>\n",
       "    <tr>\n",
       "      <th>996</th>\n",
       "      <td>Williamson, Jerry A</td>\n",
       "      <td>43</td>\n",
       "      <td>M</td>\n",
       "      <td>Raleigh</td>\n",
       "      <td>NC</td>\n",
       "      <td>USA</td>\n",
       "      <td>2:56:06</td>\n",
       "      <td>997</td>\n",
       "      <td>941</td>\n",
       "      <td>2015</td>\n",
       "      <td>Williamson</td>\n",
       "      <td>Jerry A</td>\n",
       "    </tr>\n",
       "  </tbody>\n",
       "</table>\n",
       "<p>315 rows × 12 columns</p>\n",
       "</div>"
      ],
      "text/plain": [
       "                    Name  Age M/F           City State Country Official Time  \\\n",
       "4         Chebet, Wilson   31   M       Marakwet   NaN     KEN       2:12:35   \n",
       "12       Keflezighi, Meb   41   M      San Diego    CA     USA       2:17:00   \n",
       "13     Nyasango, Cutbert   34   M         Harara   NaN     ZIM       2:17:40   \n",
       "14         Korir, Wesley   34   M         Kitale   NaN     KEN       2:18:14   \n",
       "29      Maravilla, Jorge   39   M    Mill Valley    CA     USA       2:24:27   \n",
       "..                   ...  ...  ..            ...   ...     ...           ...   \n",
       "986        Bretz, Virgil   44   M      Mt. Kisco    NY     USA       2:56:02   \n",
       "987     Cucuzzella, Mark   50   M  Shepherdstown    WV     USA       2:56:03   \n",
       "988       Carron, John B   46   M      Irvington    NY     USA       2:56:03   \n",
       "995         Larosa, Mark   38   M  North Andover    MA     USA       2:56:06   \n",
       "996  Williamson, Jerry A   43   M        Raleigh    NC     USA       2:56:06   \n",
       "\n",
       "     Overall  Gender  Years Ran  First_Name Last_Name  \n",
       "4          5       5       2015      Chebet    Wilson  \n",
       "12        13      13       2015  Keflezighi       Meb  \n",
       "13        14      14       2016    Nyasango   Cutbert  \n",
       "14        15      15  2015:2016       Korir    Wesley  \n",
       "29        30      27       2016   Maravilla     Jorge  \n",
       "..       ...     ...        ...         ...       ...  \n",
       "986      987     931  2015:2016       Bretz    Virgil  \n",
       "987      988     932       2016  Cucuzzella      Mark  \n",
       "988      989     933       2016      Carron    John B  \n",
       "995      996     940  2015:2016      Larosa      Mark  \n",
       "996      997     941       2015  Williamson   Jerry A  \n",
       "\n",
       "[315 rows x 12 columns]"
      ]
     },
     "execution_count": 106,
     "metadata": {},
     "output_type": "execute_result"
    }
   ],
   "source": [
    "boston.loc[boston['Years Ran'].notnull()]"
   ]
  },
  {
   "cell_type": "code",
   "execution_count": 107,
   "id": "7a8fc409",
   "metadata": {},
   "outputs": [
    {
     "data": {
      "text/plain": [
       "array([nan, '2015', '2016', '2015:2016'], dtype=object)"
      ]
     },
     "execution_count": 107,
     "metadata": {},
     "output_type": "execute_result"
    }
   ],
   "source": [
    "boston['Years Ran'].unique()"
   ]
  },
  {
   "cell_type": "code",
   "execution_count": 108,
   "id": "8a5ba33d",
   "metadata": {},
   "outputs": [],
   "source": [
    "dummies = boston['Years Ran'].str.get_dummies(sep=':')"
   ]
  },
  {
   "cell_type": "code",
   "execution_count": 109,
   "id": "64e92998",
   "metadata": {},
   "outputs": [],
   "source": [
    "# the df insert()"
   ]
  },
  {
   "cell_type": "code",
   "execution_count": 110,
   "id": "2eae1ef4",
   "metadata": {},
   "outputs": [],
   "source": [
    "boston.insert(boston.columns.get_loc('Years Ran'), 'Ran 2015', dummies['2015'])"
   ]
  },
  {
   "cell_type": "code",
   "execution_count": 111,
   "id": "e8e7d4c7",
   "metadata": {},
   "outputs": [],
   "source": [
    "boston.insert(boston.columns.get_loc('Years Ran'), 'Ran 2016', dummies['2016'])"
   ]
  },
  {
   "cell_type": "code",
   "execution_count": 112,
   "id": "2607c70b",
   "metadata": {},
   "outputs": [
    {
     "data": {
      "text/html": [
       "<div>\n",
       "<style scoped>\n",
       "    .dataframe tbody tr th:only-of-type {\n",
       "        vertical-align: middle;\n",
       "    }\n",
       "\n",
       "    .dataframe tbody tr th {\n",
       "        vertical-align: top;\n",
       "    }\n",
       "\n",
       "    .dataframe thead th {\n",
       "        text-align: right;\n",
       "    }\n",
       "</style>\n",
       "<table border=\"1\" class=\"dataframe\">\n",
       "  <thead>\n",
       "    <tr style=\"text-align: right;\">\n",
       "      <th></th>\n",
       "      <th>Name</th>\n",
       "      <th>Age</th>\n",
       "      <th>M/F</th>\n",
       "      <th>City</th>\n",
       "      <th>State</th>\n",
       "      <th>Country</th>\n",
       "      <th>Official Time</th>\n",
       "      <th>Overall</th>\n",
       "      <th>Gender</th>\n",
       "      <th>Ran 2015</th>\n",
       "      <th>Ran 2016</th>\n",
       "      <th>Years Ran</th>\n",
       "      <th>First_Name</th>\n",
       "      <th>Last_Name</th>\n",
       "    </tr>\n",
       "  </thead>\n",
       "  <tbody>\n",
       "    <tr>\n",
       "      <th>0</th>\n",
       "      <td>Kirui, Geoffrey</td>\n",
       "      <td>24</td>\n",
       "      <td>M</td>\n",
       "      <td>Keringet</td>\n",
       "      <td>NaN</td>\n",
       "      <td>KEN</td>\n",
       "      <td>2:09:37</td>\n",
       "      <td>1</td>\n",
       "      <td>1</td>\n",
       "      <td>0</td>\n",
       "      <td>0</td>\n",
       "      <td>NaN</td>\n",
       "      <td>Kirui</td>\n",
       "      <td>Geoffrey</td>\n",
       "    </tr>\n",
       "    <tr>\n",
       "      <th>1</th>\n",
       "      <td>Rupp, Galen</td>\n",
       "      <td>30</td>\n",
       "      <td>M</td>\n",
       "      <td>Portland</td>\n",
       "      <td>OR</td>\n",
       "      <td>USA</td>\n",
       "      <td>2:09:58</td>\n",
       "      <td>2</td>\n",
       "      <td>2</td>\n",
       "      <td>0</td>\n",
       "      <td>0</td>\n",
       "      <td>NaN</td>\n",
       "      <td>Rupp</td>\n",
       "      <td>Galen</td>\n",
       "    </tr>\n",
       "    <tr>\n",
       "      <th>2</th>\n",
       "      <td>Osako, Suguru</td>\n",
       "      <td>25</td>\n",
       "      <td>M</td>\n",
       "      <td>Machida-City</td>\n",
       "      <td>NaN</td>\n",
       "      <td>JPN</td>\n",
       "      <td>2:10:28</td>\n",
       "      <td>3</td>\n",
       "      <td>3</td>\n",
       "      <td>0</td>\n",
       "      <td>0</td>\n",
       "      <td>NaN</td>\n",
       "      <td>Osako</td>\n",
       "      <td>Suguru</td>\n",
       "    </tr>\n",
       "    <tr>\n",
       "      <th>3</th>\n",
       "      <td>Biwott, Shadrack</td>\n",
       "      <td>32</td>\n",
       "      <td>M</td>\n",
       "      <td>Mammoth Lakes</td>\n",
       "      <td>CA</td>\n",
       "      <td>USA</td>\n",
       "      <td>2:12:08</td>\n",
       "      <td>4</td>\n",
       "      <td>4</td>\n",
       "      <td>0</td>\n",
       "      <td>0</td>\n",
       "      <td>NaN</td>\n",
       "      <td>Biwott</td>\n",
       "      <td>Shadrack</td>\n",
       "    </tr>\n",
       "    <tr>\n",
       "      <th>4</th>\n",
       "      <td>Chebet, Wilson</td>\n",
       "      <td>31</td>\n",
       "      <td>M</td>\n",
       "      <td>Marakwet</td>\n",
       "      <td>NaN</td>\n",
       "      <td>KEN</td>\n",
       "      <td>2:12:35</td>\n",
       "      <td>5</td>\n",
       "      <td>5</td>\n",
       "      <td>1</td>\n",
       "      <td>0</td>\n",
       "      <td>2015</td>\n",
       "      <td>Chebet</td>\n",
       "      <td>Wilson</td>\n",
       "    </tr>\n",
       "  </tbody>\n",
       "</table>\n",
       "</div>"
      ],
      "text/plain": [
       "               Name  Age M/F           City State Country Official Time  \\\n",
       "0   Kirui, Geoffrey   24   M       Keringet   NaN     KEN       2:09:37   \n",
       "1       Rupp, Galen   30   M       Portland    OR     USA       2:09:58   \n",
       "2     Osako, Suguru   25   M   Machida-City   NaN     JPN       2:10:28   \n",
       "3  Biwott, Shadrack   32   M  Mammoth Lakes    CA     USA       2:12:08   \n",
       "4    Chebet, Wilson   31   M       Marakwet   NaN     KEN       2:12:35   \n",
       "\n",
       "   Overall  Gender  Ran 2015  Ran 2016 Years Ran First_Name Last_Name  \n",
       "0        1       1         0         0       NaN      Kirui  Geoffrey  \n",
       "1        2       2         0         0       NaN       Rupp     Galen  \n",
       "2        3       3         0         0       NaN      Osako    Suguru  \n",
       "3        4       4         0         0       NaN     Biwott  Shadrack  \n",
       "4        5       5         1         0      2015     Chebet    Wilson  "
      ]
     },
     "execution_count": 112,
     "metadata": {},
     "output_type": "execute_result"
    }
   ],
   "source": [
    "boston.head()"
   ]
  },
  {
   "cell_type": "code",
   "execution_count": 113,
   "id": "8ef72ac0",
   "metadata": {},
   "outputs": [],
   "source": [
    "# which top runners from 2017 also ran in the previous two boston marathons"
   ]
  },
  {
   "cell_type": "code",
   "execution_count": 114,
   "id": "e02dccdf",
   "metadata": {},
   "outputs": [
    {
     "data": {
      "text/html": [
       "<div>\n",
       "<style scoped>\n",
       "    .dataframe tbody tr th:only-of-type {\n",
       "        vertical-align: middle;\n",
       "    }\n",
       "\n",
       "    .dataframe tbody tr th {\n",
       "        vertical-align: top;\n",
       "    }\n",
       "\n",
       "    .dataframe thead th {\n",
       "        text-align: right;\n",
       "    }\n",
       "</style>\n",
       "<table border=\"1\" class=\"dataframe\">\n",
       "  <thead>\n",
       "    <tr style=\"text-align: right;\">\n",
       "      <th></th>\n",
       "      <th>Name</th>\n",
       "      <th>Age</th>\n",
       "      <th>M/F</th>\n",
       "      <th>City</th>\n",
       "      <th>State</th>\n",
       "      <th>Country</th>\n",
       "      <th>Official Time</th>\n",
       "      <th>Overall</th>\n",
       "      <th>Gender</th>\n",
       "      <th>Ran 2015</th>\n",
       "      <th>Ran 2016</th>\n",
       "      <th>Years Ran</th>\n",
       "      <th>First_Name</th>\n",
       "      <th>Last_Name</th>\n",
       "    </tr>\n",
       "  </thead>\n",
       "  <tbody>\n",
       "    <tr>\n",
       "      <th>14</th>\n",
       "      <td>Korir, Wesley</td>\n",
       "      <td>34</td>\n",
       "      <td>M</td>\n",
       "      <td>Kitale</td>\n",
       "      <td>NaN</td>\n",
       "      <td>KEN</td>\n",
       "      <td>2:18:14</td>\n",
       "      <td>15</td>\n",
       "      <td>15</td>\n",
       "      <td>1</td>\n",
       "      <td>1</td>\n",
       "      <td>2015:2016</td>\n",
       "      <td>Korir</td>\n",
       "      <td>Wesley</td>\n",
       "    </tr>\n",
       "    <tr>\n",
       "      <th>30</th>\n",
       "      <td>Ornelas, Zachary</td>\n",
       "      <td>25</td>\n",
       "      <td>M</td>\n",
       "      <td>Ann Arbor</td>\n",
       "      <td>MI</td>\n",
       "      <td>USA</td>\n",
       "      <td>2:24:40</td>\n",
       "      <td>31</td>\n",
       "      <td>28</td>\n",
       "      <td>1</td>\n",
       "      <td>1</td>\n",
       "      <td>2015:2016</td>\n",
       "      <td>Ornelas</td>\n",
       "      <td>Zachary</td>\n",
       "    </tr>\n",
       "    <tr>\n",
       "      <th>31</th>\n",
       "      <td>Ayr, Jason M.</td>\n",
       "      <td>29</td>\n",
       "      <td>M</td>\n",
       "      <td>Allston</td>\n",
       "      <td>MA</td>\n",
       "      <td>USA</td>\n",
       "      <td>2:24:49</td>\n",
       "      <td>32</td>\n",
       "      <td>29</td>\n",
       "      <td>1</td>\n",
       "      <td>1</td>\n",
       "      <td>2015:2016</td>\n",
       "      <td>Ayr</td>\n",
       "      <td>Jason M.</td>\n",
       "    </tr>\n",
       "    <tr>\n",
       "      <th>36</th>\n",
       "      <td>Vangampleare, Stephen</td>\n",
       "      <td>26</td>\n",
       "      <td>M</td>\n",
       "      <td>Colorado Springs</td>\n",
       "      <td>CO</td>\n",
       "      <td>USA</td>\n",
       "      <td>2:25:35</td>\n",
       "      <td>37</td>\n",
       "      <td>33</td>\n",
       "      <td>1</td>\n",
       "      <td>1</td>\n",
       "      <td>2015:2016</td>\n",
       "      <td>Vangampleare</td>\n",
       "      <td>Stephen</td>\n",
       "    </tr>\n",
       "    <tr>\n",
       "      <th>56</th>\n",
       "      <td>Boudalia, Said Sr.</td>\n",
       "      <td>48</td>\n",
       "      <td>M</td>\n",
       "      <td>Belluno</td>\n",
       "      <td>NaN</td>\n",
       "      <td>ITA</td>\n",
       "      <td>2:30:11</td>\n",
       "      <td>57</td>\n",
       "      <td>51</td>\n",
       "      <td>1</td>\n",
       "      <td>1</td>\n",
       "      <td>2015:2016</td>\n",
       "      <td>Boudalia</td>\n",
       "      <td>Said Sr.</td>\n",
       "    </tr>\n",
       "    <tr>\n",
       "      <th>...</th>\n",
       "      <td>...</td>\n",
       "      <td>...</td>\n",
       "      <td>...</td>\n",
       "      <td>...</td>\n",
       "      <td>...</td>\n",
       "      <td>...</td>\n",
       "      <td>...</td>\n",
       "      <td>...</td>\n",
       "      <td>...</td>\n",
       "      <td>...</td>\n",
       "      <td>...</td>\n",
       "      <td>...</td>\n",
       "      <td>...</td>\n",
       "      <td>...</td>\n",
       "    </tr>\n",
       "    <tr>\n",
       "      <th>959</th>\n",
       "      <td>Yu, Michael</td>\n",
       "      <td>45</td>\n",
       "      <td>M</td>\n",
       "      <td>Zhubei City, Hsinchu County</td>\n",
       "      <td>NaN</td>\n",
       "      <td>TWN</td>\n",
       "      <td>2:55:40</td>\n",
       "      <td>960</td>\n",
       "      <td>907</td>\n",
       "      <td>1</td>\n",
       "      <td>1</td>\n",
       "      <td>2015:2016</td>\n",
       "      <td>Yu</td>\n",
       "      <td>Michael</td>\n",
       "    </tr>\n",
       "    <tr>\n",
       "      <th>962</th>\n",
       "      <td>Husak, Tyler</td>\n",
       "      <td>30</td>\n",
       "      <td>M</td>\n",
       "      <td>Marion</td>\n",
       "      <td>IA</td>\n",
       "      <td>USA</td>\n",
       "      <td>2:55:42</td>\n",
       "      <td>963</td>\n",
       "      <td>910</td>\n",
       "      <td>1</td>\n",
       "      <td>1</td>\n",
       "      <td>2015:2016</td>\n",
       "      <td>Husak</td>\n",
       "      <td>Tyler</td>\n",
       "    </tr>\n",
       "    <tr>\n",
       "      <th>977</th>\n",
       "      <td>Guthals, Nathaniel</td>\n",
       "      <td>26</td>\n",
       "      <td>M</td>\n",
       "      <td>Overland Park</td>\n",
       "      <td>KS</td>\n",
       "      <td>USA</td>\n",
       "      <td>2:55:57</td>\n",
       "      <td>978</td>\n",
       "      <td>923</td>\n",
       "      <td>1</td>\n",
       "      <td>1</td>\n",
       "      <td>2015:2016</td>\n",
       "      <td>Guthals</td>\n",
       "      <td>Nathaniel</td>\n",
       "    </tr>\n",
       "    <tr>\n",
       "      <th>986</th>\n",
       "      <td>Bretz, Virgil</td>\n",
       "      <td>44</td>\n",
       "      <td>M</td>\n",
       "      <td>Mt. Kisco</td>\n",
       "      <td>NY</td>\n",
       "      <td>USA</td>\n",
       "      <td>2:56:02</td>\n",
       "      <td>987</td>\n",
       "      <td>931</td>\n",
       "      <td>1</td>\n",
       "      <td>1</td>\n",
       "      <td>2015:2016</td>\n",
       "      <td>Bretz</td>\n",
       "      <td>Virgil</td>\n",
       "    </tr>\n",
       "    <tr>\n",
       "      <th>995</th>\n",
       "      <td>Larosa, Mark</td>\n",
       "      <td>38</td>\n",
       "      <td>M</td>\n",
       "      <td>North Andover</td>\n",
       "      <td>MA</td>\n",
       "      <td>USA</td>\n",
       "      <td>2:56:06</td>\n",
       "      <td>996</td>\n",
       "      <td>940</td>\n",
       "      <td>1</td>\n",
       "      <td>1</td>\n",
       "      <td>2015:2016</td>\n",
       "      <td>Larosa</td>\n",
       "      <td>Mark</td>\n",
       "    </tr>\n",
       "  </tbody>\n",
       "</table>\n",
       "<p>124 rows × 14 columns</p>\n",
       "</div>"
      ],
      "text/plain": [
       "                      Name  Age M/F                         City State  \\\n",
       "14           Korir, Wesley   34   M                       Kitale   NaN   \n",
       "30        Ornelas, Zachary   25   M                    Ann Arbor    MI   \n",
       "31           Ayr, Jason M.   29   M                      Allston    MA   \n",
       "36   Vangampleare, Stephen   26   M             Colorado Springs    CO   \n",
       "56      Boudalia, Said Sr.   48   M                      Belluno   NaN   \n",
       "..                     ...  ...  ..                          ...   ...   \n",
       "959            Yu, Michael   45   M  Zhubei City, Hsinchu County   NaN   \n",
       "962           Husak, Tyler   30   M                       Marion    IA   \n",
       "977     Guthals, Nathaniel   26   M                Overland Park    KS   \n",
       "986          Bretz, Virgil   44   M                    Mt. Kisco    NY   \n",
       "995           Larosa, Mark   38   M                North Andover    MA   \n",
       "\n",
       "    Country Official Time  Overall  Gender  Ran 2015  Ran 2016  Years Ran  \\\n",
       "14      KEN       2:18:14       15      15         1         1  2015:2016   \n",
       "30      USA       2:24:40       31      28         1         1  2015:2016   \n",
       "31      USA       2:24:49       32      29         1         1  2015:2016   \n",
       "36      USA       2:25:35       37      33         1         1  2015:2016   \n",
       "56      ITA       2:30:11       57      51         1         1  2015:2016   \n",
       "..      ...           ...      ...     ...       ...       ...        ...   \n",
       "959     TWN       2:55:40      960     907         1         1  2015:2016   \n",
       "962     USA       2:55:42      963     910         1         1  2015:2016   \n",
       "977     USA       2:55:57      978     923         1         1  2015:2016   \n",
       "986     USA       2:56:02      987     931         1         1  2015:2016   \n",
       "995     USA       2:56:06      996     940         1         1  2015:2016   \n",
       "\n",
       "       First_Name  Last_Name  \n",
       "14          Korir     Wesley  \n",
       "30        Ornelas    Zachary  \n",
       "31            Ayr   Jason M.  \n",
       "36   Vangampleare    Stephen  \n",
       "56       Boudalia   Said Sr.  \n",
       "..            ...        ...  \n",
       "959            Yu    Michael  \n",
       "962         Husak      Tyler  \n",
       "977       Guthals  Nathaniel  \n",
       "986         Bretz     Virgil  \n",
       "995        Larosa       Mark  \n",
       "\n",
       "[124 rows x 14 columns]"
      ]
     },
     "execution_count": 114,
     "metadata": {},
     "output_type": "execute_result"
    }
   ],
   "source": [
    "boston[(boston['Ran 2015']==1) & (boston['Ran 2016']==1)]"
   ]
  },
  {
   "cell_type": "code",
   "execution_count": 115,
   "id": "03840d05",
   "metadata": {},
   "outputs": [],
   "source": [
    "# how many top runners from 2017 also ran in 2015"
   ]
  },
  {
   "cell_type": "code",
   "execution_count": 116,
   "id": "73783d30",
   "metadata": {},
   "outputs": [
    {
     "data": {
      "text/plain": [
       "190"
      ]
     },
     "execution_count": 116,
     "metadata": {},
     "output_type": "execute_result"
    }
   ],
   "source": [
    "boston['Ran 2015'].sum()"
   ]
  },
  {
   "cell_type": "code",
   "execution_count": null,
   "id": "1603ef6d",
   "metadata": {},
   "outputs": [],
   "source": []
  },
  {
   "cell_type": "markdown",
   "id": "a059e6bb",
   "metadata": {},
   "source": [
    "# Text Replacement"
   ]
  },
  {
   "cell_type": "code",
   "execution_count": 117,
   "id": "af27f424",
   "metadata": {},
   "outputs": [
    {
     "data": {
      "text/plain": [
       "'Welcome to the text manipulation section'"
      ]
     },
     "execution_count": 117,
     "metadata": {},
     "output_type": "execute_result"
    }
   ],
   "source": [
    "s"
   ]
  },
  {
   "cell_type": "code",
   "execution_count": 118,
   "id": "e1d7b768",
   "metadata": {},
   "outputs": [],
   "source": [
    "s += \". This section is about text\""
   ]
  },
  {
   "cell_type": "code",
   "execution_count": 119,
   "id": "e534fbb9",
   "metadata": {},
   "outputs": [
    {
     "data": {
      "text/plain": [
       "'Welcome to the text manipulation section. This section is about text'"
      ]
     },
     "execution_count": 119,
     "metadata": {},
     "output_type": "execute_result"
    }
   ],
   "source": [
    "s"
   ]
  },
  {
   "cell_type": "code",
   "execution_count": 120,
   "id": "47d75563",
   "metadata": {},
   "outputs": [
    {
     "data": {
      "text/plain": [
       "'Welcome to the string manipulation section. This section is about string'"
      ]
     },
     "execution_count": 120,
     "metadata": {},
     "output_type": "execute_result"
    }
   ],
   "source": [
    "s.replace('text', 'string')"
   ]
  },
  {
   "cell_type": "code",
   "execution_count": 121,
   "id": "c79ccdd8",
   "metadata": {},
   "outputs": [
    {
     "data": {
      "text/plain": [
       "'Welcome to the string manipulation section. This section is about text'"
      ]
     },
     "execution_count": 121,
     "metadata": {},
     "output_type": "execute_result"
    }
   ],
   "source": [
    "s.replace('text', 'string', 1)"
   ]
  },
  {
   "cell_type": "code",
   "execution_count": 122,
   "id": "0af5dd4c",
   "metadata": {},
   "outputs": [
    {
     "data": {
      "text/html": [
       "<div>\n",
       "<style scoped>\n",
       "    .dataframe tbody tr th:only-of-type {\n",
       "        vertical-align: middle;\n",
       "    }\n",
       "\n",
       "    .dataframe tbody tr th {\n",
       "        vertical-align: top;\n",
       "    }\n",
       "\n",
       "    .dataframe thead th {\n",
       "        text-align: right;\n",
       "    }\n",
       "</style>\n",
       "<table border=\"1\" class=\"dataframe\">\n",
       "  <thead>\n",
       "    <tr style=\"text-align: right;\">\n",
       "      <th></th>\n",
       "      <th>Name</th>\n",
       "      <th>Age</th>\n",
       "      <th>M/F</th>\n",
       "      <th>City</th>\n",
       "      <th>State</th>\n",
       "      <th>Country</th>\n",
       "      <th>Official Time</th>\n",
       "      <th>Overall</th>\n",
       "      <th>Gender</th>\n",
       "      <th>Ran 2015</th>\n",
       "      <th>Ran 2016</th>\n",
       "      <th>Years Ran</th>\n",
       "      <th>First_Name</th>\n",
       "      <th>Last_Name</th>\n",
       "    </tr>\n",
       "  </thead>\n",
       "  <tbody>\n",
       "    <tr>\n",
       "      <th>330</th>\n",
       "      <td>Goris, Fred P</td>\n",
       "      <td>29</td>\n",
       "      <td>M</td>\n",
       "      <td>New York</td>\n",
       "      <td>NY</td>\n",
       "      <td>USA</td>\n",
       "      <td>2:44:56</td>\n",
       "      <td>331</td>\n",
       "      <td>304</td>\n",
       "      <td>0</td>\n",
       "      <td>1</td>\n",
       "      <td>2016</td>\n",
       "      <td>Goris</td>\n",
       "      <td>Fred P</td>\n",
       "    </tr>\n",
       "    <tr>\n",
       "      <th>177</th>\n",
       "      <td>Tongue, Patrick K.</td>\n",
       "      <td>28</td>\n",
       "      <td>M</td>\n",
       "      <td>Zeiningen</td>\n",
       "      <td>NaN</td>\n",
       "      <td>SUI</td>\n",
       "      <td>2:39:36</td>\n",
       "      <td>178</td>\n",
       "      <td>158</td>\n",
       "      <td>0</td>\n",
       "      <td>0</td>\n",
       "      <td>NaN</td>\n",
       "      <td>Tongue</td>\n",
       "      <td>Patrick K.</td>\n",
       "    </tr>\n",
       "    <tr>\n",
       "      <th>171</th>\n",
       "      <td>Wiersum, Matthew J</td>\n",
       "      <td>29</td>\n",
       "      <td>M</td>\n",
       "      <td>Minneapolis</td>\n",
       "      <td>MN</td>\n",
       "      <td>USA</td>\n",
       "      <td>2:39:23</td>\n",
       "      <td>172</td>\n",
       "      <td>152</td>\n",
       "      <td>0</td>\n",
       "      <td>0</td>\n",
       "      <td>NaN</td>\n",
       "      <td>Wiersum</td>\n",
       "      <td>Matthew J</td>\n",
       "    </tr>\n",
       "    <tr>\n",
       "      <th>90</th>\n",
       "      <td>Trammell, Chadwick D.</td>\n",
       "      <td>32</td>\n",
       "      <td>M</td>\n",
       "      <td>Anchorage</td>\n",
       "      <td>AK</td>\n",
       "      <td>USA</td>\n",
       "      <td>2:34:09</td>\n",
       "      <td>91</td>\n",
       "      <td>81</td>\n",
       "      <td>0</td>\n",
       "      <td>0</td>\n",
       "      <td>NaN</td>\n",
       "      <td>Trammell</td>\n",
       "      <td>Chadwick D.</td>\n",
       "    </tr>\n",
       "    <tr>\n",
       "      <th>482</th>\n",
       "      <td>Critchfield, Byron L.</td>\n",
       "      <td>29</td>\n",
       "      <td>M</td>\n",
       "      <td>Fountain</td>\n",
       "      <td>CO</td>\n",
       "      <td>USA</td>\n",
       "      <td>2:48:17</td>\n",
       "      <td>483</td>\n",
       "      <td>448</td>\n",
       "      <td>0</td>\n",
       "      <td>0</td>\n",
       "      <td>NaN</td>\n",
       "      <td>Critchfield</td>\n",
       "      <td>Byron L.</td>\n",
       "    </tr>\n",
       "    <tr>\n",
       "      <th>9</th>\n",
       "      <td>Ward, Jared</td>\n",
       "      <td>28</td>\n",
       "      <td>M</td>\n",
       "      <td>Kaysville</td>\n",
       "      <td>UT</td>\n",
       "      <td>USA</td>\n",
       "      <td>2:15:28</td>\n",
       "      <td>10</td>\n",
       "      <td>10</td>\n",
       "      <td>0</td>\n",
       "      <td>0</td>\n",
       "      <td>NaN</td>\n",
       "      <td>Ward</td>\n",
       "      <td>Jared</td>\n",
       "    </tr>\n",
       "    <tr>\n",
       "      <th>383</th>\n",
       "      <td>Hesselbjerg, Anders R.</td>\n",
       "      <td>33</td>\n",
       "      <td>M</td>\n",
       "      <td>2200 Copenhagen N.</td>\n",
       "      <td>NaN</td>\n",
       "      <td>DEN</td>\n",
       "      <td>2:46:15</td>\n",
       "      <td>384</td>\n",
       "      <td>354</td>\n",
       "      <td>0</td>\n",
       "      <td>0</td>\n",
       "      <td>NaN</td>\n",
       "      <td>Hesselbjerg</td>\n",
       "      <td>Anders R.</td>\n",
       "    </tr>\n",
       "    <tr>\n",
       "      <th>489</th>\n",
       "      <td>Rogers, Taylor W</td>\n",
       "      <td>34</td>\n",
       "      <td>M</td>\n",
       "      <td>London</td>\n",
       "      <td>NaN</td>\n",
       "      <td>GBR</td>\n",
       "      <td>2:48:29</td>\n",
       "      <td>490</td>\n",
       "      <td>455</td>\n",
       "      <td>0</td>\n",
       "      <td>0</td>\n",
       "      <td>NaN</td>\n",
       "      <td>Rogers</td>\n",
       "      <td>Taylor W</td>\n",
       "    </tr>\n",
       "    <tr>\n",
       "      <th>703</th>\n",
       "      <td>Leonard, Dan</td>\n",
       "      <td>30</td>\n",
       "      <td>M</td>\n",
       "      <td>Chicago</td>\n",
       "      <td>IL</td>\n",
       "      <td>USA</td>\n",
       "      <td>2:52:07</td>\n",
       "      <td>704</td>\n",
       "      <td>663</td>\n",
       "      <td>0</td>\n",
       "      <td>0</td>\n",
       "      <td>NaN</td>\n",
       "      <td>Leonard</td>\n",
       "      <td>Dan</td>\n",
       "    </tr>\n",
       "    <tr>\n",
       "      <th>377</th>\n",
       "      <td>Brewer, Bo</td>\n",
       "      <td>28</td>\n",
       "      <td>M</td>\n",
       "      <td>Dunwoody</td>\n",
       "      <td>GA</td>\n",
       "      <td>USA</td>\n",
       "      <td>2:46:05</td>\n",
       "      <td>378</td>\n",
       "      <td>349</td>\n",
       "      <td>0</td>\n",
       "      <td>0</td>\n",
       "      <td>NaN</td>\n",
       "      <td>Brewer</td>\n",
       "      <td>Bo</td>\n",
       "    </tr>\n",
       "  </tbody>\n",
       "</table>\n",
       "</div>"
      ],
      "text/plain": [
       "                       Name  Age M/F                City State Country  \\\n",
       "330           Goris, Fred P   29   M            New York    NY     USA   \n",
       "177      Tongue, Patrick K.   28   M           Zeiningen   NaN     SUI   \n",
       "171      Wiersum, Matthew J   29   M         Minneapolis    MN     USA   \n",
       "90    Trammell, Chadwick D.   32   M           Anchorage    AK     USA   \n",
       "482   Critchfield, Byron L.   29   M            Fountain    CO     USA   \n",
       "9               Ward, Jared   28   M           Kaysville    UT     USA   \n",
       "383  Hesselbjerg, Anders R.   33   M  2200 Copenhagen N.   NaN     DEN   \n",
       "489        Rogers, Taylor W   34   M              London   NaN     GBR   \n",
       "703            Leonard, Dan   30   M             Chicago    IL     USA   \n",
       "377              Brewer, Bo   28   M            Dunwoody    GA     USA   \n",
       "\n",
       "    Official Time  Overall  Gender  Ran 2015  Ran 2016 Years Ran   First_Name  \\\n",
       "330       2:44:56      331     304         0         1      2016        Goris   \n",
       "177       2:39:36      178     158         0         0       NaN       Tongue   \n",
       "171       2:39:23      172     152         0         0       NaN      Wiersum   \n",
       "90        2:34:09       91      81         0         0       NaN     Trammell   \n",
       "482       2:48:17      483     448         0         0       NaN  Critchfield   \n",
       "9         2:15:28       10      10         0         0       NaN         Ward   \n",
       "383       2:46:15      384     354         0         0       NaN  Hesselbjerg   \n",
       "489       2:48:29      490     455         0         0       NaN       Rogers   \n",
       "703       2:52:07      704     663         0         0       NaN      Leonard   \n",
       "377       2:46:05      378     349         0         0       NaN       Brewer   \n",
       "\n",
       "       Last_Name  \n",
       "330       Fred P  \n",
       "177   Patrick K.  \n",
       "171    Matthew J  \n",
       "90   Chadwick D.  \n",
       "482     Byron L.  \n",
       "9          Jared  \n",
       "383    Anders R.  \n",
       "489     Taylor W  \n",
       "703          Dan  \n",
       "377           Bo  "
      ]
     },
     "execution_count": 122,
     "metadata": {},
     "output_type": "execute_result"
    }
   ],
   "source": [
    "boston.sample(10)"
   ]
  },
  {
   "cell_type": "code",
   "execution_count": 123,
   "id": "b53290f0",
   "metadata": {},
   "outputs": [],
   "source": [
    "boston['M/F'] = boston['M/F'].str.replace('M', 'Male').str.replace('F', 'Female')"
   ]
  },
  {
   "cell_type": "code",
   "execution_count": 124,
   "id": "e0ef5eb5",
   "metadata": {},
   "outputs": [
    {
     "data": {
      "text/html": [
       "<div>\n",
       "<style scoped>\n",
       "    .dataframe tbody tr th:only-of-type {\n",
       "        vertical-align: middle;\n",
       "    }\n",
       "\n",
       "    .dataframe tbody tr th {\n",
       "        vertical-align: top;\n",
       "    }\n",
       "\n",
       "    .dataframe thead th {\n",
       "        text-align: right;\n",
       "    }\n",
       "</style>\n",
       "<table border=\"1\" class=\"dataframe\">\n",
       "  <thead>\n",
       "    <tr style=\"text-align: right;\">\n",
       "      <th></th>\n",
       "      <th>Name</th>\n",
       "      <th>Age</th>\n",
       "      <th>M/F</th>\n",
       "      <th>City</th>\n",
       "      <th>State</th>\n",
       "      <th>Country</th>\n",
       "      <th>Official Time</th>\n",
       "      <th>Overall</th>\n",
       "      <th>Gender</th>\n",
       "      <th>Ran 2015</th>\n",
       "      <th>Ran 2016</th>\n",
       "      <th>Years Ran</th>\n",
       "      <th>First_Name</th>\n",
       "      <th>Last_Name</th>\n",
       "    </tr>\n",
       "  </thead>\n",
       "  <tbody>\n",
       "    <tr>\n",
       "      <th>0</th>\n",
       "      <td>Kirui, Geoffrey</td>\n",
       "      <td>24</td>\n",
       "      <td>Male</td>\n",
       "      <td>Keringet</td>\n",
       "      <td>NaN</td>\n",
       "      <td>KEN</td>\n",
       "      <td>2:09:37</td>\n",
       "      <td>1</td>\n",
       "      <td>1</td>\n",
       "      <td>0</td>\n",
       "      <td>0</td>\n",
       "      <td>NaN</td>\n",
       "      <td>Kirui</td>\n",
       "      <td>Geoffrey</td>\n",
       "    </tr>\n",
       "    <tr>\n",
       "      <th>1</th>\n",
       "      <td>Rupp, Galen</td>\n",
       "      <td>30</td>\n",
       "      <td>Male</td>\n",
       "      <td>Portland</td>\n",
       "      <td>OR</td>\n",
       "      <td>USA</td>\n",
       "      <td>2:09:58</td>\n",
       "      <td>2</td>\n",
       "      <td>2</td>\n",
       "      <td>0</td>\n",
       "      <td>0</td>\n",
       "      <td>NaN</td>\n",
       "      <td>Rupp</td>\n",
       "      <td>Galen</td>\n",
       "    </tr>\n",
       "    <tr>\n",
       "      <th>2</th>\n",
       "      <td>Osako, Suguru</td>\n",
       "      <td>25</td>\n",
       "      <td>Male</td>\n",
       "      <td>Machida-City</td>\n",
       "      <td>NaN</td>\n",
       "      <td>JPN</td>\n",
       "      <td>2:10:28</td>\n",
       "      <td>3</td>\n",
       "      <td>3</td>\n",
       "      <td>0</td>\n",
       "      <td>0</td>\n",
       "      <td>NaN</td>\n",
       "      <td>Osako</td>\n",
       "      <td>Suguru</td>\n",
       "    </tr>\n",
       "    <tr>\n",
       "      <th>3</th>\n",
       "      <td>Biwott, Shadrack</td>\n",
       "      <td>32</td>\n",
       "      <td>Male</td>\n",
       "      <td>Mammoth Lakes</td>\n",
       "      <td>CA</td>\n",
       "      <td>USA</td>\n",
       "      <td>2:12:08</td>\n",
       "      <td>4</td>\n",
       "      <td>4</td>\n",
       "      <td>0</td>\n",
       "      <td>0</td>\n",
       "      <td>NaN</td>\n",
       "      <td>Biwott</td>\n",
       "      <td>Shadrack</td>\n",
       "    </tr>\n",
       "    <tr>\n",
       "      <th>4</th>\n",
       "      <td>Chebet, Wilson</td>\n",
       "      <td>31</td>\n",
       "      <td>Male</td>\n",
       "      <td>Marakwet</td>\n",
       "      <td>NaN</td>\n",
       "      <td>KEN</td>\n",
       "      <td>2:12:35</td>\n",
       "      <td>5</td>\n",
       "      <td>5</td>\n",
       "      <td>1</td>\n",
       "      <td>0</td>\n",
       "      <td>2015</td>\n",
       "      <td>Chebet</td>\n",
       "      <td>Wilson</td>\n",
       "    </tr>\n",
       "  </tbody>\n",
       "</table>\n",
       "</div>"
      ],
      "text/plain": [
       "               Name  Age   M/F           City State Country Official Time  \\\n",
       "0   Kirui, Geoffrey   24  Male       Keringet   NaN     KEN       2:09:37   \n",
       "1       Rupp, Galen   30  Male       Portland    OR     USA       2:09:58   \n",
       "2     Osako, Suguru   25  Male   Machida-City   NaN     JPN       2:10:28   \n",
       "3  Biwott, Shadrack   32  Male  Mammoth Lakes    CA     USA       2:12:08   \n",
       "4    Chebet, Wilson   31  Male       Marakwet   NaN     KEN       2:12:35   \n",
       "\n",
       "   Overall  Gender  Ran 2015  Ran 2016 Years Ran First_Name Last_Name  \n",
       "0        1       1         0         0       NaN      Kirui  Geoffrey  \n",
       "1        2       2         0         0       NaN       Rupp     Galen  \n",
       "2        3       3         0         0       NaN      Osako    Suguru  \n",
       "3        4       4         0         0       NaN     Biwott  Shadrack  \n",
       "4        5       5         1         0      2015     Chebet    Wilson  "
      ]
     },
     "execution_count": 124,
     "metadata": {},
     "output_type": "execute_result"
    }
   ],
   "source": [
    "boston.head()"
   ]
  },
  {
   "cell_type": "code",
   "execution_count": 125,
   "id": "950c6100",
   "metadata": {},
   "outputs": [],
   "source": [
    "# case-insensitive replacements"
   ]
  },
  {
   "cell_type": "code",
   "execution_count": 126,
   "id": "022904fc",
   "metadata": {},
   "outputs": [
    {
     "data": {
      "text/plain": [
       "0                KEN\n",
       "1      United States\n",
       "2                JPN\n",
       "3      United States\n",
       "4                KEN\n",
       "           ...      \n",
       "995    United States\n",
       "996    United States\n",
       "997    United States\n",
       "998    United States\n",
       "999    United States\n",
       "Name: Country, Length: 1000, dtype: object"
      ]
     },
     "execution_count": 126,
     "metadata": {},
     "output_type": "execute_result"
    }
   ],
   "source": [
    "boston.Country.str.replace('UsA', 'United States', case=False)"
   ]
  },
  {
   "cell_type": "code",
   "execution_count": null,
   "id": "67fcb63f",
   "metadata": {},
   "outputs": [],
   "source": []
  },
  {
   "cell_type": "markdown",
   "id": "7d176e80",
   "metadata": {},
   "source": [
    "# Is this a valid Email"
   ]
  },
  {
   "cell_type": "code",
   "execution_count": 127,
   "id": "0031fc64",
   "metadata": {},
   "outputs": [],
   "source": [
    "import re"
   ]
  },
  {
   "cell_type": "code",
   "execution_count": 128,
   "id": "f9e95935",
   "metadata": {},
   "outputs": [],
   "source": [
    "regex = r\"\\w\\S*@.*\\w\""
   ]
  },
  {
   "cell_type": "code",
   "execution_count": 129,
   "id": "b2b9b28a",
   "metadata": {},
   "outputs": [
    {
     "data": {
      "text/plain": [
       "['jainpj82003@gmail.com']"
      ]
     },
     "execution_count": 129,
     "metadata": {},
     "output_type": "execute_result"
    }
   ],
   "source": [
    "re.findall(regex, 'jainpj82003@gmail.com')"
   ]
  },
  {
   "cell_type": "code",
   "execution_count": 130,
   "id": "54b9ad14",
   "metadata": {},
   "outputs": [
    {
     "data": {
      "text/plain": [
       "[]"
      ]
     },
     "execution_count": 130,
     "metadata": {},
     "output_type": "execute_result"
    }
   ],
   "source": [
    "re.findall(regex, '@gmail.com')"
   ]
  },
  {
   "cell_type": "code",
   "execution_count": 131,
   "id": "825dcfb0",
   "metadata": {},
   "outputs": [],
   "source": [
    "# \"jainpj82003@gmail.com\" ==> ***********@gmail.com\""
   ]
  },
  {
   "cell_type": "code",
   "execution_count": 132,
   "id": "3b57be61",
   "metadata": {},
   "outputs": [],
   "source": [
    "# start with the actual valid email\n",
    "# capture the domain part of the email\n",
    "# replace everything except the captured group"
   ]
  },
  {
   "cell_type": "code",
   "execution_count": 133,
   "id": "1097937c",
   "metadata": {},
   "outputs": [],
   "source": [
    "email = \"jainpj82003@gmail.com\""
   ]
  },
  {
   "cell_type": "code",
   "execution_count": 134,
   "id": "e95cc9e3",
   "metadata": {},
   "outputs": [],
   "source": [
    "pattern = r\"\\w\\S*(@.*\\w)\""
   ]
  },
  {
   "cell_type": "code",
   "execution_count": 135,
   "id": "aa1c2056",
   "metadata": {},
   "outputs": [
    {
     "data": {
      "text/plain": [
       "'*******@gmail.com'"
      ]
     },
     "execution_count": 135,
     "metadata": {},
     "output_type": "execute_result"
    }
   ],
   "source": [
    "re.sub(pattern, r'*******\\1', email)"
   ]
  },
  {
   "cell_type": "code",
   "execution_count": null,
   "id": "4867d2a9",
   "metadata": {},
   "outputs": [],
   "source": []
  },
  {
   "cell_type": "markdown",
   "id": "2407eefb",
   "metadata": {},
   "source": [
    "# Pandas str contains(), split() and replace() with regex"
   ]
  },
  {
   "cell_type": "code",
   "execution_count": 136,
   "id": "251a5e7a",
   "metadata": {},
   "outputs": [
    {
     "data": {
      "text/html": [
       "<div>\n",
       "<style scoped>\n",
       "    .dataframe tbody tr th:only-of-type {\n",
       "        vertical-align: middle;\n",
       "    }\n",
       "\n",
       "    .dataframe tbody tr th {\n",
       "        vertical-align: top;\n",
       "    }\n",
       "\n",
       "    .dataframe thead th {\n",
       "        text-align: right;\n",
       "    }\n",
       "</style>\n",
       "<table border=\"1\" class=\"dataframe\">\n",
       "  <thead>\n",
       "    <tr style=\"text-align: right;\">\n",
       "      <th></th>\n",
       "      <th>Name</th>\n",
       "      <th>Age</th>\n",
       "      <th>M/F</th>\n",
       "      <th>City</th>\n",
       "      <th>State</th>\n",
       "      <th>Country</th>\n",
       "      <th>Official Time</th>\n",
       "      <th>Overall</th>\n",
       "      <th>Gender</th>\n",
       "      <th>Ran 2015</th>\n",
       "      <th>Ran 2016</th>\n",
       "      <th>Years Ran</th>\n",
       "      <th>First_Name</th>\n",
       "      <th>Last_Name</th>\n",
       "    </tr>\n",
       "  </thead>\n",
       "  <tbody>\n",
       "    <tr>\n",
       "      <th>0</th>\n",
       "      <td>Kirui, Geoffrey</td>\n",
       "      <td>24</td>\n",
       "      <td>Male</td>\n",
       "      <td>Keringet</td>\n",
       "      <td>NaN</td>\n",
       "      <td>KEN</td>\n",
       "      <td>2:09:37</td>\n",
       "      <td>1</td>\n",
       "      <td>1</td>\n",
       "      <td>0</td>\n",
       "      <td>0</td>\n",
       "      <td>NaN</td>\n",
       "      <td>Kirui</td>\n",
       "      <td>Geoffrey</td>\n",
       "    </tr>\n",
       "    <tr>\n",
       "      <th>1</th>\n",
       "      <td>Rupp, Galen</td>\n",
       "      <td>30</td>\n",
       "      <td>Male</td>\n",
       "      <td>Portland</td>\n",
       "      <td>OR</td>\n",
       "      <td>USA</td>\n",
       "      <td>2:09:58</td>\n",
       "      <td>2</td>\n",
       "      <td>2</td>\n",
       "      <td>0</td>\n",
       "      <td>0</td>\n",
       "      <td>NaN</td>\n",
       "      <td>Rupp</td>\n",
       "      <td>Galen</td>\n",
       "    </tr>\n",
       "    <tr>\n",
       "      <th>2</th>\n",
       "      <td>Osako, Suguru</td>\n",
       "      <td>25</td>\n",
       "      <td>Male</td>\n",
       "      <td>Machida-City</td>\n",
       "      <td>NaN</td>\n",
       "      <td>JPN</td>\n",
       "      <td>2:10:28</td>\n",
       "      <td>3</td>\n",
       "      <td>3</td>\n",
       "      <td>0</td>\n",
       "      <td>0</td>\n",
       "      <td>NaN</td>\n",
       "      <td>Osako</td>\n",
       "      <td>Suguru</td>\n",
       "    </tr>\n",
       "    <tr>\n",
       "      <th>3</th>\n",
       "      <td>Biwott, Shadrack</td>\n",
       "      <td>32</td>\n",
       "      <td>Male</td>\n",
       "      <td>Mammoth Lakes</td>\n",
       "      <td>CA</td>\n",
       "      <td>USA</td>\n",
       "      <td>2:12:08</td>\n",
       "      <td>4</td>\n",
       "      <td>4</td>\n",
       "      <td>0</td>\n",
       "      <td>0</td>\n",
       "      <td>NaN</td>\n",
       "      <td>Biwott</td>\n",
       "      <td>Shadrack</td>\n",
       "    </tr>\n",
       "    <tr>\n",
       "      <th>4</th>\n",
       "      <td>Chebet, Wilson</td>\n",
       "      <td>31</td>\n",
       "      <td>Male</td>\n",
       "      <td>Marakwet</td>\n",
       "      <td>NaN</td>\n",
       "      <td>KEN</td>\n",
       "      <td>2:12:35</td>\n",
       "      <td>5</td>\n",
       "      <td>5</td>\n",
       "      <td>1</td>\n",
       "      <td>0</td>\n",
       "      <td>2015</td>\n",
       "      <td>Chebet</td>\n",
       "      <td>Wilson</td>\n",
       "    </tr>\n",
       "  </tbody>\n",
       "</table>\n",
       "</div>"
      ],
      "text/plain": [
       "               Name  Age   M/F           City State Country Official Time  \\\n",
       "0   Kirui, Geoffrey   24  Male       Keringet   NaN     KEN       2:09:37   \n",
       "1       Rupp, Galen   30  Male       Portland    OR     USA       2:09:58   \n",
       "2     Osako, Suguru   25  Male   Machida-City   NaN     JPN       2:10:28   \n",
       "3  Biwott, Shadrack   32  Male  Mammoth Lakes    CA     USA       2:12:08   \n",
       "4    Chebet, Wilson   31  Male       Marakwet   NaN     KEN       2:12:35   \n",
       "\n",
       "   Overall  Gender  Ran 2015  Ran 2016 Years Ran First_Name Last_Name  \n",
       "0        1       1         0         0       NaN      Kirui  Geoffrey  \n",
       "1        2       2         0         0       NaN       Rupp     Galen  \n",
       "2        3       3         0         0       NaN      Osako    Suguru  \n",
       "3        4       4         0         0       NaN     Biwott  Shadrack  \n",
       "4        5       5         1         0      2015     Chebet    Wilson  "
      ]
     },
     "execution_count": 136,
     "metadata": {},
     "output_type": "execute_result"
    }
   ],
   "source": [
    "boston.head()"
   ]
  },
  {
   "cell_type": "code",
   "execution_count": 137,
   "id": "8f54620c",
   "metadata": {},
   "outputs": [
    {
     "data": {
      "text/plain": [
       "93            Vanos, William\n",
       "199        Guzick, William F\n",
       "415          Hartje, William\n",
       "429         Adams, William C\n",
       "456              Cunha, Will\n",
       "526            Swenson, Will\n",
       "571    Gates, William E. Jr.\n",
       "711       Swanson, William G\n",
       "814        Williamson, David\n",
       "835             Vargas, Will\n",
       "892             Rivera, Will\n",
       "897      Feldman, William P.\n",
       "936      Decamps, William M.\n",
       "939        Versen, William R\n",
       "996      Williamson, Jerry A\n",
       "Name: Name, dtype: object"
      ]
     },
     "execution_count": 137,
     "metadata": {},
     "output_type": "execute_result"
    }
   ],
   "source": [
    "boston.Name[boston.Name.str.contains('Will')]"
   ]
  },
  {
   "cell_type": "code",
   "execution_count": 139,
   "id": "4af6512f",
   "metadata": {},
   "outputs": [
    {
     "data": {
      "text/plain": [
       "93            Vanos, William\n",
       "199        Guzick, William F\n",
       "415          Hartje, William\n",
       "429         Adams, William C\n",
       "456              Cunha, Will\n",
       "526            Swenson, Will\n",
       "571    Gates, William E. Jr.\n",
       "711       Swanson, William G\n",
       "814        Williamson, David\n",
       "835             Vargas, Will\n",
       "892             Rivera, Will\n",
       "897      Feldman, William P.\n",
       "936      Decamps, William M.\n",
       "939        Versen, William R\n",
       "996      Williamson, Jerry A\n",
       "Name: Name, dtype: object"
      ]
     },
     "execution_count": 139,
     "metadata": {},
     "output_type": "execute_result"
    }
   ],
   "source": [
    "boston.Name[boston.Name.str.contains(r\"[Ww]ill\",regex=True)]"
   ]
  },
  {
   "cell_type": "code",
   "execution_count": 142,
   "id": "ca47eaf6",
   "metadata": {},
   "outputs": [
    {
     "data": {
      "text/plain": [
       "456      Cunha, Will\n",
       "526    Swenson, Will\n",
       "835     Vargas, Will\n",
       "892     Rivera, Will\n",
       "Name: Name, dtype: object"
      ]
     },
     "execution_count": 142,
     "metadata": {},
     "output_type": "execute_result"
    }
   ],
   "source": [
    "# isolate first name wills\n",
    "boston.Name[boston.Name.str.contains(r\",\\s[Ww]ill$\",regex=True)]"
   ]
  },
  {
   "cell_type": "code",
   "execution_count": 143,
   "id": "18ea8f79",
   "metadata": {},
   "outputs": [
    {
     "data": {
      "text/plain": [
       "456      Cunha, Will\n",
       "526    Swenson, Will\n",
       "835     Vargas, Will\n",
       "892     Rivera, Will\n",
       "Name: Name, dtype: object"
      ]
     },
     "execution_count": 143,
     "metadata": {},
     "output_type": "execute_result"
    }
   ],
   "source": [
    "boston.Name[boston.Name.str.contains(r\",\\s[Ww]ill\\b\",regex=True)]"
   ]
  },
  {
   "cell_type": "code",
   "execution_count": 144,
   "id": "bef6d57b",
   "metadata": {},
   "outputs": [],
   "source": [
    "# Split() with regex"
   ]
  },
  {
   "cell_type": "code",
   "execution_count": 145,
   "id": "f90fa241",
   "metadata": {},
   "outputs": [
    {
     "data": {
      "text/html": [
       "<div>\n",
       "<style scoped>\n",
       "    .dataframe tbody tr th:only-of-type {\n",
       "        vertical-align: middle;\n",
       "    }\n",
       "\n",
       "    .dataframe tbody tr th {\n",
       "        vertical-align: top;\n",
       "    }\n",
       "\n",
       "    .dataframe thead th {\n",
       "        text-align: right;\n",
       "    }\n",
       "</style>\n",
       "<table border=\"1\" class=\"dataframe\">\n",
       "  <thead>\n",
       "    <tr style=\"text-align: right;\">\n",
       "      <th></th>\n",
       "      <th>0</th>\n",
       "      <th>1</th>\n",
       "      <th>2</th>\n",
       "      <th>3</th>\n",
       "      <th>4</th>\n",
       "    </tr>\n",
       "  </thead>\n",
       "  <tbody>\n",
       "    <tr>\n",
       "      <th>0</th>\n",
       "      <td>Kirui,</td>\n",
       "      <td>Geoffrey</td>\n",
       "      <td>None</td>\n",
       "      <td>None</td>\n",
       "      <td>None</td>\n",
       "    </tr>\n",
       "    <tr>\n",
       "      <th>1</th>\n",
       "      <td>Rupp,</td>\n",
       "      <td>Galen</td>\n",
       "      <td>None</td>\n",
       "      <td>None</td>\n",
       "      <td>None</td>\n",
       "    </tr>\n",
       "    <tr>\n",
       "      <th>2</th>\n",
       "      <td>Osako,</td>\n",
       "      <td>Suguru</td>\n",
       "      <td>None</td>\n",
       "      <td>None</td>\n",
       "      <td>None</td>\n",
       "    </tr>\n",
       "    <tr>\n",
       "      <th>3</th>\n",
       "      <td>Biwott,</td>\n",
       "      <td>Shadrack</td>\n",
       "      <td>None</td>\n",
       "      <td>None</td>\n",
       "      <td>None</td>\n",
       "    </tr>\n",
       "    <tr>\n",
       "      <th>4</th>\n",
       "      <td>Chebet,</td>\n",
       "      <td>Wilson</td>\n",
       "      <td>None</td>\n",
       "      <td>None</td>\n",
       "      <td>None</td>\n",
       "    </tr>\n",
       "    <tr>\n",
       "      <th>...</th>\n",
       "      <td>...</td>\n",
       "      <td>...</td>\n",
       "      <td>...</td>\n",
       "      <td>...</td>\n",
       "      <td>...</td>\n",
       "    </tr>\n",
       "    <tr>\n",
       "      <th>995</th>\n",
       "      <td>Larosa,</td>\n",
       "      <td>Mark</td>\n",
       "      <td>None</td>\n",
       "      <td>None</td>\n",
       "      <td>None</td>\n",
       "    </tr>\n",
       "    <tr>\n",
       "      <th>996</th>\n",
       "      <td>Williamson,</td>\n",
       "      <td>Jerry</td>\n",
       "      <td>A</td>\n",
       "      <td>None</td>\n",
       "      <td>None</td>\n",
       "    </tr>\n",
       "    <tr>\n",
       "      <th>997</th>\n",
       "      <td>Mccue,</td>\n",
       "      <td>Daniel</td>\n",
       "      <td>T</td>\n",
       "      <td>None</td>\n",
       "      <td>None</td>\n",
       "    </tr>\n",
       "    <tr>\n",
       "      <th>998</th>\n",
       "      <td>Larosa,</td>\n",
       "      <td>John</td>\n",
       "      <td>None</td>\n",
       "      <td>None</td>\n",
       "      <td>None</td>\n",
       "    </tr>\n",
       "    <tr>\n",
       "      <th>999</th>\n",
       "      <td>Sanchez,</td>\n",
       "      <td>Sam</td>\n",
       "      <td>R</td>\n",
       "      <td>None</td>\n",
       "      <td>None</td>\n",
       "    </tr>\n",
       "  </tbody>\n",
       "</table>\n",
       "<p>1000 rows × 5 columns</p>\n",
       "</div>"
      ],
      "text/plain": [
       "               0         1     2     3     4\n",
       "0         Kirui,  Geoffrey  None  None  None\n",
       "1          Rupp,     Galen  None  None  None\n",
       "2         Osako,    Suguru  None  None  None\n",
       "3        Biwott,  Shadrack  None  None  None\n",
       "4        Chebet,    Wilson  None  None  None\n",
       "..           ...       ...   ...   ...   ...\n",
       "995      Larosa,      Mark  None  None  None\n",
       "996  Williamson,     Jerry     A  None  None\n",
       "997       Mccue,    Daniel     T  None  None\n",
       "998      Larosa,      John  None  None  None\n",
       "999     Sanchez,       Sam     R  None  None\n",
       "\n",
       "[1000 rows x 5 columns]"
      ]
     },
     "execution_count": 145,
     "metadata": {},
     "output_type": "execute_result"
    }
   ],
   "source": [
    "boston.Name.str.split(expand=True)"
   ]
  },
  {
   "cell_type": "code",
   "execution_count": 146,
   "id": "ba677ad7",
   "metadata": {},
   "outputs": [
    {
     "data": {
      "text/html": [
       "<div>\n",
       "<style scoped>\n",
       "    .dataframe tbody tr th:only-of-type {\n",
       "        vertical-align: middle;\n",
       "    }\n",
       "\n",
       "    .dataframe tbody tr th {\n",
       "        vertical-align: top;\n",
       "    }\n",
       "\n",
       "    .dataframe thead th {\n",
       "        text-align: right;\n",
       "    }\n",
       "</style>\n",
       "<table border=\"1\" class=\"dataframe\">\n",
       "  <thead>\n",
       "    <tr style=\"text-align: right;\">\n",
       "      <th></th>\n",
       "      <th>0</th>\n",
       "      <th>1</th>\n",
       "      <th>2</th>\n",
       "      <th>3</th>\n",
       "      <th>4</th>\n",
       "    </tr>\n",
       "  </thead>\n",
       "  <tbody>\n",
       "    <tr>\n",
       "      <th>0</th>\n",
       "      <td>Kirui,</td>\n",
       "      <td>Geoffrey</td>\n",
       "      <td>None</td>\n",
       "      <td>None</td>\n",
       "      <td>None</td>\n",
       "    </tr>\n",
       "    <tr>\n",
       "      <th>1</th>\n",
       "      <td>Rupp,</td>\n",
       "      <td>Galen</td>\n",
       "      <td>None</td>\n",
       "      <td>None</td>\n",
       "      <td>None</td>\n",
       "    </tr>\n",
       "    <tr>\n",
       "      <th>2</th>\n",
       "      <td>Osako,</td>\n",
       "      <td>Suguru</td>\n",
       "      <td>None</td>\n",
       "      <td>None</td>\n",
       "      <td>None</td>\n",
       "    </tr>\n",
       "    <tr>\n",
       "      <th>3</th>\n",
       "      <td>Biwott,</td>\n",
       "      <td>Shadrack</td>\n",
       "      <td>None</td>\n",
       "      <td>None</td>\n",
       "      <td>None</td>\n",
       "    </tr>\n",
       "    <tr>\n",
       "      <th>4</th>\n",
       "      <td>Chebet,</td>\n",
       "      <td>Wilson</td>\n",
       "      <td>None</td>\n",
       "      <td>None</td>\n",
       "      <td>None</td>\n",
       "    </tr>\n",
       "    <tr>\n",
       "      <th>...</th>\n",
       "      <td>...</td>\n",
       "      <td>...</td>\n",
       "      <td>...</td>\n",
       "      <td>...</td>\n",
       "      <td>...</td>\n",
       "    </tr>\n",
       "    <tr>\n",
       "      <th>995</th>\n",
       "      <td>Larosa,</td>\n",
       "      <td>Mark</td>\n",
       "      <td>None</td>\n",
       "      <td>None</td>\n",
       "      <td>None</td>\n",
       "    </tr>\n",
       "    <tr>\n",
       "      <th>996</th>\n",
       "      <td>Williamson,</td>\n",
       "      <td>Jerry</td>\n",
       "      <td>A</td>\n",
       "      <td>None</td>\n",
       "      <td>None</td>\n",
       "    </tr>\n",
       "    <tr>\n",
       "      <th>997</th>\n",
       "      <td>Mccue,</td>\n",
       "      <td>Daniel</td>\n",
       "      <td>T</td>\n",
       "      <td>None</td>\n",
       "      <td>None</td>\n",
       "    </tr>\n",
       "    <tr>\n",
       "      <th>998</th>\n",
       "      <td>Larosa,</td>\n",
       "      <td>John</td>\n",
       "      <td>None</td>\n",
       "      <td>None</td>\n",
       "      <td>None</td>\n",
       "    </tr>\n",
       "    <tr>\n",
       "      <th>999</th>\n",
       "      <td>Sanchez,</td>\n",
       "      <td>Sam</td>\n",
       "      <td>R</td>\n",
       "      <td>None</td>\n",
       "      <td>None</td>\n",
       "    </tr>\n",
       "  </tbody>\n",
       "</table>\n",
       "<p>1000 rows × 5 columns</p>\n",
       "</div>"
      ],
      "text/plain": [
       "               0         1     2     3     4\n",
       "0         Kirui,  Geoffrey  None  None  None\n",
       "1          Rupp,     Galen  None  None  None\n",
       "2         Osako,    Suguru  None  None  None\n",
       "3        Biwott,  Shadrack  None  None  None\n",
       "4        Chebet,    Wilson  None  None  None\n",
       "..           ...       ...   ...   ...   ...\n",
       "995      Larosa,      Mark  None  None  None\n",
       "996  Williamson,     Jerry     A  None  None\n",
       "997       Mccue,    Daniel     T  None  None\n",
       "998      Larosa,      John  None  None  None\n",
       "999     Sanchez,       Sam     R  None  None\n",
       "\n",
       "[1000 rows x 5 columns]"
      ]
     },
     "execution_count": 146,
     "metadata": {},
     "output_type": "execute_result"
    }
   ],
   "source": [
    "boston.Name.str.split(r'\\s',expand=True)"
   ]
  },
  {
   "cell_type": "code",
   "execution_count": 147,
   "id": "7c4e28b5",
   "metadata": {},
   "outputs": [],
   "source": [
    "# replace() with regex"
   ]
  },
  {
   "cell_type": "code",
   "execution_count": 148,
   "id": "3edfac0e",
   "metadata": {},
   "outputs": [
    {
     "data": {
      "text/html": [
       "<div>\n",
       "<style scoped>\n",
       "    .dataframe tbody tr th:only-of-type {\n",
       "        vertical-align: middle;\n",
       "    }\n",
       "\n",
       "    .dataframe tbody tr th {\n",
       "        vertical-align: top;\n",
       "    }\n",
       "\n",
       "    .dataframe thead th {\n",
       "        text-align: right;\n",
       "    }\n",
       "</style>\n",
       "<table border=\"1\" class=\"dataframe\">\n",
       "  <thead>\n",
       "    <tr style=\"text-align: right;\">\n",
       "      <th></th>\n",
       "      <th>Name</th>\n",
       "      <th>Age</th>\n",
       "      <th>M/F</th>\n",
       "      <th>City</th>\n",
       "      <th>State</th>\n",
       "      <th>Country</th>\n",
       "      <th>Official Time</th>\n",
       "      <th>Overall</th>\n",
       "      <th>Gender</th>\n",
       "      <th>Ran 2015</th>\n",
       "      <th>Ran 2016</th>\n",
       "      <th>Years Ran</th>\n",
       "      <th>First_Name</th>\n",
       "      <th>Last_Name</th>\n",
       "    </tr>\n",
       "  </thead>\n",
       "  <tbody>\n",
       "    <tr>\n",
       "      <th>0</th>\n",
       "      <td>Kirui, Geoffrey</td>\n",
       "      <td>24</td>\n",
       "      <td>Male</td>\n",
       "      <td>Keringet</td>\n",
       "      <td>NaN</td>\n",
       "      <td>KEN</td>\n",
       "      <td>2:09:37</td>\n",
       "      <td>1</td>\n",
       "      <td>1</td>\n",
       "      <td>0</td>\n",
       "      <td>0</td>\n",
       "      <td>NaN</td>\n",
       "      <td>Kirui</td>\n",
       "      <td>Geoffrey</td>\n",
       "    </tr>\n",
       "    <tr>\n",
       "      <th>1</th>\n",
       "      <td>Rupp, Galen</td>\n",
       "      <td>30</td>\n",
       "      <td>Male</td>\n",
       "      <td>Portland</td>\n",
       "      <td>OR</td>\n",
       "      <td>USA</td>\n",
       "      <td>2:09:58</td>\n",
       "      <td>2</td>\n",
       "      <td>2</td>\n",
       "      <td>0</td>\n",
       "      <td>0</td>\n",
       "      <td>NaN</td>\n",
       "      <td>Rupp</td>\n",
       "      <td>Galen</td>\n",
       "    </tr>\n",
       "    <tr>\n",
       "      <th>2</th>\n",
       "      <td>Osako, Suguru</td>\n",
       "      <td>25</td>\n",
       "      <td>Male</td>\n",
       "      <td>Machida-City</td>\n",
       "      <td>NaN</td>\n",
       "      <td>JPN</td>\n",
       "      <td>2:10:28</td>\n",
       "      <td>3</td>\n",
       "      <td>3</td>\n",
       "      <td>0</td>\n",
       "      <td>0</td>\n",
       "      <td>NaN</td>\n",
       "      <td>Osako</td>\n",
       "      <td>Suguru</td>\n",
       "    </tr>\n",
       "    <tr>\n",
       "      <th>3</th>\n",
       "      <td>Biwott, Shadrack</td>\n",
       "      <td>32</td>\n",
       "      <td>Male</td>\n",
       "      <td>Mammoth Lakes</td>\n",
       "      <td>CA</td>\n",
       "      <td>USA</td>\n",
       "      <td>2:12:08</td>\n",
       "      <td>4</td>\n",
       "      <td>4</td>\n",
       "      <td>0</td>\n",
       "      <td>0</td>\n",
       "      <td>NaN</td>\n",
       "      <td>Biwott</td>\n",
       "      <td>Shadrack</td>\n",
       "    </tr>\n",
       "    <tr>\n",
       "      <th>4</th>\n",
       "      <td>Chebet, Wilson</td>\n",
       "      <td>31</td>\n",
       "      <td>Male</td>\n",
       "      <td>Marakwet</td>\n",
       "      <td>NaN</td>\n",
       "      <td>KEN</td>\n",
       "      <td>2:12:35</td>\n",
       "      <td>5</td>\n",
       "      <td>5</td>\n",
       "      <td>1</td>\n",
       "      <td>0</td>\n",
       "      <td>2015</td>\n",
       "      <td>Chebet</td>\n",
       "      <td>Wilson</td>\n",
       "    </tr>\n",
       "  </tbody>\n",
       "</table>\n",
       "</div>"
      ],
      "text/plain": [
       "               Name  Age   M/F           City State Country Official Time  \\\n",
       "0   Kirui, Geoffrey   24  Male       Keringet   NaN     KEN       2:09:37   \n",
       "1       Rupp, Galen   30  Male       Portland    OR     USA       2:09:58   \n",
       "2     Osako, Suguru   25  Male   Machida-City   NaN     JPN       2:10:28   \n",
       "3  Biwott, Shadrack   32  Male  Mammoth Lakes    CA     USA       2:12:08   \n",
       "4    Chebet, Wilson   31  Male       Marakwet   NaN     KEN       2:12:35   \n",
       "\n",
       "   Overall  Gender  Ran 2015  Ran 2016 Years Ran First_Name Last_Name  \n",
       "0        1       1         0         0       NaN      Kirui  Geoffrey  \n",
       "1        2       2         0         0       NaN       Rupp     Galen  \n",
       "2        3       3         0         0       NaN      Osako    Suguru  \n",
       "3        4       4         0         0       NaN     Biwott  Shadrack  \n",
       "4        5       5         1         0      2015     Chebet    Wilson  "
      ]
     },
     "execution_count": 148,
     "metadata": {},
     "output_type": "execute_result"
    }
   ],
   "source": [
    "boston.head()"
   ]
  },
  {
   "cell_type": "code",
   "execution_count": 150,
   "id": "04798978",
   "metadata": {},
   "outputs": [
    {
     "data": {
      "text/plain": [
       "0    2:09:37\n",
       "1    2:09:58\n",
       "2    2:10:28\n",
       "3    2:12:08\n",
       "4    2:12:35\n",
       "Name: Official Time, dtype: object"
      ]
     },
     "execution_count": 150,
     "metadata": {},
     "output_type": "execute_result"
    }
   ],
   "source": [
    "boston['Official Time'].head()"
   ]
  },
  {
   "cell_type": "code",
   "execution_count": 153,
   "id": "c206a8db",
   "metadata": {},
   "outputs": [
    {
     "data": {
      "text/plain": [
       "0      2 hours, 09 minutes, and 37 seconds\n",
       "1      2 hours, 09 minutes, and 58 seconds\n",
       "2      2 hours, 10 minutes, and 28 seconds\n",
       "3      2 hours, 12 minutes, and 08 seconds\n",
       "4      2 hours, 12 minutes, and 35 seconds\n",
       "                      ...                 \n",
       "995    2 hours, 56 minutes, and 06 seconds\n",
       "996    2 hours, 56 minutes, and 06 seconds\n",
       "997    2 hours, 56 minutes, and 06 seconds\n",
       "998    2 hours, 56 minutes, and 07 seconds\n",
       "999    2 hours, 56 minutes, and 08 seconds\n",
       "Name: Official Time, Length: 1000, dtype: object"
      ]
     },
     "execution_count": 153,
     "metadata": {},
     "output_type": "execute_result"
    }
   ],
   "source": [
    "boston['Official Time'].str.replace(r'(\\d+):(\\d+):(\\d+)', r'\\1 hours, \\2 minutes, and \\3 seconds', regex=True)"
   ]
  },
  {
   "cell_type": "code",
   "execution_count": null,
   "id": "2ceba2be",
   "metadata": {},
   "outputs": [],
   "source": []
  },
  {
   "cell_type": "markdown",
   "id": "e18e7afb",
   "metadata": {},
   "source": [
    "# Skill Challenge"
   ]
  },
  {
   "cell_type": "code",
   "execution_count": 155,
   "id": "f316bc2a",
   "metadata": {},
   "outputs": [
    {
     "data": {
      "text/html": [
       "<div>\n",
       "<style scoped>\n",
       "    .dataframe tbody tr th:only-of-type {\n",
       "        vertical-align: middle;\n",
       "    }\n",
       "\n",
       "    .dataframe tbody tr th {\n",
       "        vertical-align: top;\n",
       "    }\n",
       "\n",
       "    .dataframe thead th {\n",
       "        text-align: right;\n",
       "    }\n",
       "</style>\n",
       "<table border=\"1\" class=\"dataframe\">\n",
       "  <thead>\n",
       "    <tr style=\"text-align: right;\">\n",
       "      <th></th>\n",
       "      <th>Name</th>\n",
       "      <th>Age</th>\n",
       "      <th>M/F</th>\n",
       "      <th>City</th>\n",
       "      <th>State</th>\n",
       "      <th>Country</th>\n",
       "      <th>Official Time</th>\n",
       "      <th>Overall</th>\n",
       "      <th>Gender</th>\n",
       "      <th>Ran 2015</th>\n",
       "      <th>Ran 2016</th>\n",
       "      <th>Years Ran</th>\n",
       "      <th>First_Name</th>\n",
       "      <th>Last_Name</th>\n",
       "    </tr>\n",
       "  </thead>\n",
       "  <tbody>\n",
       "    <tr>\n",
       "      <th>0</th>\n",
       "      <td>Kirui, Geoffrey</td>\n",
       "      <td>24</td>\n",
       "      <td>Male</td>\n",
       "      <td>Keringet</td>\n",
       "      <td>NaN</td>\n",
       "      <td>KEN</td>\n",
       "      <td>2:09:37</td>\n",
       "      <td>1</td>\n",
       "      <td>1</td>\n",
       "      <td>0</td>\n",
       "      <td>0</td>\n",
       "      <td>NaN</td>\n",
       "      <td>Kirui</td>\n",
       "      <td>Geoffrey</td>\n",
       "    </tr>\n",
       "    <tr>\n",
       "      <th>1</th>\n",
       "      <td>Rupp, Galen</td>\n",
       "      <td>30</td>\n",
       "      <td>Male</td>\n",
       "      <td>Portland</td>\n",
       "      <td>OR</td>\n",
       "      <td>USA</td>\n",
       "      <td>2:09:58</td>\n",
       "      <td>2</td>\n",
       "      <td>2</td>\n",
       "      <td>0</td>\n",
       "      <td>0</td>\n",
       "      <td>NaN</td>\n",
       "      <td>Rupp</td>\n",
       "      <td>Galen</td>\n",
       "    </tr>\n",
       "    <tr>\n",
       "      <th>2</th>\n",
       "      <td>Osako, Suguru</td>\n",
       "      <td>25</td>\n",
       "      <td>Male</td>\n",
       "      <td>Machida-City</td>\n",
       "      <td>NaN</td>\n",
       "      <td>JPN</td>\n",
       "      <td>2:10:28</td>\n",
       "      <td>3</td>\n",
       "      <td>3</td>\n",
       "      <td>0</td>\n",
       "      <td>0</td>\n",
       "      <td>NaN</td>\n",
       "      <td>Osako</td>\n",
       "      <td>Suguru</td>\n",
       "    </tr>\n",
       "    <tr>\n",
       "      <th>3</th>\n",
       "      <td>Biwott, Shadrack</td>\n",
       "      <td>32</td>\n",
       "      <td>Male</td>\n",
       "      <td>Mammoth Lakes</td>\n",
       "      <td>CA</td>\n",
       "      <td>USA</td>\n",
       "      <td>2:12:08</td>\n",
       "      <td>4</td>\n",
       "      <td>4</td>\n",
       "      <td>0</td>\n",
       "      <td>0</td>\n",
       "      <td>NaN</td>\n",
       "      <td>Biwott</td>\n",
       "      <td>Shadrack</td>\n",
       "    </tr>\n",
       "    <tr>\n",
       "      <th>4</th>\n",
       "      <td>Chebet, Wilson</td>\n",
       "      <td>31</td>\n",
       "      <td>Male</td>\n",
       "      <td>Marakwet</td>\n",
       "      <td>NaN</td>\n",
       "      <td>KEN</td>\n",
       "      <td>2:12:35</td>\n",
       "      <td>5</td>\n",
       "      <td>5</td>\n",
       "      <td>1</td>\n",
       "      <td>0</td>\n",
       "      <td>2015</td>\n",
       "      <td>Chebet</td>\n",
       "      <td>Wilson</td>\n",
       "    </tr>\n",
       "  </tbody>\n",
       "</table>\n",
       "</div>"
      ],
      "text/plain": [
       "               Name  Age   M/F           City State Country Official Time  \\\n",
       "0   Kirui, Geoffrey   24  Male       Keringet   NaN     KEN       2:09:37   \n",
       "1       Rupp, Galen   30  Male       Portland    OR     USA       2:09:58   \n",
       "2     Osako, Suguru   25  Male   Machida-City   NaN     JPN       2:10:28   \n",
       "3  Biwott, Shadrack   32  Male  Mammoth Lakes    CA     USA       2:12:08   \n",
       "4    Chebet, Wilson   31  Male       Marakwet   NaN     KEN       2:12:35   \n",
       "\n",
       "   Overall  Gender  Ran 2015  Ran 2016 Years Ran First_Name Last_Name  \n",
       "0        1       1         0         0       NaN      Kirui  Geoffrey  \n",
       "1        2       2         0         0       NaN       Rupp     Galen  \n",
       "2        3       3         0         0       NaN      Osako    Suguru  \n",
       "3        4       4         0         0       NaN     Biwott  Shadrack  \n",
       "4        5       5         1         0      2015     Chebet    Wilson  "
      ]
     },
     "execution_count": 155,
     "metadata": {},
     "output_type": "execute_result"
    }
   ],
   "source": [
    "boston.head()"
   ]
  },
  {
   "cell_type": "code",
   "execution_count": 159,
   "id": "9efbb113",
   "metadata": {},
   "outputs": [],
   "source": [
    "# split the official time into three separate columns; one each for hours, minutes and seconds. Store this dataframe in \n",
    "# a variable called final_times\n",
    "\n",
    "final_times = boston['Official Time'].str.split(':', expand=True)"
   ]
  },
  {
   "cell_type": "code",
   "execution_count": 160,
   "id": "ea39f2d1",
   "metadata": {},
   "outputs": [
    {
     "data": {
      "text/html": [
       "<div>\n",
       "<style scoped>\n",
       "    .dataframe tbody tr th:only-of-type {\n",
       "        vertical-align: middle;\n",
       "    }\n",
       "\n",
       "    .dataframe tbody tr th {\n",
       "        vertical-align: top;\n",
       "    }\n",
       "\n",
       "    .dataframe thead th {\n",
       "        text-align: right;\n",
       "    }\n",
       "</style>\n",
       "<table border=\"1\" class=\"dataframe\">\n",
       "  <thead>\n",
       "    <tr style=\"text-align: right;\">\n",
       "      <th></th>\n",
       "      <th>0</th>\n",
       "      <th>1</th>\n",
       "      <th>2</th>\n",
       "    </tr>\n",
       "  </thead>\n",
       "  <tbody>\n",
       "    <tr>\n",
       "      <th>0</th>\n",
       "      <td>2</td>\n",
       "      <td>09</td>\n",
       "      <td>37</td>\n",
       "    </tr>\n",
       "    <tr>\n",
       "      <th>1</th>\n",
       "      <td>2</td>\n",
       "      <td>09</td>\n",
       "      <td>58</td>\n",
       "    </tr>\n",
       "    <tr>\n",
       "      <th>2</th>\n",
       "      <td>2</td>\n",
       "      <td>10</td>\n",
       "      <td>28</td>\n",
       "    </tr>\n",
       "    <tr>\n",
       "      <th>3</th>\n",
       "      <td>2</td>\n",
       "      <td>12</td>\n",
       "      <td>08</td>\n",
       "    </tr>\n",
       "    <tr>\n",
       "      <th>4</th>\n",
       "      <td>2</td>\n",
       "      <td>12</td>\n",
       "      <td>35</td>\n",
       "    </tr>\n",
       "  </tbody>\n",
       "</table>\n",
       "</div>"
      ],
      "text/plain": [
       "   0   1   2\n",
       "0  2  09  37\n",
       "1  2  09  58\n",
       "2  2  10  28\n",
       "3  2  12  08\n",
       "4  2  12  35"
      ]
     },
     "execution_count": 160,
     "metadata": {},
     "output_type": "execute_result"
    }
   ],
   "source": [
    "final_times.head()"
   ]
  },
  {
   "cell_type": "code",
   "execution_count": 165,
   "id": "af530f4a",
   "metadata": {},
   "outputs": [
    {
     "name": "stdout",
     "output_type": "stream",
     "text": [
      "<class 'pandas.core.frame.DataFrame'>\n",
      "RangeIndex: 1000 entries, 0 to 999\n",
      "Data columns (total 3 columns):\n",
      " #   Column  Non-Null Count  Dtype \n",
      "---  ------  --------------  ----- \n",
      " 0   0       1000 non-null   object\n",
      " 1   1       1000 non-null   object\n",
      " 2   2       1000 non-null   object\n",
      "dtypes: object(3)\n",
      "memory usage: 23.6+ KB\n"
     ]
    }
   ],
   "source": [
    "# in the final_times dataframe, create a new column called the total that contains the total time in seconds.\n",
    "# add the column to the boston dataframe.\n",
    "\n",
    "final_times.info()"
   ]
  },
  {
   "cell_type": "code",
   "execution_count": 168,
   "id": "9a30b817",
   "metadata": {},
   "outputs": [],
   "source": [
    "# approach 1\n",
    "\n",
    "final_times[0].astype('int')*3600 + final_times[1].astype('int')*60 + final_times[2].astype('int')"
   ]
  },
  {
   "cell_type": "code",
   "execution_count": 170,
   "id": "be0b5653",
   "metadata": {},
   "outputs": [],
   "source": [
    "# approach 2\n",
    "final_times = final_times.astype('int')"
   ]
  },
  {
   "cell_type": "code",
   "execution_count": 171,
   "id": "726fc62d",
   "metadata": {},
   "outputs": [
    {
     "name": "stdout",
     "output_type": "stream",
     "text": [
      "<class 'pandas.core.frame.DataFrame'>\n",
      "RangeIndex: 1000 entries, 0 to 999\n",
      "Data columns (total 3 columns):\n",
      " #   Column  Non-Null Count  Dtype\n",
      "---  ------  --------------  -----\n",
      " 0   0       1000 non-null   int32\n",
      " 1   1       1000 non-null   int32\n",
      " 2   2       1000 non-null   int32\n",
      "dtypes: int32(3)\n",
      "memory usage: 11.8 KB\n"
     ]
    }
   ],
   "source": [
    "final_times.info()"
   ]
  },
  {
   "cell_type": "code",
   "execution_count": 174,
   "id": "508f623d",
   "metadata": {},
   "outputs": [],
   "source": [
    "final_times['total'] = final_times.apply(lambda t: t.iat[0] * 3600 + t.iat[1] * 60 + t.iat[2], axis=1)"
   ]
  },
  {
   "cell_type": "code",
   "execution_count": 175,
   "id": "806975e2",
   "metadata": {},
   "outputs": [
    {
     "data": {
      "text/html": [
       "<div>\n",
       "<style scoped>\n",
       "    .dataframe tbody tr th:only-of-type {\n",
       "        vertical-align: middle;\n",
       "    }\n",
       "\n",
       "    .dataframe tbody tr th {\n",
       "        vertical-align: top;\n",
       "    }\n",
       "\n",
       "    .dataframe thead th {\n",
       "        text-align: right;\n",
       "    }\n",
       "</style>\n",
       "<table border=\"1\" class=\"dataframe\">\n",
       "  <thead>\n",
       "    <tr style=\"text-align: right;\">\n",
       "      <th></th>\n",
       "      <th>0</th>\n",
       "      <th>1</th>\n",
       "      <th>2</th>\n",
       "      <th>total</th>\n",
       "    </tr>\n",
       "  </thead>\n",
       "  <tbody>\n",
       "    <tr>\n",
       "      <th>0</th>\n",
       "      <td>2</td>\n",
       "      <td>9</td>\n",
       "      <td>37</td>\n",
       "      <td>7777</td>\n",
       "    </tr>\n",
       "    <tr>\n",
       "      <th>1</th>\n",
       "      <td>2</td>\n",
       "      <td>9</td>\n",
       "      <td>58</td>\n",
       "      <td>7798</td>\n",
       "    </tr>\n",
       "    <tr>\n",
       "      <th>2</th>\n",
       "      <td>2</td>\n",
       "      <td>10</td>\n",
       "      <td>28</td>\n",
       "      <td>7828</td>\n",
       "    </tr>\n",
       "    <tr>\n",
       "      <th>3</th>\n",
       "      <td>2</td>\n",
       "      <td>12</td>\n",
       "      <td>8</td>\n",
       "      <td>7928</td>\n",
       "    </tr>\n",
       "    <tr>\n",
       "      <th>4</th>\n",
       "      <td>2</td>\n",
       "      <td>12</td>\n",
       "      <td>35</td>\n",
       "      <td>7955</td>\n",
       "    </tr>\n",
       "  </tbody>\n",
       "</table>\n",
       "</div>"
      ],
      "text/plain": [
       "   0   1   2  total\n",
       "0  2   9  37   7777\n",
       "1  2   9  58   7798\n",
       "2  2  10  28   7828\n",
       "3  2  12   8   7928\n",
       "4  2  12  35   7955"
      ]
     },
     "execution_count": 175,
     "metadata": {},
     "output_type": "execute_result"
    }
   ],
   "source": [
    "final_times.head()"
   ]
  },
  {
   "cell_type": "code",
   "execution_count": 176,
   "id": "0a7892ca",
   "metadata": {},
   "outputs": [],
   "source": [
    "boston.insert(boston.columns.get_loc('Official Time')+1, 'Total Time', final_times.total)"
   ]
  },
  {
   "cell_type": "code",
   "execution_count": 177,
   "id": "16ef7b94",
   "metadata": {},
   "outputs": [
    {
     "data": {
      "text/html": [
       "<div>\n",
       "<style scoped>\n",
       "    .dataframe tbody tr th:only-of-type {\n",
       "        vertical-align: middle;\n",
       "    }\n",
       "\n",
       "    .dataframe tbody tr th {\n",
       "        vertical-align: top;\n",
       "    }\n",
       "\n",
       "    .dataframe thead th {\n",
       "        text-align: right;\n",
       "    }\n",
       "</style>\n",
       "<table border=\"1\" class=\"dataframe\">\n",
       "  <thead>\n",
       "    <tr style=\"text-align: right;\">\n",
       "      <th></th>\n",
       "      <th>Name</th>\n",
       "      <th>Age</th>\n",
       "      <th>M/F</th>\n",
       "      <th>City</th>\n",
       "      <th>State</th>\n",
       "      <th>Country</th>\n",
       "      <th>Official Time</th>\n",
       "      <th>Total Time</th>\n",
       "      <th>Overall</th>\n",
       "      <th>Gender</th>\n",
       "      <th>Ran 2015</th>\n",
       "      <th>Ran 2016</th>\n",
       "      <th>Years Ran</th>\n",
       "      <th>First_Name</th>\n",
       "      <th>Last_Name</th>\n",
       "    </tr>\n",
       "  </thead>\n",
       "  <tbody>\n",
       "    <tr>\n",
       "      <th>0</th>\n",
       "      <td>Kirui, Geoffrey</td>\n",
       "      <td>24</td>\n",
       "      <td>Male</td>\n",
       "      <td>Keringet</td>\n",
       "      <td>NaN</td>\n",
       "      <td>KEN</td>\n",
       "      <td>2:09:37</td>\n",
       "      <td>7777</td>\n",
       "      <td>1</td>\n",
       "      <td>1</td>\n",
       "      <td>0</td>\n",
       "      <td>0</td>\n",
       "      <td>NaN</td>\n",
       "      <td>Kirui</td>\n",
       "      <td>Geoffrey</td>\n",
       "    </tr>\n",
       "    <tr>\n",
       "      <th>1</th>\n",
       "      <td>Rupp, Galen</td>\n",
       "      <td>30</td>\n",
       "      <td>Male</td>\n",
       "      <td>Portland</td>\n",
       "      <td>OR</td>\n",
       "      <td>USA</td>\n",
       "      <td>2:09:58</td>\n",
       "      <td>7798</td>\n",
       "      <td>2</td>\n",
       "      <td>2</td>\n",
       "      <td>0</td>\n",
       "      <td>0</td>\n",
       "      <td>NaN</td>\n",
       "      <td>Rupp</td>\n",
       "      <td>Galen</td>\n",
       "    </tr>\n",
       "    <tr>\n",
       "      <th>2</th>\n",
       "      <td>Osako, Suguru</td>\n",
       "      <td>25</td>\n",
       "      <td>Male</td>\n",
       "      <td>Machida-City</td>\n",
       "      <td>NaN</td>\n",
       "      <td>JPN</td>\n",
       "      <td>2:10:28</td>\n",
       "      <td>7828</td>\n",
       "      <td>3</td>\n",
       "      <td>3</td>\n",
       "      <td>0</td>\n",
       "      <td>0</td>\n",
       "      <td>NaN</td>\n",
       "      <td>Osako</td>\n",
       "      <td>Suguru</td>\n",
       "    </tr>\n",
       "    <tr>\n",
       "      <th>3</th>\n",
       "      <td>Biwott, Shadrack</td>\n",
       "      <td>32</td>\n",
       "      <td>Male</td>\n",
       "      <td>Mammoth Lakes</td>\n",
       "      <td>CA</td>\n",
       "      <td>USA</td>\n",
       "      <td>2:12:08</td>\n",
       "      <td>7928</td>\n",
       "      <td>4</td>\n",
       "      <td>4</td>\n",
       "      <td>0</td>\n",
       "      <td>0</td>\n",
       "      <td>NaN</td>\n",
       "      <td>Biwott</td>\n",
       "      <td>Shadrack</td>\n",
       "    </tr>\n",
       "    <tr>\n",
       "      <th>4</th>\n",
       "      <td>Chebet, Wilson</td>\n",
       "      <td>31</td>\n",
       "      <td>Male</td>\n",
       "      <td>Marakwet</td>\n",
       "      <td>NaN</td>\n",
       "      <td>KEN</td>\n",
       "      <td>2:12:35</td>\n",
       "      <td>7955</td>\n",
       "      <td>5</td>\n",
       "      <td>5</td>\n",
       "      <td>1</td>\n",
       "      <td>0</td>\n",
       "      <td>2015</td>\n",
       "      <td>Chebet</td>\n",
       "      <td>Wilson</td>\n",
       "    </tr>\n",
       "  </tbody>\n",
       "</table>\n",
       "</div>"
      ],
      "text/plain": [
       "               Name  Age   M/F           City State Country Official Time  \\\n",
       "0   Kirui, Geoffrey   24  Male       Keringet   NaN     KEN       2:09:37   \n",
       "1       Rupp, Galen   30  Male       Portland    OR     USA       2:09:58   \n",
       "2     Osako, Suguru   25  Male   Machida-City   NaN     JPN       2:10:28   \n",
       "3  Biwott, Shadrack   32  Male  Mammoth Lakes    CA     USA       2:12:08   \n",
       "4    Chebet, Wilson   31  Male       Marakwet   NaN     KEN       2:12:35   \n",
       "\n",
       "   Total Time  Overall  Gender  Ran 2015  Ran 2016 Years Ran First_Name  \\\n",
       "0        7777        1       1         0         0       NaN      Kirui   \n",
       "1        7798        2       2         0         0       NaN       Rupp   \n",
       "2        7828        3       3         0         0       NaN      Osako   \n",
       "3        7928        4       4         0         0       NaN     Biwott   \n",
       "4        7955        5       5         1         0      2015     Chebet   \n",
       "\n",
       "  Last_Name  \n",
       "0  Geoffrey  \n",
       "1     Galen  \n",
       "2    Suguru  \n",
       "3  Shadrack  \n",
       "4    Wilson  "
      ]
     },
     "execution_count": 177,
     "metadata": {},
     "output_type": "execute_result"
    }
   ],
   "source": [
    "boston.head()"
   ]
  },
  {
   "cell_type": "code",
   "execution_count": null,
   "id": "69feaa4a",
   "metadata": {},
   "outputs": [],
   "source": []
  },
  {
   "cell_type": "code",
   "execution_count": 179,
   "id": "7b6fc2f6",
   "metadata": {},
   "outputs": [
    {
     "data": {
      "text/plain": [
       "10043.12048192771"
      ]
     },
     "execution_count": 179,
     "metadata": {},
     "output_type": "execute_result"
    }
   ],
   "source": [
    "# Do the runners in the boston dataset who also ran in 2016 have a higher or lower average time?\n",
    "\n",
    "boston.loc[boston['Ran 2016']==1, 'Total Time'].mean()"
   ]
  },
  {
   "cell_type": "code",
   "execution_count": 181,
   "id": "2d5b24a1",
   "metadata": {},
   "outputs": [
    {
     "data": {
      "text/plain": [
       "9966.195739014647"
      ]
     },
     "execution_count": 181,
     "metadata": {},
     "output_type": "execute_result"
    }
   ],
   "source": [
    "boston.loc[~(boston['Ran 2016']==1), 'Total Time'].mean()"
   ]
  },
  {
   "cell_type": "code",
   "execution_count": null,
   "id": "c1265f7a",
   "metadata": {},
   "outputs": [],
   "source": []
  }
 ],
 "metadata": {
  "kernelspec": {
   "display_name": "Python 3 (ipykernel)",
   "language": "python",
   "name": "python3"
  },
  "language_info": {
   "codemirror_mode": {
    "name": "ipython",
    "version": 3
   },
   "file_extension": ".py",
   "mimetype": "text/x-python",
   "name": "python",
   "nbconvert_exporter": "python",
   "pygments_lexer": "ipython3",
   "version": "3.11.5"
  }
 },
 "nbformat": 4,
 "nbformat_minor": 5
}
