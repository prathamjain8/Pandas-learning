{
 "cells": [
  {
   "cell_type": "code",
   "execution_count": 1,
   "id": "b5831386",
   "metadata": {},
   "outputs": [
    {
     "name": "stderr",
     "output_type": "stream",
     "text": [
      "C:\\Users\\hp\\AppData\\Roaming\\Python\\Python311\\site-packages\\pandas\\core\\arrays\\masked.py:60: UserWarning: Pandas requires version '1.3.6' or newer of 'bottleneck' (version '1.3.5' currently installed).\n",
      "  from pandas.core import (\n"
     ]
    }
   ],
   "source": [
    "import pandas as pd"
   ]
  },
  {
   "cell_type": "markdown",
   "id": "fe7df876",
   "metadata": {},
   "source": [
    "# What is a series"
   ]
  },
  {
   "cell_type": "code",
   "execution_count": 2,
   "id": "6315ef6b",
   "metadata": {},
   "outputs": [
    {
     "name": "stdout",
     "output_type": "stream",
     "text": [
      "['Andrew', 'Brie', 'Kanika']\n"
     ]
    }
   ],
   "source": [
    "students = [\"Andrew\", \"Brie\", \"Kanika\"]\n",
    "\n",
    "type(students)\n",
    "print(students)"
   ]
  },
  {
   "cell_type": "code",
   "execution_count": 3,
   "id": "1ab34d91",
   "metadata": {},
   "outputs": [
    {
     "name": "stdout",
     "output_type": "stream",
     "text": [
      "0    Andrew\n",
      "1      Brie\n",
      "2    Kanika\n",
      "dtype: object\n"
     ]
    }
   ],
   "source": [
    "students_series = pd.Series(students)\n",
    "print(students_series)"
   ]
  },
  {
   "cell_type": "code",
   "execution_count": 4,
   "id": "12d60e01",
   "metadata": {},
   "outputs": [
    {
     "name": "stdout",
     "output_type": "stream",
     "text": [
      "0    67\n",
      "1    23\n",
      "2    45\n",
      "dtype: int64\n"
     ]
    }
   ],
   "source": [
    "ages = [67, 23, 45]\n",
    "\n",
    "ages_series = pd.Series(ages)\n",
    "\n",
    "print(ages_series)"
   ]
  },
  {
   "cell_type": "code",
   "execution_count": 6,
   "id": "14b73d7b",
   "metadata": {},
   "outputs": [
    {
     "name": "stdout",
     "output_type": "stream",
     "text": [
      "0                True\n",
      "1               Hello\n",
      "2    {'my_mood': 100}\n",
      "dtype: object\n"
     ]
    }
   ],
   "source": [
    "mixed = [True, 'Hello', {'my_mood':100}]\n",
    "\n",
    "mixed_series = pd.Series(mixed)\n",
    "\n",
    "print(mixed_series)"
   ]
  },
  {
   "cell_type": "code",
   "execution_count": null,
   "id": "e52d9acb",
   "metadata": {},
   "outputs": [],
   "source": []
  },
  {
   "cell_type": "markdown",
   "id": "4bdc789e",
   "metadata": {},
   "source": [
    "# What's in the data"
   ]
  },
  {
   "cell_type": "code",
   "execution_count": 8,
   "id": "55600e9a",
   "metadata": {},
   "outputs": [
    {
     "name": "stdout",
     "output_type": "stream",
     "text": [
      "0    Fooled by randomness\n",
      "1                 Sapiens\n",
      "2      Lenin on the Train\n",
      "dtype: object\n"
     ]
    }
   ],
   "source": [
    "books_list = [\"Fooled by randomness\", \"Sapiens\", \"Lenin on the Train\"]  #lists\n",
    "\n",
    "books_seriesl = pd.Series(books_list)\n",
    "\n",
    "print(books_seriesl)"
   ]
  },
  {
   "cell_type": "code",
   "execution_count": 9,
   "id": "5777c558",
   "metadata": {},
   "outputs": [
    {
     "name": "stdout",
     "output_type": "stream",
     "text": [
      "0    Fooled by randomness\n",
      "1                 Sapiens\n",
      "2      Lenin on the Train\n",
      "dtype: object\n"
     ]
    }
   ],
   "source": [
    "books_dict = {0:\"Fooled by randomness\", 1:\"Sapiens\", 2:\"Lenin on the Train\"}  #dictionary\n",
    "\n",
    "books_seriesd = pd.Series(books_dict)\n",
    "\n",
    "print(books_seriesd)"
   ]
  },
  {
   "cell_type": "code",
   "execution_count": 10,
   "id": "0a9c2c48",
   "metadata": {},
   "outputs": [
    {
     "data": {
      "text/plain": [
       "True"
      ]
     },
     "execution_count": 10,
     "metadata": {},
     "output_type": "execute_result"
    }
   ],
   "source": [
    "books_seriesl.equals(books_seriesd)"
   ]
  },
  {
   "cell_type": "code",
   "execution_count": null,
   "id": "7386a32f",
   "metadata": {},
   "outputs": [],
   "source": []
  },
  {
   "cell_type": "markdown",
   "id": "ac752a2b",
   "metadata": {},
   "source": [
    "# .dtype() attribute"
   ]
  },
  {
   "cell_type": "code",
   "execution_count": 11,
   "id": "f9ab93f2",
   "metadata": {},
   "outputs": [
    {
     "name": "stdout",
     "output_type": "stream",
     "text": [
      "[20, 30, 40]\n",
      "\n",
      "0    20.0\n",
      "1    30.0\n",
      "2    40.0\n",
      "dtype: float64\n"
     ]
    }
   ],
   "source": [
    "my_list = [20,30,40]\n",
    "\n",
    "print(my_list)\n",
    "print()\n",
    "\n",
    "my_series = pd.Series(my_list, dtype='float')\n",
    "print(my_series)"
   ]
  },
  {
   "cell_type": "code",
   "execution_count": 12,
   "id": "b9be558b",
   "metadata": {},
   "outputs": [
    {
     "data": {
      "text/plain": [
       "['Andrew', 'Brie', 'Kanika']"
      ]
     },
     "execution_count": 12,
     "metadata": {},
     "output_type": "execute_result"
    }
   ],
   "source": [
    "students"
   ]
  },
  {
   "cell_type": "code",
   "execution_count": 13,
   "id": "4369ba4b",
   "metadata": {},
   "outputs": [
    {
     "name": "stdout",
     "output_type": "stream",
     "text": [
      "0    Andrew\n",
      "1      Brie\n",
      "2    Kanika\n",
      "dtype: object\n"
     ]
    },
    {
     "data": {
      "text/plain": [
       "dtype('O')"
      ]
     },
     "execution_count": 13,
     "metadata": {},
     "output_type": "execute_result"
    }
   ],
   "source": [
    "str_series = pd.Series(students)\n",
    "print(str_series)\n",
    "str_series.dtype"
   ]
  },
  {
   "cell_type": "code",
   "execution_count": null,
   "id": "aacfbb70",
   "metadata": {},
   "outputs": [],
   "source": []
  },
  {
   "cell_type": "markdown",
   "id": "5d944c85",
   "metadata": {},
   "source": [
    "# Index and RangeIndex"
   ]
  },
  {
   "cell_type": "code",
   "execution_count": 14,
   "id": "b2311072",
   "metadata": {},
   "outputs": [
    {
     "name": "stdout",
     "output_type": "stream",
     "text": [
      "funny                  Fooled by randomness\n",
      "serious and amusing                 Sapiens\n",
      "kinda interesting        Lenin on the Train\n",
      "dtype: string\n"
     ]
    }
   ],
   "source": [
    "book_list = [\"Fooled by randomness\", \"Sapiens\", \"Lenin on the Train\"]\n",
    "\n",
    "book_series = pd.Series(data=book_list, index=['funny', 'serious and amusing', 'kinda interesting'], dtype='string')\n",
    "\n",
    "print(book_series)"
   ]
  },
  {
   "cell_type": "code",
   "execution_count": 15,
   "id": "bfcd0ad0",
   "metadata": {},
   "outputs": [
    {
     "data": {
      "text/plain": [
       "RangeIndex(start=0, stop=3, step=1)"
      ]
     },
     "execution_count": 15,
     "metadata": {},
     "output_type": "execute_result"
    }
   ],
   "source": [
    "str_series.index"
   ]
  },
  {
   "cell_type": "code",
   "execution_count": 16,
   "id": "78f384a6",
   "metadata": {},
   "outputs": [
    {
     "data": {
      "text/plain": [
       "pandas.core.series.Series"
      ]
     },
     "execution_count": 16,
     "metadata": {},
     "output_type": "execute_result"
    }
   ],
   "source": [
    "type(str_series)"
   ]
  },
  {
   "cell_type": "code",
   "execution_count": 17,
   "id": "23eb9a9b",
   "metadata": {},
   "outputs": [
    {
     "data": {
      "text/plain": [
       "[10, 9, 8, 7, 6, 5, 4, 3, 2, 1, 0, -1, -2, -3, -4, -5, -6, -7, -8, -9, -10]"
      ]
     },
     "execution_count": 17,
     "metadata": {},
     "output_type": "execute_result"
    }
   ],
   "source": [
    "list(pd.RangeIndex(start = 10, stop = -11, step =-1))"
   ]
  },
  {
   "cell_type": "code",
   "execution_count": null,
   "id": "d38320de",
   "metadata": {},
   "outputs": [],
   "source": []
  },
  {
   "cell_type": "markdown",
   "id": "1cee0d2b",
   "metadata": {},
   "source": [
    "# Series and index names"
   ]
  },
  {
   "cell_type": "code",
   "execution_count": 18,
   "id": "ce742c96",
   "metadata": {},
   "outputs": [
    {
     "name": "stdout",
     "output_type": "stream",
     "text": [
      "0    Fooled by randomness\n",
      "1                 Sapiens\n",
      "2      Lenin on the Train\n",
      "dtype: object\n"
     ]
    }
   ],
   "source": [
    "book_list = [\"Fooled by randomness\", \"Sapiens\", \"Lenin on the Train\"]\n",
    "\n",
    "book_series = pd.Series(data=book_list)\n",
    "\n",
    "print(book_series)"
   ]
  },
  {
   "cell_type": "code",
   "execution_count": 19,
   "id": "2347a925",
   "metadata": {},
   "outputs": [
    {
     "data": {
      "text/plain": [
       "3"
      ]
     },
     "execution_count": 19,
     "metadata": {},
     "output_type": "execute_result"
    }
   ],
   "source": [
    "book_series.size"
   ]
  },
  {
   "cell_type": "code",
   "execution_count": 20,
   "id": "452b4e81",
   "metadata": {},
   "outputs": [
    {
     "data": {
      "text/plain": [
       "True"
      ]
     },
     "execution_count": 20,
     "metadata": {},
     "output_type": "execute_result"
    }
   ],
   "source": [
    "books_seriesl.equals(books_seriesd)"
   ]
  },
  {
   "cell_type": "code",
   "execution_count": 21,
   "id": "7e9731cc",
   "metadata": {},
   "outputs": [
    {
     "data": {
      "text/plain": [
       "dtype('O')"
      ]
     },
     "execution_count": 21,
     "metadata": {},
     "output_type": "execute_result"
    }
   ],
   "source": [
    "books_seriesd.dtype"
   ]
  },
  {
   "cell_type": "code",
   "execution_count": 22,
   "id": "9e49bd03",
   "metadata": {},
   "outputs": [
    {
     "data": {
      "text/plain": [
       "dtype('O')"
      ]
     },
     "execution_count": 22,
     "metadata": {},
     "output_type": "execute_result"
    }
   ],
   "source": [
    "books_seriesl.dtype"
   ]
  },
  {
   "cell_type": "code",
   "execution_count": null,
   "id": "9c6ed8bd",
   "metadata": {},
   "outputs": [],
   "source": []
  },
  {
   "cell_type": "code",
   "execution_count": 23,
   "id": "62298972",
   "metadata": {},
   "outputs": [],
   "source": [
    "book_series.name = \"My favourite books\""
   ]
  },
  {
   "cell_type": "code",
   "execution_count": 24,
   "id": "b41a2950",
   "metadata": {},
   "outputs": [
    {
     "data": {
      "text/plain": [
       "0    Fooled by randomness\n",
       "1                 Sapiens\n",
       "2      Lenin on the Train\n",
       "Name: My favourite books, dtype: object"
      ]
     },
     "execution_count": 24,
     "metadata": {},
     "output_type": "execute_result"
    }
   ],
   "source": [
    "book_series"
   ]
  },
  {
   "cell_type": "code",
   "execution_count": 25,
   "id": "03eae97b",
   "metadata": {},
   "outputs": [],
   "source": [
    "book_series.index.name = \"My books\""
   ]
  },
  {
   "cell_type": "code",
   "execution_count": 26,
   "id": "aad60b1e",
   "metadata": {},
   "outputs": [
    {
     "data": {
      "text/plain": [
       "My books\n",
       "0    Fooled by randomness\n",
       "1                 Sapiens\n",
       "2      Lenin on the Train\n",
       "Name: My favourite books, dtype: object"
      ]
     },
     "execution_count": 26,
     "metadata": {},
     "output_type": "execute_result"
    }
   ],
   "source": [
    "book_series"
   ]
  },
  {
   "cell_type": "code",
   "execution_count": null,
   "id": "c6e327f6",
   "metadata": {},
   "outputs": [],
   "source": []
  },
  {
   "cell_type": "markdown",
   "id": "0fc3a4f8",
   "metadata": {},
   "source": [
    "# Skill challenge"
   ]
  },
  {
   "cell_type": "code",
   "execution_count": 27,
   "id": "dcf7c993",
   "metadata": {},
   "outputs": [
    {
     "name": "stdout",
     "output_type": "stream",
     "text": [
      "Actor names: ['Rajkumar Rao', 'Hritik Roshan', 'Shahrukh Khan', 'Pankaj Tripathi']\n",
      "\n",
      "Actor ages: [35, 45, 45, 50]\n"
     ]
    }
   ],
   "source": [
    "actor_names = [\"Rajkumar Rao\", \"Hritik Roshan\", \"Shahrukh Khan\", \"Pankaj Tripathi\"]\n",
    "actor_ages = [35, 45, 45, 50]\n",
    "\n",
    "print(\"Actor names:\",actor_names)\n",
    "print()\n",
    "print(\"Actor ages:\",actor_ages)"
   ]
  },
  {
   "cell_type": "code",
   "execution_count": 28,
   "id": "e8f68455",
   "metadata": {},
   "outputs": [
    {
     "name": "stdout",
     "output_type": "stream",
     "text": [
      "Rajkumar Rao       35\n",
      "Hritik Roshan      45\n",
      "Shahrukh Khan      45\n",
      "Pankaj Tripathi    50\n",
      "Name: actors, dtype: int64\n"
     ]
    }
   ],
   "source": [
    "actors_series = pd.Series(data = actor_ages, index=actor_names, name='actors')\n",
    "print(actors_series)"
   ]
  },
  {
   "cell_type": "code",
   "execution_count": null,
   "id": "aceb4bcf",
   "metadata": {},
   "outputs": [],
   "source": []
  },
  {
   "cell_type": "code",
   "execution_count": 29,
   "id": "387547e1",
   "metadata": {},
   "outputs": [
    {
     "data": {
      "text/plain": [
       "{'Rajkumar Rao': 35,\n",
       " 'Hritik Roshan': 45,\n",
       " 'Shahrukh Khan': 45,\n",
       " 'Pankaj Tripathi': 50}"
      ]
     },
     "execution_count": 29,
     "metadata": {},
     "output_type": "execute_result"
    }
   ],
   "source": [
    "dict(zip(actor_names, actor_ages))"
   ]
  },
  {
   "cell_type": "code",
   "execution_count": 30,
   "id": "528aee90",
   "metadata": {},
   "outputs": [
    {
     "name": "stdout",
     "output_type": "stream",
     "text": [
      "Rajkumar Rao       35\n",
      "Hritik Roshan      45\n",
      "Shahrukh Khan      45\n",
      "Pankaj Tripathi    50\n",
      "dtype: int64\n"
     ]
    }
   ],
   "source": [
    "dict_series = pd.Series(dict(zip(actor_names, actor_ages)))\n",
    "\n",
    "print(dict_series)"
   ]
  },
  {
   "cell_type": "code",
   "execution_count": 31,
   "id": "475e14b1",
   "metadata": {},
   "outputs": [
    {
     "data": {
      "text/plain": [
       "{'Rajkumar Rao': 35,\n",
       " 'Hritik Roshan': 45,\n",
       " 'Shahrukh Khan': 45,\n",
       " 'Pankaj Tripathi': 50}"
      ]
     },
     "execution_count": 31,
     "metadata": {},
     "output_type": "execute_result"
    }
   ],
   "source": [
    "{name:age for name,age in zip(actor_names, actor_ages)}  # we can also create dictionary dynamically using dictionary comprehension"
   ]
  },
  {
   "cell_type": "code",
   "execution_count": null,
   "id": "dd98cf88",
   "metadata": {},
   "outputs": [],
   "source": []
  },
  {
   "cell_type": "markdown",
   "id": "50398d98",
   "metadata": {},
   "source": [
    "# head() and tail() methods"
   ]
  },
  {
   "cell_type": "code",
   "execution_count": 32,
   "id": "046f7eba",
   "metadata": {},
   "outputs": [
    {
     "name": "stdout",
     "output_type": "stream",
     "text": [
      "0      0\n",
      "1      1\n",
      "2      2\n",
      "3      3\n",
      "4      4\n",
      "5      5\n",
      "6      6\n",
      "7      7\n",
      "8      8\n",
      "9      9\n",
      "10    10\n",
      "11    11\n",
      "12    12\n",
      "13    13\n",
      "14    14\n",
      "15    15\n",
      "16    16\n",
      "17    17\n",
      "18    18\n",
      "19    19\n",
      "20    20\n",
      "21    21\n",
      "22    22\n",
      "23    23\n",
      "24    24\n",
      "25    25\n",
      "26    26\n",
      "27    27\n",
      "28    28\n",
      "29    29\n",
      "30    30\n",
      "31    31\n",
      "32    32\n",
      "33    33\n",
      "34    34\n",
      "35    35\n",
      "36    36\n",
      "37    37\n",
      "38    38\n",
      "39    39\n",
      "40    40\n",
      "41    41\n",
      "42    42\n",
      "43    43\n",
      "44    44\n",
      "45    45\n",
      "46    46\n",
      "47    47\n",
      "48    48\n",
      "49    49\n",
      "50    50\n",
      "51    51\n",
      "52    52\n",
      "53    53\n",
      "54    54\n",
      "55    55\n",
      "56    56\n",
      "57    57\n",
      "58    58\n",
      "59    59\n",
      "dtype: int64\n"
     ]
    }
   ],
   "source": [
    "int_series = pd.Series([i for i in range(60)])\n",
    "\n",
    "print(int_series)"
   ]
  },
  {
   "cell_type": "code",
   "execution_count": 33,
   "id": "980c43a3",
   "metadata": {},
   "outputs": [
    {
     "data": {
      "text/plain": [
       "60"
      ]
     },
     "execution_count": 33,
     "metadata": {},
     "output_type": "execute_result"
    }
   ],
   "source": [
    "int_series.size"
   ]
  },
  {
   "cell_type": "code",
   "execution_count": 34,
   "id": "c2794c39",
   "metadata": {},
   "outputs": [
    {
     "data": {
      "text/plain": [
       "60"
      ]
     },
     "execution_count": 34,
     "metadata": {},
     "output_type": "execute_result"
    }
   ],
   "source": [
    "len(int_series)"
   ]
  },
  {
   "cell_type": "code",
   "execution_count": 35,
   "id": "4266e535",
   "metadata": {},
   "outputs": [
    {
     "data": {
      "text/plain": [
       "0    0\n",
       "1    1\n",
       "2    2\n",
       "3    3\n",
       "4    4\n",
       "dtype: int64"
      ]
     },
     "execution_count": 35,
     "metadata": {},
     "output_type": "execute_result"
    }
   ],
   "source": [
    "int_series.head()"
   ]
  },
  {
   "cell_type": "code",
   "execution_count": 36,
   "id": "ef78b3c6",
   "metadata": {},
   "outputs": [
    {
     "data": {
      "text/plain": [
       "55    55\n",
       "56    56\n",
       "57    57\n",
       "58    58\n",
       "59    59\n",
       "dtype: int64"
      ]
     },
     "execution_count": 36,
     "metadata": {},
     "output_type": "execute_result"
    }
   ],
   "source": [
    "int_series.tail()"
   ]
  },
  {
   "cell_type": "code",
   "execution_count": 37,
   "id": "00074c2c",
   "metadata": {},
   "outputs": [
    {
     "data": {
      "text/plain": [
       "0    0\n",
       "1    1\n",
       "2    2\n",
       "dtype: int64"
      ]
     },
     "execution_count": 37,
     "metadata": {},
     "output_type": "execute_result"
    }
   ],
   "source": [
    "int_series.head(3)"
   ]
  },
  {
   "cell_type": "code",
   "execution_count": 38,
   "id": "54533de4",
   "metadata": {},
   "outputs": [
    {
     "data": {
      "text/plain": [
       "57    57\n",
       "58    58\n",
       "59    59\n",
       "dtype: int64"
      ]
     },
     "execution_count": 38,
     "metadata": {},
     "output_type": "execute_result"
    }
   ],
   "source": [
    "int_series.tail(3)"
   ]
  },
  {
   "cell_type": "code",
   "execution_count": 39,
   "id": "32249f40",
   "metadata": {},
   "outputs": [],
   "source": [
    "pd.options.display.min_rows = 40"
   ]
  },
  {
   "cell_type": "code",
   "execution_count": null,
   "id": "fce8d992",
   "metadata": {},
   "outputs": [],
   "source": []
  },
  {
   "cell_type": "markdown",
   "id": "ab2d34b0",
   "metadata": {},
   "source": [
    "# Extraction by index position"
   ]
  },
  {
   "cell_type": "code",
   "execution_count": 40,
   "id": "028d67a0",
   "metadata": {},
   "outputs": [],
   "source": [
    "from string import ascii_lowercase, ascii_uppercase"
   ]
  },
  {
   "cell_type": "code",
   "execution_count": 41,
   "id": "17a0e1ff",
   "metadata": {},
   "outputs": [
    {
     "data": {
      "text/plain": [
       "0    abcdefghijklmnopqrstuvwxyz\n",
       "dtype: object"
      ]
     },
     "execution_count": 41,
     "metadata": {},
     "output_type": "execute_result"
    }
   ],
   "source": [
    "pd.Series(ascii_lowercase)   # but this doesnt makes any sense so we have to break it down in an array or python list to seperate each of them"
   ]
  },
  {
   "cell_type": "code",
   "execution_count": 42,
   "id": "6e200ad1",
   "metadata": {},
   "outputs": [
    {
     "data": {
      "text/plain": [
       "26"
      ]
     },
     "execution_count": 42,
     "metadata": {},
     "output_type": "execute_result"
    }
   ],
   "source": [
    "len(list(ascii_lowercase))   # this is how we convert them into a list"
   ]
  },
  {
   "cell_type": "code",
   "execution_count": 43,
   "id": "6f0af760",
   "metadata": {},
   "outputs": [],
   "source": [
    "letters = list(ascii_lowercase)"
   ]
  },
  {
   "cell_type": "code",
   "execution_count": 44,
   "id": "9159b596",
   "metadata": {},
   "outputs": [
    {
     "name": "stdout",
     "output_type": "stream",
     "text": [
      "['a', 'b', 'c', 'd', 'e', 'f', 'g', 'h', 'i', 'j', 'k', 'l', 'm', 'n', 'o', 'p', 'q', 'r', 's', 't', 'u', 'v', 'w', 'x', 'y', 'z']\n"
     ]
    }
   ],
   "source": [
    "print(letters)"
   ]
  },
  {
   "cell_type": "code",
   "execution_count": 45,
   "id": "30b343b2",
   "metadata": {},
   "outputs": [
    {
     "name": "stdout",
     "output_type": "stream",
     "text": [
      "0     a\n",
      "1     b\n",
      "2     c\n",
      "3     d\n",
      "4     e\n",
      "5     f\n",
      "6     g\n",
      "7     h\n",
      "8     i\n",
      "9     j\n",
      "10    k\n",
      "11    l\n",
      "12    m\n",
      "13    n\n",
      "14    o\n",
      "15    p\n",
      "16    q\n",
      "17    r\n",
      "18    s\n",
      "19    t\n",
      "20    u\n",
      "21    v\n",
      "22    w\n",
      "23    x\n",
      "24    y\n",
      "25    z\n",
      "dtype: object\n"
     ]
    }
   ],
   "source": [
    "alphabets = pd.Series(letters)\n",
    "\n",
    "print(alphabets)"
   ]
  },
  {
   "cell_type": "code",
   "execution_count": 46,
   "id": "1bdc809f",
   "metadata": {},
   "outputs": [
    {
     "data": {
      "text/plain": [
       "0    a\n",
       "1    b\n",
       "2    c\n",
       "3    d\n",
       "4    e\n",
       "dtype: object"
      ]
     },
     "execution_count": 46,
     "metadata": {},
     "output_type": "execute_result"
    }
   ],
   "source": [
    "alphabets.head()"
   ]
  },
  {
   "cell_type": "code",
   "execution_count": 47,
   "id": "6f370020",
   "metadata": {},
   "outputs": [
    {
     "data": {
      "text/plain": [
       "'a'"
      ]
     },
     "execution_count": 47,
     "metadata": {},
     "output_type": "execute_result"
    }
   ],
   "source": [
    "alphabets[0]"
   ]
  },
  {
   "cell_type": "code",
   "execution_count": 48,
   "id": "a524a6ce",
   "metadata": {},
   "outputs": [
    {
     "data": {
      "text/plain": [
       "'b'"
      ]
     },
     "execution_count": 48,
     "metadata": {},
     "output_type": "execute_result"
    }
   ],
   "source": [
    "alphabets[1]"
   ]
  },
  {
   "cell_type": "code",
   "execution_count": 49,
   "id": "51b02e12",
   "metadata": {},
   "outputs": [
    {
     "data": {
      "text/plain": [
       "'k'"
      ]
     },
     "execution_count": 49,
     "metadata": {},
     "output_type": "execute_result"
    }
   ],
   "source": [
    "alphabets[10]"
   ]
  },
  {
   "cell_type": "code",
   "execution_count": 50,
   "id": "7342cc62",
   "metadata": {},
   "outputs": [
    {
     "data": {
      "text/plain": [
       "0    a\n",
       "1    b\n",
       "2    c\n",
       "dtype: object"
      ]
     },
     "execution_count": 50,
     "metadata": {},
     "output_type": "execute_result"
    }
   ],
   "source": [
    "alphabets[0:3]"
   ]
  },
  {
   "cell_type": "code",
   "execution_count": 51,
   "id": "fd5c1e48",
   "metadata": {},
   "outputs": [
    {
     "data": {
      "text/plain": [
       "5    f\n",
       "6    g\n",
       "7    h\n",
       "8    i\n",
       "9    j\n",
       "dtype: object"
      ]
     },
     "execution_count": 51,
     "metadata": {},
     "output_type": "execute_result"
    }
   ],
   "source": [
    "alphabets[5:10]"
   ]
  },
  {
   "cell_type": "code",
   "execution_count": 52,
   "id": "4ed27518",
   "metadata": {},
   "outputs": [
    {
     "data": {
      "text/plain": [
       "20    u\n",
       "21    v\n",
       "22    w\n",
       "23    x\n",
       "24    y\n",
       "25    z\n",
       "dtype: object"
      ]
     },
     "execution_count": 52,
     "metadata": {},
     "output_type": "execute_result"
    }
   ],
   "source": [
    "alphabets[-6:]"
   ]
  },
  {
   "cell_type": "code",
   "execution_count": null,
   "id": "483a6526",
   "metadata": {},
   "outputs": [],
   "source": []
  },
  {
   "cell_type": "markdown",
   "id": "61baa26a",
   "metadata": {},
   "source": [
    "# Accessing elements by labels"
   ]
  },
  {
   "cell_type": "code",
   "execution_count": 53,
   "id": "ad93bd25",
   "metadata": {},
   "outputs": [],
   "source": [
    "labeled_aplha = pd.Series(data = list(ascii_lowercase), index = map(lambda x: 'label_'+ x, list(ascii_uppercase)))"
   ]
  },
  {
   "cell_type": "code",
   "execution_count": 54,
   "id": "5a7c6a8c",
   "metadata": {},
   "outputs": [
    {
     "data": {
      "text/plain": [
       "label_A    a\n",
       "label_B    b\n",
       "label_C    c\n",
       "label_D    d\n",
       "label_E    e\n",
       "dtype: object"
      ]
     },
     "execution_count": 54,
     "metadata": {},
     "output_type": "execute_result"
    }
   ],
   "source": [
    "labeled_aplha.head()"
   ]
  },
  {
   "cell_type": "code",
   "execution_count": 55,
   "id": "ff1419b0",
   "metadata": {},
   "outputs": [
    {
     "data": {
      "text/plain": [
       "'a'"
      ]
     },
     "execution_count": 55,
     "metadata": {},
     "output_type": "execute_result"
    }
   ],
   "source": [
    "labeled_aplha.iloc[0]"
   ]
  },
  {
   "cell_type": "code",
   "execution_count": 56,
   "id": "77586a23",
   "metadata": {},
   "outputs": [
    {
     "name": "stdout",
     "output_type": "stream",
     "text": [
      "a\n"
     ]
    }
   ],
   "source": [
    "print(labeled_aplha['label_A'])"
   ]
  },
  {
   "cell_type": "code",
   "execution_count": 57,
   "id": "d7307a24",
   "metadata": {},
   "outputs": [
    {
     "data": {
      "text/plain": [
       "'k'"
      ]
     },
     "execution_count": 57,
     "metadata": {},
     "output_type": "execute_result"
    }
   ],
   "source": [
    "labeled_aplha.iloc[10]"
   ]
  },
  {
   "cell_type": "code",
   "execution_count": 58,
   "id": "aa292b7a",
   "metadata": {},
   "outputs": [
    {
     "data": {
      "text/plain": [
       "'k'"
      ]
     },
     "execution_count": 58,
     "metadata": {},
     "output_type": "execute_result"
    }
   ],
   "source": [
    "labeled_aplha['label_K']"
   ]
  },
  {
   "cell_type": "code",
   "execution_count": 59,
   "id": "549fd044",
   "metadata": {},
   "outputs": [
    {
     "data": {
      "text/plain": [
       "label_A    a\n",
       "label_B    b\n",
       "label_C    c\n",
       "dtype: object"
      ]
     },
     "execution_count": 59,
     "metadata": {},
     "output_type": "execute_result"
    }
   ],
   "source": [
    "labeled_aplha.iloc[:3]"
   ]
  },
  {
   "cell_type": "code",
   "execution_count": 60,
   "id": "bffc11cf",
   "metadata": {},
   "outputs": [
    {
     "data": {
      "text/plain": [
       "label_A    a\n",
       "label_B    b\n",
       "label_C    c\n",
       "dtype: object"
      ]
     },
     "execution_count": 60,
     "metadata": {},
     "output_type": "execute_result"
    }
   ],
   "source": [
    "labeled_aplha[:'label_C'] # the label_C is included here"
   ]
  },
  {
   "cell_type": "code",
   "execution_count": 61,
   "id": "6b54e5ba",
   "metadata": {},
   "outputs": [
    {
     "data": {
      "text/plain": [
       "label_F    f\n",
       "label_G    g\n",
       "label_H    h\n",
       "label_I    i\n",
       "label_J    j\n",
       "dtype: object"
      ]
     },
     "execution_count": 61,
     "metadata": {},
     "output_type": "execute_result"
    }
   ],
   "source": [
    "labeled_aplha['label_F':'label_J']  # both F and J are included here"
   ]
  },
  {
   "cell_type": "code",
   "execution_count": 62,
   "id": "ffa29be3",
   "metadata": {},
   "outputs": [
    {
     "data": {
      "text/plain": [
       "label_U    u\n",
       "label_V    v\n",
       "label_W    w\n",
       "label_X    x\n",
       "label_Y    y\n",
       "label_Z    z\n",
       "dtype: object"
      ]
     },
     "execution_count": 62,
     "metadata": {},
     "output_type": "execute_result"
    }
   ],
   "source": [
    "labeled_aplha[-6:]"
   ]
  },
  {
   "cell_type": "code",
   "execution_count": 63,
   "id": "a7ca3a19",
   "metadata": {},
   "outputs": [
    {
     "data": {
      "text/plain": [
       "label_U    u\n",
       "label_V    v\n",
       "label_W    w\n",
       "label_X    x\n",
       "label_Y    y\n",
       "label_Z    z\n",
       "dtype: object"
      ]
     },
     "execution_count": 63,
     "metadata": {},
     "output_type": "execute_result"
    }
   ],
   "source": [
    "labeled_aplha['label_U':]"
   ]
  },
  {
   "cell_type": "code",
   "execution_count": null,
   "id": "172011cf",
   "metadata": {},
   "outputs": [],
   "source": []
  },
  {
   "cell_type": "markdown",
   "id": "be19d9ab",
   "metadata": {},
   "source": [
    "# add_prefix() and add_suffix() methods"
   ]
  },
  {
   "cell_type": "code",
   "execution_count": 64,
   "id": "96b9ed90",
   "metadata": {},
   "outputs": [
    {
     "data": {
      "text/plain": [
       "0    a\n",
       "1    b\n",
       "2    c\n",
       "3    d\n",
       "4    e\n",
       "dtype: object"
      ]
     },
     "execution_count": 64,
     "metadata": {},
     "output_type": "execute_result"
    }
   ],
   "source": [
    "alphabets.head()"
   ]
  },
  {
   "cell_type": "code",
   "execution_count": 65,
   "id": "a091b613",
   "metadata": {},
   "outputs": [
    {
     "data": {
      "text/plain": [
       "label_0    a\n",
       "label_1    b\n",
       "label_2    c\n",
       "label_3    d\n",
       "label_4    e\n",
       "dtype: object"
      ]
     },
     "execution_count": 65,
     "metadata": {},
     "output_type": "execute_result"
    }
   ],
   "source": [
    "alphabets.add_prefix('label_').head()"
   ]
  },
  {
   "cell_type": "code",
   "execution_count": 66,
   "id": "70490590",
   "metadata": {},
   "outputs": [
    {
     "data": {
      "text/plain": [
       "0label_    a\n",
       "1label_    b\n",
       "2label_    c\n",
       "3label_    d\n",
       "4label_    e\n",
       "dtype: object"
      ]
     },
     "execution_count": 66,
     "metadata": {},
     "output_type": "execute_result"
    }
   ],
   "source": [
    "alphabets.add_suffix('label_').head()"
   ]
  },
  {
   "cell_type": "code",
   "execution_count": 67,
   "id": "3f931635",
   "metadata": {},
   "outputs": [
    {
     "data": {
      "text/plain": [
       "0    a\n",
       "1    b\n",
       "2    c\n",
       "3    d\n",
       "4    e\n",
       "dtype: object"
      ]
     },
     "execution_count": 67,
     "metadata": {},
     "output_type": "execute_result"
    }
   ],
   "source": [
    "alphabets.head()"
   ]
  },
  {
   "cell_type": "code",
   "execution_count": null,
   "id": "7cfb8bd4",
   "metadata": {},
   "outputs": [],
   "source": []
  },
  {
   "cell_type": "markdown",
   "id": "5a615d9d",
   "metadata": {},
   "source": [
    "# Using Dot Notation"
   ]
  },
  {
   "cell_type": "code",
   "execution_count": 68,
   "id": "47083a39",
   "metadata": {},
   "outputs": [
    {
     "data": {
      "text/plain": [
       "'v'"
      ]
     },
     "execution_count": 68,
     "metadata": {},
     "output_type": "execute_result"
    }
   ],
   "source": [
    "labeled_aplha['label_V']"
   ]
  },
  {
   "cell_type": "code",
   "execution_count": 69,
   "id": "b8f477ac",
   "metadata": {},
   "outputs": [
    {
     "data": {
      "text/plain": [
       "'v'"
      ]
     },
     "execution_count": 69,
     "metadata": {},
     "output_type": "execute_result"
    }
   ],
   "source": [
    "labeled_aplha.label_V"
   ]
  },
  {
   "cell_type": "code",
   "execution_count": 70,
   "id": "a050a2fb",
   "metadata": {},
   "outputs": [
    {
     "data": {
      "text/plain": [
       "label_V    v\n",
       "label_W    w\n",
       "label_X    x\n",
       "dtype: object"
      ]
     },
     "execution_count": 70,
     "metadata": {},
     "output_type": "execute_result"
    }
   ],
   "source": [
    "labeled_aplha['label_V':'label_X']"
   ]
  },
  {
   "cell_type": "code",
   "execution_count": null,
   "id": "41532ffd",
   "metadata": {},
   "outputs": [],
   "source": []
  },
  {
   "cell_type": "markdown",
   "id": "c33f0d92",
   "metadata": {},
   "source": [
    "# Boolean mask and .loc indexer"
   ]
  },
  {
   "cell_type": "code",
   "execution_count": 71,
   "id": "2a514ede",
   "metadata": {},
   "outputs": [
    {
     "data": {
      "text/plain": [
       "label_I    i\n",
       "label_J    j\n",
       "label_K    k\n",
       "label_L    l\n",
       "label_M    m\n",
       "dtype: object"
      ]
     },
     "execution_count": 71,
     "metadata": {},
     "output_type": "execute_result"
    }
   ],
   "source": [
    "labeled_aplha['label_I':'label_M']"
   ]
  },
  {
   "cell_type": "code",
   "execution_count": 72,
   "id": "6e1d682e",
   "metadata": {},
   "outputs": [
    {
     "data": {
      "text/plain": [
       "label_I    i\n",
       "label_J    j\n",
       "label_K    k\n",
       "label_L    l\n",
       "label_M    m\n",
       "dtype: object"
      ]
     },
     "execution_count": 72,
     "metadata": {},
     "output_type": "execute_result"
    }
   ],
   "source": [
    "labeled_aplha.loc['label_I':'label_M']"
   ]
  },
  {
   "cell_type": "code",
   "execution_count": 73,
   "id": "bdd6f3c0",
   "metadata": {},
   "outputs": [
    {
     "name": "stdout",
     "output_type": "stream",
     "text": [
      "0    Fooled by randomness\n",
      "1                 Sapiens\n",
      "2      Lenin on the Train\n",
      "dtype: object\n"
     ]
    }
   ],
   "source": [
    "book_list = [\"Fooled by randomness\", \"Sapiens\", \"Lenin on the Train\"]\n",
    "\n",
    "book_series = pd.Series(data=book_list)\n",
    "\n",
    "print(book_series)"
   ]
  },
  {
   "cell_type": "code",
   "execution_count": 74,
   "id": "518c1b41",
   "metadata": {},
   "outputs": [
    {
     "data": {
      "text/plain": [
       "0    Fooled by randomness\n",
       "1                 Sapiens\n",
       "2      Lenin on the Train\n",
       "dtype: object"
      ]
     },
     "execution_count": 74,
     "metadata": {},
     "output_type": "execute_result"
    }
   ],
   "source": [
    "book_series.loc[[True, True, True]]"
   ]
  },
  {
   "cell_type": "code",
   "execution_count": 75,
   "id": "b80051b7",
   "metadata": {},
   "outputs": [
    {
     "data": {
      "text/plain": [
       "0    Fooled by randomness\n",
       "1                 Sapiens\n",
       "dtype: object"
      ]
     },
     "execution_count": 75,
     "metadata": {},
     "output_type": "execute_result"
    }
   ],
   "source": [
    "book_series.loc[[True, True, False]]"
   ]
  },
  {
   "cell_type": "code",
   "execution_count": 76,
   "id": "35c7fdb8",
   "metadata": {},
   "outputs": [
    {
     "data": {
      "text/plain": [
       "26"
      ]
     },
     "execution_count": 76,
     "metadata": {},
     "output_type": "execute_result"
    }
   ],
   "source": [
    "labeled_aplha.size"
   ]
  },
  {
   "cell_type": "code",
   "execution_count": 77,
   "id": "85895601",
   "metadata": {},
   "outputs": [
    {
     "data": {
      "text/plain": [
       "label_A    a\n",
       "label_B    b\n",
       "label_C    c\n",
       "label_D    d\n",
       "label_E    e\n",
       "label_F    f\n",
       "label_G    g\n",
       "label_H    h\n",
       "label_I    i\n",
       "label_J    j\n",
       "label_K    k\n",
       "label_L    l\n",
       "label_M    m\n",
       "label_N    n\n",
       "label_O    o\n",
       "label_P    p\n",
       "label_Q    q\n",
       "label_R    r\n",
       "label_S    s\n",
       "label_T    t\n",
       "label_U    u\n",
       "label_V    v\n",
       "label_W    w\n",
       "label_X    x\n",
       "label_Y    y\n",
       "label_Z    z\n",
       "dtype: object"
      ]
     },
     "execution_count": 77,
     "metadata": {},
     "output_type": "execute_result"
    }
   ],
   "source": [
    "labeled_aplha.loc[[True for i in range(26)]]"
   ]
  },
  {
   "cell_type": "code",
   "execution_count": 78,
   "id": "0df7297e",
   "metadata": {},
   "outputs": [
    {
     "data": {
      "text/plain": [
       "label_A    a\n",
       "label_C    c\n",
       "label_E    e\n",
       "label_G    g\n",
       "label_I    i\n",
       "label_K    k\n",
       "label_M    m\n",
       "label_O    o\n",
       "label_Q    q\n",
       "label_S    s\n",
       "label_U    u\n",
       "label_W    w\n",
       "label_Y    y\n",
       "dtype: object"
      ]
     },
     "execution_count": 78,
     "metadata": {},
     "output_type": "execute_result"
    }
   ],
   "source": [
    "labeled_aplha.loc[[True if i%2==0 else False for i in range(26)]]"
   ]
  },
  {
   "cell_type": "code",
   "execution_count": null,
   "id": "dc526187",
   "metadata": {},
   "outputs": [],
   "source": []
  },
  {
   "cell_type": "markdown",
   "id": "f3ac47ec",
   "metadata": {},
   "source": [
    "# Extracting by position with .iloc"
   ]
  },
  {
   "cell_type": "code",
   "execution_count": 79,
   "id": "9a70021c",
   "metadata": {},
   "outputs": [
    {
     "data": {
      "text/plain": [
       "'a'"
      ]
     },
     "execution_count": 79,
     "metadata": {},
     "output_type": "execute_result"
    }
   ],
   "source": [
    "labeled_aplha.iloc[0]"
   ]
  },
  {
   "cell_type": "code",
   "execution_count": 80,
   "id": "45244caa",
   "metadata": {},
   "outputs": [
    {
     "data": {
      "text/plain": [
       "'b'"
      ]
     },
     "execution_count": 80,
     "metadata": {},
     "output_type": "execute_result"
    }
   ],
   "source": [
    "labeled_aplha.iloc[1]"
   ]
  },
  {
   "cell_type": "code",
   "execution_count": 81,
   "id": "61a040be",
   "metadata": {},
   "outputs": [
    {
     "data": {
      "text/plain": [
       "label_C    c\n",
       "label_D    d\n",
       "label_E    e\n",
       "dtype: object"
      ]
     },
     "execution_count": 81,
     "metadata": {},
     "output_type": "execute_result"
    }
   ],
   "source": [
    "labeled_aplha.iloc[2:5]"
   ]
  },
  {
   "cell_type": "code",
   "execution_count": 82,
   "id": "14016dda",
   "metadata": {},
   "outputs": [
    {
     "data": {
      "text/plain": [
       "label_B    b\n",
       "label_E    e\n",
       "label_J    j\n",
       "dtype: object"
      ]
     },
     "execution_count": 82,
     "metadata": {},
     "output_type": "execute_result"
    }
   ],
   "source": [
    "labeled_aplha.iloc[[1,4,9]]  # this is to select multiple elements"
   ]
  },
  {
   "cell_type": "code",
   "execution_count": null,
   "id": "b7c82ba6",
   "metadata": {},
   "outputs": [],
   "source": []
  },
  {
   "cell_type": "markdown",
   "id": "75470155",
   "metadata": {},
   "source": [
    "# Using callables with .loc and .iloc"
   ]
  },
  {
   "cell_type": "code",
   "execution_count": 83,
   "id": "710356b8",
   "metadata": {},
   "outputs": [
    {
     "data": {
      "text/plain": [
       "'v'"
      ]
     },
     "execution_count": 83,
     "metadata": {},
     "output_type": "execute_result"
    }
   ],
   "source": [
    "labeled_aplha.loc['label_V']"
   ]
  },
  {
   "cell_type": "code",
   "execution_count": 84,
   "id": "8ef81a4c",
   "metadata": {},
   "outputs": [
    {
     "data": {
      "text/plain": [
       "'v'"
      ]
     },
     "execution_count": 84,
     "metadata": {},
     "output_type": "execute_result"
    }
   ],
   "source": [
    "labeled_aplha.loc[lambda x: 'label_V']"
   ]
  },
  {
   "cell_type": "code",
   "execution_count": 85,
   "id": "914be603",
   "metadata": {},
   "outputs": [
    {
     "data": {
      "text/plain": [
       "label_V    v\n",
       "label_A    a\n",
       "dtype: object"
      ]
     },
     "execution_count": 85,
     "metadata": {},
     "output_type": "execute_result"
    }
   ],
   "source": [
    "labeled_aplha.loc[lambda x: ['label_V','label_A']]"
   ]
  },
  {
   "cell_type": "code",
   "execution_count": 86,
   "id": "e7eb9d03",
   "metadata": {},
   "outputs": [
    {
     "ename": "IndexError",
     "evalue": "Boolean index has wrong length: 2 instead of 26",
     "output_type": "error",
     "traceback": [
      "\u001b[1;31m---------------------------------------------------------------------------\u001b[0m",
      "\u001b[1;31mIndexError\u001b[0m                                Traceback (most recent call last)",
      "Cell \u001b[1;32mIn[86], line 1\u001b[0m\n\u001b[1;32m----> 1\u001b[0m labeled_aplha\u001b[38;5;241m.\u001b[39mloc[\u001b[38;5;28;01mlambda\u001b[39;00m x:[\u001b[38;5;28;01mTrue\u001b[39;00m,\u001b[38;5;28;01mFalse\u001b[39;00m]]\n",
      "File \u001b[1;32m~\\AppData\\Roaming\\Python\\Python311\\site-packages\\pandas\\core\\indexing.py:1191\u001b[0m, in \u001b[0;36m_LocationIndexer.__getitem__\u001b[1;34m(self, key)\u001b[0m\n\u001b[0;32m   1189\u001b[0m maybe_callable \u001b[38;5;241m=\u001b[39m com\u001b[38;5;241m.\u001b[39mapply_if_callable(key, \u001b[38;5;28mself\u001b[39m\u001b[38;5;241m.\u001b[39mobj)\n\u001b[0;32m   1190\u001b[0m maybe_callable \u001b[38;5;241m=\u001b[39m \u001b[38;5;28mself\u001b[39m\u001b[38;5;241m.\u001b[39m_check_deprecated_callable_usage(key, maybe_callable)\n\u001b[1;32m-> 1191\u001b[0m \u001b[38;5;28;01mreturn\u001b[39;00m \u001b[38;5;28mself\u001b[39m\u001b[38;5;241m.\u001b[39m_getitem_axis(maybe_callable, axis\u001b[38;5;241m=\u001b[39maxis)\n",
      "File \u001b[1;32m~\\AppData\\Roaming\\Python\\Python311\\site-packages\\pandas\\core\\indexing.py:1413\u001b[0m, in \u001b[0;36m_LocIndexer._getitem_axis\u001b[1;34m(self, key, axis)\u001b[0m\n\u001b[0;32m   1411\u001b[0m     \u001b[38;5;28;01mreturn\u001b[39;00m \u001b[38;5;28mself\u001b[39m\u001b[38;5;241m.\u001b[39m_get_slice_axis(key, axis\u001b[38;5;241m=\u001b[39maxis)\n\u001b[0;32m   1412\u001b[0m \u001b[38;5;28;01melif\u001b[39;00m com\u001b[38;5;241m.\u001b[39mis_bool_indexer(key):\n\u001b[1;32m-> 1413\u001b[0m     \u001b[38;5;28;01mreturn\u001b[39;00m \u001b[38;5;28mself\u001b[39m\u001b[38;5;241m.\u001b[39m_getbool_axis(key, axis\u001b[38;5;241m=\u001b[39maxis)\n\u001b[0;32m   1414\u001b[0m \u001b[38;5;28;01melif\u001b[39;00m is_list_like_indexer(key):\n\u001b[0;32m   1415\u001b[0m     \u001b[38;5;66;03m# an iterable multi-selection\u001b[39;00m\n\u001b[0;32m   1416\u001b[0m     \u001b[38;5;28;01mif\u001b[39;00m \u001b[38;5;129;01mnot\u001b[39;00m (\u001b[38;5;28misinstance\u001b[39m(key, \u001b[38;5;28mtuple\u001b[39m) \u001b[38;5;129;01mand\u001b[39;00m \u001b[38;5;28misinstance\u001b[39m(labels, MultiIndex)):\n",
      "File \u001b[1;32m~\\AppData\\Roaming\\Python\\Python311\\site-packages\\pandas\\core\\indexing.py:1209\u001b[0m, in \u001b[0;36m_LocationIndexer._getbool_axis\u001b[1;34m(self, key, axis)\u001b[0m\n\u001b[0;32m   1205\u001b[0m \u001b[38;5;129m@final\u001b[39m\n\u001b[0;32m   1206\u001b[0m \u001b[38;5;28;01mdef\u001b[39;00m \u001b[38;5;21m_getbool_axis\u001b[39m(\u001b[38;5;28mself\u001b[39m, key, axis: AxisInt):\n\u001b[0;32m   1207\u001b[0m     \u001b[38;5;66;03m# caller is responsible for ensuring non-None axis\u001b[39;00m\n\u001b[0;32m   1208\u001b[0m     labels \u001b[38;5;241m=\u001b[39m \u001b[38;5;28mself\u001b[39m\u001b[38;5;241m.\u001b[39mobj\u001b[38;5;241m.\u001b[39m_get_axis(axis)\n\u001b[1;32m-> 1209\u001b[0m     key \u001b[38;5;241m=\u001b[39m check_bool_indexer(labels, key)\n\u001b[0;32m   1210\u001b[0m     inds \u001b[38;5;241m=\u001b[39m key\u001b[38;5;241m.\u001b[39mnonzero()[\u001b[38;5;241m0\u001b[39m]\n\u001b[0;32m   1211\u001b[0m     \u001b[38;5;28;01mreturn\u001b[39;00m \u001b[38;5;28mself\u001b[39m\u001b[38;5;241m.\u001b[39mobj\u001b[38;5;241m.\u001b[39m_take_with_is_copy(inds, axis\u001b[38;5;241m=\u001b[39maxis)\n",
      "File \u001b[1;32m~\\AppData\\Roaming\\Python\\Python311\\site-packages\\pandas\\core\\indexing.py:2681\u001b[0m, in \u001b[0;36mcheck_bool_indexer\u001b[1;34m(index, key)\u001b[0m\n\u001b[0;32m   2677\u001b[0m \u001b[38;5;28;01melif\u001b[39;00m \u001b[38;5;129;01mnot\u001b[39;00m is_array_like(result):\n\u001b[0;32m   2678\u001b[0m     \u001b[38;5;66;03m# GH 33924\u001b[39;00m\n\u001b[0;32m   2679\u001b[0m     \u001b[38;5;66;03m# key may contain nan elements, check_array_indexer needs bool array\u001b[39;00m\n\u001b[0;32m   2680\u001b[0m     result \u001b[38;5;241m=\u001b[39m pd_array(result, dtype\u001b[38;5;241m=\u001b[39m\u001b[38;5;28mbool\u001b[39m)\n\u001b[1;32m-> 2681\u001b[0m \u001b[38;5;28;01mreturn\u001b[39;00m check_array_indexer(index, result)\n",
      "File \u001b[1;32m~\\AppData\\Roaming\\Python\\Python311\\site-packages\\pandas\\core\\indexers\\utils.py:539\u001b[0m, in \u001b[0;36mcheck_array_indexer\u001b[1;34m(array, indexer)\u001b[0m\n\u001b[0;32m    537\u001b[0m     \u001b[38;5;66;03m# GH26658\u001b[39;00m\n\u001b[0;32m    538\u001b[0m     \u001b[38;5;28;01mif\u001b[39;00m \u001b[38;5;28mlen\u001b[39m(indexer) \u001b[38;5;241m!=\u001b[39m \u001b[38;5;28mlen\u001b[39m(array):\n\u001b[1;32m--> 539\u001b[0m         \u001b[38;5;28;01mraise\u001b[39;00m \u001b[38;5;167;01mIndexError\u001b[39;00m(\n\u001b[0;32m    540\u001b[0m             \u001b[38;5;124mf\u001b[39m\u001b[38;5;124m\"\u001b[39m\u001b[38;5;124mBoolean index has wrong length: \u001b[39m\u001b[38;5;124m\"\u001b[39m\n\u001b[0;32m    541\u001b[0m             \u001b[38;5;124mf\u001b[39m\u001b[38;5;124m\"\u001b[39m\u001b[38;5;132;01m{\u001b[39;00m\u001b[38;5;28mlen\u001b[39m(indexer)\u001b[38;5;132;01m}\u001b[39;00m\u001b[38;5;124m instead of \u001b[39m\u001b[38;5;132;01m{\u001b[39;00m\u001b[38;5;28mlen\u001b[39m(array)\u001b[38;5;132;01m}\u001b[39;00m\u001b[38;5;124m\"\u001b[39m\n\u001b[0;32m    542\u001b[0m         )\n\u001b[0;32m    543\u001b[0m \u001b[38;5;28;01melif\u001b[39;00m is_integer_dtype(dtype):\n\u001b[0;32m    544\u001b[0m     \u001b[38;5;28;01mtry\u001b[39;00m:\n",
      "\u001b[1;31mIndexError\u001b[0m: Boolean index has wrong length: 2 instead of 26"
     ]
    }
   ],
   "source": [
    "labeled_aplha.loc[lambda x:[True,False]]"
   ]
  },
  {
   "cell_type": "code",
   "execution_count": 88,
   "id": "ae1a9a87",
   "metadata": {},
   "outputs": [
    {
     "data": {
      "text/plain": [
       "label_A    a\n",
       "label_B    b\n",
       "label_C    c\n",
       "label_D    d\n",
       "label_E    e\n",
       "label_F    f\n",
       "label_G    g\n",
       "label_H    h\n",
       "label_I    i\n",
       "label_J    j\n",
       "label_K    k\n",
       "label_L    l\n",
       "label_M    m\n",
       "label_N    n\n",
       "label_O    o\n",
       "label_P    p\n",
       "label_Q    q\n",
       "label_R    r\n",
       "label_S    s\n",
       "label_T    t\n",
       "label_U    u\n",
       "label_V    v\n",
       "label_W    w\n",
       "label_X    x\n",
       "label_Y    y\n",
       "label_Z    z\n",
       "dtype: object"
      ]
     },
     "execution_count": 88,
     "metadata": {},
     "output_type": "execute_result"
    }
   ],
   "source": [
    "labeled_aplha.loc[lambda x: [True for i in range(x.size)]]"
   ]
  },
  {
   "cell_type": "code",
   "execution_count": 89,
   "id": "8f57e90c",
   "metadata": {},
   "outputs": [],
   "source": [
    "def everyFifth(x):\n",
    "    return [True if (i+1)%5==0 else False for i in range(x.size)] "
   ]
  },
  {
   "cell_type": "code",
   "execution_count": 90,
   "id": "fd9cfaac",
   "metadata": {},
   "outputs": [
    {
     "data": {
      "text/plain": [
       "label_E    e\n",
       "label_J    j\n",
       "label_O    o\n",
       "label_T    t\n",
       "label_Y    y\n",
       "dtype: object"
      ]
     },
     "execution_count": 90,
     "metadata": {},
     "output_type": "execute_result"
    }
   ],
   "source": [
    "labeled_aplha.loc[everyFifth]"
   ]
  },
  {
   "cell_type": "markdown",
   "id": "35bd360d",
   "metadata": {},
   "source": [
    "# Selecting with .get()"
   ]
  },
  {
   "cell_type": "code",
   "execution_count": 91,
   "id": "cbb1e9f9",
   "metadata": {},
   "outputs": [
    {
     "data": {
      "text/plain": [
       "'v'"
      ]
     },
     "execution_count": 91,
     "metadata": {},
     "output_type": "execute_result"
    }
   ],
   "source": [
    "labeled_aplha.get('label_V')"
   ]
  },
  {
   "cell_type": "code",
   "execution_count": 92,
   "id": "cfba01bc",
   "metadata": {},
   "outputs": [
    {
     "data": {
      "text/plain": [
       "'v'"
      ]
     },
     "execution_count": 92,
     "metadata": {},
     "output_type": "execute_result"
    }
   ],
   "source": [
    "labeled_aplha.loc['label_V']"
   ]
  },
  {
   "cell_type": "code",
   "execution_count": 93,
   "id": "107bbb38",
   "metadata": {},
   "outputs": [],
   "source": [
    "labeled_aplha.get('label_Vin')"
   ]
  },
  {
   "cell_type": "code",
   "execution_count": 94,
   "id": "8cd6d42f",
   "metadata": {},
   "outputs": [],
   "source": [
    "labeled_aplha.get('label_Vin', default=None)"
   ]
  },
  {
   "cell_type": "code",
   "execution_count": 95,
   "id": "795fdf9e",
   "metadata": {},
   "outputs": [
    {
     "data": {
      "text/plain": [
       "'Could not find anything by that label, sorry'"
      ]
     },
     "execution_count": 95,
     "metadata": {},
     "output_type": "execute_result"
    }
   ],
   "source": [
    "labeled_aplha.get('label_Vin', default=\"Could not find anything by that label, sorry\")"
   ]
  },
  {
   "cell_type": "code",
   "execution_count": 96,
   "id": "fed77ae9",
   "metadata": {},
   "outputs": [
    {
     "data": {
      "text/plain": [
       "19"
      ]
     },
     "execution_count": 96,
     "metadata": {},
     "output_type": "execute_result"
    }
   ],
   "source": [
    "labeled_aplha.get('label_Vin', default=19)"
   ]
  },
  {
   "cell_type": "code",
   "execution_count": 97,
   "id": "1fafd263",
   "metadata": {},
   "outputs": [
    {
     "name": "stderr",
     "output_type": "stream",
     "text": [
      "C:\\Users\\hp\\AppData\\Local\\Temp\\ipykernel_3852\\2686359570.py:1: FutureWarning: Series.__getitem__ treating keys as positions is deprecated. In a future version, integer keys will always be treated as labels (consistent with DataFrame behavior). To access a value by position, use `ser.iloc[pos]`\n",
      "  labeled_aplha.get(8)\n"
     ]
    },
    {
     "data": {
      "text/plain": [
       "'i'"
      ]
     },
     "execution_count": 97,
     "metadata": {},
     "output_type": "execute_result"
    }
   ],
   "source": [
    "labeled_aplha.get(8)"
   ]
  },
  {
   "cell_type": "code",
   "execution_count": null,
   "id": "93ce3bfa",
   "metadata": {},
   "outputs": [],
   "source": []
  },
  {
   "cell_type": "markdown",
   "id": "767cdd54",
   "metadata": {},
   "source": [
    "# Skill challenge"
   ]
  },
  {
   "cell_type": "code",
   "execution_count": 98,
   "id": "5204841b",
   "metadata": {},
   "outputs": [],
   "source": [
    "squares = pd.Series(i**2 for i in range(0,100))"
   ]
  },
  {
   "cell_type": "code",
   "execution_count": 99,
   "id": "9a087a62",
   "metadata": {},
   "outputs": [
    {
     "data": {
      "text/plain": [
       "0     0\n",
       "1     1\n",
       "2     4\n",
       "3     9\n",
       "4    16\n",
       "dtype: int64"
      ]
     },
     "execution_count": 99,
     "metadata": {},
     "output_type": "execute_result"
    }
   ],
   "source": [
    "squares.head()"
   ]
  },
  {
   "cell_type": "code",
   "execution_count": 100,
   "id": "b512aa7c",
   "metadata": {},
   "outputs": [
    {
     "data": {
      "text/plain": [
       "100"
      ]
     },
     "execution_count": 100,
     "metadata": {},
     "output_type": "execute_result"
    }
   ],
   "source": [
    "squares.size"
   ]
  },
  {
   "cell_type": "code",
   "execution_count": 101,
   "id": "4597681a",
   "metadata": {},
   "outputs": [
    {
     "data": {
      "text/plain": [
       "97    9409\n",
       "98    9604\n",
       "99    9801\n",
       "dtype: int64"
      ]
     },
     "execution_count": 101,
     "metadata": {},
     "output_type": "execute_result"
    }
   ],
   "source": [
    "squares[-3:]"
   ]
  },
  {
   "cell_type": "code",
   "execution_count": 102,
   "id": "aeba264c",
   "metadata": {},
   "outputs": [
    {
     "data": {
      "text/plain": [
       "97    9409\n",
       "98    9604\n",
       "99    9801\n",
       "dtype: int64"
      ]
     },
     "execution_count": 102,
     "metadata": {},
     "output_type": "execute_result"
    }
   ],
   "source": [
    "squares.tail(3)"
   ]
  },
  {
   "cell_type": "code",
   "execution_count": 103,
   "id": "c9c0390f",
   "metadata": {},
   "outputs": [
    {
     "data": {
      "text/plain": [
       "True"
      ]
     },
     "execution_count": 103,
     "metadata": {},
     "output_type": "execute_result"
    }
   ],
   "source": [
    "squares[-3:].equals(squares.tail(3))"
   ]
  },
  {
   "cell_type": "code",
   "execution_count": null,
   "id": "68a1d184",
   "metadata": {},
   "outputs": [],
   "source": []
  }
 ],
 "metadata": {
  "kernelspec": {
   "display_name": "Python 3 (ipykernel)",
   "language": "python",
   "name": "python3"
  },
  "language_info": {
   "codemirror_mode": {
    "name": "ipython",
    "version": 3
   },
   "file_extension": ".py",
   "mimetype": "text/x-python",
   "name": "python",
   "nbconvert_exporter": "python",
   "pygments_lexer": "ipython3",
   "version": "3.11.5"
  }
 },
 "nbformat": 4,
 "nbformat_minor": 5
}
